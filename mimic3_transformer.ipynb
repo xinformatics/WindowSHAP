{
  "cells": [
    {
      "cell_type": "markdown",
      "metadata": {
        "id": "view-in-github",
        "colab_type": "text"
      },
      "source": [
        "<a href=\"https://colab.research.google.com/github/xinformatics/WindowSHAP/blob/main/mimic3_transformer.ipynb\" target=\"_parent\"><img src=\"https://colab.research.google.com/assets/colab-badge.svg\" alt=\"Open In Colab\"/></a>"
      ]
    },
    {
      "cell_type": "code",
      "execution_count": null,
      "id": "abbd04ee-a9da-4002-ab31-61bd78ca2625",
      "metadata": {
        "id": "abbd04ee-a9da-4002-ab31-61bd78ca2625"
      },
      "outputs": [],
      "source": []
    },
    {
      "cell_type": "code",
      "source": [
        "from google.colab import drive\n",
        "drive.mount('/content/drive')"
      ],
      "metadata": {
        "colab": {
          "base_uri": "https://localhost:8080/"
        },
        "id": "nz597qu_5lTq",
        "outputId": "813db865-d63a-4c30-cbff-7dcf189dbbc9"
      },
      "id": "nz597qu_5lTq",
      "execution_count": 1,
      "outputs": [
        {
          "output_type": "stream",
          "name": "stdout",
          "text": [
            "Mounted at /content/drive\n"
          ]
        }
      ]
    },
    {
      "cell_type": "code",
      "source": [
        "!cp -r /content/drive/MyDrive/amia2023/WindowSHAP-main/* '/content/'"
      ],
      "metadata": {
        "id": "2eotdQuk5jfD"
      },
      "id": "2eotdQuk5jfD",
      "execution_count": 2,
      "outputs": []
    },
    {
      "cell_type": "code",
      "source": [],
      "metadata": {
        "id": "wP_FGcSK5jh8"
      },
      "id": "wP_FGcSK5jh8",
      "execution_count": null,
      "outputs": []
    },
    {
      "cell_type": "code",
      "source": [],
      "metadata": {
        "id": "ce0orhnP5jlN"
      },
      "id": "ce0orhnP5jlN",
      "execution_count": null,
      "outputs": []
    },
    {
      "cell_type": "code",
      "source": [],
      "metadata": {
        "id": "zZxOTxjy5joD"
      },
      "id": "zZxOTxjy5joD",
      "execution_count": null,
      "outputs": []
    },
    {
      "cell_type": "code",
      "source": [
        "import tensorflow\n",
        "from tensorflow import keras\n",
        "from tensorflow.keras import layers\n",
        "from tensorflow.keras.callbacks import EarlyStopping, ModelCheckpoint,ReduceLROnPlateau"
      ],
      "metadata": {
        "id": "kldVGJK65jq5"
      },
      "id": "kldVGJK65jq5",
      "execution_count": 39,
      "outputs": []
    },
    {
      "cell_type": "code",
      "execution_count": 5,
      "id": "5ce7af8c-d311-458f-898e-39757253f635",
      "metadata": {
        "id": "5ce7af8c-d311-458f-898e-39757253f635"
      },
      "outputs": [],
      "source": [
        "def transformer_encoder(inputs, head_size, num_heads, ff_dim, dropout=0):\n",
        "    # Normalization and Attention\n",
        "    x = layers.LayerNormalization(epsilon=1e-6)(inputs)\n",
        "    x = layers.MultiHeadAttention(key_dim=head_size, num_heads=num_heads, dropout=dropout)(x, x)\n",
        "    x = layers.Dropout(dropout)(x)\n",
        "    res = x + inputs\n",
        "\n",
        "    # Feed Forward Part\n",
        "    x = layers.LayerNormalization(epsilon=1e-6)(res)\n",
        "    x = layers.Conv1D(filters=ff_dim, kernel_size=1, activation=\"relu\")(x)\n",
        "    x = layers.Dropout(dropout)(x)\n",
        "    x = layers.Conv1D(filters=inputs.shape[-1], kernel_size=1)(x)\n",
        "    return x + res"
      ]
    },
    {
      "cell_type": "code",
      "execution_count": 6,
      "id": "42624930-7907-4a7d-bf04-88c4866e576b",
      "metadata": {
        "id": "42624930-7907-4a7d-bf04-88c4866e576b"
      },
      "outputs": [],
      "source": [
        "def build_model(input_shape,head_size, num_heads,ff_dim,num_transformer_blocks,mlp_units,dropout=0, mlp_dropout=0):\n",
        "    inputs = keras.Input(shape=input_shape)\n",
        "    x = inputs\n",
        "    for _ in range(num_transformer_blocks):\n",
        "        x = transformer_encoder(x, head_size, num_heads, ff_dim, dropout)\n",
        "\n",
        "    x = layers.GlobalAveragePooling1D(data_format=\"channels_first\")(x)\n",
        "    for dim in mlp_units:\n",
        "        x = layers.Dense(dim, activation=\"relu\")(x)\n",
        "        x = layers.Dropout(mlp_dropout)(x)\n",
        "    outputs = layers.Dense(1, activation=\"sigmoid\")(x)\n",
        "    return keras.Model(inputs, outputs)"
      ]
    },
    {
      "cell_type": "code",
      "execution_count": 7,
      "id": "0679e3fd-e719-4414-a3f6-ff229467469c",
      "metadata": {
        "id": "0679e3fd-e719-4414-a3f6-ff229467469c"
      },
      "outputs": [],
      "source": [
        "import numpy as np"
      ]
    },
    {
      "cell_type": "code",
      "execution_count": 8,
      "id": "3f809b0b-ac68-4056-aa40-dc4d24ca938b",
      "metadata": {
        "id": "3f809b0b-ac68-4056-aa40-dc4d24ca938b"
      },
      "outputs": [],
      "source": [
        "data = np.load('train_test_x_y.npz')\n",
        "train_x, test_x, train_y, test_y  = data['arr_0'], data['arr_1'], data['arr_2'], data['arr_3'] "
      ]
    },
    {
      "cell_type": "code",
      "execution_count": 9,
      "id": "6c072d8e-012a-490e-a384-c728a73e7be4",
      "metadata": {
        "id": "6c072d8e-012a-490e-a384-c728a73e7be4"
      },
      "outputs": [],
      "source": [
        "train_y = train_y.reshape(-1,1)\n",
        "test_y  = test_y.reshape(-1,1)"
      ]
    },
    {
      "cell_type": "code",
      "execution_count": 10,
      "id": "65358a11-0232-4640-80f3-72593318c1a8",
      "metadata": {
        "colab": {
          "base_uri": "https://localhost:8080/"
        },
        "id": "65358a11-0232-4640-80f3-72593318c1a8",
        "outputId": "4d5b19f4-e75f-4285-ac78-fbadcdf3a2bb"
      },
      "outputs": [
        {
          "output_type": "execute_result",
          "data": {
            "text/plain": [
              "((18390, 48, 26), (4598, 48, 26), (18390, 1), (4598, 1))"
            ]
          },
          "metadata": {},
          "execution_count": 10
        }
      ],
      "source": [
        "train_x.shape, test_x.shape, train_y.shape, test_y.shape"
      ]
    },
    {
      "cell_type": "code",
      "source": [
        "from sklearn.utils.class_weight import compute_class_weight\n",
        "\n",
        "class_weights = compute_class_weight(class_weight = \"balanced\",\n",
        "                                        classes = np.unique(train_y.squeeze()),\n",
        "                                        y = train_y.squeeze())\n",
        "#class_weights = dict(zip(np.unique(train_classes), class_weights)),\n",
        "class_weights"
      ],
      "metadata": {
        "colab": {
          "base_uri": "https://localhost:8080/"
        },
        "id": "BIrgNBxAaYiv",
        "outputId": "c1886883-3e9c-4ccd-b287-d443bcac16c3"
      },
      "id": "BIrgNBxAaYiv",
      "execution_count": 37,
      "outputs": [
        {
          "output_type": "execute_result",
          "data": {
            "text/plain": [
              "array([0.55532069, 5.0191048 ])"
            ]
          },
          "metadata": {},
          "execution_count": 37
        }
      ]
    },
    {
      "cell_type": "code",
      "execution_count": 11,
      "id": "faa1c050-acac-4f40-b102-56946da4a8ef",
      "metadata": {
        "id": "faa1c050-acac-4f40-b102-56946da4a8ef"
      },
      "outputs": [],
      "source": [
        "input_shape = train_x.shape[1:]"
      ]
    },
    {
      "cell_type": "code",
      "execution_count": 12,
      "id": "ba6359ef-53fa-4bd5-b7b0-95374491eec0",
      "metadata": {
        "colab": {
          "base_uri": "https://localhost:8080/"
        },
        "id": "ba6359ef-53fa-4bd5-b7b0-95374491eec0",
        "outputId": "ab227749-50b8-4784-d712-0577136c142d"
      },
      "outputs": [
        {
          "output_type": "execute_result",
          "data": {
            "text/plain": [
              "(48, 26)"
            ]
          },
          "metadata": {},
          "execution_count": 12
        }
      ],
      "source": [
        "input_shape"
      ]
    },
    {
      "cell_type": "code",
      "execution_count": 13,
      "id": "34e353ba-e383-4945-b615-f8a736fb7fea",
      "metadata": {
        "id": "34e353ba-e383-4945-b615-f8a736fb7fea"
      },
      "outputs": [],
      "source": [
        "n_classes = len(np.unique(train_y))"
      ]
    },
    {
      "cell_type": "code",
      "execution_count": 14,
      "id": "9f64f4cf-2116-4a78-aae1-b4235d7adc9b",
      "metadata": {
        "colab": {
          "base_uri": "https://localhost:8080/"
        },
        "id": "9f64f4cf-2116-4a78-aae1-b4235d7adc9b",
        "outputId": "0bc2d922-f652-4c15-e72a-5dafa6fc01b7"
      },
      "outputs": [
        {
          "output_type": "execute_result",
          "data": {
            "text/plain": [
              "2"
            ]
          },
          "metadata": {},
          "execution_count": 14
        }
      ],
      "source": [
        "n_classes"
      ]
    },
    {
      "cell_type": "code",
      "source": [
        "####\n",
        "import tensorflow.keras.backend as K\n",
        "def clear_sess():\n",
        "  try:\n",
        "    del model \n",
        "    del history \n",
        "  except:\n",
        "    pass\n",
        "  from tensorflow.keras import backend as K\n",
        "  K.clear_session()\n",
        "  import gc\n",
        "  gc.collect()\n",
        "\n",
        "\n",
        "\n",
        "  return None\n",
        "clear_sess()\n"
      ],
      "metadata": {
        "id": "feS9mcCDRvAZ"
      },
      "id": "feS9mcCDRvAZ",
      "execution_count": 53,
      "outputs": []
    },
    {
      "cell_type": "code",
      "source": [
        "def keras_mcc(y_true, y_pred):\n",
        "    tp = K.sum(K.round(K.clip(y_true * y_pred, 0, 1)))\n",
        "    tn = K.sum(K.round(K.clip((1 - y_true) * (1 - y_pred), 0, 1)))\n",
        "    fp = K.sum(K.round(K.clip((1 - y_true) * y_pred, 0, 1)))\n",
        "    fn = K.sum(K.round(K.clip(y_true * (1 - y_pred), 0, 1)))\n",
        "\n",
        "    num = tp * tn - fp * fn\n",
        "    den = (tp + fp) * (tp + fn) * (tn + fp) * (tn + fn)\n",
        "    return num / K.sqrt(den + K.epsilon())"
      ],
      "metadata": {
        "id": "dJVj9LJ4ZwFa"
      },
      "id": "dJVj9LJ4ZwFa",
      "execution_count": 35,
      "outputs": []
    },
    {
      "cell_type": "code",
      "execution_count": 54,
      "id": "c577d00d-e259-44e0-b267-e84cf4972fc5",
      "metadata": {
        "id": "c577d00d-e259-44e0-b267-e84cf4972fc5"
      },
      "outputs": [],
      "source": [
        "model = build_model(input_shape,head_size=256,num_heads=2,ff_dim=4,num_transformer_blocks=2,mlp_units=[128],mlp_dropout=0.4,dropout=0.25)\n"
      ]
    },
    {
      "cell_type": "code",
      "execution_count": 20,
      "id": "ec47b06c-5e2a-434f-a6c5-8ccd91ac24c5",
      "metadata": {
        "id": "ec47b06c-5e2a-434f-a6c5-8ccd91ac24c5"
      },
      "outputs": [],
      "source": [
        "# model.summary()"
      ]
    },
    {
      "cell_type": "code",
      "execution_count": 21,
      "id": "80d896f8-471c-4e4a-8f0e-72ab12757429",
      "metadata": {
        "id": "80d896f8-471c-4e4a-8f0e-72ab12757429"
      },
      "outputs": [],
      "source": [
        "# model.compile(loss=\"sparse_categorical_crossentropy\",optimizer=keras.optimizers.Adam(learning_rate=1e-4),metrics=[\"sparse_categorical_accuracy\"])\n",
        "# from utils_window import f1_m"
      ]
    },
    {
      "cell_type": "code",
      "source": [
        "metrics_c = [tensorflow.keras.metrics.AUC(name=\"auc_roc\",curve=\"ROC\"),tensorflow.keras.metrics.AUC(name=\"auc_pr\",curve=\"PR\"),keras_mcc]"
      ],
      "metadata": {
        "id": "bc5C69-Sa72s"
      },
      "id": "bc5C69-Sa72s",
      "execution_count": 55,
      "outputs": []
    },
    {
      "cell_type": "code",
      "execution_count": 56,
      "id": "0a8287e5-fefa-47e4-a171-bcdc0a0a9fbd",
      "metadata": {
        "id": "0a8287e5-fefa-47e4-a171-bcdc0a0a9fbd"
      },
      "outputs": [],
      "source": [
        "model.compile(optimizer=keras.optimizers.Adam(learning_rate=0.005), loss='binary_crossentropy', metrics=metrics_c, weighted_metrics=[])"
      ]
    },
    {
      "cell_type": "code",
      "execution_count": 51,
      "id": "05c85c04-dacc-4565-940f-eba7ab15e6c8",
      "metadata": {
        "id": "05c85c04-dacc-4565-940f-eba7ab15e6c8"
      },
      "outputs": [],
      "source": [
        "# callbacks = [keras.callbacks.EarlyStopping(patience=30, restore_best_weights=True),]\n",
        "reduce_lr = ReduceLROnPlateau(monitor='val_loss', factor=0.99,patience=20, min_lr=0.005, verbose=1)\n",
        "\n",
        "checkpoint_filepath_4 = 'weights-improvement-val-keras-mcc.hdf5'\n",
        "model_checkpoint_callback_4 = ModelCheckpoint(filepath=checkpoint_filepath_4,save_weights_only=False,monitor='val_keras_mcc',mode='max',save_best_only=True)"
      ]
    },
    {
      "cell_type": "code",
      "execution_count": 57,
      "id": "9176b244-69c6-4475-9974-4500792e6863",
      "metadata": {
        "colab": {
          "base_uri": "https://localhost:8080/"
        },
        "id": "9176b244-69c6-4475-9974-4500792e6863",
        "outputId": "acf4ebcf-cfa2-4543-cd13-06d98bfa926a"
      },
      "outputs": [
        {
          "output_type": "stream",
          "name": "stdout",
          "text": [
            "Epoch 1/300\n",
            "115/115 [==============================] - 11s 27ms/step - loss: 0.3250 - auc_roc: 0.6756 - auc_pr: 0.1753 - keras_mcc: 0.0479 - val_loss: 0.2945 - val_auc_roc: 0.7551 - val_auc_pr: 0.3238 - val_keras_mcc: 0.1431 - lr: 0.0050\n",
            "Epoch 2/300\n",
            "115/115 [==============================] - 2s 18ms/step - loss: 0.2950 - auc_roc: 0.7257 - auc_pr: 0.2588 - keras_mcc: 0.1023 - val_loss: 0.2926 - val_auc_roc: 0.7519 - val_auc_pr: 0.2866 - val_keras_mcc: 0.1021 - lr: 0.0050\n",
            "Epoch 3/300\n",
            "115/115 [==============================] - 2s 18ms/step - loss: 0.2884 - auc_roc: 0.7447 - auc_pr: 0.2928 - keras_mcc: 0.1497 - val_loss: 0.3200 - val_auc_roc: 0.7686 - val_auc_pr: 0.3125 - val_keras_mcc: 0.1149 - lr: 0.0050\n",
            "Epoch 4/300\n",
            "115/115 [==============================] - 2s 19ms/step - loss: 0.2825 - auc_roc: 0.7608 - auc_pr: 0.3126 - keras_mcc: 0.1409 - val_loss: 0.2766 - val_auc_roc: 0.7864 - val_auc_pr: 0.3601 - val_keras_mcc: 0.2449 - lr: 0.0050\n",
            "Epoch 5/300\n",
            "115/115 [==============================] - 2s 18ms/step - loss: 0.2758 - auc_roc: 0.7769 - auc_pr: 0.3353 - keras_mcc: 0.1913 - val_loss: 0.2866 - val_auc_roc: 0.7670 - val_auc_pr: 0.3208 - val_keras_mcc: 0.2005 - lr: 0.0050\n",
            "Epoch 6/300\n",
            "115/115 [==============================] - 2s 21ms/step - loss: 0.2764 - auc_roc: 0.7769 - auc_pr: 0.3241 - keras_mcc: 0.1702 - val_loss: 0.2790 - val_auc_roc: 0.7898 - val_auc_pr: 0.3238 - val_keras_mcc: 0.1212 - lr: 0.0050\n",
            "Epoch 7/300\n",
            "115/115 [==============================] - 2s 19ms/step - loss: 0.2677 - auc_roc: 0.7956 - auc_pr: 0.3517 - keras_mcc: 0.1942 - val_loss: 0.2815 - val_auc_roc: 0.7858 - val_auc_pr: 0.3394 - val_keras_mcc: 0.2212 - lr: 0.0050\n",
            "Epoch 8/300\n",
            "115/115 [==============================] - 2s 18ms/step - loss: 0.2676 - auc_roc: 0.7944 - auc_pr: 0.3605 - keras_mcc: 0.2031 - val_loss: 0.2787 - val_auc_roc: 0.7857 - val_auc_pr: 0.3481 - val_keras_mcc: 0.2184 - lr: 0.0050\n",
            "Epoch 9/300\n",
            "115/115 [==============================] - 2s 19ms/step - loss: 0.2641 - auc_roc: 0.8061 - auc_pr: 0.3653 - keras_mcc: 0.2186 - val_loss: 0.2915 - val_auc_roc: 0.7785 - val_auc_pr: 0.3412 - val_keras_mcc: 0.2311 - lr: 0.0050\n",
            "Epoch 10/300\n",
            "115/115 [==============================] - 2s 17ms/step - loss: 0.2633 - auc_roc: 0.8048 - auc_pr: 0.3718 - keras_mcc: 0.2279 - val_loss: 0.2832 - val_auc_roc: 0.7796 - val_auc_pr: 0.3345 - val_keras_mcc: 0.0481 - lr: 0.0050\n",
            "Epoch 11/300\n",
            "115/115 [==============================] - 2s 19ms/step - loss: 0.2577 - auc_roc: 0.8169 - auc_pr: 0.3907 - keras_mcc: 0.2300 - val_loss: 0.2799 - val_auc_roc: 0.7941 - val_auc_pr: 0.3557 - val_keras_mcc: 0.1958 - lr: 0.0050\n",
            "Epoch 12/300\n",
            "115/115 [==============================] - 2s 21ms/step - loss: 0.2575 - auc_roc: 0.8179 - auc_pr: 0.3857 - keras_mcc: 0.2393 - val_loss: 0.2803 - val_auc_roc: 0.7877 - val_auc_pr: 0.3560 - val_keras_mcc: 0.2310 - lr: 0.0050\n",
            "Epoch 13/300\n",
            "115/115 [==============================] - 2s 18ms/step - loss: 0.2562 - auc_roc: 0.8183 - auc_pr: 0.4018 - keras_mcc: 0.2594 - val_loss: 0.2848 - val_auc_roc: 0.7752 - val_auc_pr: 0.3240 - val_keras_mcc: 0.1756 - lr: 0.0050\n",
            "Epoch 14/300\n",
            "115/115 [==============================] - 2s 17ms/step - loss: 0.2519 - auc_roc: 0.8254 - auc_pr: 0.4148 - keras_mcc: 0.2822 - val_loss: 0.3080 - val_auc_roc: 0.7792 - val_auc_pr: 0.3353 - val_keras_mcc: 0.2021 - lr: 0.0050\n",
            "Epoch 15/300\n",
            "115/115 [==============================] - 2s 18ms/step - loss: 0.2528 - auc_roc: 0.8250 - auc_pr: 0.4121 - keras_mcc: 0.2840 - val_loss: 0.2868 - val_auc_roc: 0.7691 - val_auc_pr: 0.3302 - val_keras_mcc: 0.2026 - lr: 0.0050\n",
            "Epoch 16/300\n",
            "115/115 [==============================] - 2s 18ms/step - loss: 0.2524 - auc_roc: 0.8281 - auc_pr: 0.4132 - keras_mcc: 0.2860 - val_loss: 0.2974 - val_auc_roc: 0.7522 - val_auc_pr: 0.2855 - val_keras_mcc: 0.1927 - lr: 0.0050\n",
            "Epoch 17/300\n",
            "115/115 [==============================] - 2s 20ms/step - loss: 0.2533 - auc_roc: 0.8223 - auc_pr: 0.4186 - keras_mcc: 0.3040 - val_loss: 0.3101 - val_auc_roc: 0.7884 - val_auc_pr: 0.3452 - val_keras_mcc: 0.2015 - lr: 0.0050\n",
            "Epoch 18/300\n",
            "115/115 [==============================] - 3s 22ms/step - loss: 0.2504 - auc_roc: 0.8308 - auc_pr: 0.4304 - keras_mcc: 0.2828 - val_loss: 0.2856 - val_auc_roc: 0.7754 - val_auc_pr: 0.3299 - val_keras_mcc: 0.2128 - lr: 0.0050\n",
            "Epoch 19/300\n",
            "115/115 [==============================] - 2s 19ms/step - loss: 0.2486 - auc_roc: 0.8347 - auc_pr: 0.4296 - keras_mcc: 0.2796 - val_loss: 0.2869 - val_auc_roc: 0.7798 - val_auc_pr: 0.3558 - val_keras_mcc: 0.2366 - lr: 0.0050\n",
            "Epoch 20/300\n",
            "115/115 [==============================] - 2s 19ms/step - loss: 0.2448 - auc_roc: 0.8397 - auc_pr: 0.4395 - keras_mcc: 0.2961 - val_loss: 0.2954 - val_auc_roc: 0.7644 - val_auc_pr: 0.3273 - val_keras_mcc: 0.2537 - lr: 0.0050\n",
            "Epoch 21/300\n",
            "115/115 [==============================] - 2s 19ms/step - loss: 0.2441 - auc_roc: 0.8412 - auc_pr: 0.4445 - keras_mcc: 0.3153 - val_loss: 0.2783 - val_auc_roc: 0.7839 - val_auc_pr: 0.3630 - val_keras_mcc: 0.2418 - lr: 0.0050\n",
            "Epoch 22/300\n",
            "115/115 [==============================] - 2s 18ms/step - loss: 0.2431 - auc_roc: 0.8413 - auc_pr: 0.4575 - keras_mcc: 0.3149 - val_loss: 0.2994 - val_auc_roc: 0.7758 - val_auc_pr: 0.3405 - val_keras_mcc: 0.2019 - lr: 0.0050\n",
            "Epoch 23/300\n",
            "115/115 [==============================] - 2s 21ms/step - loss: 0.2460 - auc_roc: 0.8404 - auc_pr: 0.4362 - keras_mcc: 0.3014 - val_loss: 0.3071 - val_auc_roc: 0.7755 - val_auc_pr: 0.3502 - val_keras_mcc: 0.2665 - lr: 0.0050\n",
            "Epoch 24/300\n",
            "115/115 [==============================] - 2s 21ms/step - loss: 0.2425 - auc_roc: 0.8423 - auc_pr: 0.4562 - keras_mcc: 0.3413 - val_loss: 0.3005 - val_auc_roc: 0.7753 - val_auc_pr: 0.3258 - val_keras_mcc: 0.1653 - lr: 0.0050\n",
            "Epoch 25/300\n",
            "115/115 [==============================] - 2s 18ms/step - loss: 0.2413 - auc_roc: 0.8478 - auc_pr: 0.4551 - keras_mcc: 0.3364 - val_loss: 0.2874 - val_auc_roc: 0.7863 - val_auc_pr: 0.3399 - val_keras_mcc: 0.2132 - lr: 0.0050\n",
            "Epoch 26/300\n",
            "115/115 [==============================] - 2s 18ms/step - loss: 0.2382 - auc_roc: 0.8518 - auc_pr: 0.4628 - keras_mcc: 0.3444 - val_loss: 0.2877 - val_auc_roc: 0.7720 - val_auc_pr: 0.3250 - val_keras_mcc: 0.1866 - lr: 0.0050\n",
            "Epoch 27/300\n",
            "115/115 [==============================] - 2s 19ms/step - loss: 0.2377 - auc_roc: 0.8514 - auc_pr: 0.4758 - keras_mcc: 0.3466 - val_loss: 0.2947 - val_auc_roc: 0.7836 - val_auc_pr: 0.3430 - val_keras_mcc: 0.2197 - lr: 0.0050\n",
            "Epoch 28/300\n",
            "115/115 [==============================] - 2s 19ms/step - loss: 0.2389 - auc_roc: 0.8507 - auc_pr: 0.4636 - keras_mcc: 0.3132 - val_loss: 0.2978 - val_auc_roc: 0.7676 - val_auc_pr: 0.3358 - val_keras_mcc: 0.2312 - lr: 0.0050\n",
            "Epoch 29/300\n",
            "115/115 [==============================] - 2s 20ms/step - loss: 0.2366 - auc_roc: 0.8536 - auc_pr: 0.4725 - keras_mcc: 0.3418 - val_loss: 0.2918 - val_auc_roc: 0.7791 - val_auc_pr: 0.3308 - val_keras_mcc: 0.2010 - lr: 0.0050\n",
            "Epoch 30/300\n",
            "115/115 [==============================] - 2s 20ms/step - loss: 0.2344 - auc_roc: 0.8565 - auc_pr: 0.4794 - keras_mcc: 0.3447 - val_loss: 0.2990 - val_auc_roc: 0.7664 - val_auc_pr: 0.3202 - val_keras_mcc: 0.2368 - lr: 0.0050\n",
            "Epoch 31/300\n",
            "115/115 [==============================] - 2s 19ms/step - loss: 0.2356 - auc_roc: 0.8531 - auc_pr: 0.4887 - keras_mcc: 0.3654 - val_loss: 0.3107 - val_auc_roc: 0.7589 - val_auc_pr: 0.3170 - val_keras_mcc: 0.2182 - lr: 0.0050\n",
            "Epoch 32/300\n",
            "115/115 [==============================] - 2s 18ms/step - loss: 0.2365 - auc_roc: 0.8535 - auc_pr: 0.4763 - keras_mcc: 0.3324 - val_loss: 0.3260 - val_auc_roc: 0.7700 - val_auc_pr: 0.3374 - val_keras_mcc: 0.2578 - lr: 0.0050\n",
            "Epoch 33/300\n",
            "115/115 [==============================] - 2s 19ms/step - loss: 0.2344 - auc_roc: 0.8552 - auc_pr: 0.4927 - keras_mcc: 0.3546 - val_loss: 0.2985 - val_auc_roc: 0.7866 - val_auc_pr: 0.3519 - val_keras_mcc: 0.2680 - lr: 0.0050\n",
            "Epoch 34/300\n",
            "115/115 [==============================] - 2s 19ms/step - loss: 0.2336 - auc_roc: 0.8591 - auc_pr: 0.4846 - keras_mcc: 0.3636 - val_loss: 0.2921 - val_auc_roc: 0.7785 - val_auc_pr: 0.3468 - val_keras_mcc: 0.2565 - lr: 0.0050\n",
            "Epoch 35/300\n",
            "115/115 [==============================] - 2s 20ms/step - loss: 0.2314 - auc_roc: 0.8598 - auc_pr: 0.4973 - keras_mcc: 0.3653 - val_loss: 0.3212 - val_auc_roc: 0.7532 - val_auc_pr: 0.3123 - val_keras_mcc: 0.2553 - lr: 0.0050\n",
            "Epoch 36/300\n",
            "115/115 [==============================] - 2s 18ms/step - loss: 0.2268 - auc_roc: 0.8691 - auc_pr: 0.5089 - keras_mcc: 0.3880 - val_loss: 0.2967 - val_auc_roc: 0.7552 - val_auc_pr: 0.2983 - val_keras_mcc: 0.1859 - lr: 0.0050\n",
            "Epoch 37/300\n",
            "115/115 [==============================] - 2s 17ms/step - loss: 0.2289 - auc_roc: 0.8639 - auc_pr: 0.5048 - keras_mcc: 0.3743 - val_loss: 0.3358 - val_auc_roc: 0.7810 - val_auc_pr: 0.3415 - val_keras_mcc: 0.2400 - lr: 0.0050\n",
            "Epoch 38/300\n",
            "115/115 [==============================] - 2s 19ms/step - loss: 0.2336 - auc_roc: 0.8601 - auc_pr: 0.4844 - keras_mcc: 0.3711 - val_loss: 0.3146 - val_auc_roc: 0.7593 - val_auc_pr: 0.3099 - val_keras_mcc: 0.2525 - lr: 0.0050\n",
            "Epoch 39/300\n",
            "115/115 [==============================] - 2s 19ms/step - loss: 0.2305 - auc_roc: 0.8615 - auc_pr: 0.4981 - keras_mcc: 0.3809 - val_loss: 0.3045 - val_auc_roc: 0.7864 - val_auc_pr: 0.3414 - val_keras_mcc: 0.2762 - lr: 0.0050\n",
            "Epoch 40/300\n",
            "115/115 [==============================] - 2s 19ms/step - loss: 0.2315 - auc_roc: 0.8579 - auc_pr: 0.5034 - keras_mcc: 0.3760 - val_loss: 0.3049 - val_auc_roc: 0.7545 - val_auc_pr: 0.2962 - val_keras_mcc: 0.1902 - lr: 0.0050\n",
            "Epoch 41/300\n",
            "115/115 [==============================] - 2s 21ms/step - loss: 0.2251 - auc_roc: 0.8701 - auc_pr: 0.5236 - keras_mcc: 0.3930 - val_loss: 0.3470 - val_auc_roc: 0.7491 - val_auc_pr: 0.2956 - val_keras_mcc: 0.2229 - lr: 0.0050\n",
            "Epoch 42/300\n",
            "115/115 [==============================] - 2s 19ms/step - loss: 0.2278 - auc_roc: 0.8657 - auc_pr: 0.5128 - keras_mcc: 0.3819 - val_loss: 0.3065 - val_auc_roc: 0.7756 - val_auc_pr: 0.3053 - val_keras_mcc: 0.1618 - lr: 0.0050\n",
            "Epoch 43/300\n",
            "115/115 [==============================] - 2s 19ms/step - loss: 0.2258 - auc_roc: 0.8677 - auc_pr: 0.5233 - keras_mcc: 0.4019 - val_loss: 0.3070 - val_auc_roc: 0.7486 - val_auc_pr: 0.2944 - val_keras_mcc: 0.2363 - lr: 0.0050\n",
            "Epoch 44/300\n",
            "115/115 [==============================] - 2s 19ms/step - loss: 0.2244 - auc_roc: 0.8701 - auc_pr: 0.5265 - keras_mcc: 0.3953 - val_loss: 0.3249 - val_auc_roc: 0.7654 - val_auc_pr: 0.3332 - val_keras_mcc: 0.2279 - lr: 0.0050\n",
            "Epoch 45/300\n",
            "115/115 [==============================] - 2s 19ms/step - loss: 0.2253 - auc_roc: 0.8686 - auc_pr: 0.5217 - keras_mcc: 0.3841 - val_loss: 0.3184 - val_auc_roc: 0.7600 - val_auc_pr: 0.3128 - val_keras_mcc: 0.2595 - lr: 0.0050\n",
            "Epoch 46/300\n",
            "115/115 [==============================] - 2s 18ms/step - loss: 0.2231 - auc_roc: 0.8736 - auc_pr: 0.5256 - keras_mcc: 0.3987 - val_loss: 0.3080 - val_auc_roc: 0.7686 - val_auc_pr: 0.3157 - val_keras_mcc: 0.2254 - lr: 0.0050\n",
            "Epoch 47/300\n",
            "115/115 [==============================] - 3s 22ms/step - loss: 0.2298 - auc_roc: 0.8616 - auc_pr: 0.5129 - keras_mcc: 0.4031 - val_loss: 0.3191 - val_auc_roc: 0.7717 - val_auc_pr: 0.3292 - val_keras_mcc: 0.2422 - lr: 0.0050\n",
            "Epoch 48/300\n",
            "115/115 [==============================] - 2s 18ms/step - loss: 0.2226 - auc_roc: 0.8739 - auc_pr: 0.5285 - keras_mcc: 0.3969 - val_loss: 0.3282 - val_auc_roc: 0.7638 - val_auc_pr: 0.2983 - val_keras_mcc: 0.1941 - lr: 0.0050\n",
            "Epoch 49/300\n",
            "115/115 [==============================] - 2s 18ms/step - loss: 0.2193 - auc_roc: 0.8803 - auc_pr: 0.5343 - keras_mcc: 0.4113 - val_loss: 0.3119 - val_auc_roc: 0.7665 - val_auc_pr: 0.3147 - val_keras_mcc: 0.2251 - lr: 0.0050\n",
            "Epoch 50/300\n",
            "115/115 [==============================] - 2s 18ms/step - loss: 0.2240 - auc_roc: 0.8710 - auc_pr: 0.5261 - keras_mcc: 0.4125 - val_loss: 0.3156 - val_auc_roc: 0.7463 - val_auc_pr: 0.2888 - val_keras_mcc: 0.2276 - lr: 0.0050\n",
            "Epoch 51/300\n",
            "115/115 [==============================] - 2s 19ms/step - loss: 0.2209 - auc_roc: 0.8763 - auc_pr: 0.5371 - keras_mcc: 0.4052 - val_loss: 0.3314 - val_auc_roc: 0.7738 - val_auc_pr: 0.3275 - val_keras_mcc: 0.2802 - lr: 0.0050\n",
            "Epoch 52/300\n",
            "115/115 [==============================] - 2s 19ms/step - loss: 0.2259 - auc_roc: 0.8686 - auc_pr: 0.5285 - keras_mcc: 0.4082 - val_loss: 0.3744 - val_auc_roc: 0.7572 - val_auc_pr: 0.2977 - val_keras_mcc: 0.2337 - lr: 0.0050\n",
            "Epoch 53/300\n",
            "115/115 [==============================] - 2s 22ms/step - loss: 0.2218 - auc_roc: 0.8738 - auc_pr: 0.5328 - keras_mcc: 0.4217 - val_loss: 0.3560 - val_auc_roc: 0.7653 - val_auc_pr: 0.3212 - val_keras_mcc: 0.2448 - lr: 0.0050\n",
            "Epoch 54/300\n",
            "115/115 [==============================] - 2s 18ms/step - loss: 0.2210 - auc_roc: 0.8758 - auc_pr: 0.5362 - keras_mcc: 0.4168 - val_loss: 0.3339 - val_auc_roc: 0.7640 - val_auc_pr: 0.2985 - val_keras_mcc: 0.1713 - lr: 0.0050\n",
            "Epoch 55/300\n",
            "115/115 [==============================] - 2s 19ms/step - loss: 0.2221 - auc_roc: 0.8766 - auc_pr: 0.5337 - keras_mcc: 0.4099 - val_loss: 0.3375 - val_auc_roc: 0.7645 - val_auc_pr: 0.3231 - val_keras_mcc: 0.2369 - lr: 0.0050\n",
            "Epoch 56/300\n",
            "115/115 [==============================] - 2s 19ms/step - loss: 0.2173 - auc_roc: 0.8809 - auc_pr: 0.5446 - keras_mcc: 0.4188 - val_loss: 0.3153 - val_auc_roc: 0.7695 - val_auc_pr: 0.3310 - val_keras_mcc: 0.2681 - lr: 0.0050\n",
            "Epoch 57/300\n",
            "115/115 [==============================] - 2s 19ms/step - loss: 0.2193 - auc_roc: 0.8794 - auc_pr: 0.5413 - keras_mcc: 0.4236 - val_loss: 0.3518 - val_auc_roc: 0.7678 - val_auc_pr: 0.3271 - val_keras_mcc: 0.2545 - lr: 0.0050\n",
            "Epoch 58/300\n",
            "115/115 [==============================] - 2s 20ms/step - loss: 0.2198 - auc_roc: 0.8770 - auc_pr: 0.5455 - keras_mcc: 0.4183 - val_loss: 0.3458 - val_auc_roc: 0.7626 - val_auc_pr: 0.3154 - val_keras_mcc: 0.2494 - lr: 0.0050\n",
            "Epoch 59/300\n",
            "115/115 [==============================] - 2s 22ms/step - loss: 0.2183 - auc_roc: 0.8790 - auc_pr: 0.5522 - keras_mcc: 0.4250 - val_loss: 0.3369 - val_auc_roc: 0.7608 - val_auc_pr: 0.3292 - val_keras_mcc: 0.2743 - lr: 0.0050\n",
            "Epoch 60/300\n",
            "115/115 [==============================] - 2s 18ms/step - loss: 0.2191 - auc_roc: 0.8801 - auc_pr: 0.5383 - keras_mcc: 0.4277 - val_loss: 0.3171 - val_auc_roc: 0.7585 - val_auc_pr: 0.3119 - val_keras_mcc: 0.2562 - lr: 0.0050\n",
            "Epoch 61/300\n",
            "115/115 [==============================] - 2s 19ms/step - loss: 0.2146 - auc_roc: 0.8842 - auc_pr: 0.5587 - keras_mcc: 0.4303 - val_loss: 0.3148 - val_auc_roc: 0.7686 - val_auc_pr: 0.3235 - val_keras_mcc: 0.2551 - lr: 0.0050\n",
            "Epoch 62/300\n",
            "115/115 [==============================] - 2s 19ms/step - loss: 0.2155 - auc_roc: 0.8836 - auc_pr: 0.5536 - keras_mcc: 0.4216 - val_loss: 0.3675 - val_auc_roc: 0.7663 - val_auc_pr: 0.3346 - val_keras_mcc: 0.2385 - lr: 0.0050\n",
            "Epoch 63/300\n",
            "115/115 [==============================] - 2s 19ms/step - loss: 0.2163 - auc_roc: 0.8825 - auc_pr: 0.5502 - keras_mcc: 0.4259 - val_loss: 0.3253 - val_auc_roc: 0.7479 - val_auc_pr: 0.2859 - val_keras_mcc: 0.1919 - lr: 0.0050\n",
            "Epoch 64/300\n",
            "115/115 [==============================] - 2s 20ms/step - loss: 0.2102 - auc_roc: 0.8896 - auc_pr: 0.5775 - keras_mcc: 0.4510 - val_loss: 0.3518 - val_auc_roc: 0.7622 - val_auc_pr: 0.3089 - val_keras_mcc: 0.2294 - lr: 0.0050\n",
            "Epoch 65/300\n",
            "115/115 [==============================] - 2s 21ms/step - loss: 0.2137 - auc_roc: 0.8878 - auc_pr: 0.5628 - keras_mcc: 0.4319 - val_loss: 0.3259 - val_auc_roc: 0.7476 - val_auc_pr: 0.3206 - val_keras_mcc: 0.2407 - lr: 0.0050\n",
            "Epoch 66/300\n",
            "115/115 [==============================] - 2s 19ms/step - loss: 0.2119 - auc_roc: 0.8884 - auc_pr: 0.5631 - keras_mcc: 0.4398 - val_loss: 0.3827 - val_auc_roc: 0.7494 - val_auc_pr: 0.2912 - val_keras_mcc: 0.2253 - lr: 0.0050\n",
            "Epoch 67/300\n",
            "115/115 [==============================] - 2s 19ms/step - loss: 0.2122 - auc_roc: 0.8889 - auc_pr: 0.5571 - keras_mcc: 0.4309 - val_loss: 0.3036 - val_auc_roc: 0.7466 - val_auc_pr: 0.2821 - val_keras_mcc: 0.2328 - lr: 0.0050\n",
            "Epoch 68/300\n",
            "115/115 [==============================] - 2s 18ms/step - loss: 0.2119 - auc_roc: 0.8902 - auc_pr: 0.5635 - keras_mcc: 0.4312 - val_loss: 0.3431 - val_auc_roc: 0.7671 - val_auc_pr: 0.2970 - val_keras_mcc: 0.1891 - lr: 0.0050\n",
            "Epoch 69/300\n",
            "115/115 [==============================] - 2s 19ms/step - loss: 0.2124 - auc_roc: 0.8894 - auc_pr: 0.5625 - keras_mcc: 0.4345 - val_loss: 0.3458 - val_auc_roc: 0.7671 - val_auc_pr: 0.3160 - val_keras_mcc: 0.2443 - lr: 0.0050\n",
            "Epoch 70/300\n",
            "115/115 [==============================] - 2s 20ms/step - loss: 0.2096 - auc_roc: 0.8909 - auc_pr: 0.5658 - keras_mcc: 0.4360 - val_loss: 0.4101 - val_auc_roc: 0.7438 - val_auc_pr: 0.2990 - val_keras_mcc: 0.1858 - lr: 0.0050\n",
            "Epoch 71/300\n",
            "115/115 [==============================] - 2s 21ms/step - loss: 0.2127 - auc_roc: 0.8879 - auc_pr: 0.5589 - keras_mcc: 0.4259 - val_loss: 0.3268 - val_auc_roc: 0.7604 - val_auc_pr: 0.3108 - val_keras_mcc: 0.2411 - lr: 0.0050\n",
            "Epoch 72/300\n",
            "115/115 [==============================] - 2s 20ms/step - loss: 0.2105 - auc_roc: 0.8924 - auc_pr: 0.5630 - keras_mcc: 0.4082 - val_loss: 0.3682 - val_auc_roc: 0.7392 - val_auc_pr: 0.2823 - val_keras_mcc: 0.1917 - lr: 0.0050\n",
            "Epoch 73/300\n",
            "115/115 [==============================] - 2s 18ms/step - loss: 0.2105 - auc_roc: 0.8896 - auc_pr: 0.5749 - keras_mcc: 0.4453 - val_loss: 0.3401 - val_auc_roc: 0.7645 - val_auc_pr: 0.2998 - val_keras_mcc: 0.1916 - lr: 0.0050\n",
            "Epoch 74/300\n",
            "115/115 [==============================] - 2s 18ms/step - loss: 0.2096 - auc_roc: 0.8904 - auc_pr: 0.5714 - keras_mcc: 0.4400 - val_loss: 0.3550 - val_auc_roc: 0.7461 - val_auc_pr: 0.2888 - val_keras_mcc: 0.1953 - lr: 0.0050\n",
            "Epoch 75/300\n",
            "115/115 [==============================] - 2s 18ms/step - loss: 0.2092 - auc_roc: 0.8928 - auc_pr: 0.5797 - keras_mcc: 0.4571 - val_loss: 0.3353 - val_auc_roc: 0.7663 - val_auc_pr: 0.3001 - val_keras_mcc: 0.1871 - lr: 0.0050\n",
            "Epoch 76/300\n",
            "115/115 [==============================] - 2s 21ms/step - loss: 0.2111 - auc_roc: 0.8898 - auc_pr: 0.5697 - keras_mcc: 0.4378 - val_loss: 0.3307 - val_auc_roc: 0.7597 - val_auc_pr: 0.3041 - val_keras_mcc: 0.2321 - lr: 0.0050\n",
            "Epoch 77/300\n",
            "115/115 [==============================] - 2s 19ms/step - loss: 0.2068 - auc_roc: 0.8928 - auc_pr: 0.5903 - keras_mcc: 0.4629 - val_loss: 0.3398 - val_auc_roc: 0.7650 - val_auc_pr: 0.2994 - val_keras_mcc: 0.2017 - lr: 0.0050\n",
            "Epoch 78/300\n",
            "115/115 [==============================] - 2s 19ms/step - loss: 0.2071 - auc_roc: 0.8971 - auc_pr: 0.5785 - keras_mcc: 0.4555 - val_loss: 0.3616 - val_auc_roc: 0.7568 - val_auc_pr: 0.2869 - val_keras_mcc: 0.2093 - lr: 0.0050\n",
            "Epoch 79/300\n",
            "115/115 [==============================] - 2s 19ms/step - loss: 0.2061 - auc_roc: 0.8962 - auc_pr: 0.5852 - keras_mcc: 0.4588 - val_loss: 0.3182 - val_auc_roc: 0.7605 - val_auc_pr: 0.3022 - val_keras_mcc: 0.1998 - lr: 0.0050\n",
            "Epoch 80/300\n",
            "115/115 [==============================] - 2s 19ms/step - loss: 0.2089 - auc_roc: 0.8929 - auc_pr: 0.5771 - keras_mcc: 0.4539 - val_loss: 0.3757 - val_auc_roc: 0.7450 - val_auc_pr: 0.2905 - val_keras_mcc: 0.2051 - lr: 0.0050\n",
            "Epoch 81/300\n",
            "115/115 [==============================] - 2s 17ms/step - loss: 0.2088 - auc_roc: 0.8933 - auc_pr: 0.5742 - keras_mcc: 0.4485 - val_loss: 0.3776 - val_auc_roc: 0.7440 - val_auc_pr: 0.2954 - val_keras_mcc: 0.2321 - lr: 0.0050\n",
            "Epoch 82/300\n",
            "115/115 [==============================] - 2s 22ms/step - loss: 0.2108 - auc_roc: 0.8899 - auc_pr: 0.5783 - keras_mcc: 0.4352 - val_loss: 0.3263 - val_auc_roc: 0.7642 - val_auc_pr: 0.3022 - val_keras_mcc: 0.2076 - lr: 0.0050\n",
            "Epoch 83/300\n",
            "115/115 [==============================] - 2s 20ms/step - loss: 0.2049 - auc_roc: 0.8951 - auc_pr: 0.6003 - keras_mcc: 0.4614 - val_loss: 0.3538 - val_auc_roc: 0.7588 - val_auc_pr: 0.3023 - val_keras_mcc: 0.2357 - lr: 0.0050\n",
            "Epoch 84/300\n",
            "115/115 [==============================] - 2s 19ms/step - loss: 0.2045 - auc_roc: 0.8935 - auc_pr: 0.6059 - keras_mcc: 0.4770 - val_loss: 0.3823 - val_auc_roc: 0.7304 - val_auc_pr: 0.2573 - val_keras_mcc: 0.1759 - lr: 0.0050\n",
            "Epoch 85/300\n",
            "115/115 [==============================] - 2s 19ms/step - loss: 0.2045 - auc_roc: 0.8936 - auc_pr: 0.6021 - keras_mcc: 0.4774 - val_loss: 0.3591 - val_auc_roc: 0.7523 - val_auc_pr: 0.2874 - val_keras_mcc: 0.2182 - lr: 0.0050\n",
            "Epoch 86/300\n",
            "115/115 [==============================] - 2s 19ms/step - loss: 0.2055 - auc_roc: 0.8960 - auc_pr: 0.5911 - keras_mcc: 0.4662 - val_loss: 0.3289 - val_auc_roc: 0.7666 - val_auc_pr: 0.2994 - val_keras_mcc: 0.2070 - lr: 0.0050\n",
            "Epoch 87/300\n",
            "115/115 [==============================] - 2s 18ms/step - loss: 0.2014 - auc_roc: 0.9013 - auc_pr: 0.5951 - keras_mcc: 0.4590 - val_loss: 0.3348 - val_auc_roc: 0.7460 - val_auc_pr: 0.2846 - val_keras_mcc: 0.2277 - lr: 0.0050\n",
            "Epoch 88/300\n",
            "115/115 [==============================] - 2s 21ms/step - loss: 0.2064 - auc_roc: 0.8943 - auc_pr: 0.5847 - keras_mcc: 0.4586 - val_loss: 0.3631 - val_auc_roc: 0.7637 - val_auc_pr: 0.3168 - val_keras_mcc: 0.2489 - lr: 0.0050\n",
            "Epoch 89/300\n",
            "115/115 [==============================] - 2s 19ms/step - loss: 0.2026 - auc_roc: 0.8982 - auc_pr: 0.6071 - keras_mcc: 0.4818 - val_loss: 0.3742 - val_auc_roc: 0.7608 - val_auc_pr: 0.2974 - val_keras_mcc: 0.2123 - lr: 0.0050\n",
            "Epoch 90/300\n",
            "115/115 [==============================] - 2s 19ms/step - loss: 0.2062 - auc_roc: 0.8938 - auc_pr: 0.5954 - keras_mcc: 0.4629 - val_loss: 0.3754 - val_auc_roc: 0.7691 - val_auc_pr: 0.3138 - val_keras_mcc: 0.2256 - lr: 0.0050\n",
            "Epoch 91/300\n",
            "115/115 [==============================] - 2s 18ms/step - loss: 0.2072 - auc_roc: 0.8942 - auc_pr: 0.5876 - keras_mcc: 0.4478 - val_loss: 0.3581 - val_auc_roc: 0.7646 - val_auc_pr: 0.2910 - val_keras_mcc: 0.2231 - lr: 0.0050\n",
            "Epoch 92/300\n",
            "115/115 [==============================] - 2s 19ms/step - loss: 0.2062 - auc_roc: 0.8946 - auc_pr: 0.5939 - keras_mcc: 0.4622 - val_loss: 0.3366 - val_auc_roc: 0.7647 - val_auc_pr: 0.2960 - val_keras_mcc: 0.2448 - lr: 0.0050\n",
            "Epoch 93/300\n",
            "115/115 [==============================] - 2s 19ms/step - loss: 0.2042 - auc_roc: 0.8963 - auc_pr: 0.5961 - keras_mcc: 0.4657 - val_loss: 0.3688 - val_auc_roc: 0.7654 - val_auc_pr: 0.3004 - val_keras_mcc: 0.2240 - lr: 0.0050\n",
            "Epoch 94/300\n",
            "115/115 [==============================] - 3s 22ms/step - loss: 0.2025 - auc_roc: 0.8994 - auc_pr: 0.6006 - keras_mcc: 0.4683 - val_loss: 0.3926 - val_auc_roc: 0.7750 - val_auc_pr: 0.2987 - val_keras_mcc: 0.2660 - lr: 0.0050\n",
            "Epoch 95/300\n",
            "115/115 [==============================] - 2s 19ms/step - loss: 0.2044 - auc_roc: 0.8979 - auc_pr: 0.5869 - keras_mcc: 0.4663 - val_loss: 0.3463 - val_auc_roc: 0.7646 - val_auc_pr: 0.3049 - val_keras_mcc: 0.2410 - lr: 0.0050\n",
            "Epoch 96/300\n",
            "115/115 [==============================] - 2s 18ms/step - loss: 0.2008 - auc_roc: 0.9000 - auc_pr: 0.6067 - keras_mcc: 0.4766 - val_loss: 0.4025 - val_auc_roc: 0.7496 - val_auc_pr: 0.2735 - val_keras_mcc: 0.1734 - lr: 0.0050\n",
            "Epoch 97/300\n",
            "115/115 [==============================] - 2s 19ms/step - loss: 0.2014 - auc_roc: 0.8988 - auc_pr: 0.6141 - keras_mcc: 0.4941 - val_loss: 0.3461 - val_auc_roc: 0.7445 - val_auc_pr: 0.2811 - val_keras_mcc: 0.2303 - lr: 0.0050\n",
            "Epoch 98/300\n",
            "115/115 [==============================] - 2s 19ms/step - loss: 0.2037 - auc_roc: 0.8985 - auc_pr: 0.5994 - keras_mcc: 0.4860 - val_loss: 0.3311 - val_auc_roc: 0.7544 - val_auc_pr: 0.3019 - val_keras_mcc: 0.2324 - lr: 0.0050\n",
            "Epoch 99/300\n",
            "115/115 [==============================] - 2s 21ms/step - loss: 0.1993 - auc_roc: 0.9040 - auc_pr: 0.6104 - keras_mcc: 0.4857 - val_loss: 0.3357 - val_auc_roc: 0.7717 - val_auc_pr: 0.3130 - val_keras_mcc: 0.2399 - lr: 0.0050\n",
            "Epoch 100/300\n",
            "115/115 [==============================] - 2s 21ms/step - loss: 0.2001 - auc_roc: 0.9011 - auc_pr: 0.6068 - keras_mcc: 0.4782 - val_loss: 0.3284 - val_auc_roc: 0.7624 - val_auc_pr: 0.2946 - val_keras_mcc: 0.2158 - lr: 0.0050\n",
            "Epoch 101/300\n",
            "115/115 [==============================] - 2s 18ms/step - loss: 0.2011 - auc_roc: 0.9019 - auc_pr: 0.6044 - keras_mcc: 0.4839 - val_loss: 0.3313 - val_auc_roc: 0.7631 - val_auc_pr: 0.2959 - val_keras_mcc: 0.1962 - lr: 0.0050\n",
            "Epoch 102/300\n",
            "115/115 [==============================] - 2s 18ms/step - loss: 0.2017 - auc_roc: 0.9019 - auc_pr: 0.5987 - keras_mcc: 0.4627 - val_loss: 0.3563 - val_auc_roc: 0.7569 - val_auc_pr: 0.2923 - val_keras_mcc: 0.2175 - lr: 0.0050\n",
            "Epoch 103/300\n",
            "115/115 [==============================] - 2s 18ms/step - loss: 0.2019 - auc_roc: 0.9017 - auc_pr: 0.6029 - keras_mcc: 0.4472 - val_loss: 0.3381 - val_auc_roc: 0.7643 - val_auc_pr: 0.3121 - val_keras_mcc: 0.2271 - lr: 0.0050\n",
            "Epoch 104/300\n",
            "115/115 [==============================] - 2s 18ms/step - loss: 0.1994 - auc_roc: 0.9000 - auc_pr: 0.6199 - keras_mcc: 0.5002 - val_loss: 0.3519 - val_auc_roc: 0.7547 - val_auc_pr: 0.3122 - val_keras_mcc: 0.2584 - lr: 0.0050\n",
            "Epoch 105/300\n",
            "115/115 [==============================] - 2s 21ms/step - loss: 0.2016 - auc_roc: 0.9040 - auc_pr: 0.6011 - keras_mcc: 0.4647 - val_loss: 0.3616 - val_auc_roc: 0.7520 - val_auc_pr: 0.2930 - val_keras_mcc: 0.2080 - lr: 0.0050\n",
            "Epoch 106/300\n",
            "115/115 [==============================] - 2s 19ms/step - loss: 0.2011 - auc_roc: 0.9019 - auc_pr: 0.6020 - keras_mcc: 0.4544 - val_loss: 0.4555 - val_auc_roc: 0.7321 - val_auc_pr: 0.3031 - val_keras_mcc: 0.2312 - lr: 0.0050\n",
            "Epoch 107/300\n",
            "115/115 [==============================] - 2s 19ms/step - loss: 0.1992 - auc_roc: 0.9050 - auc_pr: 0.6076 - keras_mcc: 0.4761 - val_loss: 0.3619 - val_auc_roc: 0.7531 - val_auc_pr: 0.2935 - val_keras_mcc: 0.1541 - lr: 0.0050\n",
            "Epoch 108/300\n",
            "115/115 [==============================] - 2s 19ms/step - loss: 0.1981 - auc_roc: 0.9054 - auc_pr: 0.6203 - keras_mcc: 0.4965 - val_loss: 0.4095 - val_auc_roc: 0.7316 - val_auc_pr: 0.2715 - val_keras_mcc: 0.1955 - lr: 0.0050\n",
            "Epoch 109/300\n",
            "115/115 [==============================] - 2s 19ms/step - loss: 0.1992 - auc_roc: 0.9029 - auc_pr: 0.6118 - keras_mcc: 0.4824 - val_loss: 0.3662 - val_auc_roc: 0.7519 - val_auc_pr: 0.2804 - val_keras_mcc: 0.1970 - lr: 0.0050\n",
            "Epoch 110/300\n",
            "115/115 [==============================] - 2s 18ms/step - loss: 0.1952 - auc_roc: 0.9075 - auc_pr: 0.6282 - keras_mcc: 0.4881 - val_loss: 0.4337 - val_auc_roc: 0.7257 - val_auc_pr: 0.2628 - val_keras_mcc: 0.2200 - lr: 0.0050\n",
            "Epoch 111/300\n",
            "115/115 [==============================] - 2s 20ms/step - loss: 0.1959 - auc_roc: 0.9080 - auc_pr: 0.6217 - keras_mcc: 0.4988 - val_loss: 0.4065 - val_auc_roc: 0.7384 - val_auc_pr: 0.2756 - val_keras_mcc: 0.1916 - lr: 0.0050\n",
            "Epoch 112/300\n",
            "115/115 [==============================] - 2s 20ms/step - loss: 0.1950 - auc_roc: 0.9064 - auc_pr: 0.6306 - keras_mcc: 0.5144 - val_loss: 0.3452 - val_auc_roc: 0.7355 - val_auc_pr: 0.2745 - val_keras_mcc: 0.2321 - lr: 0.0050\n",
            "Epoch 113/300\n",
            "115/115 [==============================] - 2s 18ms/step - loss: 0.1961 - auc_roc: 0.9081 - auc_pr: 0.6200 - keras_mcc: 0.4833 - val_loss: 0.4325 - val_auc_roc: 0.7315 - val_auc_pr: 0.2681 - val_keras_mcc: 0.2320 - lr: 0.0050\n",
            "Epoch 114/300\n",
            "115/115 [==============================] - 2s 19ms/step - loss: 0.1975 - auc_roc: 0.9043 - auc_pr: 0.6231 - keras_mcc: 0.4986 - val_loss: 0.3356 - val_auc_roc: 0.7418 - val_auc_pr: 0.2758 - val_keras_mcc: 0.2001 - lr: 0.0050\n",
            "Epoch 115/300\n",
            "115/115 [==============================] - 2s 19ms/step - loss: 0.1979 - auc_roc: 0.9050 - auc_pr: 0.6184 - keras_mcc: 0.4938 - val_loss: 0.3172 - val_auc_roc: 0.7561 - val_auc_pr: 0.2935 - val_keras_mcc: 0.2186 - lr: 0.0050\n",
            "Epoch 116/300\n",
            "115/115 [==============================] - 2s 19ms/step - loss: 0.1983 - auc_roc: 0.9027 - auc_pr: 0.6196 - keras_mcc: 0.5041 - val_loss: 0.4076 - val_auc_roc: 0.7401 - val_auc_pr: 0.2843 - val_keras_mcc: 0.2453 - lr: 0.0050\n",
            "Epoch 117/300\n",
            "115/115 [==============================] - 2s 22ms/step - loss: 0.1979 - auc_roc: 0.9040 - auc_pr: 0.6195 - keras_mcc: 0.4924 - val_loss: 0.3757 - val_auc_roc: 0.7612 - val_auc_pr: 0.2806 - val_keras_mcc: 0.2178 - lr: 0.0050\n",
            "Epoch 118/300\n",
            "115/115 [==============================] - 2s 19ms/step - loss: 0.1955 - auc_roc: 0.9058 - auc_pr: 0.6248 - keras_mcc: 0.4995 - val_loss: 0.3815 - val_auc_roc: 0.7501 - val_auc_pr: 0.2844 - val_keras_mcc: 0.2414 - lr: 0.0050\n",
            "Epoch 119/300\n",
            "115/115 [==============================] - 2s 19ms/step - loss: 0.1968 - auc_roc: 0.9048 - auc_pr: 0.6311 - keras_mcc: 0.5146 - val_loss: 0.3658 - val_auc_roc: 0.7565 - val_auc_pr: 0.3001 - val_keras_mcc: 0.2422 - lr: 0.0050\n",
            "Epoch 120/300\n",
            "115/115 [==============================] - 2s 18ms/step - loss: 0.1982 - auc_roc: 0.9063 - auc_pr: 0.6190 - keras_mcc: 0.4765 - val_loss: 0.3746 - val_auc_roc: 0.7603 - val_auc_pr: 0.3042 - val_keras_mcc: 0.2428 - lr: 0.0050\n",
            "Epoch 121/300\n",
            "115/115 [==============================] - 2s 19ms/step - loss: 0.1966 - auc_roc: 0.9068 - auc_pr: 0.6206 - keras_mcc: 0.4976 - val_loss: 0.3192 - val_auc_roc: 0.7580 - val_auc_pr: 0.2860 - val_keras_mcc: 0.2149 - lr: 0.0050\n",
            "Epoch 122/300\n",
            "115/115 [==============================] - 2s 20ms/step - loss: 0.1957 - auc_roc: 0.9045 - auc_pr: 0.6315 - keras_mcc: 0.5126 - val_loss: 0.3344 - val_auc_roc: 0.7533 - val_auc_pr: 0.2899 - val_keras_mcc: 0.2148 - lr: 0.0050\n",
            "Epoch 123/300\n",
            "115/115 [==============================] - 3s 23ms/step - loss: 0.1943 - auc_roc: 0.9073 - auc_pr: 0.6303 - keras_mcc: 0.5045 - val_loss: 0.3831 - val_auc_roc: 0.7517 - val_auc_pr: 0.2918 - val_keras_mcc: 0.2191 - lr: 0.0050\n",
            "Epoch 124/300\n",
            "115/115 [==============================] - 2s 19ms/step - loss: 0.1958 - auc_roc: 0.9076 - auc_pr: 0.6272 - keras_mcc: 0.4840 - val_loss: 0.4187 - val_auc_roc: 0.7439 - val_auc_pr: 0.2854 - val_keras_mcc: 0.2310 - lr: 0.0050\n",
            "Epoch 125/300\n",
            "115/115 [==============================] - 2s 19ms/step - loss: 0.1965 - auc_roc: 0.9068 - auc_pr: 0.6236 - keras_mcc: 0.4907 - val_loss: 0.3478 - val_auc_roc: 0.7507 - val_auc_pr: 0.2782 - val_keras_mcc: 0.1805 - lr: 0.0050\n",
            "Epoch 126/300\n",
            "115/115 [==============================] - 2s 20ms/step - loss: 0.1947 - auc_roc: 0.9088 - auc_pr: 0.6258 - keras_mcc: 0.5087 - val_loss: 0.3704 - val_auc_roc: 0.7561 - val_auc_pr: 0.3039 - val_keras_mcc: 0.2455 - lr: 0.0050\n",
            "Epoch 127/300\n",
            "115/115 [==============================] - 2s 18ms/step - loss: 0.1892 - auc_roc: 0.9145 - auc_pr: 0.6365 - keras_mcc: 0.5070 - val_loss: 0.5249 - val_auc_roc: 0.7244 - val_auc_pr: 0.2867 - val_keras_mcc: 0.2255 - lr: 0.0050\n",
            "Epoch 128/300\n",
            "115/115 [==============================] - 2s 20ms/step - loss: 0.1966 - auc_roc: 0.9066 - auc_pr: 0.6177 - keras_mcc: 0.4749 - val_loss: 0.3256 - val_auc_roc: 0.7650 - val_auc_pr: 0.2945 - val_keras_mcc: 0.2323 - lr: 0.0050\n",
            "Epoch 129/300\n",
            "115/115 [==============================] - 2s 20ms/step - loss: 0.1916 - auc_roc: 0.9118 - auc_pr: 0.6345 - keras_mcc: 0.5147 - val_loss: 0.3632 - val_auc_roc: 0.7587 - val_auc_pr: 0.2962 - val_keras_mcc: 0.2152 - lr: 0.0050\n",
            "Epoch 130/300\n",
            "115/115 [==============================] - 2s 19ms/step - loss: 0.1949 - auc_roc: 0.9084 - auc_pr: 0.6281 - keras_mcc: 0.4991 - val_loss: 0.4083 - val_auc_roc: 0.7402 - val_auc_pr: 0.2748 - val_keras_mcc: 0.1843 - lr: 0.0050\n",
            "Epoch 131/300\n",
            "115/115 [==============================] - 2s 18ms/step - loss: 0.1910 - auc_roc: 0.9137 - auc_pr: 0.6433 - keras_mcc: 0.5015 - val_loss: 0.3856 - val_auc_roc: 0.7693 - val_auc_pr: 0.3026 - val_keras_mcc: 0.2552 - lr: 0.0050\n",
            "Epoch 132/300\n",
            "115/115 [==============================] - 2s 19ms/step - loss: 0.1947 - auc_roc: 0.9065 - auc_pr: 0.6359 - keras_mcc: 0.5135 - val_loss: 0.3342 - val_auc_roc: 0.7553 - val_auc_pr: 0.2869 - val_keras_mcc: 0.2155 - lr: 0.0050\n",
            "Epoch 133/300\n",
            "115/115 [==============================] - 2s 19ms/step - loss: 0.1929 - auc_roc: 0.9120 - auc_pr: 0.6307 - keras_mcc: 0.4958 - val_loss: 0.3801 - val_auc_roc: 0.7483 - val_auc_pr: 0.2888 - val_keras_mcc: 0.2163 - lr: 0.0050\n",
            "Epoch 134/300\n",
            "115/115 [==============================] - 2s 21ms/step - loss: 0.1907 - auc_roc: 0.9131 - auc_pr: 0.6360 - keras_mcc: 0.4993 - val_loss: 0.3922 - val_auc_roc: 0.7629 - val_auc_pr: 0.3175 - val_keras_mcc: 0.2562 - lr: 0.0050\n",
            "Epoch 135/300\n",
            "115/115 [==============================] - 2s 20ms/step - loss: 0.1911 - auc_roc: 0.9139 - auc_pr: 0.6339 - keras_mcc: 0.5022 - val_loss: 0.4602 - val_auc_roc: 0.7319 - val_auc_pr: 0.2771 - val_keras_mcc: 0.1944 - lr: 0.0050\n",
            "Epoch 136/300\n",
            "115/115 [==============================] - 2s 19ms/step - loss: 0.1935 - auc_roc: 0.9094 - auc_pr: 0.6356 - keras_mcc: 0.5000 - val_loss: 0.3696 - val_auc_roc: 0.7512 - val_auc_pr: 0.2870 - val_keras_mcc: 0.2041 - lr: 0.0050\n",
            "Epoch 137/300\n",
            "115/115 [==============================] - 2s 19ms/step - loss: 0.1923 - auc_roc: 0.9096 - auc_pr: 0.6455 - keras_mcc: 0.5206 - val_loss: 0.4199 - val_auc_roc: 0.7495 - val_auc_pr: 0.2966 - val_keras_mcc: 0.2191 - lr: 0.0050\n",
            "Epoch 138/300\n",
            "115/115 [==============================] - 2s 18ms/step - loss: 0.1910 - auc_roc: 0.9129 - auc_pr: 0.6377 - keras_mcc: 0.5237 - val_loss: 0.4162 - val_auc_roc: 0.7356 - val_auc_pr: 0.2838 - val_keras_mcc: 0.2368 - lr: 0.0050\n",
            "Epoch 139/300\n",
            "115/115 [==============================] - 2s 19ms/step - loss: 0.1878 - auc_roc: 0.9139 - auc_pr: 0.6520 - keras_mcc: 0.5252 - val_loss: 0.5333 - val_auc_roc: 0.7076 - val_auc_pr: 0.2608 - val_keras_mcc: 0.1997 - lr: 0.0050\n",
            "Epoch 140/300\n",
            "115/115 [==============================] - 2s 21ms/step - loss: 0.1973 - auc_roc: 0.9049 - auc_pr: 0.6269 - keras_mcc: 0.5060 - val_loss: 0.4013 - val_auc_roc: 0.7371 - val_auc_pr: 0.2774 - val_keras_mcc: 0.2151 - lr: 0.0050\n",
            "Epoch 141/300\n",
            "115/115 [==============================] - 2s 19ms/step - loss: 0.1908 - auc_roc: 0.9116 - auc_pr: 0.6366 - keras_mcc: 0.5203 - val_loss: 0.4159 - val_auc_roc: 0.7286 - val_auc_pr: 0.2778 - val_keras_mcc: 0.2238 - lr: 0.0050\n",
            "Epoch 142/300\n",
            "115/115 [==============================] - 2s 18ms/step - loss: 0.1878 - auc_roc: 0.9143 - auc_pr: 0.6481 - keras_mcc: 0.5239 - val_loss: 0.3881 - val_auc_roc: 0.7594 - val_auc_pr: 0.2930 - val_keras_mcc: 0.2305 - lr: 0.0050\n",
            "Epoch 143/300\n",
            "115/115 [==============================] - 2s 19ms/step - loss: 0.1925 - auc_roc: 0.9092 - auc_pr: 0.6380 - keras_mcc: 0.5088 - val_loss: 0.3625 - val_auc_roc: 0.7467 - val_auc_pr: 0.2921 - val_keras_mcc: 0.2472 - lr: 0.0050\n",
            "Epoch 144/300\n",
            "115/115 [==============================] - 2s 19ms/step - loss: 0.1884 - auc_roc: 0.9125 - auc_pr: 0.6496 - keras_mcc: 0.5237 - val_loss: 0.4129 - val_auc_roc: 0.7378 - val_auc_pr: 0.2642 - val_keras_mcc: 0.2085 - lr: 0.0050\n",
            "Epoch 145/300\n",
            "115/115 [==============================] - 2s 19ms/step - loss: 0.1879 - auc_roc: 0.9146 - auc_pr: 0.6489 - keras_mcc: 0.5326 - val_loss: 0.4377 - val_auc_roc: 0.7169 - val_auc_pr: 0.2574 - val_keras_mcc: 0.1846 - lr: 0.0050\n",
            "Epoch 146/300\n",
            "115/115 [==============================] - 2s 21ms/step - loss: 0.1913 - auc_roc: 0.9144 - auc_pr: 0.6367 - keras_mcc: 0.5046 - val_loss: 0.4487 - val_auc_roc: 0.7529 - val_auc_pr: 0.2673 - val_keras_mcc: 0.2159 - lr: 0.0050\n",
            "Epoch 147/300\n",
            "115/115 [==============================] - 2s 20ms/step - loss: 0.1911 - auc_roc: 0.9136 - auc_pr: 0.6397 - keras_mcc: 0.5175 - val_loss: 0.4009 - val_auc_roc: 0.7219 - val_auc_pr: 0.2623 - val_keras_mcc: 0.1934 - lr: 0.0050\n",
            "Epoch 148/300\n",
            "115/115 [==============================] - 2s 19ms/step - loss: 0.1945 - auc_roc: 0.9106 - auc_pr: 0.6210 - keras_mcc: 0.5023 - val_loss: 0.3911 - val_auc_roc: 0.7366 - val_auc_pr: 0.2761 - val_keras_mcc: 0.2124 - lr: 0.0050\n",
            "Epoch 149/300\n",
            "115/115 [==============================] - 2s 19ms/step - loss: 0.1859 - auc_roc: 0.9181 - auc_pr: 0.6576 - keras_mcc: 0.5238 - val_loss: 0.3729 - val_auc_roc: 0.7401 - val_auc_pr: 0.2640 - val_keras_mcc: 0.1909 - lr: 0.0050\n",
            "Epoch 150/300\n",
            "115/115 [==============================] - 2s 19ms/step - loss: 0.1888 - auc_roc: 0.9124 - auc_pr: 0.6488 - keras_mcc: 0.5165 - val_loss: 0.4504 - val_auc_roc: 0.7247 - val_auc_pr: 0.2625 - val_keras_mcc: 0.2080 - lr: 0.0050\n",
            "Epoch 151/300\n",
            "115/115 [==============================] - 2s 20ms/step - loss: 0.1909 - auc_roc: 0.9135 - auc_pr: 0.6372 - keras_mcc: 0.5089 - val_loss: 0.3693 - val_auc_roc: 0.7429 - val_auc_pr: 0.2718 - val_keras_mcc: 0.1282 - lr: 0.0050\n",
            "Epoch 152/300\n",
            "115/115 [==============================] - 3s 23ms/step - loss: 0.1914 - auc_roc: 0.9115 - auc_pr: 0.6412 - keras_mcc: 0.5070 - val_loss: 0.4308 - val_auc_roc: 0.7359 - val_auc_pr: 0.2816 - val_keras_mcc: 0.2165 - lr: 0.0050\n",
            "Epoch 153/300\n",
            "115/115 [==============================] - 2s 19ms/step - loss: 0.1870 - auc_roc: 0.9149 - auc_pr: 0.6523 - keras_mcc: 0.5129 - val_loss: 0.3714 - val_auc_roc: 0.7414 - val_auc_pr: 0.2872 - val_keras_mcc: 0.2165 - lr: 0.0050\n",
            "Epoch 154/300\n",
            "115/115 [==============================] - 2s 19ms/step - loss: 0.1872 - auc_roc: 0.9172 - auc_pr: 0.6490 - keras_mcc: 0.5198 - val_loss: 0.4504 - val_auc_roc: 0.7260 - val_auc_pr: 0.2592 - val_keras_mcc: 0.2062 - lr: 0.0050\n",
            "Epoch 155/300\n",
            "115/115 [==============================] - 2s 19ms/step - loss: 0.1891 - auc_roc: 0.9167 - auc_pr: 0.6403 - keras_mcc: 0.5137 - val_loss: 0.4251 - val_auc_roc: 0.7311 - val_auc_pr: 0.2649 - val_keras_mcc: 0.1956 - lr: 0.0050\n",
            "Epoch 156/300\n",
            "115/115 [==============================] - 2s 18ms/step - loss: 0.1884 - auc_roc: 0.9120 - auc_pr: 0.6530 - keras_mcc: 0.5136 - val_loss: 0.4064 - val_auc_roc: 0.7303 - val_auc_pr: 0.2682 - val_keras_mcc: 0.2023 - lr: 0.0050\n",
            "Epoch 157/300\n",
            "115/115 [==============================] - 2s 21ms/step - loss: 0.1926 - auc_roc: 0.9123 - auc_pr: 0.6345 - keras_mcc: 0.5012 - val_loss: 0.4020 - val_auc_roc: 0.7472 - val_auc_pr: 0.2887 - val_keras_mcc: 0.2504 - lr: 0.0050\n",
            "Epoch 158/300\n",
            "115/115 [==============================] - 2s 21ms/step - loss: 0.1922 - auc_roc: 0.9108 - auc_pr: 0.6349 - keras_mcc: 0.4999 - val_loss: 0.4135 - val_auc_roc: 0.7449 - val_auc_pr: 0.2823 - val_keras_mcc: 0.2195 - lr: 0.0050\n",
            "Epoch 159/300\n",
            "115/115 [==============================] - 2s 19ms/step - loss: 0.1924 - auc_roc: 0.9123 - auc_pr: 0.6424 - keras_mcc: 0.5103 - val_loss: 0.3734 - val_auc_roc: 0.7308 - val_auc_pr: 0.2692 - val_keras_mcc: 0.2130 - lr: 0.0050\n",
            "Epoch 160/300\n",
            "115/115 [==============================] - 2s 19ms/step - loss: 0.1903 - auc_roc: 0.9133 - auc_pr: 0.6469 - keras_mcc: 0.5105 - val_loss: 0.4606 - val_auc_roc: 0.7417 - val_auc_pr: 0.2908 - val_keras_mcc: 0.2434 - lr: 0.0050\n",
            "Epoch 161/300\n",
            "115/115 [==============================] - 2s 18ms/step - loss: 0.1897 - auc_roc: 0.9153 - auc_pr: 0.6381 - keras_mcc: 0.5074 - val_loss: 0.4125 - val_auc_roc: 0.7289 - val_auc_pr: 0.2831 - val_keras_mcc: 0.2264 - lr: 0.0050\n",
            "Epoch 162/300\n",
            "115/115 [==============================] - 2s 19ms/step - loss: 0.1921 - auc_roc: 0.9113 - auc_pr: 0.6440 - keras_mcc: 0.5084 - val_loss: 0.4248 - val_auc_roc: 0.7488 - val_auc_pr: 0.2824 - val_keras_mcc: 0.2583 - lr: 0.0050\n",
            "Epoch 163/300\n",
            "115/115 [==============================] - 2s 21ms/step - loss: 0.1820 - auc_roc: 0.9214 - auc_pr: 0.6660 - keras_mcc: 0.5494 - val_loss: 0.4115 - val_auc_roc: 0.7428 - val_auc_pr: 0.2700 - val_keras_mcc: 0.2098 - lr: 0.0050\n",
            "Epoch 164/300\n",
            "115/115 [==============================] - 2s 21ms/step - loss: 0.1887 - auc_roc: 0.9148 - auc_pr: 0.6450 - keras_mcc: 0.5154 - val_loss: 0.4648 - val_auc_roc: 0.7172 - val_auc_pr: 0.2548 - val_keras_mcc: 0.1791 - lr: 0.0050\n",
            "Epoch 165/300\n",
            "115/115 [==============================] - 2s 18ms/step - loss: 0.1900 - auc_roc: 0.9134 - auc_pr: 0.6481 - keras_mcc: 0.5143 - val_loss: 0.3951 - val_auc_roc: 0.7455 - val_auc_pr: 0.2788 - val_keras_mcc: 0.2224 - lr: 0.0050\n",
            "Epoch 166/300\n",
            "115/115 [==============================] - 2s 19ms/step - loss: 0.1894 - auc_roc: 0.9129 - auc_pr: 0.6462 - keras_mcc: 0.5188 - val_loss: 0.4624 - val_auc_roc: 0.7276 - val_auc_pr: 0.2680 - val_keras_mcc: 0.2091 - lr: 0.0050\n",
            "Epoch 167/300\n",
            "115/115 [==============================] - 2s 19ms/step - loss: 0.1871 - auc_roc: 0.9152 - auc_pr: 0.6543 - keras_mcc: 0.5266 - val_loss: 0.3929 - val_auc_roc: 0.7262 - val_auc_pr: 0.2881 - val_keras_mcc: 0.2297 - lr: 0.0050\n",
            "Epoch 168/300\n",
            "115/115 [==============================] - 2s 19ms/step - loss: 0.1879 - auc_roc: 0.9171 - auc_pr: 0.6482 - keras_mcc: 0.5126 - val_loss: 0.3587 - val_auc_roc: 0.7281 - val_auc_pr: 0.2567 - val_keras_mcc: 0.1838 - lr: 0.0050\n",
            "Epoch 169/300\n",
            "115/115 [==============================] - 2s 22ms/step - loss: 0.1912 - auc_roc: 0.9128 - auc_pr: 0.6368 - keras_mcc: 0.5189 - val_loss: 0.4773 - val_auc_roc: 0.7240 - val_auc_pr: 0.2671 - val_keras_mcc: 0.2163 - lr: 0.0050\n",
            "Epoch 170/300\n",
            "115/115 [==============================] - 2s 20ms/step - loss: 0.1822 - auc_roc: 0.9206 - auc_pr: 0.6650 - keras_mcc: 0.5475 - val_loss: 0.3958 - val_auc_roc: 0.7307 - val_auc_pr: 0.2717 - val_keras_mcc: 0.2247 - lr: 0.0050\n",
            "Epoch 171/300\n",
            "115/115 [==============================] - 2s 20ms/step - loss: 0.1875 - auc_roc: 0.9176 - auc_pr: 0.6492 - keras_mcc: 0.5178 - val_loss: 0.4059 - val_auc_roc: 0.7383 - val_auc_pr: 0.2804 - val_keras_mcc: 0.2326 - lr: 0.0050\n",
            "Epoch 172/300\n",
            "115/115 [==============================] - 2s 20ms/step - loss: 0.1838 - auc_roc: 0.9170 - auc_pr: 0.6655 - keras_mcc: 0.5343 - val_loss: 0.4025 - val_auc_roc: 0.7375 - val_auc_pr: 0.2704 - val_keras_mcc: 0.2214 - lr: 0.0050\n",
            "Epoch 173/300\n",
            "115/115 [==============================] - 2s 19ms/step - loss: 0.1868 - auc_roc: 0.9158 - auc_pr: 0.6531 - keras_mcc: 0.5250 - val_loss: 0.3800 - val_auc_roc: 0.7460 - val_auc_pr: 0.2899 - val_keras_mcc: 0.2151 - lr: 0.0050\n",
            "Epoch 174/300\n",
            "115/115 [==============================] - 2s 19ms/step - loss: 0.1853 - auc_roc: 0.9180 - auc_pr: 0.6625 - keras_mcc: 0.5209 - val_loss: 0.4715 - val_auc_roc: 0.7299 - val_auc_pr: 0.2754 - val_keras_mcc: 0.2079 - lr: 0.0050\n",
            "Epoch 175/300\n",
            "115/115 [==============================] - 2s 21ms/step - loss: 0.1828 - auc_roc: 0.9212 - auc_pr: 0.6656 - keras_mcc: 0.5374 - val_loss: 0.4734 - val_auc_roc: 0.7237 - val_auc_pr: 0.2676 - val_keras_mcc: 0.2102 - lr: 0.0050\n",
            "Epoch 176/300\n",
            "115/115 [==============================] - 2s 20ms/step - loss: 0.1834 - auc_roc: 0.9198 - auc_pr: 0.6642 - keras_mcc: 0.5456 - val_loss: 0.3658 - val_auc_roc: 0.7469 - val_auc_pr: 0.2800 - val_keras_mcc: 0.2044 - lr: 0.0050\n",
            "Epoch 177/300\n",
            "115/115 [==============================] - 2s 20ms/step - loss: 0.1881 - auc_roc: 0.9163 - auc_pr: 0.6516 - keras_mcc: 0.5281 - val_loss: 0.3997 - val_auc_roc: 0.7403 - val_auc_pr: 0.2702 - val_keras_mcc: 0.1839 - lr: 0.0050\n",
            "Epoch 178/300\n",
            "115/115 [==============================] - 2s 19ms/step - loss: 0.1838 - auc_roc: 0.9189 - auc_pr: 0.6612 - keras_mcc: 0.5319 - val_loss: 0.3877 - val_auc_roc: 0.7322 - val_auc_pr: 0.2845 - val_keras_mcc: 0.2128 - lr: 0.0050\n",
            "Epoch 179/300\n",
            "115/115 [==============================] - 2s 20ms/step - loss: 0.1869 - auc_roc: 0.9155 - auc_pr: 0.6623 - keras_mcc: 0.5383 - val_loss: 0.4423 - val_auc_roc: 0.7365 - val_auc_pr: 0.2722 - val_keras_mcc: 0.2198 - lr: 0.0050\n",
            "Epoch 180/300\n",
            "115/115 [==============================] - 2s 21ms/step - loss: 0.1874 - auc_roc: 0.9161 - auc_pr: 0.6626 - keras_mcc: 0.5418 - val_loss: 0.3767 - val_auc_roc: 0.7270 - val_auc_pr: 0.2627 - val_keras_mcc: 0.2177 - lr: 0.0050\n",
            "Epoch 181/300\n",
            "115/115 [==============================] - 2s 21ms/step - loss: 0.1898 - auc_roc: 0.9151 - auc_pr: 0.6447 - keras_mcc: 0.5168 - val_loss: 0.4159 - val_auc_roc: 0.7337 - val_auc_pr: 0.2763 - val_keras_mcc: 0.2113 - lr: 0.0050\n",
            "Epoch 182/300\n",
            "115/115 [==============================] - 2s 19ms/step - loss: 0.1898 - auc_roc: 0.9154 - auc_pr: 0.6422 - keras_mcc: 0.5162 - val_loss: 0.3933 - val_auc_roc: 0.7300 - val_auc_pr: 0.2743 - val_keras_mcc: 0.1884 - lr: 0.0050\n",
            "Epoch 183/300\n",
            "115/115 [==============================] - 2s 18ms/step - loss: 0.1837 - auc_roc: 0.9196 - auc_pr: 0.6642 - keras_mcc: 0.5316 - val_loss: 0.4466 - val_auc_roc: 0.7410 - val_auc_pr: 0.3054 - val_keras_mcc: 0.2405 - lr: 0.0050\n",
            "Epoch 184/300\n",
            "115/115 [==============================] - 2s 20ms/step - loss: 0.1890 - auc_roc: 0.9134 - auc_pr: 0.6483 - keras_mcc: 0.5330 - val_loss: 0.3656 - val_auc_roc: 0.7346 - val_auc_pr: 0.2606 - val_keras_mcc: 0.2035 - lr: 0.0050\n",
            "Epoch 185/300\n",
            "115/115 [==============================] - 2s 19ms/step - loss: 0.1867 - auc_roc: 0.9161 - auc_pr: 0.6515 - keras_mcc: 0.5169 - val_loss: 0.4758 - val_auc_roc: 0.7229 - val_auc_pr: 0.2746 - val_keras_mcc: 0.1923 - lr: 0.0050\n",
            "Epoch 186/300\n",
            "115/115 [==============================] - 2s 21ms/step - loss: 0.1843 - auc_roc: 0.9202 - auc_pr: 0.6615 - keras_mcc: 0.5179 - val_loss: 0.4378 - val_auc_roc: 0.7374 - val_auc_pr: 0.2733 - val_keras_mcc: 0.2290 - lr: 0.0050\n",
            "Epoch 187/300\n",
            "115/115 [==============================] - 2s 22ms/step - loss: 0.1817 - auc_roc: 0.9207 - auc_pr: 0.6634 - keras_mcc: 0.5339 - val_loss: 0.3929 - val_auc_roc: 0.7441 - val_auc_pr: 0.2883 - val_keras_mcc: 0.2413 - lr: 0.0050\n",
            "Epoch 188/300\n",
            "115/115 [==============================] - 2s 20ms/step - loss: 0.1857 - auc_roc: 0.9182 - auc_pr: 0.6567 - keras_mcc: 0.5147 - val_loss: 0.3722 - val_auc_roc: 0.7402 - val_auc_pr: 0.2704 - val_keras_mcc: 0.1786 - lr: 0.0050\n",
            "Epoch 189/300\n",
            "115/115 [==============================] - 2s 18ms/step - loss: 0.1810 - auc_roc: 0.9239 - auc_pr: 0.6740 - keras_mcc: 0.5492 - val_loss: 0.3464 - val_auc_roc: 0.7391 - val_auc_pr: 0.2590 - val_keras_mcc: 0.1836 - lr: 0.0050\n",
            "Epoch 190/300\n",
            "115/115 [==============================] - 2s 18ms/step - loss: 0.1850 - auc_roc: 0.9186 - auc_pr: 0.6594 - keras_mcc: 0.5301 - val_loss: 0.3669 - val_auc_roc: 0.7324 - val_auc_pr: 0.2702 - val_keras_mcc: 0.2081 - lr: 0.0050\n",
            "Epoch 191/300\n",
            "115/115 [==============================] - 2s 19ms/step - loss: 0.1811 - auc_roc: 0.9217 - auc_pr: 0.6750 - keras_mcc: 0.5577 - val_loss: 0.4002 - val_auc_roc: 0.7130 - val_auc_pr: 0.2619 - val_keras_mcc: 0.1871 - lr: 0.0050\n",
            "Epoch 192/300\n",
            "115/115 [==============================] - 2s 21ms/step - loss: 0.1852 - auc_roc: 0.9178 - auc_pr: 0.6608 - keras_mcc: 0.5451 - val_loss: 0.4369 - val_auc_roc: 0.7253 - val_auc_pr: 0.2676 - val_keras_mcc: 0.2046 - lr: 0.0050\n",
            "Epoch 193/300\n",
            "115/115 [==============================] - 2s 20ms/step - loss: 0.1841 - auc_roc: 0.9196 - auc_pr: 0.6672 - keras_mcc: 0.5374 - val_loss: 0.4543 - val_auc_roc: 0.7337 - val_auc_pr: 0.2797 - val_keras_mcc: 0.2287 - lr: 0.0050\n",
            "Epoch 194/300\n",
            "115/115 [==============================] - 2s 19ms/step - loss: 0.1787 - auc_roc: 0.9238 - auc_pr: 0.6727 - keras_mcc: 0.5461 - val_loss: 0.4366 - val_auc_roc: 0.7395 - val_auc_pr: 0.2657 - val_keras_mcc: 0.1873 - lr: 0.0050\n",
            "Epoch 195/300\n",
            "115/115 [==============================] - 2s 20ms/step - loss: 0.1823 - auc_roc: 0.9201 - auc_pr: 0.6759 - keras_mcc: 0.5532 - val_loss: 0.4211 - val_auc_roc: 0.7451 - val_auc_pr: 0.2776 - val_keras_mcc: 0.2233 - lr: 0.0050\n",
            "Epoch 196/300\n",
            "115/115 [==============================] - 2s 20ms/step - loss: 0.1803 - auc_roc: 0.9227 - auc_pr: 0.6733 - keras_mcc: 0.5449 - val_loss: 0.4147 - val_auc_roc: 0.7363 - val_auc_pr: 0.2719 - val_keras_mcc: 0.2091 - lr: 0.0050\n",
            "Epoch 197/300\n",
            "115/115 [==============================] - 2s 19ms/step - loss: 0.1831 - auc_roc: 0.9217 - auc_pr: 0.6655 - keras_mcc: 0.5295 - val_loss: 0.5189 - val_auc_roc: 0.7267 - val_auc_pr: 0.2648 - val_keras_mcc: 0.2241 - lr: 0.0050\n",
            "Epoch 198/300\n",
            "115/115 [==============================] - 2s 22ms/step - loss: 0.1792 - auc_roc: 0.9241 - auc_pr: 0.6791 - keras_mcc: 0.5256 - val_loss: 0.4276 - val_auc_roc: 0.7163 - val_auc_pr: 0.2767 - val_keras_mcc: 0.2088 - lr: 0.0050\n",
            "Epoch 199/300\n",
            "115/115 [==============================] - 2s 20ms/step - loss: 0.1862 - auc_roc: 0.9197 - auc_pr: 0.6543 - keras_mcc: 0.5185 - val_loss: 0.4121 - val_auc_roc: 0.7168 - val_auc_pr: 0.2434 - val_keras_mcc: 0.1920 - lr: 0.0050\n",
            "Epoch 200/300\n",
            "115/115 [==============================] - 2s 19ms/step - loss: 0.1817 - auc_roc: 0.9221 - auc_pr: 0.6655 - keras_mcc: 0.5264 - val_loss: 0.3641 - val_auc_roc: 0.7536 - val_auc_pr: 0.2918 - val_keras_mcc: 0.2370 - lr: 0.0050\n",
            "Epoch 201/300\n",
            "115/115 [==============================] - 2s 19ms/step - loss: 0.1833 - auc_roc: 0.9201 - auc_pr: 0.6635 - keras_mcc: 0.5316 - val_loss: 0.4099 - val_auc_roc: 0.7400 - val_auc_pr: 0.2616 - val_keras_mcc: 0.1858 - lr: 0.0050\n",
            "Epoch 202/300\n",
            "115/115 [==============================] - 2s 19ms/step - loss: 0.1823 - auc_roc: 0.9214 - auc_pr: 0.6733 - keras_mcc: 0.5367 - val_loss: 0.4425 - val_auc_roc: 0.7274 - val_auc_pr: 0.2847 - val_keras_mcc: 0.1929 - lr: 0.0050\n",
            "Epoch 203/300\n",
            "115/115 [==============================] - 2s 20ms/step - loss: 0.1809 - auc_roc: 0.9222 - auc_pr: 0.6755 - keras_mcc: 0.5607 - val_loss: 0.4152 - val_auc_roc: 0.7434 - val_auc_pr: 0.2823 - val_keras_mcc: 0.2182 - lr: 0.0050\n",
            "Epoch 204/300\n",
            "115/115 [==============================] - 2s 21ms/step - loss: 0.1855 - auc_roc: 0.9170 - auc_pr: 0.6566 - keras_mcc: 0.5342 - val_loss: 0.3552 - val_auc_roc: 0.7618 - val_auc_pr: 0.2910 - val_keras_mcc: 0.2473 - lr: 0.0050\n",
            "Epoch 205/300\n",
            "115/115 [==============================] - 3s 22ms/step - loss: 0.1851 - auc_roc: 0.9201 - auc_pr: 0.6542 - keras_mcc: 0.5336 - val_loss: 0.4688 - val_auc_roc: 0.7037 - val_auc_pr: 0.2513 - val_keras_mcc: 0.1997 - lr: 0.0050\n",
            "Epoch 206/300\n",
            "115/115 [==============================] - 2s 19ms/step - loss: 0.1832 - auc_roc: 0.9197 - auc_pr: 0.6638 - keras_mcc: 0.5335 - val_loss: 0.5163 - val_auc_roc: 0.7285 - val_auc_pr: 0.2549 - val_keras_mcc: 0.2181 - lr: 0.0050\n",
            "Epoch 207/300\n",
            "115/115 [==============================] - 2s 20ms/step - loss: 0.1842 - auc_roc: 0.9207 - auc_pr: 0.6666 - keras_mcc: 0.5176 - val_loss: 0.4028 - val_auc_roc: 0.7425 - val_auc_pr: 0.2832 - val_keras_mcc: 0.2326 - lr: 0.0050\n",
            "Epoch 208/300\n",
            "115/115 [==============================] - 2s 20ms/step - loss: 0.1832 - auc_roc: 0.9202 - auc_pr: 0.6688 - keras_mcc: 0.5505 - val_loss: 0.5274 - val_auc_roc: 0.7121 - val_auc_pr: 0.2585 - val_keras_mcc: 0.2071 - lr: 0.0050\n",
            "Epoch 209/300\n",
            "115/115 [==============================] - 2s 20ms/step - loss: 0.1750 - auc_roc: 0.9269 - auc_pr: 0.6908 - keras_mcc: 0.5746 - val_loss: 0.5509 - val_auc_roc: 0.7256 - val_auc_pr: 0.2679 - val_keras_mcc: 0.2173 - lr: 0.0050\n",
            "Epoch 210/300\n",
            "115/115 [==============================] - 2s 21ms/step - loss: 0.1796 - auc_roc: 0.9232 - auc_pr: 0.6762 - keras_mcc: 0.5345 - val_loss: 0.4470 - val_auc_roc: 0.7403 - val_auc_pr: 0.2731 - val_keras_mcc: 0.1974 - lr: 0.0050\n",
            "Epoch 211/300\n",
            "115/115 [==============================] - 2s 19ms/step - loss: 0.1824 - auc_roc: 0.9239 - auc_pr: 0.6607 - keras_mcc: 0.5051 - val_loss: 0.4169 - val_auc_roc: 0.7147 - val_auc_pr: 0.2518 - val_keras_mcc: 0.1689 - lr: 0.0050\n",
            "Epoch 212/300\n",
            "115/115 [==============================] - 2s 19ms/step - loss: 0.1815 - auc_roc: 0.9210 - auc_pr: 0.6711 - keras_mcc: 0.5391 - val_loss: 0.4335 - val_auc_roc: 0.7283 - val_auc_pr: 0.2693 - val_keras_mcc: 0.2061 - lr: 0.0050\n",
            "Epoch 213/300\n",
            "115/115 [==============================] - 2s 20ms/step - loss: 0.1829 - auc_roc: 0.9216 - auc_pr: 0.6642 - keras_mcc: 0.5333 - val_loss: 0.3972 - val_auc_roc: 0.7291 - val_auc_pr: 0.2625 - val_keras_mcc: 0.2287 - lr: 0.0050\n",
            "Epoch 214/300\n",
            "115/115 [==============================] - 2s 18ms/step - loss: 0.1799 - auc_roc: 0.9235 - auc_pr: 0.6763 - keras_mcc: 0.5601 - val_loss: 0.4667 - val_auc_roc: 0.7228 - val_auc_pr: 0.2697 - val_keras_mcc: 0.2488 - lr: 0.0050\n",
            "Epoch 215/300\n",
            "115/115 [==============================] - 2s 21ms/step - loss: 0.1745 - auc_roc: 0.9288 - auc_pr: 0.6911 - keras_mcc: 0.5541 - val_loss: 0.4415 - val_auc_roc: 0.7468 - val_auc_pr: 0.2789 - val_keras_mcc: 0.2465 - lr: 0.0050\n",
            "Epoch 216/300\n",
            "115/115 [==============================] - 2s 21ms/step - loss: 0.1798 - auc_roc: 0.9249 - auc_pr: 0.6786 - keras_mcc: 0.5529 - val_loss: 0.4588 - val_auc_roc: 0.7050 - val_auc_pr: 0.2473 - val_keras_mcc: 0.1517 - lr: 0.0050\n",
            "Epoch 217/300\n",
            "115/115 [==============================] - 2s 19ms/step - loss: 0.1793 - auc_roc: 0.9248 - auc_pr: 0.6743 - keras_mcc: 0.5400 - val_loss: 0.5190 - val_auc_roc: 0.7091 - val_auc_pr: 0.2618 - val_keras_mcc: 0.1940 - lr: 0.0050\n",
            "Epoch 218/300\n",
            "115/115 [==============================] - 2s 19ms/step - loss: 0.1773 - auc_roc: 0.9265 - auc_pr: 0.6798 - keras_mcc: 0.5406 - val_loss: 0.3972 - val_auc_roc: 0.7446 - val_auc_pr: 0.2760 - val_keras_mcc: 0.2075 - lr: 0.0050\n",
            "Epoch 219/300\n",
            "115/115 [==============================] - 2s 18ms/step - loss: 0.1824 - auc_roc: 0.9218 - auc_pr: 0.6703 - keras_mcc: 0.5571 - val_loss: 0.4825 - val_auc_roc: 0.7245 - val_auc_pr: 0.2731 - val_keras_mcc: 0.2138 - lr: 0.0050\n",
            "Epoch 220/300\n",
            "115/115 [==============================] - 2s 20ms/step - loss: 0.1795 - auc_roc: 0.9215 - auc_pr: 0.6845 - keras_mcc: 0.5605 - val_loss: 0.4110 - val_auc_roc: 0.7189 - val_auc_pr: 0.2708 - val_keras_mcc: 0.2167 - lr: 0.0050\n",
            "Epoch 221/300\n",
            "115/115 [==============================] - 3s 22ms/step - loss: 0.1786 - auc_roc: 0.9221 - auc_pr: 0.6871 - keras_mcc: 0.5535 - val_loss: 0.3699 - val_auc_roc: 0.7409 - val_auc_pr: 0.2813 - val_keras_mcc: 0.2364 - lr: 0.0050\n",
            "Epoch 222/300\n",
            "115/115 [==============================] - 2s 20ms/step - loss: 0.1797 - auc_roc: 0.9237 - auc_pr: 0.6734 - keras_mcc: 0.5626 - val_loss: 0.4379 - val_auc_roc: 0.7259 - val_auc_pr: 0.2570 - val_keras_mcc: 0.1971 - lr: 0.0050\n",
            "Epoch 223/300\n",
            "115/115 [==============================] - 2s 20ms/step - loss: 0.1805 - auc_roc: 0.9241 - auc_pr: 0.6753 - keras_mcc: 0.5447 - val_loss: 0.3579 - val_auc_roc: 0.7358 - val_auc_pr: 0.2780 - val_keras_mcc: 0.2021 - lr: 0.0050\n",
            "Epoch 224/300\n",
            "115/115 [==============================] - 2s 19ms/step - loss: 0.1805 - auc_roc: 0.9222 - auc_pr: 0.6736 - keras_mcc: 0.5454 - val_loss: 0.4029 - val_auc_roc: 0.7270 - val_auc_pr: 0.2779 - val_keras_mcc: 0.1913 - lr: 0.0050\n",
            "Epoch 225/300\n",
            "115/115 [==============================] - 2s 19ms/step - loss: 0.1837 - auc_roc: 0.9199 - auc_pr: 0.6638 - keras_mcc: 0.5370 - val_loss: 0.5309 - val_auc_roc: 0.7150 - val_auc_pr: 0.2627 - val_keras_mcc: 0.2126 - lr: 0.0050\n",
            "Epoch 226/300\n",
            "115/115 [==============================] - 2s 20ms/step - loss: 0.1777 - auc_roc: 0.9272 - auc_pr: 0.6813 - keras_mcc: 0.5476 - val_loss: 0.3788 - val_auc_roc: 0.7203 - val_auc_pr: 0.2456 - val_keras_mcc: 0.1713 - lr: 0.0050\n",
            "Epoch 227/300\n",
            "115/115 [==============================] - 3s 22ms/step - loss: 0.1752 - auc_roc: 0.9298 - auc_pr: 0.6919 - keras_mcc: 0.5524 - val_loss: 0.4420 - val_auc_roc: 0.7220 - val_auc_pr: 0.2698 - val_keras_mcc: 0.1993 - lr: 0.0050\n",
            "Epoch 228/300\n",
            "115/115 [==============================] - 2s 21ms/step - loss: 0.1764 - auc_roc: 0.9250 - auc_pr: 0.6885 - keras_mcc: 0.5569 - val_loss: 0.3878 - val_auc_roc: 0.7357 - val_auc_pr: 0.2572 - val_keras_mcc: 0.1910 - lr: 0.0050\n",
            "Epoch 229/300\n",
            "115/115 [==============================] - 2s 19ms/step - loss: 0.1772 - auc_roc: 0.9247 - auc_pr: 0.6852 - keras_mcc: 0.5575 - val_loss: 0.4236 - val_auc_roc: 0.7360 - val_auc_pr: 0.2695 - val_keras_mcc: 0.2101 - lr: 0.0050\n",
            "Epoch 230/300\n",
            "115/115 [==============================] - 2s 19ms/step - loss: 0.1782 - auc_roc: 0.9236 - auc_pr: 0.6814 - keras_mcc: 0.5544 - val_loss: 0.5046 - val_auc_roc: 0.7046 - val_auc_pr: 0.2567 - val_keras_mcc: 0.2098 - lr: 0.0050\n",
            "Epoch 231/300\n",
            "115/115 [==============================] - 2s 20ms/step - loss: 0.1782 - auc_roc: 0.9263 - auc_pr: 0.6828 - keras_mcc: 0.5543 - val_loss: 0.4195 - val_auc_roc: 0.7090 - val_auc_pr: 0.2476 - val_keras_mcc: 0.1940 - lr: 0.0050\n",
            "Epoch 232/300\n",
            "115/115 [==============================] - 2s 21ms/step - loss: 0.1761 - auc_roc: 0.9277 - auc_pr: 0.6822 - keras_mcc: 0.5555 - val_loss: 0.4176 - val_auc_roc: 0.7229 - val_auc_pr: 0.2702 - val_keras_mcc: 0.2298 - lr: 0.0050\n",
            "Epoch 233/300\n",
            "115/115 [==============================] - 3s 22ms/step - loss: 0.1793 - auc_roc: 0.9242 - auc_pr: 0.6794 - keras_mcc: 0.5502 - val_loss: 0.5428 - val_auc_roc: 0.7232 - val_auc_pr: 0.2746 - val_keras_mcc: 0.2284 - lr: 0.0050\n",
            "Epoch 234/300\n",
            "115/115 [==============================] - 2s 19ms/step - loss: 0.1764 - auc_roc: 0.9271 - auc_pr: 0.6831 - keras_mcc: 0.5500 - val_loss: 0.4530 - val_auc_roc: 0.7268 - val_auc_pr: 0.2494 - val_keras_mcc: 0.1927 - lr: 0.0050\n",
            "Epoch 235/300\n",
            "115/115 [==============================] - 2s 20ms/step - loss: 0.1754 - auc_roc: 0.9260 - auc_pr: 0.6851 - keras_mcc: 0.5510 - val_loss: 0.4659 - val_auc_roc: 0.7163 - val_auc_pr: 0.2642 - val_keras_mcc: 0.2184 - lr: 0.0050\n",
            "Epoch 236/300\n",
            "115/115 [==============================] - 2s 19ms/step - loss: 0.1758 - auc_roc: 0.9267 - auc_pr: 0.6859 - keras_mcc: 0.5498 - val_loss: 0.5122 - val_auc_roc: 0.6959 - val_auc_pr: 0.2487 - val_keras_mcc: 0.1892 - lr: 0.0050\n",
            "Epoch 237/300\n",
            "115/115 [==============================] - 2s 19ms/step - loss: 0.1726 - auc_roc: 0.9308 - auc_pr: 0.6967 - keras_mcc: 0.5770 - val_loss: 0.5252 - val_auc_roc: 0.6985 - val_auc_pr: 0.2652 - val_keras_mcc: 0.1999 - lr: 0.0050\n",
            "Epoch 238/300\n",
            "115/115 [==============================] - 2s 21ms/step - loss: 0.1750 - auc_roc: 0.9289 - auc_pr: 0.6963 - keras_mcc: 0.5694 - val_loss: 0.4354 - val_auc_roc: 0.7224 - val_auc_pr: 0.2584 - val_keras_mcc: 0.2058 - lr: 0.0050\n",
            "Epoch 239/300\n",
            "115/115 [==============================] - 2s 20ms/step - loss: 0.1789 - auc_roc: 0.9251 - auc_pr: 0.6821 - keras_mcc: 0.5568 - val_loss: 0.3816 - val_auc_roc: 0.7343 - val_auc_pr: 0.2777 - val_keras_mcc: 0.1938 - lr: 0.0050\n",
            "Epoch 240/300\n",
            "115/115 [==============================] - 2s 19ms/step - loss: 0.1739 - auc_roc: 0.9265 - auc_pr: 0.6960 - keras_mcc: 0.5725 - val_loss: 0.4373 - val_auc_roc: 0.7368 - val_auc_pr: 0.2604 - val_keras_mcc: 0.1999 - lr: 0.0050\n",
            "Epoch 241/300\n",
            "115/115 [==============================] - 2s 19ms/step - loss: 0.1784 - auc_roc: 0.9261 - auc_pr: 0.6813 - keras_mcc: 0.5555 - val_loss: 0.4067 - val_auc_roc: 0.7319 - val_auc_pr: 0.2716 - val_keras_mcc: 0.2066 - lr: 0.0050\n",
            "Epoch 242/300\n",
            "115/115 [==============================] - 2s 18ms/step - loss: 0.1743 - auc_roc: 0.9298 - auc_pr: 0.6922 - keras_mcc: 0.5596 - val_loss: 0.4146 - val_auc_roc: 0.7195 - val_auc_pr: 0.2548 - val_keras_mcc: 0.1612 - lr: 0.0050\n",
            "Epoch 243/300\n",
            "115/115 [==============================] - 2s 20ms/step - loss: 0.1731 - auc_roc: 0.9301 - auc_pr: 0.6925 - keras_mcc: 0.5649 - val_loss: 0.4162 - val_auc_roc: 0.7232 - val_auc_pr: 0.2754 - val_keras_mcc: 0.2173 - lr: 0.0050\n",
            "Epoch 244/300\n",
            "115/115 [==============================] - 3s 22ms/step - loss: 0.1784 - auc_roc: 0.9256 - auc_pr: 0.6818 - keras_mcc: 0.5510 - val_loss: 0.4003 - val_auc_roc: 0.7271 - val_auc_pr: 0.2807 - val_keras_mcc: 0.1617 - lr: 0.0050\n",
            "Epoch 245/300\n",
            "115/115 [==============================] - 2s 21ms/step - loss: 0.1772 - auc_roc: 0.9265 - auc_pr: 0.6866 - keras_mcc: 0.5552 - val_loss: 0.4239 - val_auc_roc: 0.7280 - val_auc_pr: 0.2680 - val_keras_mcc: 0.2272 - lr: 0.0050\n",
            "Epoch 246/300\n",
            "115/115 [==============================] - 2s 20ms/step - loss: 0.1778 - auc_roc: 0.9273 - auc_pr: 0.6830 - keras_mcc: 0.5447 - val_loss: 0.4318 - val_auc_roc: 0.7262 - val_auc_pr: 0.2777 - val_keras_mcc: 0.1944 - lr: 0.0050\n",
            "Epoch 247/300\n",
            "115/115 [==============================] - 2s 19ms/step - loss: 0.1736 - auc_roc: 0.9286 - auc_pr: 0.6973 - keras_mcc: 0.5704 - val_loss: 0.4494 - val_auc_roc: 0.7144 - val_auc_pr: 0.2585 - val_keras_mcc: 0.1896 - lr: 0.0050\n",
            "Epoch 248/300\n",
            "115/115 [==============================] - 2s 20ms/step - loss: 0.1771 - auc_roc: 0.9249 - auc_pr: 0.6909 - keras_mcc: 0.5706 - val_loss: 0.4269 - val_auc_roc: 0.7355 - val_auc_pr: 0.2708 - val_keras_mcc: 0.2032 - lr: 0.0050\n",
            "Epoch 249/300\n",
            "115/115 [==============================] - 2s 20ms/step - loss: 0.1759 - auc_roc: 0.9270 - auc_pr: 0.6872 - keras_mcc: 0.5536 - val_loss: 0.5368 - val_auc_roc: 0.6916 - val_auc_pr: 0.2587 - val_keras_mcc: 0.2330 - lr: 0.0050\n",
            "Epoch 250/300\n",
            "115/115 [==============================] - 2s 21ms/step - loss: 0.1760 - auc_roc: 0.9261 - auc_pr: 0.6901 - keras_mcc: 0.5583 - val_loss: 0.3936 - val_auc_roc: 0.7286 - val_auc_pr: 0.2581 - val_keras_mcc: 0.1854 - lr: 0.0050\n",
            "Epoch 251/300\n",
            "115/115 [==============================] - 2s 21ms/step - loss: 0.1761 - auc_roc: 0.9275 - auc_pr: 0.6879 - keras_mcc: 0.5532 - val_loss: 0.4738 - val_auc_roc: 0.7088 - val_auc_pr: 0.2645 - val_keras_mcc: 0.2130 - lr: 0.0050\n",
            "Epoch 252/300\n",
            "115/115 [==============================] - 2s 19ms/step - loss: 0.1712 - auc_roc: 0.9296 - auc_pr: 0.6982 - keras_mcc: 0.5690 - val_loss: 0.5234 - val_auc_roc: 0.7124 - val_auc_pr: 0.2550 - val_keras_mcc: 0.2014 - lr: 0.0050\n",
            "Epoch 253/300\n",
            "115/115 [==============================] - 2s 19ms/step - loss: 0.1687 - auc_roc: 0.9341 - auc_pr: 0.7107 - keras_mcc: 0.5743 - val_loss: 0.4391 - val_auc_roc: 0.7137 - val_auc_pr: 0.2671 - val_keras_mcc: 0.2184 - lr: 0.0050\n",
            "Epoch 254/300\n",
            "115/115 [==============================] - 2s 19ms/step - loss: 0.1753 - auc_roc: 0.9286 - auc_pr: 0.6905 - keras_mcc: 0.5450 - val_loss: 0.5094 - val_auc_roc: 0.7156 - val_auc_pr: 0.2601 - val_keras_mcc: 0.2026 - lr: 0.0050\n",
            "Epoch 255/300\n",
            "115/115 [==============================] - 2s 21ms/step - loss: 0.1727 - auc_roc: 0.9311 - auc_pr: 0.6976 - keras_mcc: 0.5632 - val_loss: 0.4787 - val_auc_roc: 0.7149 - val_auc_pr: 0.2669 - val_keras_mcc: 0.2041 - lr: 0.0050\n",
            "Epoch 256/300\n",
            "115/115 [==============================] - 3s 22ms/step - loss: 0.1714 - auc_roc: 0.9296 - auc_pr: 0.7062 - keras_mcc: 0.5669 - val_loss: 0.4069 - val_auc_roc: 0.7194 - val_auc_pr: 0.2912 - val_keras_mcc: 0.2283 - lr: 0.0050\n",
            "Epoch 257/300\n",
            "115/115 [==============================] - 2s 21ms/step - loss: 0.1812 - auc_roc: 0.9241 - auc_pr: 0.6672 - keras_mcc: 0.5401 - val_loss: 0.4365 - val_auc_roc: 0.7201 - val_auc_pr: 0.2595 - val_keras_mcc: 0.1919 - lr: 0.0050\n",
            "Epoch 258/300\n",
            "115/115 [==============================] - 2s 20ms/step - loss: 0.1746 - auc_roc: 0.9278 - auc_pr: 0.6970 - keras_mcc: 0.5610 - val_loss: 0.4519 - val_auc_roc: 0.7208 - val_auc_pr: 0.2643 - val_keras_mcc: 0.1888 - lr: 0.0050\n",
            "Epoch 259/300\n",
            "115/115 [==============================] - 2s 21ms/step - loss: 0.1809 - auc_roc: 0.9252 - auc_pr: 0.6741 - keras_mcc: 0.5465 - val_loss: 0.4317 - val_auc_roc: 0.7157 - val_auc_pr: 0.2699 - val_keras_mcc: 0.1758 - lr: 0.0050\n",
            "Epoch 260/300\n",
            "115/115 [==============================] - 2s 20ms/step - loss: 0.1748 - auc_roc: 0.9269 - auc_pr: 0.6928 - keras_mcc: 0.5593 - val_loss: 0.4635 - val_auc_roc: 0.7204 - val_auc_pr: 0.2583 - val_keras_mcc: 0.1800 - lr: 0.0050\n",
            "Epoch 261/300\n",
            "115/115 [==============================] - 3s 22ms/step - loss: 0.1759 - auc_roc: 0.9300 - auc_pr: 0.6913 - keras_mcc: 0.5470 - val_loss: 0.4319 - val_auc_roc: 0.7080 - val_auc_pr: 0.2426 - val_keras_mcc: 0.1842 - lr: 0.0050\n",
            "Epoch 262/300\n",
            "115/115 [==============================] - 2s 21ms/step - loss: 0.1761 - auc_roc: 0.9254 - auc_pr: 0.6932 - keras_mcc: 0.5513 - val_loss: 0.4412 - val_auc_roc: 0.7200 - val_auc_pr: 0.2802 - val_keras_mcc: 0.2162 - lr: 0.0050\n",
            "Epoch 263/300\n",
            "115/115 [==============================] - 2s 20ms/step - loss: 0.1738 - auc_roc: 0.9292 - auc_pr: 0.6907 - keras_mcc: 0.5526 - val_loss: 0.4936 - val_auc_roc: 0.7212 - val_auc_pr: 0.2699 - val_keras_mcc: 0.2123 - lr: 0.0050\n",
            "Epoch 264/300\n",
            "115/115 [==============================] - 2s 20ms/step - loss: 0.1757 - auc_roc: 0.9283 - auc_pr: 0.6878 - keras_mcc: 0.5651 - val_loss: 0.4328 - val_auc_roc: 0.7380 - val_auc_pr: 0.2705 - val_keras_mcc: 0.1860 - lr: 0.0050\n",
            "Epoch 265/300\n",
            "115/115 [==============================] - 2s 19ms/step - loss: 0.1723 - auc_roc: 0.9311 - auc_pr: 0.6958 - keras_mcc: 0.5451 - val_loss: 0.4469 - val_auc_roc: 0.7131 - val_auc_pr: 0.2749 - val_keras_mcc: 0.2120 - lr: 0.0050\n",
            "Epoch 266/300\n",
            "115/115 [==============================] - 2s 20ms/step - loss: 0.1801 - auc_roc: 0.9248 - auc_pr: 0.6736 - keras_mcc: 0.5488 - val_loss: 0.4207 - val_auc_roc: 0.7263 - val_auc_pr: 0.2759 - val_keras_mcc: 0.2018 - lr: 0.0050\n",
            "Epoch 267/300\n",
            "115/115 [==============================] - 3s 22ms/step - loss: 0.1785 - auc_roc: 0.9262 - auc_pr: 0.6790 - keras_mcc: 0.5449 - val_loss: 0.4400 - val_auc_roc: 0.7048 - val_auc_pr: 0.2514 - val_keras_mcc: 0.1615 - lr: 0.0050\n",
            "Epoch 268/300\n",
            "115/115 [==============================] - 2s 19ms/step - loss: 0.1725 - auc_roc: 0.9297 - auc_pr: 0.6957 - keras_mcc: 0.5745 - val_loss: 0.5296 - val_auc_roc: 0.7204 - val_auc_pr: 0.2528 - val_keras_mcc: 0.1976 - lr: 0.0050\n",
            "Epoch 269/300\n",
            "115/115 [==============================] - 2s 19ms/step - loss: 0.1770 - auc_roc: 0.9280 - auc_pr: 0.6833 - keras_mcc: 0.5512 - val_loss: 0.5227 - val_auc_roc: 0.7265 - val_auc_pr: 0.2451 - val_keras_mcc: 0.2243 - lr: 0.0050\n",
            "Epoch 270/300\n",
            "115/115 [==============================] - 2s 20ms/step - loss: 0.1709 - auc_roc: 0.9330 - auc_pr: 0.7047 - keras_mcc: 0.5723 - val_loss: 0.4922 - val_auc_roc: 0.6951 - val_auc_pr: 0.2374 - val_keras_mcc: 0.1502 - lr: 0.0050\n",
            "Epoch 271/300\n",
            "115/115 [==============================] - 2s 20ms/step - loss: 0.1739 - auc_roc: 0.9288 - auc_pr: 0.6915 - keras_mcc: 0.5649 - val_loss: 0.5479 - val_auc_roc: 0.7022 - val_auc_pr: 0.2523 - val_keras_mcc: 0.1951 - lr: 0.0050\n",
            "Epoch 272/300\n",
            "115/115 [==============================] - 2s 21ms/step - loss: 0.1698 - auc_roc: 0.9312 - auc_pr: 0.7077 - keras_mcc: 0.5833 - val_loss: 0.4373 - val_auc_roc: 0.7271 - val_auc_pr: 0.2622 - val_keras_mcc: 0.1894 - lr: 0.0050\n",
            "Epoch 273/300\n",
            "115/115 [==============================] - 3s 22ms/step - loss: 0.1697 - auc_roc: 0.9330 - auc_pr: 0.7042 - keras_mcc: 0.5698 - val_loss: 0.5564 - val_auc_roc: 0.7120 - val_auc_pr: 0.2767 - val_keras_mcc: 0.2149 - lr: 0.0050\n",
            "Epoch 274/300\n",
            "115/115 [==============================] - 2s 19ms/step - loss: 0.1704 - auc_roc: 0.9314 - auc_pr: 0.7101 - keras_mcc: 0.5696 - val_loss: 0.6110 - val_auc_roc: 0.7207 - val_auc_pr: 0.2661 - val_keras_mcc: 0.2250 - lr: 0.0050\n",
            "Epoch 275/300\n",
            "115/115 [==============================] - 2s 20ms/step - loss: 0.1726 - auc_roc: 0.9299 - auc_pr: 0.7008 - keras_mcc: 0.5667 - val_loss: 0.4831 - val_auc_roc: 0.7129 - val_auc_pr: 0.2686 - val_keras_mcc: 0.2088 - lr: 0.0050\n",
            "Epoch 276/300\n",
            "115/115 [==============================] - 2s 20ms/step - loss: 0.1730 - auc_roc: 0.9302 - auc_pr: 0.6944 - keras_mcc: 0.5572 - val_loss: 0.4195 - val_auc_roc: 0.7238 - val_auc_pr: 0.2687 - val_keras_mcc: 0.2081 - lr: 0.0050\n",
            "Epoch 277/300\n",
            "115/115 [==============================] - 2s 19ms/step - loss: 0.1708 - auc_roc: 0.9298 - auc_pr: 0.7076 - keras_mcc: 0.5810 - val_loss: 0.4245 - val_auc_roc: 0.7204 - val_auc_pr: 0.2769 - val_keras_mcc: 0.2007 - lr: 0.0050\n",
            "Epoch 278/300\n",
            "115/115 [==============================] - 2s 22ms/step - loss: 0.1693 - auc_roc: 0.9336 - auc_pr: 0.7031 - keras_mcc: 0.5606 - val_loss: 0.4897 - val_auc_roc: 0.7229 - val_auc_pr: 0.2870 - val_keras_mcc: 0.2251 - lr: 0.0050\n",
            "Epoch 279/300\n",
            "115/115 [==============================] - 2s 21ms/step - loss: 0.1702 - auc_roc: 0.9325 - auc_pr: 0.7054 - keras_mcc: 0.5749 - val_loss: 0.4752 - val_auc_roc: 0.7083 - val_auc_pr: 0.2579 - val_keras_mcc: 0.1923 - lr: 0.0050\n",
            "Epoch 280/300\n",
            "115/115 [==============================] - 2s 20ms/step - loss: 0.1718 - auc_roc: 0.9317 - auc_pr: 0.7014 - keras_mcc: 0.5610 - val_loss: 0.4716 - val_auc_roc: 0.7297 - val_auc_pr: 0.2625 - val_keras_mcc: 0.2195 - lr: 0.0050\n",
            "Epoch 281/300\n",
            "115/115 [==============================] - 2s 20ms/step - loss: 0.1664 - auc_roc: 0.9362 - auc_pr: 0.7097 - keras_mcc: 0.5748 - val_loss: 0.5388 - val_auc_roc: 0.6985 - val_auc_pr: 0.2539 - val_keras_mcc: 0.1960 - lr: 0.0050\n",
            "Epoch 282/300\n",
            "115/115 [==============================] - 2s 20ms/step - loss: 0.1663 - auc_roc: 0.9361 - auc_pr: 0.7089 - keras_mcc: 0.5745 - val_loss: 0.5299 - val_auc_roc: 0.7440 - val_auc_pr: 0.2665 - val_keras_mcc: 0.2207 - lr: 0.0050\n",
            "Epoch 283/300\n",
            "115/115 [==============================] - 2s 21ms/step - loss: 0.1674 - auc_roc: 0.9338 - auc_pr: 0.7107 - keras_mcc: 0.5806 - val_loss: 0.4882 - val_auc_roc: 0.7169 - val_auc_pr: 0.2663 - val_keras_mcc: 0.1766 - lr: 0.0050\n",
            "Epoch 284/300\n",
            "115/115 [==============================] - 3s 22ms/step - loss: 0.1704 - auc_roc: 0.9326 - auc_pr: 0.7079 - keras_mcc: 0.5744 - val_loss: 0.5582 - val_auc_roc: 0.7054 - val_auc_pr: 0.2548 - val_keras_mcc: 0.1957 - lr: 0.0050\n",
            "Epoch 285/300\n",
            "115/115 [==============================] - 2s 20ms/step - loss: 0.1745 - auc_roc: 0.9304 - auc_pr: 0.6954 - keras_mcc: 0.5585 - val_loss: 0.5153 - val_auc_roc: 0.7195 - val_auc_pr: 0.2468 - val_keras_mcc: 0.2131 - lr: 0.0050\n",
            "Epoch 286/300\n",
            "115/115 [==============================] - 2s 20ms/step - loss: 0.1771 - auc_roc: 0.9276 - auc_pr: 0.6794 - keras_mcc: 0.5456 - val_loss: 0.4575 - val_auc_roc: 0.7268 - val_auc_pr: 0.2703 - val_keras_mcc: 0.2153 - lr: 0.0050\n",
            "Epoch 287/300\n",
            "115/115 [==============================] - 2s 20ms/step - loss: 0.1740 - auc_roc: 0.9304 - auc_pr: 0.6924 - keras_mcc: 0.5561 - val_loss: 0.4320 - val_auc_roc: 0.7206 - val_auc_pr: 0.2591 - val_keras_mcc: 0.1869 - lr: 0.0050\n",
            "Epoch 288/300\n",
            "115/115 [==============================] - 2s 19ms/step - loss: 0.1710 - auc_roc: 0.9305 - auc_pr: 0.7043 - keras_mcc: 0.5699 - val_loss: 0.4988 - val_auc_roc: 0.7223 - val_auc_pr: 0.2790 - val_keras_mcc: 0.2431 - lr: 0.0050\n",
            "Epoch 289/300\n",
            "115/115 [==============================] - 2s 21ms/step - loss: 0.1713 - auc_roc: 0.9329 - auc_pr: 0.6982 - keras_mcc: 0.5464 - val_loss: 0.5030 - val_auc_roc: 0.7146 - val_auc_pr: 0.2448 - val_keras_mcc: 0.1847 - lr: 0.0050\n",
            "Epoch 290/300\n",
            "115/115 [==============================] - 3s 23ms/step - loss: 0.1654 - auc_roc: 0.9376 - auc_pr: 0.7093 - keras_mcc: 0.5844 - val_loss: 0.4975 - val_auc_roc: 0.7162 - val_auc_pr: 0.2524 - val_keras_mcc: 0.1862 - lr: 0.0050\n",
            "Epoch 291/300\n",
            "115/115 [==============================] - 2s 19ms/step - loss: 0.1689 - auc_roc: 0.9321 - auc_pr: 0.7142 - keras_mcc: 0.5854 - val_loss: 0.5811 - val_auc_roc: 0.7100 - val_auc_pr: 0.2659 - val_keras_mcc: 0.2173 - lr: 0.0050\n",
            "Epoch 292/300\n",
            "115/115 [==============================] - 2s 20ms/step - loss: 0.1688 - auc_roc: 0.9367 - auc_pr: 0.7029 - keras_mcc: 0.5685 - val_loss: 0.5135 - val_auc_roc: 0.7116 - val_auc_pr: 0.2676 - val_keras_mcc: 0.1821 - lr: 0.0050\n",
            "Epoch 293/300\n",
            "115/115 [==============================] - 2s 20ms/step - loss: 0.1728 - auc_roc: 0.9305 - auc_pr: 0.6980 - keras_mcc: 0.5704 - val_loss: 0.4859 - val_auc_roc: 0.7126 - val_auc_pr: 0.2661 - val_keras_mcc: 0.2067 - lr: 0.0050\n",
            "Epoch 294/300\n",
            "115/115 [==============================] - 2s 19ms/step - loss: 0.1715 - auc_roc: 0.9308 - auc_pr: 0.6958 - keras_mcc: 0.5675 - val_loss: 0.5055 - val_auc_roc: 0.7160 - val_auc_pr: 0.2607 - val_keras_mcc: 0.2053 - lr: 0.0050\n",
            "Epoch 295/300\n",
            "115/115 [==============================] - 2s 21ms/step - loss: 0.1720 - auc_roc: 0.9325 - auc_pr: 0.6977 - keras_mcc: 0.5577 - val_loss: 0.4757 - val_auc_roc: 0.7191 - val_auc_pr: 0.2711 - val_keras_mcc: 0.2296 - lr: 0.0050\n",
            "Epoch 296/300\n",
            "115/115 [==============================] - 2s 21ms/step - loss: 0.1719 - auc_roc: 0.9321 - auc_pr: 0.6990 - keras_mcc: 0.5658 - val_loss: 0.5327 - val_auc_roc: 0.6987 - val_auc_pr: 0.2576 - val_keras_mcc: 0.1919 - lr: 0.0050\n",
            "Epoch 297/300\n",
            "115/115 [==============================] - 2s 20ms/step - loss: 0.1717 - auc_roc: 0.9309 - auc_pr: 0.7004 - keras_mcc: 0.5823 - val_loss: 0.4700 - val_auc_roc: 0.7248 - val_auc_pr: 0.2585 - val_keras_mcc: 0.1929 - lr: 0.0050\n",
            "Epoch 298/300\n",
            "115/115 [==============================] - 2s 20ms/step - loss: 0.1721 - auc_roc: 0.9331 - auc_pr: 0.6975 - keras_mcc: 0.5759 - val_loss: 0.4676 - val_auc_roc: 0.7149 - val_auc_pr: 0.2733 - val_keras_mcc: 0.2301 - lr: 0.0050\n",
            "Epoch 299/300\n",
            "115/115 [==============================] - 2s 19ms/step - loss: 0.1769 - auc_roc: 0.9287 - auc_pr: 0.6856 - keras_mcc: 0.5451 - val_loss: 0.4323 - val_auc_roc: 0.7226 - val_auc_pr: 0.2666 - val_keras_mcc: 0.1824 - lr: 0.0050\n",
            "Epoch 300/300\n",
            "115/115 [==============================] - 2s 20ms/step - loss: 0.1678 - auc_roc: 0.9367 - auc_pr: 0.7062 - keras_mcc: 0.5704 - val_loss: 0.5142 - val_auc_roc: 0.7151 - val_auc_pr: 0.2687 - val_keras_mcc: 0.2048 - lr: 0.0050\n"
          ]
        }
      ],
      "source": [
        "train_history=model.fit(train_x,train_y,validation_split=0.2, epochs=300,batch_size=128,callbacks=[reduce_lr, model_checkpoint_callback_4])"
      ]
    },
    {
      "cell_type": "code",
      "execution_count": 30,
      "id": "6803188e-63d0-4a08-9de4-67dae7dbf4b5",
      "metadata": {
        "id": "6803188e-63d0-4a08-9de4-67dae7dbf4b5"
      },
      "outputs": [],
      "source": [
        "# model.save('mimic3_ts_transformer_3march.h5')"
      ]
    },
    {
      "cell_type": "code",
      "execution_count": 58,
      "id": "f977d98c-d481-437c-bf25-55f697b139ee",
      "metadata": {
        "id": "f977d98c-d481-437c-bf25-55f697b139ee"
      },
      "outputs": [],
      "source": [
        "from sklearn.metrics import roc_auc_score, f1_score, recall_score, precision_score, average_precision_score, matthews_corrcoef"
      ]
    },
    {
      "cell_type": "code",
      "execution_count": 66,
      "id": "274584e1-12e6-494c-8f16-2c4c00e9a40e",
      "metadata": {
        "colab": {
          "base_uri": "https://localhost:8080/"
        },
        "id": "274584e1-12e6-494c-8f16-2c4c00e9a40e",
        "outputId": "dbf40452-44e6-4a4a-d715-439dc9c423d1"
      },
      "outputs": [
        {
          "output_type": "stream",
          "name": "stdout",
          "text": [
            "144/144 [==============================] - 1s 3ms/step\n",
            "0.6906567094909605\n",
            "144/144 [==============================] - 1s 4ms/step\n",
            "0.1942575454079384\n",
            "144/144 [==============================] - 1s 5ms/step\n",
            "0.23945267958950966\n",
            "144/144 [==============================] - 1s 5ms/step\n",
            "0.2292576419213974\n",
            "144/144 [==============================] - 1s 4ms/step\n",
            "0.25059665871121717\n"
          ]
        }
      ],
      "source": [
        "print(roc_auc_score(test_y, model.predict(test_x)))\n",
        "print(average_precision_score(test_y, model.predict(test_x)))\n",
        "print(f1_score(test_y, np.round(model.predict(test_x))))\n",
        "print(recall_score(test_y, np.round(model.predict(test_x))))\n",
        "print(precision_score(test_y, np.round(model.predict(test_x))))\n",
        "\n",
        "\n",
        "########################################################################### why you need to predict the same five times?"
      ]
    },
    {
      "cell_type": "code",
      "execution_count": 67,
      "id": "42649ee6-d217-4f3f-b3db-9296a718f3c9",
      "metadata": {
        "colab": {
          "base_uri": "https://localhost:8080/"
        },
        "id": "42649ee6-d217-4f3f-b3db-9296a718f3c9",
        "outputId": "0c4a8294-62ac-4e71-f849-628398e1fb88"
      },
      "outputs": [
        {
          "output_type": "stream",
          "name": "stdout",
          "text": [
            "144/144 [==============================] - 0s 3ms/step\n"
          ]
        },
        {
          "output_type": "execute_result",
          "data": {
            "text/plain": [
              "0.15964293333103358"
            ]
          },
          "metadata": {},
          "execution_count": 67
        }
      ],
      "source": [
        "matthews_corrcoef(test_y, np.round(model.predict(test_x)))"
      ]
    },
    {
      "cell_type": "code",
      "execution_count": 61,
      "id": "20961605-f293-4043-93c7-2e5da5855a36",
      "metadata": {
        "id": "20961605-f293-4043-93c7-2e5da5855a36"
      },
      "outputs": [],
      "source": [
        "import matplotlib.pyplot as plt\n",
        "import timeit"
      ]
    },
    {
      "cell_type": "code",
      "execution_count": 35,
      "id": "245c9e37-1e13-4ea5-8843-85567ca14d94",
      "metadata": {
        "id": "245c9e37-1e13-4ea5-8843-85567ca14d94"
      },
      "outputs": [],
      "source": [
        "# drop_items = 1\n",
        "# metric = 'f1_m'\n",
        "# plt.plot(train_history.history[metric][drop_items:])\n",
        "# plt.plot(train_history.history['val_' + metric][drop_items:])\n",
        "# plt.title('model ' + metric)\n",
        "# plt.ylabel(metric)\n",
        "# plt.xlabel('epoch')\n",
        "# # plt.ylim(0,3)\n",
        "# plt.legend(['train ' + metric, 'validation ' + metric], loc='upper left')\n",
        "# plt.show()"
      ]
    },
    {
      "cell_type": "code",
      "source": [
        "# !pip -q install shap"
      ],
      "metadata": {
        "colab": {
          "base_uri": "https://localhost:8080/"
        },
        "id": "cMYZxd6m9Zje",
        "outputId": "2f39328d-1491-4943-cace-aad83a2bf2f6"
      },
      "id": "cMYZxd6m9Zje",
      "execution_count": 64,
      "outputs": [
        {
          "output_type": "stream",
          "name": "stdout",
          "text": [
            "\u001b[?25l     \u001b[90m━━━━━━━━━━━━━━━━━━━━━━━━━━━━━━━━━━━━━━━━\u001b[0m \u001b[32m0.0/575.9 KB\u001b[0m \u001b[31m?\u001b[0m eta \u001b[36m-:--:--\u001b[0m\r\u001b[2K     \u001b[91m━━━━━━━━━━━━━━━━━━━\u001b[0m\u001b[90m╺\u001b[0m\u001b[90m━━━━━━━━━━━━━━━━━━━\u001b[0m \u001b[32m286.7/575.9 KB\u001b[0m \u001b[31m8.4 MB/s\u001b[0m eta \u001b[36m0:00:01\u001b[0m\r\u001b[2K     \u001b[90m━━━━━━━━━━━━━━━━━━━━━━━━━━━━━━━━━━━━━━\u001b[0m \u001b[32m575.9/575.9 KB\u001b[0m \u001b[31m11.3 MB/s\u001b[0m eta \u001b[36m0:00:00\u001b[0m\n",
            "\u001b[?25h"
          ]
        }
      ]
    },
    {
      "cell_type": "code",
      "execution_count": 62,
      "id": "d4c735c7-2a37-4e34-ac3e-058283f3ea09",
      "metadata": {
        "id": "d4c735c7-2a37-4e34-ac3e-058283f3ea09"
      },
      "outputs": [],
      "source": [
        "### load keras model\n",
        "from tensorflow import keras\n",
        "\n",
        "model = keras.models.load_model('/content/weights-improvement-val-keras-mcc.hdf5', compile=False)"
      ]
    },
    {
      "cell_type": "code",
      "execution_count": 65,
      "id": "e02e377d-126b-402a-bb06-22c460b64f8b",
      "metadata": {
        "id": "e02e377d-126b-402a-bb06-22c460b64f8b"
      },
      "outputs": [],
      "source": [
        "from windowshap import SlidingWindowSHAP, StationaryWindowSHAP, DynamicWindowSHAP"
      ]
    },
    {
      "cell_type": "code",
      "execution_count": 68,
      "id": "5c8492a7-701f-4b6f-a81b-14a203eaec73",
      "metadata": {
        "id": "5c8492a7-701f-4b6f-a81b-14a203eaec73"
      },
      "outputs": [],
      "source": [
        "# ### from the synthetic_example.ipynb\n",
        "# num_background = 50\n",
        "# num_test = 28\n",
        "# background_data, test_data = train_x[:num_background], test_x[num_test:num_test+2]\n",
        "\n",
        "\n",
        "### from another notebook\n",
        "\n",
        "num_background = 100\n",
        "num_test = index = 0\n",
        "# background_ts, test_ts = train_x[:num_background], test_x[index:index + 17]\n",
        "background_data, test_data = train_x[:num_background], test_x[index:index + 50]"
      ]
    },
    {
      "cell_type": "markdown",
      "id": "34ccd53d-5588-48bf-8b1d-c32b6df38872",
      "metadata": {
        "id": "34ccd53d-5588-48bf-8b1d-c32b6df38872"
      },
      "source": [
        "## 1- Stationary WindowSHAP"
      ]
    },
    {
      "cell_type": "code",
      "execution_count": null,
      "id": "e528cc5e-e7d6-412c-8687-f46e53c9b0d5",
      "metadata": {
        "colab": {
          "base_uri": "https://localhost:8080/",
          "height": 84,
          "referenced_widgets": [
            "03abe8bf84a84ba8b44a9502bedfff67",
            "bcab00ce3486422babf75a7dbf457fdc",
            "3c14d396e10741dbad75453270817049",
            "1a6539a1ae80495bb13b2e77c734cfd6",
            "0af39ee7610c4c2db657ab204b0009c1",
            "5c7b3f91b34e43599162c3ed84e0491c",
            "20d79022af874fb39d37248882bce084",
            "39beb7767b624bf499faf1981bc80cc2",
            "e40a9fdb4e7e4f7c97a9a595ed6ee706",
            "f1c2c23b47da4d44b664963cc79ff5b0",
            "6e9a469889f84acdb8e90e26c6a28cd7"
          ]
        },
        "id": "e528cc5e-e7d6-412c-8687-f46e53c9b0d5",
        "outputId": "29cc54a0-455a-458d-e9a6-b444cf39487e"
      },
      "outputs": [
        {
          "output_type": "stream",
          "name": "stdout",
          "text": [
            "4/4 [==============================] - 0s 13ms/step\n"
          ]
        },
        {
          "output_type": "display_data",
          "data": {
            "text/plain": [
              "  0%|          | 0/1 [00:00<?, ?it/s]"
            ],
            "application/vnd.jupyter.widget-view+json": {
              "version_major": 2,
              "version_minor": 0,
              "model_id": "03abe8bf84a84ba8b44a9502bedfff67"
            }
          },
          "metadata": {}
        },
        {
          "output_type": "stream",
          "name": "stdout",
          "text": [
            "1/1 [==============================] - 0s 56ms/step\n"
          ]
        }
      ],
      "source": [
        "tic = timeit.default_timer()\n",
        "ts_phi_1 = np.zeros((len(test_data),test_data.shape[1], test_data.shape[2]))\n",
        "for i in range(len(test_data)):\n",
        "    window_len = 20\n",
        "    gtw = StationaryWindowSHAP(model, window_len, B_ts=background_data, test_ts=test_data[i:i+1], model_type='lstm')\n",
        "    ts_phi_1[i,:,:] = gtw.shap_values()\n",
        "print('Total time: ' + str(timeit.default_timer()-tic))"
      ]
    },
    {
      "cell_type": "markdown",
      "id": "64915e4e-7655-4f67-b122-6ae51b30185a",
      "metadata": {
        "id": "64915e4e-7655-4f67-b122-6ae51b30185a"
      },
      "source": [
        "## 2- Sliding WindowSHAP"
      ]
    },
    {
      "cell_type": "code",
      "execution_count": null,
      "id": "d7bebcb6-da74-4dd7-9130-309fc30ad0a0",
      "metadata": {
        "id": "d7bebcb6-da74-4dd7-9130-309fc30ad0a0"
      },
      "outputs": [],
      "source": [
        "tic = timeit.default_timer()\n",
        "ts_phi_2 = np.zeros((len(test_data),test_data.shape[1], test_data.shape[2]))\n",
        "for i in range(len(test_data)):\n",
        "    window_len = 20\n",
        "    stride = 10\n",
        "    gtw = SlidingWindowSHAP(model, stride, window_len, background_data, test_data[i:i+1], model_type='lstm')\n",
        "    ts_phi_2[i,:,:] = gtw.shap_values()\n",
        "print('Total time: ' + str(timeit.default_timer()-tic))"
      ]
    },
    {
      "cell_type": "markdown",
      "id": "3009eebc-653e-423b-857b-2465757e1a5e",
      "metadata": {
        "id": "3009eebc-653e-423b-857b-2465757e1a5e"
      },
      "source": [
        "## 3- Dynamic WindowSHAP"
      ]
    },
    {
      "cell_type": "code",
      "execution_count": null,
      "id": "17453ea9-2703-4745-ad35-698922b6b4f2",
      "metadata": {
        "id": "17453ea9-2703-4745-ad35-698922b6b4f2"
      },
      "outputs": [],
      "source": [
        "tic = timeit.default_timer()\n",
        "ts_phi_3 = np.zeros((len(test_data),test_data.shape[1], test_data.shape[2]))\n",
        "for i in range(len(test_data)):\n",
        "    delta = 0.01\n",
        "    n_w = 20\n",
        "    btw = DynamicWindowSHAP(model, delta, n_w, background_data, test_data[i:i+1], model_type='lstm')\n",
        "    ts_phi_3[i,:,:] = btw.shap_values()\n",
        "print('Total time: ' + str(timeit.default_timer()-tic))"
      ]
    },
    {
      "cell_type": "code",
      "execution_count": null,
      "id": "0d3f221e-e3b6-432f-b444-19e966825dd2",
      "metadata": {
        "id": "0d3f221e-e3b6-432f-b444-19e966825dd2",
        "outputId": "11b07a08-305c-4bcf-f3dd-99b0492684e9"
      },
      "outputs": [
        {
          "data": {
            "text/plain": [
              "((17, 48, 26), (17, 48, 26), (17, 48, 26))"
            ]
          },
          "execution_count": 32,
          "metadata": {},
          "output_type": "execute_result"
        }
      ],
      "source": [
        "ts_phi_1.shape, ts_phi_2.shape, ts_phi_3.shape"
      ]
    },
    {
      "cell_type": "code",
      "execution_count": null,
      "id": "bd81cb30-eca8-4f0e-bce7-fe5ba56a7e56",
      "metadata": {
        "id": "bd81cb30-eca8-4f0e-bce7-fe5ba56a7e56"
      },
      "outputs": [],
      "source": [
        "##### save the shaps\n",
        "\n",
        "np.save('tstrf_ts_phi_1_3rdmar.npy',ts_phi_1)\n",
        "np.save('tstrf_ts_phi_2_3rdmar.npy',ts_phi_2)\n",
        "np.save('tstrf_ts_phi_3_3rdmar.npy',ts_phi_3)"
      ]
    },
    {
      "cell_type": "code",
      "execution_count": null,
      "id": "78a6692d-2267-4334-a22e-bdb2be928834",
      "metadata": {
        "id": "78a6692d-2267-4334-a22e-bdb2be928834"
      },
      "outputs": [],
      "source": [
        "#### reload tstrf weights\n",
        "import numpy as np"
      ]
    },
    {
      "cell_type": "code",
      "execution_count": null,
      "id": "8a05fe7b-8193-4d7c-96d9-b903cbba4f1a",
      "metadata": {
        "id": "8a05fe7b-8193-4d7c-96d9-b903cbba4f1a"
      },
      "outputs": [],
      "source": [
        "ts_phi_1 = np.load('tstrf_ts_phi_1.npy')\n",
        "ts_phi_2 = np.load('tstrf_ts_phi_2.npy')\n",
        "ts_phi_3 = np.load('tstrf_ts_phi_3.npy')"
      ]
    },
    {
      "cell_type": "code",
      "execution_count": null,
      "id": "d794d3c3-4618-426a-84be-563cd8fa3767",
      "metadata": {
        "id": "d794d3c3-4618-426a-84be-563cd8fa3767"
      },
      "outputs": [],
      "source": [
        "from util import heat_map, xai_eval_fnc"
      ]
    },
    {
      "cell_type": "code",
      "execution_count": null,
      "id": "fba17e7d-f94f-4c7f-a7bb-7c60f87c9b47",
      "metadata": {
        "id": "fba17e7d-f94f-4c7f-a7bb-7c60f87c9b47"
      },
      "outputs": [],
      "source": [
        "var = 1\n",
        "phi_index = 3"
      ]
    },
    {
      "cell_type": "code",
      "execution_count": null,
      "id": "14b53e06-bd19-4c5b-aa50-a563b513ffa0",
      "metadata": {
        "id": "14b53e06-bd19-4c5b-aa50-a563b513ffa0",
        "outputId": "2d70f3a1-ff2f-45b8-f4bd-a09ed7cd737e"
      },
      "outputs": [
        {
          "data": {
            "text/plain": [
              "(17, 48, 26)"
            ]
          },
          "execution_count": 15,
          "metadata": {},
          "output_type": "execute_result"
        }
      ],
      "source": [
        "ts_phi_1.shape"
      ]
    },
    {
      "cell_type": "code",
      "execution_count": null,
      "id": "4920a659-19d0-4bb2-8599-b83363eff4fe",
      "metadata": {
        "id": "4920a659-19d0-4bb2-8599-b83363eff4fe",
        "outputId": "dd632680-b466-4d6e-8909-85360a415e8d"
      },
      "outputs": [
        {
          "data": {
            "text/plain": [
              "((48,), (48,))"
            ]
          },
          "execution_count": 16,
          "metadata": {},
          "output_type": "execute_result"
        }
      ],
      "source": [
        "test_x[num_test + phi_index, :, var].shape, ts_phi_1[phi_index, :, var].shape"
      ]
    },
    {
      "cell_type": "markdown",
      "id": "77af0c92-2223-4d9c-a46e-775548427f24",
      "metadata": {
        "id": "77af0c92-2223-4d9c-a46e-775548427f24"
      },
      "source": [
        "## Heatmap for Stationary SHAP"
      ]
    },
    {
      "cell_type": "code",
      "execution_count": null,
      "id": "4e7c1302-ebc2-4b52-957f-608d5538b0cd",
      "metadata": {
        "id": "4e7c1302-ebc2-4b52-957f-608d5538b0cd",
        "outputId": "18154591-689b-4140-aeff-136ee65729bc"
      },
      "outputs": [
        {
          "name": "stdout",
          "output_type": "stream",
          "text": [
            "[0.00000000e+00 9.45189952e-05]\n"
          ]
        },
        {
          "data": {
            "image/png": "[encoded data removed]",
            "text/plain": [
              "<Figure size 612x180 with 2 Axes>"
            ]
          },
          "metadata": {
            "needs_background": "light"
          },
          "output_type": "display_data"
        }
      ],
      "source": [
        "heat_map(start=0, stop=48, x=test_x[num_test + phi_index, :, var], shap_values=ts_phi_1[phi_index, :, var], var_name='Observed', plot_type='bar')"
      ]
    },
    {
      "cell_type": "markdown",
      "id": "ca361359-019f-4aca-a494-22e5b368333c",
      "metadata": {
        "id": "ca361359-019f-4aca-a494-22e5b368333c"
      },
      "source": [
        "## Heatmap for Sliding SHAP"
      ]
    },
    {
      "cell_type": "code",
      "execution_count": null,
      "id": "594532de-c324-47c0-a949-c7fe3c7d8261",
      "metadata": {
        "id": "594532de-c324-47c0-a949-c7fe3c7d8261",
        "outputId": "730a24b9-23ee-429a-85bd-3dc9fb09740e"
      },
      "outputs": [
        {
          "name": "stdout",
          "output_type": "stream",
          "text": [
            "[-0.00817528 -0.00317528  0.          0.00182472  0.00682472  0.01182472]\n"
          ]
        },
        {
          "data": {
            "image/png": "[encoded data removed]",
            "text/plain": [
              "<Figure size 612x180 with 2 Axes>"
            ]
          },
          "metadata": {
            "needs_background": "light"
          },
          "output_type": "display_data"
        }
      ],
      "source": [
        "heat_map(start=0, stop=48, x=test_x[num_test + phi_index, :, var], shap_values=ts_phi_2[phi_index, :, var], var_name='Observed', plot_type='bar')"
      ]
    },
    {
      "cell_type": "markdown",
      "id": "e8bca18a-4e15-44e7-827b-d6fbed5657ee",
      "metadata": {
        "id": "e8bca18a-4e15-44e7-827b-d6fbed5657ee"
      },
      "source": [
        "## Heatmap for Dynamic SHAP"
      ]
    },
    {
      "cell_type": "code",
      "execution_count": null,
      "id": "d4474df6-d433-4ca6-8b41-195dd8449743",
      "metadata": {
        "id": "d4474df6-d433-4ca6-8b41-195dd8449743",
        "outputId": "18ef4a0b-3478-4bb4-d16e-16e8f59c06c6"
      },
      "outputs": [
        {
          "name": "stdout",
          "output_type": "stream",
          "text": [
            "[0.00000000e+00 6.77440852e-05]\n"
          ]
        },
        {
          "data": {
            "image/png": "[encoded data removed]",
            "text/plain": [
              "<Figure size 612x180 with 2 Axes>"
            ]
          },
          "metadata": {
            "needs_background": "light"
          },
          "output_type": "display_data"
        }
      ],
      "source": [
        "heat_map(start=0, stop=48, x=test_x[num_test + phi_index, :, var], shap_values=ts_phi_3[phi_index, :, var], var_name='Variable', plot_type='bar')"
      ]
    },
    {
      "cell_type": "code",
      "execution_count": null,
      "id": "8d5cc57b-9763-40dc-b5ef-ee45b8397793",
      "metadata": {
        "id": "8d5cc57b-9763-40dc-b5ef-ee45b8397793"
      },
      "outputs": [],
      "source": [
        "###### Single prediction model\n",
        "\n",
        "# 1- transformer - produces attention for same time steps and then run windoeSHAP on transformers and get shap based attention, compare both.\n",
        "# 2- RETAIN - produces attention for same time steps and then run windowSHAP on retain and shap based explanations, compare both. "
      ]
    },
    {
      "cell_type": "code",
      "execution_count": null,
      "id": "404f187f-040b-4fec-a547-3e346e98839d",
      "metadata": {
        "id": "404f187f-040b-4fec-a547-3e346e98839d"
      },
      "outputs": [],
      "source": [
        "# import math\n",
        "# from copy import deepcopy\n",
        "\n",
        "# def xai_eval_fnc(model, relevence, input_x, model_type='lstm', percentile=90,\n",
        "#                  eval_type='prtb', seq_len=10, by='all'):\n",
        "#     \"\"\"\n",
        "#     Evaluates the quality metrics of time-series importance scores using various evaluation methods.\n",
        "\n",
        "#     Parameters\n",
        "#     ----------\n",
        "#     model : prediction model that is explained \n",
        "#     relevance : A 3D array of importance scores for each time step of the time-series data\n",
        "#     input_x : input data of the prediction model. If the input data consists of different modalities, the first module should be a 3D time series data\n",
        "#     model_type (optional) : type of model, either 'lstm' or 'lstm_plus'. Use 'lstm' when the time series data is the only modality of the input, otherwise use 'lstm_plus'\n",
        "#     percentile (optional) : percentile of top time steps that are going to be pertubed\n",
        "#     eval_type (optional) : evaluation method, either 'prtb' for the perturbation analysis metric or 'sqnc' for sequence analysis metric\n",
        "#     seq_len (optional) : sequence length for 'sqnc' method\n",
        "#     by (optional) : whether to evaluate each temporal feature separately or all time steps together, either 'time' or 'all'\n",
        "\n",
        "#     Returns : prediction of the modified input time-series data using the input model\n",
        "#     \"\"\"\n",
        "    \n",
        "#     input_new = deepcopy(input_x)\n",
        "#     relevence = np.absolute(relevence)\n",
        "    \n",
        "#     # TO DO: Add other type of models\n",
        "#     if model_type == 'lstm_plus':\n",
        "#         input_ts = input_x[0]\n",
        "#         input_new_ts = input_new[0]\n",
        "#     elif model_type == 'lstm':\n",
        "#         input_ts = input_x\n",
        "#         input_new_ts = input_new\n",
        "    \n",
        "#     assert len(input_ts.shape)==3 # the time sereis data needs to be 3-dimensional\n",
        "#     num_feature = input_ts.shape[2]\n",
        "#     num_time_step = input_ts.shape[1]\n",
        "#     num_instance = input_ts.shape[0]\n",
        "        \n",
        "#     if by=='time':\n",
        "#         top_steps = math.ceil((1 - percentile/100) * num_time_step) # finding the number of top steps for each feature\n",
        "#         top_indices = np.argsort(relevence, axis=1)[:, -top_steps:, :] # a 3d array of top time steps for each feature\n",
        "#         for j in range(num_feature): # converting the indices to a flatten version\n",
        "#             top_indices[:, :, j] = top_indices[:, :, j] * num_feature + j\n",
        "#         top_indices = top_indices.flatten()\n",
        "#     elif by=='all':\n",
        "#         top_steps = math.ceil((1 - percentile/100) * num_time_step * num_feature) # finding the number of all top steps\n",
        "#         top_indices = np.argsort(relevence, axis=None)[-top_steps:]\n",
        "    \n",
        "#     # Create a masking matrix for top time steps\n",
        "#     top_indices_mask = np.zeros(input_ts.size)\n",
        "#     top_indices_mask[top_indices] = 1\n",
        "#     top_indices_mask = top_indices_mask.reshape(input_ts.shape)\n",
        "    \n",
        "    \n",
        "#     # Evaluating different metrics\n",
        "#     for p in range(num_instance):\n",
        "#         for v in range(num_feature):\n",
        "#             for t in range(num_time_step):\n",
        "#                 if top_indices_mask[p, t, v]:\n",
        "#                     if eval_type == 'prtb':\n",
        "#                         input_new_ts[p,t,v] = np.max(input_ts[p,:,v]) - input_ts[p,t,v]\n",
        "#                     elif eval_type == 'sqnc':\n",
        "#                         input_new_ts[p, t:t + seq_len, v] = 0\n",
        "    \n",
        "#     return model.predict(input_new)"
      ]
    },
    {
      "cell_type": "code",
      "execution_count": null,
      "id": "3db7c9f9-506b-4d3c-afd0-06f574c526f9",
      "metadata": {
        "id": "3db7c9f9-506b-4d3c-afd0-06f574c526f9",
        "outputId": "c2daa4f9-a291-49f9-bb2c-eff0e8a74db1"
      },
      "outputs": [
        {
          "name": "stderr",
          "output_type": "stream",
          "text": [
            "2023-03-02 23:44:00.180174: I tensorflow/stream_executor/cuda/cuda_gpu_executor.cc:980] successful NUMA node read from SysFS had negative value (-1), but there must be at least one NUMA node, so returning NUMA node zero\n",
            "2023-03-02 23:44:00.207112: I tensorflow/stream_executor/cuda/cuda_gpu_executor.cc:980] successful NUMA node read from SysFS had negative value (-1), but there must be at least one NUMA node, so returning NUMA node zero\n",
            "2023-03-02 23:44:00.207273: I tensorflow/stream_executor/cuda/cuda_gpu_executor.cc:980] successful NUMA node read from SysFS had negative value (-1), but there must be at least one NUMA node, so returning NUMA node zero\n",
            "2023-03-02 23:44:00.207836: I tensorflow/core/platform/cpu_feature_guard.cc:193] This TensorFlow binary is optimized with oneAPI Deep Neural Network Library (oneDNN) to use the following CPU instructions in performance-critical operations:  AVX2 FMA\n",
            "To enable them in other operations, rebuild TensorFlow with the appropriate compiler flags.\n",
            "2023-03-02 23:44:00.208250: I tensorflow/stream_executor/cuda/cuda_gpu_executor.cc:980] successful NUMA node read from SysFS had negative value (-1), but there must be at least one NUMA node, so returning NUMA node zero\n",
            "2023-03-02 23:44:00.208370: I tensorflow/stream_executor/cuda/cuda_gpu_executor.cc:980] successful NUMA node read from SysFS had negative value (-1), but there must be at least one NUMA node, so returning NUMA node zero\n",
            "2023-03-02 23:44:00.208472: I tensorflow/stream_executor/cuda/cuda_gpu_executor.cc:980] successful NUMA node read from SysFS had negative value (-1), but there must be at least one NUMA node, so returning NUMA node zero\n",
            "2023-03-02 23:44:00.554748: I tensorflow/stream_executor/cuda/cuda_gpu_executor.cc:980] successful NUMA node read from SysFS had negative value (-1), but there must be at least one NUMA node, so returning NUMA node zero\n",
            "2023-03-02 23:44:00.554927: I tensorflow/stream_executor/cuda/cuda_gpu_executor.cc:980] successful NUMA node read from SysFS had negative value (-1), but there must be at least one NUMA node, so returning NUMA node zero\n",
            "2023-03-02 23:44:00.555041: I tensorflow/stream_executor/cuda/cuda_gpu_executor.cc:980] successful NUMA node read from SysFS had negative value (-1), but there must be at least one NUMA node, so returning NUMA node zero\n",
            "2023-03-02 23:44:00.555138: I tensorflow/core/common_runtime/gpu/gpu_device.cc:1616] Created device /job:localhost/replica:0/task:0/device:GPU:0 with 2621 MB memory:  -> device: 0, name: NVIDIA GeForce GTX 1650, pci bus id: 0000:01:00.0, compute capability: 7.5\n"
          ]
        }
      ],
      "source": [
        "### load keras model\n",
        "from tensorflow import keras\n",
        "\n",
        "model = keras.models.load_model('mimic3_ts_transformer.h5', compile=False)"
      ]
    },
    {
      "cell_type": "code",
      "execution_count": null,
      "id": "e1432e2f-4d16-40a9-8b1f-c281d324f965",
      "metadata": {
        "id": "e1432e2f-4d16-40a9-8b1f-c281d324f965",
        "outputId": "ab521457-a5ce-49af-9ecd-45f7977ef9c0"
      },
      "outputs": [
        {
          "data": {
            "text/plain": [
              "(<keras.engine.functional.Functional at 0x7f064ab419d0>,\n",
              " (17, 48, 26),\n",
              " (4598, 48, 26))"
            ]
          },
          "execution_count": 22,
          "metadata": {},
          "output_type": "execute_result"
        }
      ],
      "source": [
        "model, ts_phi_1.shape, test_x.shape"
      ]
    },
    {
      "cell_type": "code",
      "execution_count": null,
      "id": "478060ba-9004-4092-875d-5595784fd7ca",
      "metadata": {
        "id": "478060ba-9004-4092-875d-5595784fd7ca"
      },
      "outputs": [],
      "source": [
        "# from util import xai_eval"
      ]
    },
    {
      "cell_type": "code",
      "execution_count": null,
      "id": "43d0906d-d162-4c17-9224-b9bd99ee1901",
      "metadata": {
        "id": "43d0906d-d162-4c17-9224-b9bd99ee1901",
        "outputId": "f4acba92-d85b-49f0-b385-0c1a8535378e"
      },
      "outputs": [
        {
          "name": "stdout",
          "output_type": "stream",
          "text": [
            "144/144 [==============================] - 25s 171ms/step\n",
            "144/144 [==============================] - 21s 148ms/step\n",
            "144/144 [==============================] - 13s 90ms/step\n"
          ]
        }
      ],
      "source": [
        "#xai_eval_fnc(model, relevence, input_x)\n",
        "xai_res_prtb_tsphi1 = xai_eval_fnc(model, ts_phi_1, test_x, eval_type='prtb')\n",
        "\n",
        "xai_res_prtb_tsphi2 = xai_eval_fnc(model, ts_phi_2, test_x, eval_type='prtb')\n",
        "\n",
        "xai_res_prtb_tsphi3 = xai_eval_fnc(model, ts_phi_3, test_x, eval_type='prtb')"
      ]
    },
    {
      "cell_type": "code",
      "execution_count": null,
      "id": "819ee466-0a16-41f9-a96d-a92c7ade14e7",
      "metadata": {
        "id": "819ee466-0a16-41f9-a96d-a92c7ade14e7",
        "outputId": "68a557ac-596b-48d3-81a1-bea5b3ba23cb"
      },
      "outputs": [
        {
          "name": "stdout",
          "output_type": "stream",
          "text": [
            "144/144 [==============================] - 28s 195ms/step\n",
            "144/144 [==============================] - 31s 219ms/step\n",
            "144/144 [==============================] - 26s 182ms/step\n"
          ]
        }
      ],
      "source": [
        "seq_len_val  = 48\n",
        "\n",
        "\n",
        "xai_res_sqnc_tsphi1 = xai_eval_fnc(model, ts_phi_1, test_x, eval_type='sqnc',seq_len=seq_len_val)\n",
        "\n",
        "xai_res_sqnc_tsphi2 = xai_eval_fnc(model, ts_phi_2, test_x, eval_type='sqnc',seq_len=seq_len_val)\n",
        "\n",
        "xai_res_sqnc_tsphi3 = xai_eval_fnc(model, ts_phi_3, test_x, eval_type='sqnc',seq_len=seq_len_val)"
      ]
    },
    {
      "cell_type": "code",
      "execution_count": null,
      "id": "c01d72a4-817f-4107-b635-9e51f9835636",
      "metadata": {
        "id": "c01d72a4-817f-4107-b635-9e51f9835636",
        "outputId": "8d0ecb52-1444-478b-8715-8f1f282d26e6"
      },
      "outputs": [
        {
          "data": {
            "text/plain": [
              "((4598, 1), (4598, 1), (4598, 1))"
            ]
          },
          "execution_count": 38,
          "metadata": {},
          "output_type": "execute_result"
        }
      ],
      "source": [
        "xai_res_prtb_tsphi1.shape,xai_res_prtb_tsphi1.shape, xai_res_prtb_tsphi1.shape "
      ]
    },
    {
      "cell_type": "code",
      "execution_count": null,
      "id": "a9f87da1-a706-44f5-807e-37eba1463c6c",
      "metadata": {
        "id": "a9f87da1-a706-44f5-807e-37eba1463c6c",
        "outputId": "c907eb57-50f0-4824-f527-b2c527b2562f"
      },
      "outputs": [
        {
          "data": {
            "text/plain": [
              "((4598, 1), (4598, 1), (4598, 1))"
            ]
          },
          "execution_count": 50,
          "metadata": {},
          "output_type": "execute_result"
        }
      ],
      "source": [
        "xai_res_sqnc_tsphi1.shape, xai_res_sqnc_tsphi2.shape, xai_res_sqnc_tsphi3.shape"
      ]
    },
    {
      "cell_type": "code",
      "execution_count": null,
      "id": "e0dc59e7-5f4b-472a-bf4d-2b64a65ac8cf",
      "metadata": {
        "id": "e0dc59e7-5f4b-472a-bf4d-2b64a65ac8cf"
      },
      "outputs": [],
      "source": [
        "# xai_res_prtb ## check if we need to flatten it??? =no"
      ]
    },
    {
      "cell_type": "code",
      "execution_count": null,
      "id": "475dad87-497d-496c-951f-e53791d2a636",
      "metadata": {
        "id": "475dad87-497d-496c-951f-e53791d2a636"
      },
      "outputs": [],
      "source": [
        "# np.save('xai_res_prtb_wshap_tsphi1.npy',xai_res_prtb)"
      ]
    },
    {
      "cell_type": "code",
      "execution_count": null,
      "id": "636107c0-6e39-4902-9d4e-2137dcbd60b0",
      "metadata": {
        "id": "636107c0-6e39-4902-9d4e-2137dcbd60b0"
      },
      "outputs": [],
      "source": [
        "# np.save('xai_res_sqnc_wshap_tsphi1.npy',xai_res_sqnc)"
      ]
    },
    {
      "cell_type": "code",
      "execution_count": null,
      "id": "6b77645e-84ad-4b6a-9fd2-7de70b0a6a0b",
      "metadata": {
        "id": "6b77645e-84ad-4b6a-9fd2-7de70b0a6a0b"
      },
      "outputs": [],
      "source": [
        "#################### analysis of new prediction\n",
        "from sklearn.metrics import roc_auc_score, f1_score, recall_score, precision_score, average_precision_score, matthews_corrcoef"
      ]
    },
    {
      "cell_type": "code",
      "execution_count": null,
      "id": "64086172-584c-4865-96ea-3fec774abfa5",
      "metadata": {
        "id": "64086172-584c-4865-96ea-3fec774abfa5",
        "outputId": "6a3e839d-8976-4cdb-895e-e1b258207746"
      },
      "outputs": [
        {
          "name": "stdout",
          "output_type": "stream",
          "text": [
            "144/144 [==============================] - 15s 103ms/step\n"
          ]
        }
      ],
      "source": [
        "######### model prediction\n",
        "y_pred_orig = model.predict(test_x)"
      ]
    },
    {
      "cell_type": "code",
      "execution_count": null,
      "id": "88007ebf-0a23-44be-b9fd-8ebe0d757323",
      "metadata": {
        "id": "88007ebf-0a23-44be-b9fd-8ebe0d757323",
        "outputId": "7907d175-83b9-419d-870e-0ecc56ec964a"
      },
      "outputs": [
        {
          "name": "stdout",
          "output_type": "stream",
          "text": [
            "original_model_predictions:  0.7603732886104254 0.28575738206576495 0.22591362126245845 0.14847161572052403 0.4722222222222222 0.2237180431912803\n"
          ]
        }
      ],
      "source": [
        "################# original model prediction\n",
        "\n",
        "print('original_model_predictions: ',roc_auc_score(test_y, y_pred_orig), average_precision_score(test_y, y_pred_orig),f1_score(test_y, np.round(y_pred_orig)),\n",
        "      recall_score(test_y, np.round(y_pred_orig)),precision_score(test_y, np.round(y_pred_orig)),matthews_corrcoef(test_y, np.round(y_pred_orig)))"
      ]
    },
    {
      "cell_type": "code",
      "execution_count": null,
      "id": "451b5d67-d28a-4e11-a10e-82b1c452f7b5",
      "metadata": {
        "id": "451b5d67-d28a-4e11-a10e-82b1c452f7b5",
        "outputId": "b08d2070-a00b-4881-e6c9-c2550b5c5e6c"
      },
      "outputs": [
        {
          "name": "stdout",
          "output_type": "stream",
          "text": [
            "prtb_analysis_wshap_tsphi1:  0.7606164166824885 0.28608803361012997 0.22591362126245845 0.14847161572052403 0.4722222222222222 0.2237180431912803\n",
            "prtb_analysis_wshap_tsphi2:  0.7605098833407168 0.2859545580939678 0.22591362126245845 0.14847161572052403 0.4722222222222222 0.2237180431912803\n",
            "prtb_analysis_wshap_tsphi3:  0.7604402674936186 0.2858610487953817 0.22591362126245845 0.14847161572052403 0.4722222222222222 0.2237180431912803\n"
          ]
        }
      ],
      "source": [
        "print('prtb_analysis_wshap_tsphi1: ',roc_auc_score(test_y, xai_res_prtb_tsphi1), average_precision_score(test_y, xai_res_prtb_tsphi1),f1_score(test_y, np.round(xai_res_prtb_tsphi1)),\n",
        "      recall_score(test_y, np.round(xai_res_prtb_tsphi1)),precision_score(test_y, np.round(xai_res_prtb_tsphi1)),matthews_corrcoef(test_y, np.round(xai_res_prtb_tsphi1)))\n",
        "\n",
        "print('prtb_analysis_wshap_tsphi2: ',roc_auc_score(test_y, xai_res_prtb_tsphi2), average_precision_score(test_y, xai_res_prtb_tsphi2),f1_score(test_y, np.round(xai_res_prtb_tsphi2)),\n",
        "      recall_score(test_y, np.round(xai_res_prtb_tsphi2)),precision_score(test_y, np.round(xai_res_prtb_tsphi2)),matthews_corrcoef(test_y, np.round(xai_res_prtb_tsphi2)))\n",
        "\n",
        "print('prtb_analysis_wshap_tsphi3: ',roc_auc_score(test_y, xai_res_prtb_tsphi3), average_precision_score(test_y, xai_res_prtb_tsphi3),f1_score(test_y, np.round(xai_res_prtb_tsphi3)),\n",
        "      recall_score(test_y, np.round(xai_res_prtb_tsphi3)),precision_score(test_y, np.round(xai_res_prtb_tsphi3)),matthews_corrcoef(test_y, np.round(xai_res_prtb_tsphi3)))"
      ]
    },
    {
      "cell_type": "code",
      "execution_count": null,
      "id": "d82f017d-a140-4bf0-bb6c-51eed946b838",
      "metadata": {
        "id": "d82f017d-a140-4bf0-bb6c-51eed946b838",
        "outputId": "664648e5-2e75-4d86-930d-293b02ab6a9b"
      },
      "outputs": [
        {
          "name": "stdout",
          "output_type": "stream",
          "text": [
            "sqnc_analysis_wshap_tsphi1:  0.76056684176107 0.28608899492999135 0.22591362126245845 0.14847161572052403 0.4722222222222222 0.2237180431912803\n",
            "sqnc_analysis_wshap_tsphi2:  0.7604186443895955 0.2858995540180984 0.22591362126245845 0.14847161572052403 0.4722222222222222 0.2237180431912803\n",
            "sqnc_analysis_wshap_tsphi3:  0.7602282555956373 0.285652797637522 0.22591362126245845 0.14847161572052403 0.4722222222222222 0.2237180431912803\n"
          ]
        }
      ],
      "source": [
        "print('sqnc_analysis_wshap_tsphi1: ',roc_auc_score(test_y, xai_res_sqnc_tsphi1), average_precision_score(test_y, xai_res_sqnc_tsphi1),f1_score(test_y, np.round(xai_res_sqnc_tsphi1)),\n",
        "      recall_score(test_y, np.round(xai_res_sqnc_tsphi1)),precision_score(test_y, np.round(xai_res_sqnc_tsphi1)),matthews_corrcoef(test_y, np.round(xai_res_sqnc_tsphi1)))\n",
        "\n",
        "\n",
        "print('sqnc_analysis_wshap_tsphi2: ',roc_auc_score(test_y, xai_res_sqnc_tsphi2), average_precision_score(test_y, xai_res_sqnc_tsphi2),f1_score(test_y, np.round(xai_res_sqnc_tsphi2)),\n",
        "      recall_score(test_y, np.round(xai_res_sqnc_tsphi2)),precision_score(test_y, np.round(xai_res_sqnc_tsphi2)),matthews_corrcoef(test_y, np.round(xai_res_sqnc_tsphi2)))\n",
        "\n",
        "print('sqnc_analysis_wshap_tsphi3: ',roc_auc_score(test_y, xai_res_sqnc_tsphi3), average_precision_score(test_y, xai_res_sqnc_tsphi3),f1_score(test_y, np.round(xai_res_sqnc_tsphi3)),\n",
        "      recall_score(test_y, np.round(xai_res_sqnc_tsphi3)),precision_score(test_y, np.round(xai_res_sqnc_tsphi3)),matthews_corrcoef(test_y, np.round(xai_res_sqnc_tsphi3)))"
      ]
    },
    {
      "cell_type": "code",
      "execution_count": null,
      "id": "244fc741-e549-4f3f-844f-33dab6678521",
      "metadata": {
        "id": "244fc741-e549-4f3f-844f-33dab6678521"
      },
      "outputs": [],
      "source": [
        "########################### "
      ]
    }
  ],
  "metadata": {
    "kernelspec": {
      "display_name": "Python 3 (ipykernel)",
      "language": "python",
      "name": "python3"
    },
    "language_info": {
      "codemirror_mode": {
        "name": "ipython",
        "version": 3
      },
      "file_extension": ".py",
      "mimetype": "text/x-python",
      "name": "python",
      "nbconvert_exporter": "python",
      "pygments_lexer": "ipython3",
      "version": "3.9.12"
    },
    "colab": {
      "provenance": [],
      "include_colab_link": true
    },
    "accelerator": "GPU",
    "gpuClass": "standard",
    "widgets": {
      "application/vnd.jupyter.widget-state+json": {
        "03abe8bf84a84ba8b44a9502bedfff67": {
          "model_module": "@jupyter-widgets/controls",
          "model_name": "HBoxModel",
          "model_module_version": "1.5.0",
          "state": {
            "_dom_classes": [],
            "_model_module": "@jupyter-widgets/controls",
            "_model_module_version": "1.5.0",
            "_model_name": "HBoxModel",
            "_view_count": null,
            "_view_module": "@jupyter-widgets/controls",
            "_view_module_version": "1.5.0",
            "_view_name": "HBoxView",
            "box_style": "",
            "children": [
              "IPY_MODEL_bcab00ce3486422babf75a7dbf457fdc",
              "IPY_MODEL_3c14d396e10741dbad75453270817049",
              "IPY_MODEL_1a6539a1ae80495bb13b2e77c734cfd6"
            ],
            "layout": "IPY_MODEL_0af39ee7610c4c2db657ab204b0009c1"
          }
        },
        "bcab00ce3486422babf75a7dbf457fdc": {
          "model_module": "@jupyter-widgets/controls",
          "model_name": "HTMLModel",
          "model_module_version": "1.5.0",
          "state": {
            "_dom_classes": [],
            "_model_module": "@jupyter-widgets/controls",
            "_model_module_version": "1.5.0",
            "_model_name": "HTMLModel",
            "_view_count": null,
            "_view_module": "@jupyter-widgets/controls",
            "_view_module_version": "1.5.0",
            "_view_name": "HTMLView",
            "description": "",
            "description_tooltip": null,
            "layout": "IPY_MODEL_5c7b3f91b34e43599162c3ed84e0491c",
            "placeholder": "​",
            "style": "IPY_MODEL_20d79022af874fb39d37248882bce084",
            "value": "  0%"
          }
        },
        "3c14d396e10741dbad75453270817049": {
          "model_module": "@jupyter-widgets/controls",
          "model_name": "FloatProgressModel",
          "model_module_version": "1.5.0",
          "state": {
            "_dom_classes": [],
            "_model_module": "@jupyter-widgets/controls",
            "_model_module_version": "1.5.0",
            "_model_name": "FloatProgressModel",
            "_view_count": null,
            "_view_module": "@jupyter-widgets/controls",
            "_view_module_version": "1.5.0",
            "_view_name": "ProgressView",
            "bar_style": "",
            "description": "",
            "description_tooltip": null,
            "layout": "IPY_MODEL_39beb7767b624bf499faf1981bc80cc2",
            "max": 1,
            "min": 0,
            "orientation": "horizontal",
            "style": "IPY_MODEL_e40a9fdb4e7e4f7c97a9a595ed6ee706",
            "value": 0
          }
        },
        "1a6539a1ae80495bb13b2e77c734cfd6": {
          "model_module": "@jupyter-widgets/controls",
          "model_name": "HTMLModel",
          "model_module_version": "1.5.0",
          "state": {
            "_dom_classes": [],
            "_model_module": "@jupyter-widgets/controls",
            "_model_module_version": "1.5.0",
            "_model_name": "HTMLModel",
            "_view_count": null,
            "_view_module": "@jupyter-widgets/controls",
            "_view_module_version": "1.5.0",
            "_view_name": "HTMLView",
            "description": "",
            "description_tooltip": null,
            "layout": "IPY_MODEL_f1c2c23b47da4d44b664963cc79ff5b0",
            "placeholder": "​",
            "style": "IPY_MODEL_6e9a469889f84acdb8e90e26c6a28cd7",
            "value": " 0/1 [00:00&lt;?, ?it/s]"
          }
        },
        "0af39ee7610c4c2db657ab204b0009c1": {
          "model_module": "@jupyter-widgets/base",
          "model_name": "LayoutModel",
          "model_module_version": "1.2.0",
          "state": {
            "_model_module": "@jupyter-widgets/base",
            "_model_module_version": "1.2.0",
            "_model_name": "LayoutModel",
            "_view_count": null,
            "_view_module": "@jupyter-widgets/base",
            "_view_module_version": "1.2.0",
            "_view_name": "LayoutView",
            "align_content": null,
            "align_items": null,
            "align_self": null,
            "border": null,
            "bottom": null,
            "display": null,
            "flex": null,
            "flex_flow": null,
            "grid_area": null,
            "grid_auto_columns": null,
            "grid_auto_flow": null,
            "grid_auto_rows": null,
            "grid_column": null,
            "grid_gap": null,
            "grid_row": null,
            "grid_template_areas": null,
            "grid_template_columns": null,
            "grid_template_rows": null,
            "height": null,
            "justify_content": null,
            "justify_items": null,
            "left": null,
            "margin": null,
            "max_height": null,
            "max_width": null,
            "min_height": null,
            "min_width": null,
            "object_fit": null,
            "object_position": null,
            "order": null,
            "overflow": null,
            "overflow_x": null,
            "overflow_y": null,
            "padding": null,
            "right": null,
            "top": null,
            "visibility": null,
            "width": null
          }
        },
        "5c7b3f91b34e43599162c3ed84e0491c": {
          "model_module": "@jupyter-widgets/base",
          "model_name": "LayoutModel",
          "model_module_version": "1.2.0",
          "state": {
            "_model_module": "@jupyter-widgets/base",
            "_model_module_version": "1.2.0",
            "_model_name": "LayoutModel",
            "_view_count": null,
            "_view_module": "@jupyter-widgets/base",
            "_view_module_version": "1.2.0",
            "_view_name": "LayoutView",
            "align_content": null,
            "align_items": null,
            "align_self": null,
            "border": null,
            "bottom": null,
            "display": null,
            "flex": null,
            "flex_flow": null,
            "grid_area": null,
            "grid_auto_columns": null,
            "grid_auto_flow": null,
            "grid_auto_rows": null,
            "grid_column": null,
            "grid_gap": null,
            "grid_row": null,
            "grid_template_areas": null,
            "grid_template_columns": null,
            "grid_template_rows": null,
            "height": null,
            "justify_content": null,
            "justify_items": null,
            "left": null,
            "margin": null,
            "max_height": null,
            "max_width": null,
            "min_height": null,
            "min_width": null,
            "object_fit": null,
            "object_position": null,
            "order": null,
            "overflow": null,
            "overflow_x": null,
            "overflow_y": null,
            "padding": null,
            "right": null,
            "top": null,
            "visibility": null,
            "width": null
          }
        },
        "20d79022af874fb39d37248882bce084": {
          "model_module": "@jupyter-widgets/controls",
          "model_name": "DescriptionStyleModel",
          "model_module_version": "1.5.0",
          "state": {
            "_model_module": "@jupyter-widgets/controls",
            "_model_module_version": "1.5.0",
            "_model_name": "DescriptionStyleModel",
            "_view_count": null,
            "_view_module": "@jupyter-widgets/base",
            "_view_module_version": "1.2.0",
            "_view_name": "StyleView",
            "description_width": ""
          }
        },
        "39beb7767b624bf499faf1981bc80cc2": {
          "model_module": "@jupyter-widgets/base",
          "model_name": "LayoutModel",
          "model_module_version": "1.2.0",
          "state": {
            "_model_module": "@jupyter-widgets/base",
            "_model_module_version": "1.2.0",
            "_model_name": "LayoutModel",
            "_view_count": null,
            "_view_module": "@jupyter-widgets/base",
            "_view_module_version": "1.2.0",
            "_view_name": "LayoutView",
            "align_content": null,
            "align_items": null,
            "align_self": null,
            "border": null,
            "bottom": null,
            "display": null,
            "flex": null,
            "flex_flow": null,
            "grid_area": null,
            "grid_auto_columns": null,
            "grid_auto_flow": null,
            "grid_auto_rows": null,
            "grid_column": null,
            "grid_gap": null,
            "grid_row": null,
            "grid_template_areas": null,
            "grid_template_columns": null,
            "grid_template_rows": null,
            "height": null,
            "justify_content": null,
            "justify_items": null,
            "left": null,
            "margin": null,
            "max_height": null,
            "max_width": null,
            "min_height": null,
            "min_width": null,
            "object_fit": null,
            "object_position": null,
            "order": null,
            "overflow": null,
            "overflow_x": null,
            "overflow_y": null,
            "padding": null,
            "right": null,
            "top": null,
            "visibility": null,
            "width": null
          }
        },
        "e40a9fdb4e7e4f7c97a9a595ed6ee706": {
          "model_module": "@jupyter-widgets/controls",
          "model_name": "ProgressStyleModel",
          "model_module_version": "1.5.0",
          "state": {
            "_model_module": "@jupyter-widgets/controls",
            "_model_module_version": "1.5.0",
            "_model_name": "ProgressStyleModel",
            "_view_count": null,
            "_view_module": "@jupyter-widgets/base",
            "_view_module_version": "1.2.0",
            "_view_name": "StyleView",
            "bar_color": null,
            "description_width": ""
          }
        },
        "f1c2c23b47da4d44b664963cc79ff5b0": {
          "model_module": "@jupyter-widgets/base",
          "model_name": "LayoutModel",
          "model_module_version": "1.2.0",
          "state": {
            "_model_module": "@jupyter-widgets/base",
            "_model_module_version": "1.2.0",
            "_model_name": "LayoutModel",
            "_view_count": null,
            "_view_module": "@jupyter-widgets/base",
            "_view_module_version": "1.2.0",
            "_view_name": "LayoutView",
            "align_content": null,
            "align_items": null,
            "align_self": null,
            "border": null,
            "bottom": null,
            "display": null,
            "flex": null,
            "flex_flow": null,
            "grid_area": null,
            "grid_auto_columns": null,
            "grid_auto_flow": null,
            "grid_auto_rows": null,
            "grid_column": null,
            "grid_gap": null,
            "grid_row": null,
            "grid_template_areas": null,
            "grid_template_columns": null,
            "grid_template_rows": null,
            "height": null,
            "justify_content": null,
            "justify_items": null,
            "left": null,
            "margin": null,
            "max_height": null,
            "max_width": null,
            "min_height": null,
            "min_width": null,
            "object_fit": null,
            "object_position": null,
            "order": null,
            "overflow": null,
            "overflow_x": null,
            "overflow_y": null,
            "padding": null,
            "right": null,
            "top": null,
            "visibility": null,
            "width": null
          }
        },
        "6e9a469889f84acdb8e90e26c6a28cd7": {
          "model_module": "@jupyter-widgets/controls",
          "model_name": "DescriptionStyleModel",
          "model_module_version": "1.5.0",
          "state": {
            "_model_module": "@jupyter-widgets/controls",
            "_model_module_version": "1.5.0",
            "_model_name": "DescriptionStyleModel",
            "_view_count": null,
            "_view_module": "@jupyter-widgets/base",
            "_view_module_version": "1.2.0",
            "_view_name": "StyleView",
            "description_width": ""
          }
        }
      }
    }
  },
  "nbformat": 4,
  "nbformat_minor": 5
}