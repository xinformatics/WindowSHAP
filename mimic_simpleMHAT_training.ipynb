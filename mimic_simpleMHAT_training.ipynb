{
 "cells": [
  {
   "cell_type": "code",
   "execution_count": 2,
   "id": "37dffc95-5fcf-4e99-a2bf-d038524bf2d9",
   "metadata": {},
   "outputs": [],
   "source": [
    "from tensorflow import keras\n",
    "from tensorflow.keras import layers\n",
    "from tensorflow.keras.callbacks import EarlyStopping, ModelCheckpoint,ReduceLROnPlateau"
   ]
  },
  {
   "cell_type": "code",
   "execution_count": 3,
   "id": "b52603f7-96ae-4a06-a77e-ac7d455f9a08",
   "metadata": {},
   "outputs": [],
   "source": [
    "def transformer_encoder(inputs, head_size, num_heads, ff_dim, dropout=0):\n",
    "    # Normalization and Attention\n",
    "    x = layers.LayerNormalization(epsilon=1e-6)(inputs)\n",
    "    x, weights = layers.MultiHeadAttention(key_dim=head_size, num_heads=num_heads, dropout=dropout, \n",
    "                                           attention_axes=(2)\n",
    "                                          )(x, x, return_attention_scores=True)\n",
    "    x = layers.Dropout(dropout)(x)\n",
    "    res = x + inputs\n",
    "\n",
    "    # Feed Forward Part\n",
    "    x = layers.LayerNormalization(epsilon=1e-6)(res)\n",
    "    x = layers.Conv1D(filters=ff_dim, kernel_size=1, activation=\"relu\")(x)\n",
    "    x = layers.Dropout(dropout)(x)\n",
    "    x = layers.Conv1D(filters=inputs.shape[-1], kernel_size=1)(x)\n",
    "    return x + res"
   ]
  },
  {
   "cell_type": "code",
   "execution_count": 4,
   "id": "2cbf75b7-0e5d-4f3a-9b33-797d5433579f",
   "metadata": {},
   "outputs": [],
   "source": [
    "def build_model(input_shape,head_size, num_heads,ff_dim,num_transformer_blocks,mlp_units,dropout=0, mlp_dropout=0):\n",
    "    inputs = keras.Input(shape=input_shape)\n",
    "    x = inputs\n",
    "    for _ in range(num_transformer_blocks):\n",
    "        x = transformer_encoder(x, head_size, num_heads, ff_dim, dropout)\n",
    "\n",
    "    x = layers.GlobalAveragePooling1D(data_format=\"channels_first\")(x)\n",
    "    for dim in mlp_units:\n",
    "        x = layers.Dense(dim, activation=\"relu\")(x)\n",
    "        x = layers.Dropout(mlp_dropout)(x)\n",
    "    outputs = layers.Dense(1, activation=\"sigmoid\")(x)\n",
    "    return keras.Model(inputs, outputs)"
   ]
  },
  {
   "cell_type": "code",
   "execution_count": 5,
   "id": "a67e10fb-2bee-47f5-87b1-df81a6baece2",
   "metadata": {},
   "outputs": [],
   "source": [
    "####\n",
    "import tensorflow.keras.backend as K\n",
    "def clear_sess():\n",
    "  try:\n",
    "    del model \n",
    "    del history \n",
    "  except:\n",
    "    pass\n",
    "  from tensorflow.keras import backend as K\n",
    "  K.clear_session()\n",
    "  import gc\n",
    "  gc.collect()\n",
    "\n",
    "\n",
    "\n",
    "  return None\n",
    "clear_sess()"
   ]
  },
  {
   "cell_type": "code",
   "execution_count": 6,
   "id": "6e957108-3b27-4d48-949a-5237bb59460f",
   "metadata": {},
   "outputs": [
    {
     "name": "stderr",
     "output_type": "stream",
     "text": [
      "2023-03-07 20:54:42.923693: I tensorflow/stream_executor/cuda/cuda_gpu_executor.cc:980] successful NUMA node read from SysFS had negative value (-1), but there must be at least one NUMA node, so returning NUMA node zero\n",
      "2023-03-07 20:54:43.161773: I tensorflow/stream_executor/cuda/cuda_gpu_executor.cc:980] successful NUMA node read from SysFS had negative value (-1), but there must be at least one NUMA node, so returning NUMA node zero\n",
      "2023-03-07 20:54:43.161953: I tensorflow/stream_executor/cuda/cuda_gpu_executor.cc:980] successful NUMA node read from SysFS had negative value (-1), but there must be at least one NUMA node, so returning NUMA node zero\n",
      "2023-03-07 20:54:43.162366: I tensorflow/core/platform/cpu_feature_guard.cc:193] This TensorFlow binary is optimized with oneAPI Deep Neural Network Library (oneDNN) to use the following CPU instructions in performance-critical operations:  AVX2 FMA\n",
      "To enable them in other operations, rebuild TensorFlow with the appropriate compiler flags.\n",
      "2023-03-07 20:54:43.162922: I tensorflow/stream_executor/cuda/cuda_gpu_executor.cc:980] successful NUMA node read from SysFS had negative value (-1), but there must be at least one NUMA node, so returning NUMA node zero\n",
      "2023-03-07 20:54:43.163054: I tensorflow/stream_executor/cuda/cuda_gpu_executor.cc:980] successful NUMA node read from SysFS had negative value (-1), but there must be at least one NUMA node, so returning NUMA node zero\n",
      "2023-03-07 20:54:43.163155: I tensorflow/stream_executor/cuda/cuda_gpu_executor.cc:980] successful NUMA node read from SysFS had negative value (-1), but there must be at least one NUMA node, so returning NUMA node zero\n",
      "2023-03-07 20:54:43.545584: I tensorflow/stream_executor/cuda/cuda_gpu_executor.cc:980] successful NUMA node read from SysFS had negative value (-1), but there must be at least one NUMA node, so returning NUMA node zero\n",
      "2023-03-07 20:54:43.545763: I tensorflow/stream_executor/cuda/cuda_gpu_executor.cc:980] successful NUMA node read from SysFS had negative value (-1), but there must be at least one NUMA node, so returning NUMA node zero\n",
      "2023-03-07 20:54:43.545880: I tensorflow/stream_executor/cuda/cuda_gpu_executor.cc:980] successful NUMA node read from SysFS had negative value (-1), but there must be at least one NUMA node, so returning NUMA node zero\n",
      "2023-03-07 20:54:43.545975: I tensorflow/core/common_runtime/gpu/gpu_device.cc:1616] Created device /job:localhost/replica:0/task:0/device:GPU:0 with 2621 MB memory:  -> device: 0, name: NVIDIA GeForce GTX 1650, pci bus id: 0000:01:00.0, compute capability: 7.5\n"
     ]
    }
   ],
   "source": [
    "model = build_model((48, 26),head_size=32,num_heads=26,ff_dim=4,num_transformer_blocks=1,mlp_units=[128],mlp_dropout=0.4,dropout=0.25)"
   ]
  },
  {
   "cell_type": "code",
   "execution_count": 7,
   "id": "97bc8803-b7d1-4740-845d-3515936beebf",
   "metadata": {},
   "outputs": [
    {
     "name": "stdout",
     "output_type": "stream",
     "text": [
      "Model: \"model\"\n",
      "__________________________________________________________________________________________________\n",
      " Layer (type)                   Output Shape         Param #     Connected to                     \n",
      "==================================================================================================\n",
      " input_1 (InputLayer)           [(None, 48, 26)]     0           []                               \n",
      "                                                                                                  \n",
      " layer_normalization (LayerNorm  (None, 48, 26)      52          ['input_1[0][0]']                \n",
      " alization)                                                                                       \n",
      "                                                                                                  \n",
      " multi_head_attention (MultiHea  ((None, 48, 26),    89050       ['layer_normalization[0][0]',    \n",
      " dAttention)                     (None, 48, 26, 26)               'layer_normalization[0][0]']    \n",
      "                                )                                                                 \n",
      "                                                                                                  \n",
      " dropout (Dropout)              (None, 48, 26)       0           ['multi_head_attention[0][0]']   \n",
      "                                                                                                  \n",
      " tf.__operators__.add (TFOpLamb  (None, 48, 26)      0           ['dropout[0][0]',                \n",
      " da)                                                              'input_1[0][0]']                \n",
      "                                                                                                  \n",
      " layer_normalization_1 (LayerNo  (None, 48, 26)      52          ['tf.__operators__.add[0][0]']   \n",
      " rmalization)                                                                                     \n",
      "                                                                                                  \n",
      " conv1d (Conv1D)                (None, 48, 4)        108         ['layer_normalization_1[0][0]']  \n",
      "                                                                                                  \n",
      " dropout_1 (Dropout)            (None, 48, 4)        0           ['conv1d[0][0]']                 \n",
      "                                                                                                  \n",
      " conv1d_1 (Conv1D)              (None, 48, 26)       130         ['dropout_1[0][0]']              \n",
      "                                                                                                  \n",
      " tf.__operators__.add_1 (TFOpLa  (None, 48, 26)      0           ['conv1d_1[0][0]',               \n",
      " mbda)                                                            'tf.__operators__.add[0][0]']   \n",
      "                                                                                                  \n",
      " global_average_pooling1d (Glob  (None, 48)          0           ['tf.__operators__.add_1[0][0]'] \n",
      " alAveragePooling1D)                                                                              \n",
      "                                                                                                  \n",
      " dense (Dense)                  (None, 128)          6272        ['global_average_pooling1d[0][0]'\n",
      "                                                                 ]                                \n",
      "                                                                                                  \n",
      " dropout_2 (Dropout)            (None, 128)          0           ['dense[0][0]']                  \n",
      "                                                                                                  \n",
      " dense_1 (Dense)                (None, 1)            129         ['dropout_2[0][0]']              \n",
      "                                                                                                  \n",
      "==================================================================================================\n",
      "Total params: 95,793\n",
      "Trainable params: 95,793\n",
      "Non-trainable params: 0\n",
      "__________________________________________________________________________________________________\n"
     ]
    }
   ],
   "source": [
    "model.summary()"
   ]
  },
  {
   "cell_type": "code",
   "execution_count": null,
   "id": "8791adef-59ff-41de-bb36-455f3aa9d2ff",
   "metadata": {},
   "outputs": [],
   "source": [
    "import numpy as np"
   ]
  },
  {
   "cell_type": "code",
   "execution_count": 19,
   "id": "ce6f5a3a-2e84-400f-bf2e-e519bbc752f9",
   "metadata": {},
   "outputs": [],
   "source": [
    "data = np.load('train_test_x_y_01.npz')\n",
    "train_x, test_x, train_y, test_y  = data['arr_0'], data['arr_1'], data['arr_2'], data['arr_3'] "
   ]
  },
  {
   "cell_type": "code",
   "execution_count": 10,
   "id": "e2bc921f-bb1f-409d-8b8b-028cce421adb",
   "metadata": {},
   "outputs": [],
   "source": [
    "train_y = train_y.reshape(-1,1)\n",
    "test_y  = test_y.reshape(-1,1)"
   ]
  },
  {
   "cell_type": "code",
   "execution_count": 11,
   "id": "827ab48f-4d79-4c01-be95-515efb5423a7",
   "metadata": {},
   "outputs": [
    {
     "data": {
      "text/plain": [
       "((18390, 43, 21), (4598, 43, 21), (18390, 1), (4598, 1))"
      ]
     },
     "execution_count": 11,
     "metadata": {},
     "output_type": "execute_result"
    }
   ],
   "source": [
    "train_x.shape, test_x.shape, train_y.shape, test_y.shape"
   ]
  },
  {
   "cell_type": "code",
   "execution_count": 12,
   "id": "92f8151f-0832-48cd-b3f8-b7e6dda25497",
   "metadata": {},
   "outputs": [],
   "source": [
    "def keras_mcc(y_true, y_pred):\n",
    "    tp = K.sum(K.round(K.clip(y_true * y_pred, 0, 1)))\n",
    "    tn = K.sum(K.round(K.clip((1 - y_true) * (1 - y_pred), 0, 1)))\n",
    "    fp = K.sum(K.round(K.clip((1 - y_true) * y_pred, 0, 1)))\n",
    "    fn = K.sum(K.round(K.clip(y_true * (1 - y_pred), 0, 1)))\n",
    "\n",
    "    num = tp * tn - fp * fn\n",
    "    den = (tp + fp) * (tp + fn) * (tn + fp) * (tn + fn)\n",
    "    return num / K.sqrt(den + K.epsilon())"
   ]
  },
  {
   "cell_type": "code",
   "execution_count": 13,
   "id": "822a6e1f-eefd-49ae-aa38-9984756191fa",
   "metadata": {},
   "outputs": [],
   "source": [
    "metrics_c = [keras.metrics.AUC(name=\"auc_roc\",curve=\"ROC\"),keras.metrics.AUC(name=\"auc_pr\",curve=\"PR\"),keras_mcc]"
   ]
  },
  {
   "cell_type": "code",
   "execution_count": null,
   "id": "763df0e5-a5bb-402a-bc36-048ca08b5ed3",
   "metadata": {},
   "outputs": [],
   "source": []
  },
  {
   "cell_type": "code",
   "execution_count": 15,
   "id": "fb81c1b4-0b02-4c15-a5c6-d11061cf5191",
   "metadata": {},
   "outputs": [],
   "source": [
    "from datetime import datetime\n",
    "\n",
    "now = datetime.now() "
   ]
  },
  {
   "cell_type": "code",
   "execution_count": 16,
   "id": "c1ee3416-0f4b-4f97-833b-0395a9113d96",
   "metadata": {},
   "outputs": [],
   "source": [
    "# callbacks = [keras.callbacks.EarlyStopping(patience=30, restore_best_weights=True),]\n",
    "reduce_lr = ReduceLROnPlateau(monitor='val_loss', factor=0.99,patience=50, min_lr=0.001, verbose=1)\n",
    "\n",
    "checkpoint_filepath_4 = f'weights-improvement-val-keras-mcc-{now}.hdf5'\n",
    "model_checkpoint_callback_4 = ModelCheckpoint(filepath=checkpoint_filepath_4,save_weights_only=False,monitor='val_keras_mcc',mode='max',save_best_only=True)"
   ]
  },
  {
   "cell_type": "code",
   "execution_count": 17,
   "id": "5f880db7-dd03-4898-9902-547c2db855f5",
   "metadata": {},
   "outputs": [],
   "source": [
    "model.compile(optimizer=keras.optimizers.Adam(learning_rate=0.1), loss='binary_crossentropy', metrics=metrics_c, weighted_metrics=[])"
   ]
  },
  {
   "cell_type": "code",
   "execution_count": 18,
   "id": "7d946749-dd81-4805-8f73-9d94f8e8415d",
   "metadata": {},
   "outputs": [
    {
     "name": "stdout",
     "output_type": "stream",
     "text": [
      "Epoch 1/300\n"
     ]
    },
    {
     "ename": "ValueError",
     "evalue": "in user code:\n\n    File \"/home/shashank/anaconda3/lib/python3.9/site-packages/keras/engine/training.py\", line 1160, in train_function  *\n        return step_function(self, iterator)\n    File \"/home/shashank/anaconda3/lib/python3.9/site-packages/keras/engine/training.py\", line 1146, in step_function  **\n        outputs = model.distribute_strategy.run(run_step, args=(data,))\n    File \"/home/shashank/anaconda3/lib/python3.9/site-packages/keras/engine/training.py\", line 1135, in run_step  **\n        outputs = model.train_step(data)\n    File \"/home/shashank/anaconda3/lib/python3.9/site-packages/keras/engine/training.py\", line 993, in train_step\n        y_pred = self(x, training=True)\n    File \"/home/shashank/anaconda3/lib/python3.9/site-packages/keras/utils/traceback_utils.py\", line 70, in error_handler\n        raise e.with_traceback(filtered_tb) from None\n    File \"/home/shashank/anaconda3/lib/python3.9/site-packages/keras/engine/input_spec.py\", line 295, in assert_input_compatibility\n        raise ValueError(\n\n    ValueError: Input 0 of layer \"model\" is incompatible with the layer: expected shape=(None, 48, 26), found shape=(None, 43, 21)\n",
     "output_type": "error",
     "traceback": [
      "\u001b[0;31m---------------------------------------------------------------------------\u001b[0m",
      "\u001b[0;31mValueError\u001b[0m                                Traceback (most recent call last)",
      "Input \u001b[0;32mIn [18]\u001b[0m, in \u001b[0;36m<cell line: 1>\u001b[0;34m()\u001b[0m\n\u001b[0;32m----> 1\u001b[0m train_history\u001b[38;5;241m=\u001b[39m\u001b[43mmodel\u001b[49m\u001b[38;5;241;43m.\u001b[39;49m\u001b[43mfit\u001b[49m\u001b[43m(\u001b[49m\u001b[43mtrain_x\u001b[49m\u001b[43m,\u001b[49m\u001b[43mtrain_y\u001b[49m\u001b[43m,\u001b[49m\u001b[43mvalidation_split\u001b[49m\u001b[38;5;241;43m=\u001b[39;49m\u001b[38;5;241;43m0.2\u001b[39;49m\u001b[43m,\u001b[49m\u001b[43m \u001b[49m\u001b[43mepochs\u001b[49m\u001b[38;5;241;43m=\u001b[39;49m\u001b[38;5;241;43m300\u001b[39;49m\u001b[43m,\u001b[49m\n\u001b[1;32m      2\u001b[0m \u001b[43m                        \u001b[49m\u001b[43mverbose\u001b[49m\u001b[38;5;241;43m=\u001b[39;49m\u001b[38;5;241;43m1\u001b[39;49m\u001b[43m,\u001b[49m\n\u001b[1;32m      3\u001b[0m \u001b[43m                        \u001b[49m\u001b[43mbatch_size\u001b[49m\u001b[38;5;241;43m=\u001b[39;49m\u001b[38;5;241;43m128\u001b[39;49m\u001b[43m,\u001b[49m\u001b[43mcallbacks\u001b[49m\u001b[38;5;241;43m=\u001b[39;49m\u001b[43m[\u001b[49m\u001b[43mreduce_lr\u001b[49m\u001b[43m,\u001b[49m\u001b[43m \u001b[49m\u001b[43mmodel_checkpoint_callback_4\u001b[49m\u001b[43m]\u001b[49m\u001b[43m)\u001b[49m\n",
      "File \u001b[0;32m~/anaconda3/lib/python3.9/site-packages/keras/utils/traceback_utils.py:70\u001b[0m, in \u001b[0;36mfilter_traceback.<locals>.error_handler\u001b[0;34m(*args, **kwargs)\u001b[0m\n\u001b[1;32m     67\u001b[0m     filtered_tb \u001b[38;5;241m=\u001b[39m _process_traceback_frames(e\u001b[38;5;241m.\u001b[39m__traceback__)\n\u001b[1;32m     68\u001b[0m     \u001b[38;5;66;03m# To get the full stack trace, call:\u001b[39;00m\n\u001b[1;32m     69\u001b[0m     \u001b[38;5;66;03m# `tf.debugging.disable_traceback_filtering()`\u001b[39;00m\n\u001b[0;32m---> 70\u001b[0m     \u001b[38;5;28;01mraise\u001b[39;00m e\u001b[38;5;241m.\u001b[39mwith_traceback(filtered_tb) \u001b[38;5;28;01mfrom\u001b[39;00m \u001b[38;5;28mNone\u001b[39m\n\u001b[1;32m     71\u001b[0m \u001b[38;5;28;01mfinally\u001b[39;00m:\n\u001b[1;32m     72\u001b[0m     \u001b[38;5;28;01mdel\u001b[39;00m filtered_tb\n",
      "File \u001b[0;32m/tmp/__autograph_generated_filekjgx544u.py:15\u001b[0m, in \u001b[0;36mouter_factory.<locals>.inner_factory.<locals>.tf__train_function\u001b[0;34m(iterator)\u001b[0m\n\u001b[1;32m     13\u001b[0m \u001b[38;5;28;01mtry\u001b[39;00m:\n\u001b[1;32m     14\u001b[0m     do_return \u001b[38;5;241m=\u001b[39m \u001b[38;5;28;01mTrue\u001b[39;00m\n\u001b[0;32m---> 15\u001b[0m     retval_ \u001b[38;5;241m=\u001b[39m ag__\u001b[38;5;241m.\u001b[39mconverted_call(ag__\u001b[38;5;241m.\u001b[39mld(step_function), (ag__\u001b[38;5;241m.\u001b[39mld(\u001b[38;5;28mself\u001b[39m), ag__\u001b[38;5;241m.\u001b[39mld(iterator)), \u001b[38;5;28;01mNone\u001b[39;00m, fscope)\n\u001b[1;32m     16\u001b[0m \u001b[38;5;28;01mexcept\u001b[39;00m:\n\u001b[1;32m     17\u001b[0m     do_return \u001b[38;5;241m=\u001b[39m \u001b[38;5;28;01mFalse\u001b[39;00m\n",
      "\u001b[0;31mValueError\u001b[0m: in user code:\n\n    File \"/home/shashank/anaconda3/lib/python3.9/site-packages/keras/engine/training.py\", line 1160, in train_function  *\n        return step_function(self, iterator)\n    File \"/home/shashank/anaconda3/lib/python3.9/site-packages/keras/engine/training.py\", line 1146, in step_function  **\n        outputs = model.distribute_strategy.run(run_step, args=(data,))\n    File \"/home/shashank/anaconda3/lib/python3.9/site-packages/keras/engine/training.py\", line 1135, in run_step  **\n        outputs = model.train_step(data)\n    File \"/home/shashank/anaconda3/lib/python3.9/site-packages/keras/engine/training.py\", line 993, in train_step\n        y_pred = self(x, training=True)\n    File \"/home/shashank/anaconda3/lib/python3.9/site-packages/keras/utils/traceback_utils.py\", line 70, in error_handler\n        raise e.with_traceback(filtered_tb) from None\n    File \"/home/shashank/anaconda3/lib/python3.9/site-packages/keras/engine/input_spec.py\", line 295, in assert_input_compatibility\n        raise ValueError(\n\n    ValueError: Input 0 of layer \"model\" is incompatible with the layer: expected shape=(None, 48, 26), found shape=(None, 43, 21)\n"
     ]
    }
   ],
   "source": [
    "train_history=model.fit(train_x,train_y,validation_split=0.2, epochs=300,\n",
    "                        verbose=1,\n",
    "                        batch_size=128,callbacks=[reduce_lr, model_checkpoint_callback_4])\n"
   ]
  },
  {
   "cell_type": "code",
   "execution_count": 125,
   "id": "95249f80-57c5-4779-9246-ff7c8134ec07",
   "metadata": {},
   "outputs": [],
   "source": [
    "model.save('mimic3_ts_transformer_4march_wattscores_48x26x26.h5')"
   ]
  },
  {
   "cell_type": "code",
   "execution_count": 29,
   "id": "fb4ab38a-4eb2-454d-867f-65658ef79d60",
   "metadata": {},
   "outputs": [],
   "source": [
    "##### model load\n",
    "### load keras model\n",
    "from tensorflow import keras\n",
    "\n",
    "model = keras.models.load_model('weights-improvement-val-keras-mcc-2023-03-07 19:39:49.664918.hdf5', compile=False)"
   ]
  },
  {
   "cell_type": "code",
   "execution_count": 30,
   "id": "e7082645-a597-49c1-add4-caae786f5c7c",
   "metadata": {},
   "outputs": [],
   "source": [
    "from sklearn.metrics import roc_auc_score, f1_score, recall_score, precision_score, average_precision_score, matthews_corrcoef"
   ]
  },
  {
   "cell_type": "code",
   "execution_count": 32,
   "id": "34a014fc-5b29-45c5-b7bd-33a5a241350f",
   "metadata": {},
   "outputs": [
    {
     "name": "stdout",
     "output_type": "stream",
     "text": [
      "0.8986881695730397\n",
      "0.6079587868103491\n",
      "0.5089883679943603\n",
      "0.3941048034934498\n",
      "0.718407960199005\n",
      "0.4967673500389786\n"
     ]
    }
   ],
   "source": [
    "print(roc_auc_score(train_y, model.predict(train_x, verbose=0)))\n",
    "print(average_precision_score(train_y, model.predict(train_x, verbose=0)))\n",
    "print(f1_score(train_y, np.round(model.predict(train_x, verbose=0))))\n",
    "print(recall_score(train_y, np.round(model.predict(train_x, verbose=0))))\n",
    "print(precision_score(train_y, np.round(model.predict(train_x, verbose=0))))\n",
    "print(matthews_corrcoef(train_y, np.round(model.predict(train_x, verbose=0))))"
   ]
  },
  {
   "cell_type": "code",
   "execution_count": 33,
   "id": "96eba817-dce4-4b29-9469-bdad8185f9a6",
   "metadata": {},
   "outputs": [
    {
     "name": "stdout",
     "output_type": "stream",
     "text": [
      "0.7103954391072295\n",
      "0.26748500622646976\n",
      "0.2347560975609756\n",
      "0.16812227074235808\n",
      "0.3888888888888889\n",
      "0.2049091107900389\n"
     ]
    }
   ],
   "source": [
    "print(roc_auc_score(test_y, model.predict(test_x, verbose=0)))\n",
    "print(average_precision_score(test_y, model.predict(test_x, verbose=0)))\n",
    "print(f1_score(test_y, np.round(model.predict(test_x, verbose=0))))\n",
    "print(recall_score(test_y, np.round(model.predict(test_x, verbose=0))))\n",
    "print(precision_score(test_y, np.round(model.predict(test_x, verbose=0))))\n",
    "print(matthews_corrcoef(test_y, np.round(model.predict(test_x, verbose=0))))"
   ]
  },
  {
   "cell_type": "code",
   "execution_count": 132,
   "id": "246971ff-6ff1-4599-9246-c2b89be8ba5e",
   "metadata": {},
   "outputs": [
    {
     "name": "stdout",
     "output_type": "stream",
     "text": [
      "Model: \"model\"\n",
      "__________________________________________________________________________________________________\n",
      " Layer (type)                   Output Shape         Param #     Connected to                     \n",
      "==================================================================================================\n",
      " input_1 (InputLayer)           [(None, 48, 26)]     0           []                               \n",
      "                                                                                                  \n",
      " layer_normalization (LayerNorm  (None, 48, 26)      52          ['input_1[0][0]']                \n",
      " alization)                                                                                       \n",
      "                                                                                                  \n",
      " multi_head_attention (MultiHea  ((None, 48, 26),    89050       ['layer_normalization[0][0]',    \n",
      " dAttention)                     (None, 48, 26, 26)               'layer_normalization[0][0]']    \n",
      "                                )                                                                 \n",
      "                                                                                                  \n",
      " dropout (Dropout)              (None, 48, 26)       0           ['multi_head_attention[0][0]']   \n",
      "                                                                                                  \n",
      " tf.__operators__.add (TFOpLamb  (None, 48, 26)      0           ['dropout[0][0]',                \n",
      " da)                                                              'input_1[0][0]']                \n",
      "                                                                                                  \n",
      " layer_normalization_1 (LayerNo  (None, 48, 26)      52          ['tf.__operators__.add[0][0]']   \n",
      " rmalization)                                                                                     \n",
      "                                                                                                  \n",
      " conv1d (Conv1D)                (None, 48, 4)        108         ['layer_normalization_1[0][0]']  \n",
      "                                                                                                  \n",
      " dropout_1 (Dropout)            (None, 48, 4)        0           ['conv1d[0][0]']                 \n",
      "                                                                                                  \n",
      " conv1d_1 (Conv1D)              (None, 48, 26)       130         ['dropout_1[0][0]']              \n",
      "                                                                                                  \n",
      " tf.__operators__.add_1 (TFOpLa  (None, 48, 26)      0           ['conv1d_1[0][0]',               \n",
      " mbda)                                                            'tf.__operators__.add[0][0]']   \n",
      "                                                                                                  \n",
      " global_average_pooling1d (Glob  (None, 48)          0           ['tf.__operators__.add_1[0][0]'] \n",
      " alAveragePooling1D)                                                                              \n",
      "                                                                                                  \n",
      " dense (Dense)                  (None, 128)          6272        ['global_average_pooling1d[0][0]'\n",
      "                                                                 ]                                \n",
      "                                                                                                  \n",
      " dropout_2 (Dropout)            (None, 128)          0           ['dense[0][0]']                  \n",
      "                                                                                                  \n",
      " dense_1 (Dense)                (None, 1)            129         ['dropout_2[0][0]']              \n",
      "                                                                                                  \n",
      "==================================================================================================\n",
      "Total params: 95,793\n",
      "Trainable params: 95,793\n",
      "Non-trainable params: 0\n",
      "__________________________________________________________________________________________________\n"
     ]
    }
   ],
   "source": [
    "model.summary()"
   ]
  },
  {
   "cell_type": "code",
   "execution_count": 133,
   "id": "1cbae5b8-b776-449e-b6ea-8eb1877ca59d",
   "metadata": {},
   "outputs": [],
   "source": [
    "import matplotlib.pyplot as plt\n",
    "import timeit"
   ]
  },
  {
   "cell_type": "code",
   "execution_count": 134,
   "id": "761835d5-b352-4da8-9c01-dfd2ef0a1dba",
   "metadata": {},
   "outputs": [],
   "source": [
    "#### for multi_head_attention \n",
    "att_layerout_MHA0= keras.Model(inputs=model.input, outputs=model.get_layer('multi_head_attention').output)"
   ]
  },
  {
   "cell_type": "code",
   "execution_count": 135,
   "id": "800b2234-97a2-4487-a75e-7294a3bd8624",
   "metadata": {},
   "outputs": [
    {
     "name": "stdout",
     "output_type": "stream",
     "text": [
      "144/144 [==============================] - 0s 2ms/step\n"
     ]
    },
    {
     "name": "stderr",
     "output_type": "stream",
     "text": [
      "2023-03-04 02:01:48.052524: W tensorflow/core/framework/cpu_allocator_impl.cc:82] Allocation of 596783616 exceeds 10% of free system memory.\n"
     ]
    }
   ],
   "source": [
    "att_output_MHA0 = att_layerout_MHA0.predict(test_x)"
   ]
  },
  {
   "cell_type": "code",
   "execution_count": 136,
   "id": "cc475208-2548-4ce2-9066-c11d6c0dd07c",
   "metadata": {},
   "outputs": [],
   "source": [
    "att_outvals_MHA0, att_scores_MHA0 = att_output_MHA0"
   ]
  },
  {
   "cell_type": "code",
   "execution_count": 137,
   "id": "44363446-53a8-4da6-a415-4ab738f5cef8",
   "metadata": {},
   "outputs": [],
   "source": [
    "att_scores_MHA0 = att_scores_MHA0.squeeze()"
   ]
  },
  {
   "cell_type": "code",
   "execution_count": 138,
   "id": "4b6689ca-0994-42af-9b84-6f1c27fbd4a8",
   "metadata": {},
   "outputs": [
    {
     "data": {
      "text/plain": [
       "((4598, 48, 26), (4598, 48, 26, 26))"
      ]
     },
     "execution_count": 138,
     "metadata": {},
     "output_type": "execute_result"
    }
   ],
   "source": [
    "att_outvals_MHA0.shape, att_scores_MHA0.shape"
   ]
  },
  {
   "cell_type": "code",
   "execution_count": 211,
   "id": "16860be7-67e2-4b19-96de-f4023883fc00",
   "metadata": {},
   "outputs": [],
   "source": [
    "temp_att_scores_dim2 = np.mean(att_scores_MHA0,axis=2) ###the right way\n",
    "# temp_att_scores_dim3 = np.mean(att_scores_MHA0,axis=3)"
   ]
  },
  {
   "cell_type": "code",
   "execution_count": 212,
   "id": "1c77dbc7-8802-48fd-b0ef-baa995a30889",
   "metadata": {},
   "outputs": [
    {
     "data": {
      "text/plain": [
       "((4598, 48, 26), (4598, 48, 26))"
      ]
     },
     "execution_count": 212,
     "metadata": {},
     "output_type": "execute_result"
    }
   ],
   "source": [
    "temp_att_scores_dim2.shape, temp_att_scores_dim3.shape, "
   ]
  },
  {
   "cell_type": "code",
   "execution_count": 213,
   "id": "9bc2a95b-69df-4a97-8b3e-0a09dd508ac5",
   "metadata": {},
   "outputs": [],
   "source": [
    "import seaborn as sns\n",
    "import matplotlib.pyplot as plt"
   ]
  },
  {
   "cell_type": "code",
   "execution_count": 214,
   "id": "d5fd4e05-0541-406f-9d58-32993ff6334f",
   "metadata": {},
   "outputs": [],
   "source": [
    "# sns.set(rc={'figure.figsize':(11.7,8.27)})\n",
    "# ax = sns.heatmap(att_scores_MHA0[0,0, :,:], cmap='BuPu')\n",
    "# ax.xaxis.tick_top()\n",
    "# plt.show()"
   ]
  },
  {
   "cell_type": "code",
   "execution_count": 215,
   "id": "f16be616-bf2a-405c-a63a-424c4803f676",
   "metadata": {},
   "outputs": [],
   "source": [
    "from util import heat_map"
   ]
  },
  {
   "cell_type": "code",
   "execution_count": 269,
   "id": "eeeafe70-41f6-4c45-9164-6d1dce1971bc",
   "metadata": {},
   "outputs": [],
   "source": [
    "num_background = 15\n",
    "num_test = index = 0\n",
    "\n",
    "var = 18\n",
    "phi_index = 0"
   ]
  },
  {
   "cell_type": "code",
   "execution_count": 270,
   "id": "6a495056-7cd2-42e7-a21f-0aabace83d7f",
   "metadata": {},
   "outputs": [
    {
     "data": {
      "text/plain": [
       "((48,), (48,))"
      ]
     },
     "execution_count": 270,
     "metadata": {},
     "output_type": "execute_result"
    }
   ],
   "source": [
    "test_x[num_test + phi_index, :, var].shape, temp_att_scores[phi_index, :, var].shape"
   ]
  },
  {
   "cell_type": "code",
   "execution_count": 271,
   "id": "27b7e023-90bf-494b-bb2b-dbf5a47060f7",
   "metadata": {},
   "outputs": [
    {
     "name": "stdout",
     "output_type": "stream",
     "text": [
      "[0.         0.00281586 0.00781586 0.01281586 0.01781586 0.02281586\n",
      " 0.02781586 0.03281586 0.03781586 0.04281586 0.04781586 0.05281586\n",
      " 0.05781586 0.06281586 0.06781586 0.07281586 0.07781586 0.08281586\n",
      " 0.08781586 0.09281586 0.09781586 0.10281586 0.10781586 0.11281586\n",
      " 0.11781586 0.12281586 0.12781586 0.13281586 0.13781586 0.14281586\n",
      " 0.14781586 0.15281586 0.15781586 0.16281586 0.16781586 0.17281586\n",
      " 0.17781586 0.18281586 0.18781586 0.19281586 0.19781586 0.20281586\n",
      " 0.20781586 0.21281586 0.21781586]\n"
     ]
    },
    {
     "data": {
      "image/png": "[encoded data removed]",
      "text/plain": [
       "<Figure size 612x180 with 2 Axes>"
      ]
     },
     "metadata": {},
     "output_type": "display_data"
    }
   ],
   "source": [
    "heat_map(start=0, stop=48, x=test_x[num_test + phi_index, :, var], shap_values=temp_att_scores_dim2[phi_index, :, var], var_name='Observed', plot_type='bar')"
   ]
  },
  {
   "cell_type": "code",
   "execution_count": 220,
   "id": "3af66e74-9bf3-40ed-bd8c-7ab2c697811d",
   "metadata": {},
   "outputs": [],
   "source": [
    "# heat_map(start=0, stop=48, x=test_x[num_test + phi_index, :, var], shap_values=temp_att_scores_dim3[phi_index, :, var], var_name='Observed', plot_type='bar')"
   ]
  },
  {
   "cell_type": "code",
   "execution_count": 272,
   "id": "4a356bd3-5ef6-4caf-aa09-d6746ecc0109",
   "metadata": {},
   "outputs": [
    {
     "data": {
      "image/png": "[encoded data removed]",
      "text/plain": [
       "<IPython.core.display.Image object>"
      ]
     },
     "execution_count": 272,
     "metadata": {},
     "output_type": "execute_result"
    }
   ],
   "source": [
    "keras.utils.plot_model(model)"
   ]
  },
  {
   "cell_type": "code",
   "execution_count": null,
   "id": "8845b846-f4a1-4982-a3ae-f0b542a0abb7",
   "metadata": {},
   "outputs": [],
   "source": []
  }
 ],
 "metadata": {
  "kernelspec": {
   "display_name": "Python 3 (ipykernel)",
   "language": "python",
   "name": "python3"
  },
  "language_info": {
   "codemirror_mode": {
    "name": "ipython",
    "version": 3
   },
   "file_extension": ".py",
   "mimetype": "text/x-python",
   "name": "python",
   "nbconvert_exporter": "python",
   "pygments_lexer": "ipython3",
   "version": "3.9.12"
  }
 },
 "nbformat": 4,
 "nbformat_minor": 5
}
