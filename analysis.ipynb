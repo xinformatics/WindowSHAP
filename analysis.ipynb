{
 "cells": [
  {
   "cell_type": "code",
   "execution_count": 4,
   "id": "5a2f29f9-e622-49f2-9edd-c4c4da3c8b16",
   "metadata": {},
   "outputs": [],
   "source": [
    "from tensorflow import keras\n",
    "from tensorflow.keras import layers\n",
    "import numpy as np\n",
    "from utils_window import f1_m\n",
    "from sklearn.metrics import roc_auc_score, f1_score, recall_score, precision_score, average_precision_score, matthews_corrcoef\n",
    "from util import heat_map, xai_eval_fnc\n"
   ]
  },
  {
   "cell_type": "code",
   "execution_count": 6,
   "id": "3032fbb8-3fd9-47ef-aa6c-f4b93ebeb7ee",
   "metadata": {},
   "outputs": [],
   "source": [
    "data = np.load('train_test_x_y.npz')\n",
    "train_x, test_x, train_y, test_y  = data['arr_0'], data['arr_1'], data['arr_2'], data['arr_3'] "
   ]
  },
  {
   "cell_type": "code",
   "execution_count": 7,
   "id": "ea527c7b-6033-45ff-a9bb-1be2b7ff2beb",
   "metadata": {},
   "outputs": [
    {
     "name": "stdout",
     "output_type": "stream",
     "text": [
      "(18390, 48, 26) (4598, 48, 26) (18390, 1) (4598, 1)\n"
     ]
    }
   ],
   "source": [
    "train_y = train_y.reshape(-1,1)\n",
    "test_y  = test_y.reshape(-1,1)\n",
    "print(train_x.shape, test_x.shape, train_y.shape, test_y.shape)\n",
    "# input_shape = train_x.shape[1:]\n",
    "# input_shape"
   ]
  },
  {
   "cell_type": "code",
   "execution_count": 3,
   "id": "40c73168-b577-4af8-84ed-2718d03f58c0",
   "metadata": {},
   "outputs": [],
   "source": [
    "### load model\n",
    "model = keras.models.load_model('mimic3_ts_transformer.h5', compile=False)"
   ]
  },
  {
   "cell_type": "code",
   "execution_count": 8,
   "id": "f9db9178-edc3-45c8-8739-95f87695c86a",
   "metadata": {},
   "outputs": [],
   "source": [
    "############################################### load \n",
    "ts_phi_1 = np.load('tstrf_ts_phi_1.npy')\n",
    "ts_phi_2 = np.load('tstrf_ts_phi_2.npy')\n",
    "ts_phi_3 = np.load('tstrf_ts_phi_3.npy')"
   ]
  },
  {
   "cell_type": "code",
   "execution_count": 9,
   "id": "74a63e74-4616-41c6-835f-040837aabf6b",
   "metadata": {},
   "outputs": [],
   "source": [
    "### from another notebook\n",
    "\n",
    "num_background = 15\n",
    "num_test = index = 0\n",
    "# background_ts, test_ts = train_x[:num_background], test_x[index:index + 17]\n",
    "background_data, test_data = train_x[:num_background], test_x[index:index + 17]\n",
    "\n",
    "var = 1\n",
    "phi_index = 3"
   ]
  },
  {
   "cell_type": "code",
   "execution_count": 12,
   "id": "7896ef3e-871e-4b96-9651-faed5ccf78d7",
   "metadata": {},
   "outputs": [
    {
     "data": {
      "text/plain": [
       "((15, 48, 26), (17, 48, 26))"
      ]
     },
     "execution_count": 12,
     "metadata": {},
     "output_type": "execute_result"
    }
   ],
   "source": [
    "background_data.shape, test_data.shape"
   ]
  },
  {
   "cell_type": "code",
   "execution_count": 13,
   "id": "af3acdd5-d083-4924-af53-eb5c80eba939",
   "metadata": {},
   "outputs": [
    {
     "name": "stdout",
     "output_type": "stream",
     "text": [
      "1/1 [==============================] - 0s 49ms/step\n",
      "1/1 [==============================] - 0s 15ms/step\n",
      "1/1 [==============================] - 0s 15ms/step\n"
     ]
    }
   ],
   "source": [
    "#xai_eval_fnc(model, relevence, input_x)\n",
    "xai_res_prtb_tsphi1 = xai_eval_fnc(model, ts_phi_1, test_data, eval_type='prtb')\n",
    "\n",
    "xai_res_prtb_tsphi2 = xai_eval_fnc(model, ts_phi_2, test_data, eval_type='prtb')\n",
    "\n",
    "xai_res_prtb_tsphi3 = xai_eval_fnc(model, ts_phi_3, test_data, eval_type='prtb')"
   ]
  },
  {
   "cell_type": "code",
   "execution_count": 14,
   "id": "6d8effe0-b9bc-4434-a78b-b2927c14e213",
   "metadata": {},
   "outputs": [
    {
     "name": "stdout",
     "output_type": "stream",
     "text": [
      "1/1 [==============================] - 0s 15ms/step\n",
      "1/1 [==============================] - 0s 14ms/step\n",
      "1/1 [==============================] - 0s 15ms/step\n"
     ]
    }
   ],
   "source": [
    "seq_len_val  = 48\n",
    "\n",
    "\n",
    "xai_res_sqnc_tsphi1 = xai_eval_fnc(model, ts_phi_1, test_data, eval_type='sqnc',seq_len=seq_len_val)\n",
    "\n",
    "xai_res_sqnc_tsphi2 = xai_eval_fnc(model, ts_phi_2, test_data, eval_type='sqnc',seq_len=seq_len_val)\n",
    "\n",
    "xai_res_sqnc_tsphi3 = xai_eval_fnc(model, ts_phi_3, test_data, eval_type='sqnc',seq_len=seq_len_val)"
   ]
  },
  {
   "cell_type": "code",
   "execution_count": 15,
   "id": "7d5d7b68-93dc-4bcc-aef6-2ff0d0b5a726",
   "metadata": {},
   "outputs": [
    {
     "data": {
      "text/plain": [
       "((17, 1), (17, 1), (17, 1))"
      ]
     },
     "execution_count": 15,
     "metadata": {},
     "output_type": "execute_result"
    }
   ],
   "source": [
    "xai_res_prtb_tsphi1.shape,xai_res_prtb_tsphi1.shape, xai_res_prtb_tsphi1.shape "
   ]
  },
  {
   "cell_type": "code",
   "execution_count": 16,
   "id": "6cbfab43-36e8-4728-bc08-c87f97635d5f",
   "metadata": {},
   "outputs": [
    {
     "data": {
      "text/plain": [
       "((17, 1), (17, 1), (17, 1))"
      ]
     },
     "execution_count": 16,
     "metadata": {},
     "output_type": "execute_result"
    }
   ],
   "source": [
    "xai_res_sqnc_tsphi1.shape, xai_res_sqnc_tsphi2.shape, xai_res_sqnc_tsphi3.shape"
   ]
  },
  {
   "cell_type": "code",
   "execution_count": 19,
   "id": "cab64745-fc53-48b7-bc44-c8d7465d99de",
   "metadata": {},
   "outputs": [
    {
     "name": "stdout",
     "output_type": "stream",
     "text": [
      "1/1 [==============================] - 0s 21ms/step\n"
     ]
    }
   ],
   "source": [
    "######### model prediction\n",
    "y_pred_orig = model.predict(test_data)\n",
    "\n",
    "\n",
    "##### get test_y for the index:index + n samples\n",
    "test_y_n = test_y[index:index + 17]"
   ]
  },
  {
   "cell_type": "code",
   "execution_count": 21,
   "id": "ce9536b8-0bc9-4af0-a83f-6f92c9117650",
   "metadata": {},
   "outputs": [
    {
     "name": "stdout",
     "output_type": "stream",
     "text": [
      "original_model_predictions:  0.9 0.5 0.0 0.0 0.0 0.0\n"
     ]
    },
    {
     "name": "stderr",
     "output_type": "stream",
     "text": [
      "/home/shashank/anaconda3/lib/python3.9/site-packages/sklearn/metrics/_classification.py:1334: UndefinedMetricWarning: Precision is ill-defined and being set to 0.0 due to no predicted samples. Use `zero_division` parameter to control this behavior.\n",
      "  _warn_prf(average, modifier, msg_start, len(result))\n"
     ]
    }
   ],
   "source": [
    "################# original model prediction\n",
    "\n",
    "print('original_model_predictions: ',roc_auc_score(test_y_n, y_pred_orig), average_precision_score(test_y_n, y_pred_orig),f1_score(test_y_n, np.round(y_pred_orig)),\n",
    "      recall_score(test_y_n, np.round(y_pred_orig)),precision_score(test_y_n, np.round(y_pred_orig)),matthews_corrcoef(test_y_n, np.round(y_pred_orig)))"
   ]
  },
  {
   "cell_type": "code",
   "execution_count": 22,
   "id": "9dccebb2-f328-4058-a399-26e502127af5",
   "metadata": {},
   "outputs": [
    {
     "name": "stdout",
     "output_type": "stream",
     "text": [
      "prtb_analysis_wshap_tsphi1:  1.0 1.0 0.0 0.0 0.0 0.0\n",
      "prtb_analysis_wshap_tsphi2:  0.9666666666666667 0.8333333333333333 0.0 0.0 0.0 0.0\n",
      "prtb_analysis_wshap_tsphi3:  0.9333333333333333 0.5833333333333333 0.0 0.0 0.0 0.0\n"
     ]
    },
    {
     "name": "stderr",
     "output_type": "stream",
     "text": [
      "/home/shashank/anaconda3/lib/python3.9/site-packages/sklearn/metrics/_classification.py:1334: UndefinedMetricWarning: Precision is ill-defined and being set to 0.0 due to no predicted samples. Use `zero_division` parameter to control this behavior.\n",
      "  _warn_prf(average, modifier, msg_start, len(result))\n",
      "/home/shashank/anaconda3/lib/python3.9/site-packages/sklearn/metrics/_classification.py:1334: UndefinedMetricWarning: Precision is ill-defined and being set to 0.0 due to no predicted samples. Use `zero_division` parameter to control this behavior.\n",
      "  _warn_prf(average, modifier, msg_start, len(result))\n",
      "/home/shashank/anaconda3/lib/python3.9/site-packages/sklearn/metrics/_classification.py:1334: UndefinedMetricWarning: Precision is ill-defined and being set to 0.0 due to no predicted samples. Use `zero_division` parameter to control this behavior.\n",
      "  _warn_prf(average, modifier, msg_start, len(result))\n"
     ]
    }
   ],
   "source": [
    "print('prtb_analysis_wshap_tsphi1: ',roc_auc_score(test_y_n, xai_res_prtb_tsphi1), average_precision_score(test_y_n, xai_res_prtb_tsphi1),f1_score(test_y_n, np.round(xai_res_prtb_tsphi1)),\n",
    "      recall_score(test_y_n, np.round(xai_res_prtb_tsphi1)),precision_score(test_y_n, np.round(xai_res_prtb_tsphi1)),matthews_corrcoef(test_y_n, np.round(xai_res_prtb_tsphi1)))\n",
    "\n",
    "print('prtb_analysis_wshap_tsphi2: ',roc_auc_score(test_y_n, xai_res_prtb_tsphi2), average_precision_score(test_y_n, xai_res_prtb_tsphi2),f1_score(test_y_n, np.round(xai_res_prtb_tsphi2)),\n",
    "      recall_score(test_y_n, np.round(xai_res_prtb_tsphi2)),precision_score(test_y_n, np.round(xai_res_prtb_tsphi2)),matthews_corrcoef(test_y_n, np.round(xai_res_prtb_tsphi2)))\n",
    "\n",
    "print('prtb_analysis_wshap_tsphi3: ',roc_auc_score(test_y_n, xai_res_prtb_tsphi3), average_precision_score(test_y_n, xai_res_prtb_tsphi3),f1_score(test_y_n, np.round(xai_res_prtb_tsphi3)),\n",
    "      recall_score(test_y_n, np.round(xai_res_prtb_tsphi3)),precision_score(test_y_n, np.round(xai_res_prtb_tsphi3)),matthews_corrcoef(test_y_n, np.round(xai_res_prtb_tsphi3)))"
   ]
  },
  {
   "cell_type": "code",
   "execution_count": 23,
   "id": "7a746a5b-2b40-4c46-90e5-de3d20e91ecd",
   "metadata": {},
   "outputs": [
    {
     "name": "stdout",
     "output_type": "stream",
     "text": [
      "sqnc_analysis_wshap_tsphi1:  1.0 1.0 0.0 0.0 0.0 0.0\n",
      "sqnc_analysis_wshap_tsphi2:  0.9333333333333333 0.75 0.0 0.0 0.0 0.0\n",
      "sqnc_analysis_wshap_tsphi3:  0.9 0.7 0.0 0.0 0.0 0.0\n"
     ]
    },
    {
     "name": "stderr",
     "output_type": "stream",
     "text": [
      "/home/shashank/anaconda3/lib/python3.9/site-packages/sklearn/metrics/_classification.py:1334: UndefinedMetricWarning: Precision is ill-defined and being set to 0.0 due to no predicted samples. Use `zero_division` parameter to control this behavior.\n",
      "  _warn_prf(average, modifier, msg_start, len(result))\n",
      "/home/shashank/anaconda3/lib/python3.9/site-packages/sklearn/metrics/_classification.py:1334: UndefinedMetricWarning: Precision is ill-defined and being set to 0.0 due to no predicted samples. Use `zero_division` parameter to control this behavior.\n",
      "  _warn_prf(average, modifier, msg_start, len(result))\n",
      "/home/shashank/anaconda3/lib/python3.9/site-packages/sklearn/metrics/_classification.py:1334: UndefinedMetricWarning: Precision is ill-defined and being set to 0.0 due to no predicted samples. Use `zero_division` parameter to control this behavior.\n",
      "  _warn_prf(average, modifier, msg_start, len(result))\n"
     ]
    }
   ],
   "source": [
    "print('sqnc_analysis_wshap_tsphi1: ',roc_auc_score(test_y_n, xai_res_sqnc_tsphi1), average_precision_score(test_y_n, xai_res_sqnc_tsphi1),f1_score(test_y_n, np.round(xai_res_sqnc_tsphi1)),\n",
    "      recall_score(test_y_n, np.round(xai_res_sqnc_tsphi1)),precision_score(test_y_n, np.round(xai_res_sqnc_tsphi1)),matthews_corrcoef(test_y_n, np.round(xai_res_sqnc_tsphi1)))\n",
    "\n",
    "\n",
    "print('sqnc_analysis_wshap_tsphi2: ',roc_auc_score(test_y_n, xai_res_sqnc_tsphi2), average_precision_score(test_y_n, xai_res_sqnc_tsphi2),f1_score(test_y_n, np.round(xai_res_sqnc_tsphi2)),\n",
    "      recall_score(test_y_n, np.round(xai_res_sqnc_tsphi2)),precision_score(test_y_n, np.round(xai_res_sqnc_tsphi2)),matthews_corrcoef(test_y_n, np.round(xai_res_sqnc_tsphi2)))\n",
    "\n",
    "print('sqnc_analysis_wshap_tsphi3: ',roc_auc_score(test_y_n, xai_res_sqnc_tsphi3), average_precision_score(test_y_n, xai_res_sqnc_tsphi3),f1_score(test_y_n, np.round(xai_res_sqnc_tsphi3)),\n",
    "      recall_score(test_y_n, np.round(xai_res_sqnc_tsphi3)),precision_score(test_y_n, np.round(xai_res_sqnc_tsphi3)),matthews_corrcoef(test_y_n, np.round(xai_res_sqnc_tsphi3)))"
   ]
  },
  {
   "cell_type": "code",
   "execution_count": null,
   "id": "00da9871-e96f-4c2e-abf1-8a49fecbe98d",
   "metadata": {},
   "outputs": [],
   "source": []
  }
 ],
 "metadata": {
  "kernelspec": {
   "display_name": "Python 3 (ipykernel)",
   "language": "python",
   "name": "python3"
  },
  "language_info": {
   "codemirror_mode": {
    "name": "ipython",
    "version": 3
   },
   "file_extension": ".py",
   "mimetype": "text/x-python",
   "name": "python",
   "nbconvert_exporter": "python",
   "pygments_lexer": "ipython3",
   "version": "3.9.12"
  }
 },
 "nbformat": 4,
 "nbformat_minor": 5
}
