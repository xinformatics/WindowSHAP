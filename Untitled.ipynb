{
 "cells": [
  {
   "cell_type": "code",
   "execution_count": 64,
   "id": "6b44be3d-d559-4336-ac77-c90f1318ff58",
   "metadata": {},
   "outputs": [],
   "source": [
    "import matplotlib.pyplot as plt"
   ]
  },
  {
   "cell_type": "code",
   "execution_count": 65,
   "id": "95759fc5-6250-47a4-9b25-6105650c94f2",
   "metadata": {},
   "outputs": [],
   "source": [
    "cmap = plt.get_cmap('PuOr_r')"
   ]
  },
  {
   "cell_type": "code",
   "execution_count": 66,
   "id": "e7d7120b-e7e5-446a-8bb1-6c1bd5cafada",
   "metadata": {},
   "outputs": [],
   "source": [
    "cmaplist = [cmap(i) for i in range(cmap.N)]"
   ]
  },
  {
   "cell_type": "code",
   "execution_count": 67,
   "id": "dc682731-b92d-4ed6-afe2-e7d58515ee73",
   "metadata": {},
   "outputs": [
    {
     "data": {
      "image/png": "[encoded data removed]",
      "text/html": [
       "<div style=\"vertical-align: middle;\"><strong>PuOr_r</strong> </div><div class=\"cmap\"><img alt=\"PuOr_r colormap\" title=\"PuOr_r\" style=\"border: 1px solid #555;\" src=\"data:image/png;base64,iVBORw0KGgoAAAANSUhEUgAAAgAAAABACAYAAABsv8+/AAAAFXRFWHRUaXRsZQBQdU9yX3IgY29sb3JtYXBoQtDyAAAAG3RFWHREZXNjcmlwdGlvbgBQdU9yX3IgY29sb3JtYXAh1cgWAAAAMHRFWHRBdXRob3IATWF0cGxvdGxpYiB2My41LjEsIGh0dHBzOi8vbWF0cGxvdGxpYi5vcmf3t87PAAAAMnRFWHRTb2Z0d2FyZQBNYXRwbG90bGliIHYzLjUuMSwgaHR0cHM6Ly9tYXRwbG90bGliLm9yZ9kRUegAAAIaSURBVHic7dZBbuMgAIZRcM4zJ5n73ya1u4hxZWxKRmpn87+3oYDBiVpVX/1T/m6llFLrUkopZVleY62Pbt72H5P56Pz39/3Ye/dxebSxnsZ6Wd/PdfN3z33tj9bv75u/t32ffX6My/38Mdlfuvf85/v67zGd1398vs3rLz9/fL7Sjef1pfbPtXvO82Vw/rJ/eW//vsE9y+Rzle31w7bu48dpXtu8DNZn50b7x30/c28t6778fK2v3f1t/ZgP9i/rbT7Zf/f+y7n7+7fJuB7z5/fPf4zOjcbn7fn5udnn3c7j/mfX5u3XuW7tuW6/e76/Z1u7c9092+De6+e4X/+6dzK++9z0XP3d9+337/+OAIAkAgAAAgkAAAgkAAAgkAAAgEACAAACCQAACCQAACCQAACAQAIAAAIJAAAIJAAAIJAAAIBAAgAAAgkAAAgkAAAgkAAAgEACAAACCQAACCQAACCQAACAQAIAAAIJAAAIJAAAIJAAAIBAAgAAAgkAAAgkAAAgkAAAgEACAAACCQAACCQAACCQAACAQAIAAAIJAAAIJAAAIJAAAIBAAgAAAgkAAAgkAAAgkAAAgEACAAACCQAACCQAACCQAACAQAIAAAIJAAAIJAAAIJAAAIBAAgAAAgkAAAgkAAAgkAAAgEACAAACCQAACCQAACCQAACAQAIAAAIJAAAIJAAAIJAAAIBAAgAAAgkAAAj0CUs7J1BUzUZPAAAAAElFTkSuQmCC\"></div><div style=\"vertical-align: middle; max-width: 514px; display: flex; justify-content: space-between;\"><div style=\"float: left;\"><div title=\"#2d004bff\" style=\"display: inline-block; width: 1em; height: 1em; margin: 0; vertical-align: middle; border: 1px solid #555; background-color: #2d004bff;\"></div> under</div><div style=\"margin: 0 auto; display: inline-block;\">bad <div title=\"#00000000\" style=\"display: inline-block; width: 1em; height: 1em; margin: 0; vertical-align: middle; border: 1px solid #555; background-color: #00000000;\"></div></div><div style=\"float: right;\">over <div title=\"#7f3b08ff\" style=\"display: inline-block; width: 1em; height: 1em; margin: 0; vertical-align: middle; border: 1px solid #555; background-color: #7f3b08ff;\"></div></div>"
      ],
      "text/plain": [
       "<matplotlib.colors.LinearSegmentedColormap at 0x7fd0385b1b20>"
      ]
     },
     "execution_count": 67,
     "metadata": {},
     "output_type": "execute_result"
    }
   ],
   "source": [
    "cmap"
   ]
  },
  {
   "cell_type": "code",
   "execution_count": 68,
   "id": "ba4737b9-8e53-485b-8143-077561416c82",
   "metadata": {},
   "outputs": [
    {
     "data": {
      "text/plain": [
       "256"
      ]
     },
     "execution_count": 68,
     "metadata": {},
     "output_type": "execute_result"
    }
   ],
   "source": [
    "len(cmaplist)"
   ]
  },
  {
   "cell_type": "code",
   "execution_count": 69,
   "id": "a58ebf94-abc5-4d93-b33b-1950a333eb54",
   "metadata": {},
   "outputs": [],
   "source": [
    "from matplotlib.colors import BoundaryNorm"
   ]
  },
  {
   "cell_type": "code",
   "execution_count": 70,
   "id": "16e6b74d-d61d-4437-b009-6cc0c6320611",
   "metadata": {},
   "outputs": [],
   "source": [
    "import numpy as np"
   ]
  },
  {
   "cell_type": "code",
   "execution_count": 71,
   "id": "ac290ad6-a25a-4db0-9d2f-1fa968b12b56",
   "metadata": {},
   "outputs": [],
   "source": [
    "cmap = cmap.from_list('Custom cmap', cmaplist, cmap.N)"
   ]
  },
  {
   "cell_type": "code",
   "execution_count": 72,
   "id": "9adc24c6-aa24-4119-8aef-6b6649696629",
   "metadata": {},
   "outputs": [
    {
     "data": {
      "image/png": "[encoded data removed]",
      "text/html": [
       "<div style=\"vertical-align: middle;\"><strong>Custom cmap</strong> </div><div class=\"cmap\"><img alt=\"Custom cmap colormap\" title=\"Custom cmap\" style=\"border: 1px solid #555;\" src=\"data:image/png;base64,iVBORw0KGgoAAAANSUhEUgAAAgAAAABACAYAAABsv8+/AAAAGnRFWHRUaXRsZQBDdXN0b20gY21hcCBjb2xvcm1hcEC6EOwAAAAgdEVYdERlc2NyaXB0aW9uAEN1c3RvbSBjbWFwIGNvbG9ybWFw0aRUugAAADB0RVh0QXV0aG9yAE1hdHBsb3RsaWIgdjMuNS4xLCBodHRwczovL21hdHBsb3RsaWIub3Jn97fOzwAAADJ0RVh0U29mdHdhcmUATWF0cGxvdGxpYiB2My41LjEsIGh0dHBzOi8vbWF0cGxvdGxpYi5vcmfZEVHoAAACGklEQVR4nO3WQW7jIACGUXDOMyeZ+98mtbuIcWVsSkZqZ/O/t6GAwYlaVV/9U/5upZRS61JKKWVZXmOtj27e9h+T+ej89/f92Hv3cXm0sZ7Gelnfz3Xzd8997Y/W7++bv7d9n31+jMv9/DHZX7r3/Of7+u8xndd/fL7N6y8/f3y+0o3n9aX2z7V7zvNlcP6yf3lv/77BPcvkc5Xt9cO27uPHaV7bvAzWZ+dG+8d9P3NvLeu+/Hytr939bf2YD/Yv620+2X/3/su5+/u3ybge8+f3z3+Mzo3G5+35+bnZ593O4/5n1+bt17lu7bluv3u+v2dbu3PdPdvg3uvnuF//uncyvvvc9Fz93fft9+//jgCAJAIAAAIJAAAIJAAAIJAAAIBAAgAAAgkAAAgkAAAgkAAAgEACAAACCQAACCQAACCQAACAQAIAAAIJAAAIJAAAIJAAAIBAAgAAAgkAAAgkAAAgkAAAgEACAAACCQAACCQAACCQAACAQAIAAAIJAAAIJAAAIJAAAIBAAgAAAgkAAAgkAAAgkAAAgEACAAACCQAACCQAACCQAACAQAIAAAIJAAAIJAAAIJAAAIBAAgAAAgkAAAgkAAAgkAAAgEACAAACCQAACCQAACCQAACAQAIAAAIJAAAIJAAAIJAAAIBAAgAAAgkAAAgkAAAgkAAAgEACAAACCQAACCQAACCQAACAQAIAAAIJAAAI9AlLOydQVM1GTwAAAABJRU5ErkJggg==\"></div><div style=\"vertical-align: middle; max-width: 514px; display: flex; justify-content: space-between;\"><div style=\"float: left;\"><div title=\"#2d004bff\" style=\"display: inline-block; width: 1em; height: 1em; margin: 0; vertical-align: middle; border: 1px solid #555; background-color: #2d004bff;\"></div> under</div><div style=\"margin: 0 auto; display: inline-block;\">bad <div title=\"#00000000\" style=\"display: inline-block; width: 1em; height: 1em; margin: 0; vertical-align: middle; border: 1px solid #555; background-color: #00000000;\"></div></div><div style=\"float: right;\">over <div title=\"#7f3b08ff\" style=\"display: inline-block; width: 1em; height: 1em; margin: 0; vertical-align: middle; border: 1px solid #555; background-color: #7f3b08ff;\"></div></div>"
      ],
      "text/plain": [
       "<matplotlib.colors.LinearSegmentedColormap at 0x7fd038244a90>"
      ]
     },
     "execution_count": 72,
     "metadata": {},
     "output_type": "execute_result"
    }
   ],
   "source": [
    "cmap"
   ]
  },
  {
   "cell_type": "code",
   "execution_count": 122,
   "id": "c0cdce0c-9950-4948-a38e-d6e12bcdadce",
   "metadata": {},
   "outputs": [],
   "source": [
    "### load shap\n",
    "\n",
    "# ts_phi_1 = np.load('ts_phi_1.npy')\n",
    "# ts_phi_2 = np.load('ts_phi_2.npy')\n",
    "ts_phi_3 = np.load('ts_phi_3.npy')"
   ]
  },
  {
   "cell_type": "code",
   "execution_count": 139,
   "id": "6b51c089-d8bd-428e-aec9-03f5bf833481",
   "metadata": {},
   "outputs": [],
   "source": [
    "var = 2\n",
    "phi_index = 0"
   ]
  },
  {
   "cell_type": "code",
   "execution_count": 140,
   "id": "fda529ef-4745-410e-b9b5-000b2636f871",
   "metadata": {},
   "outputs": [],
   "source": [
    "shap_values=ts_phi_3[phi_index, :, var]"
   ]
  },
  {
   "cell_type": "code",
   "execution_count": 141,
   "id": "523bccae-0410-4696-8579-36247f071337",
   "metadata": {},
   "outputs": [
    {
     "data": {
      "text/plain": [
       "array([-5.74090876e-05, -5.74090876e-05, -5.74090876e-05, -5.74090876e-05,\n",
       "       -5.74090876e-05, -5.74090876e-05, -5.74090876e-05, -5.74090876e-05,\n",
       "       -5.74090876e-05, -5.74090876e-05, -5.74090876e-05, -5.74090876e-05,\n",
       "       -5.74090876e-05, -5.74090876e-05, -5.74090876e-05, -5.74090876e-05,\n",
       "       -5.74090876e-05, -5.74090876e-05, -5.74090876e-05, -5.74090876e-05,\n",
       "       -5.74090876e-05, -5.74090876e-05, -5.74090876e-05, -5.02354822e-05,\n",
       "       -5.02354822e-05, -5.02354822e-05, -5.02354822e-05, -5.02354822e-05,\n",
       "       -5.02354822e-05, -5.02354822e-05, -5.02354822e-05, -5.02354822e-05,\n",
       "       -5.02354822e-05, -5.02354822e-05, -5.02354822e-05, -5.10712576e-04,\n",
       "       -5.10712576e-04, -5.10712576e-04, -5.10712576e-04, -5.10712576e-04,\n",
       "       -5.10712576e-04, -5.10712576e-04, -5.10712576e-04, -5.10712576e-04,\n",
       "       -5.10712576e-04, -5.10712576e-04, -5.10712576e-04, -5.10712576e-04])"
      ]
     },
     "execution_count": 141,
     "metadata": {},
     "output_type": "execute_result"
    }
   ],
   "source": [
    "shap_values"
   ]
  },
  {
   "cell_type": "code",
   "execution_count": 126,
   "id": "c81ddef9-6e44-4a28-b98d-ad7d97548b75",
   "metadata": {},
   "outputs": [],
   "source": [
    "bounds = np.arange(np.min(shap_values),np.max(shap_values),.005)"
   ]
  },
  {
   "cell_type": "code",
   "execution_count": 127,
   "id": "c3dc4ab5-ef58-4128-85e0-e815f9102618",
   "metadata": {},
   "outputs": [
    {
     "data": {
      "text/plain": [
       "0.0024808082474030435"
      ]
     },
     "execution_count": 127,
     "metadata": {},
     "output_type": "execute_result"
    }
   ],
   "source": [
    "np.max(shap_values)"
   ]
  },
  {
   "cell_type": "code",
   "execution_count": 128,
   "id": "d36fc9d8-87cc-41cb-b05d-887d4c97ba92",
   "metadata": {},
   "outputs": [
    {
     "data": {
      "text/plain": [
       "array([-0.00445886,  0.00054114])"
      ]
     },
     "execution_count": 128,
     "metadata": {},
     "output_type": "execute_result"
    }
   ],
   "source": [
    "bounds"
   ]
  },
  {
   "cell_type": "code",
   "execution_count": 129,
   "id": "641bd6ad-2dbe-4985-98d4-89e363020e14",
   "metadata": {},
   "outputs": [],
   "source": [
    "idx=np.searchsorted(bounds,0)"
   ]
  },
  {
   "cell_type": "code",
   "execution_count": 130,
   "id": "8731237a-9d9b-4152-948d-f925137be352",
   "metadata": {},
   "outputs": [
    {
     "data": {
      "text/plain": [
       "1"
      ]
     },
     "execution_count": 130,
     "metadata": {},
     "output_type": "execute_result"
    }
   ],
   "source": [
    "idx"
   ]
  },
  {
   "cell_type": "code",
   "execution_count": 131,
   "id": "dc0a64cb-b0ba-42b0-b7aa-4068779f15d3",
   "metadata": {},
   "outputs": [],
   "source": [
    "bounds=np.insert(bounds,idx,0)"
   ]
  },
  {
   "cell_type": "code",
   "execution_count": 132,
   "id": "9879fbd1-acec-462e-a484-bca1417df26d",
   "metadata": {},
   "outputs": [
    {
     "data": {
      "text/plain": [
       "array([-0.00445886,  0.        ,  0.00054114])"
      ]
     },
     "execution_count": 132,
     "metadata": {},
     "output_type": "execute_result"
    }
   ],
   "source": [
    "bounds"
   ]
  },
  {
   "cell_type": "code",
   "execution_count": 133,
   "id": "117bcd43-1e62-4889-a4f0-6d67eda8081a",
   "metadata": {},
   "outputs": [],
   "source": [
    "norm = BoundaryNorm(bounds, cmap.N)"
   ]
  },
  {
   "cell_type": "code",
   "execution_count": 134,
   "id": "48004c3d-e7c3-4a8b-a74f-88947b221a7e",
   "metadata": {},
   "outputs": [
    {
     "data": {
      "text/plain": [
       "<matplotlib.colors.BoundaryNorm at 0x7fd02a6acb80>"
      ]
     },
     "execution_count": 134,
     "metadata": {},
     "output_type": "execute_result"
    }
   ],
   "source": [
    "norm"
   ]
  },
  {
   "cell_type": "code",
   "execution_count": 135,
   "id": "50a02341-176c-409b-9483-f60c579ca0b5",
   "metadata": {},
   "outputs": [
    {
     "data": {
      "text/plain": [
       "<matplotlib.colorbar.Colorbar at 0x7fd02a61f2e0>"
      ]
     },
     "execution_count": 135,
     "metadata": {},
     "output_type": "execute_result"
    },
    {
     "data": {
      "image/png": "[encoded data removed]",
      "text/plain": [
       "<Figure size 432x288 with 2 Axes>"
      ]
     },
     "metadata": {
      "needs_background": "light"
     },
     "output_type": "display_data"
    }
   ],
   "source": [
    "fig, ax1 = plt.subplots(sharex=True)\n",
    "extent = [0, 48, -2, 2]\n",
    "im1 = ax1.imshow(shap_values[np.newaxis, :], cmap=cmap, norm=norm, aspect=\"auto\", extent=extent)\n",
    "ax1.set_yticks([])\n",
    "ax1.set_xlim(extent[0], extent[1])\n",
    "# ax1.title.set_text(title)\n",
    "fig.colorbar(im1, ax=ax1, pad=0.1)"
   ]
  },
  {
   "cell_type": "code",
   "execution_count": null,
   "id": "32348d15-8376-4a7a-a9bf-9ab5ad6591d9",
   "metadata": {},
   "outputs": [],
   "source": []
  }
 ],
 "metadata": {
  "kernelspec": {
   "display_name": "Python 3 (ipykernel)",
   "language": "python",
   "name": "python3"
  },
  "language_info": {
   "codemirror_mode": {
    "name": "ipython",
    "version": 3
   },
   "file_extension": ".py",
   "mimetype": "text/x-python",
   "name": "python",
   "nbconvert_exporter": "python",
   "pygments_lexer": "ipython3",
   "version": "3.9.12"
  }
 },
 "nbformat": 4,
 "nbformat_minor": 5
}
