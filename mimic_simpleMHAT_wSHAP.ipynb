{
 "cells": [
  {
   "cell_type": "code",
   "execution_count": 1,
   "id": "77b901c4-1cae-4e4a-8d97-643fc97e7559",
   "metadata": {},
   "outputs": [
    {
     "name": "stderr",
     "output_type": "stream",
     "text": [
      "2023-03-06 01:17:17.824939: I tensorflow/core/platform/cpu_feature_guard.cc:193] This TensorFlow binary is optimized with oneAPI Deep Neural Network Library (oneDNN) to use the following CPU instructions in performance-critical operations:  AVX2 FMA\n",
      "To enable them in other operations, rebuild TensorFlow with the appropriate compiler flags.\n",
      "2023-03-06 01:17:22.627393: E tensorflow/stream_executor/cuda/cuda_blas.cc:2981] Unable to register cuBLAS factory: Attempting to register factory for plugin cuBLAS when one has already been registered\n",
      "2023-03-06 01:17:27.016599: W tensorflow/stream_executor/platform/default/dso_loader.cc:64] Could not load dynamic library 'libnvinfer.so.7'; dlerror: libnvinfer.so.7: cannot open shared object file: No such file or directory\n",
      "2023-03-06 01:17:27.016673: W tensorflow/stream_executor/platform/default/dso_loader.cc:64] Could not load dynamic library 'libnvinfer_plugin.so.7'; dlerror: libnvinfer_plugin.so.7: cannot open shared object file: No such file or directory\n",
      "2023-03-06 01:17:27.016679: W tensorflow/compiler/tf2tensorrt/utils/py_utils.cc:38] TF-TRT Warning: Cannot dlopen some TensorRT libraries. If you would like to use Nvidia GPU with TensorRT, please make sure the missing libraries mentioned above are installed properly.\n"
     ]
    }
   ],
   "source": [
    "from tensorflow import keras\n",
    "from tensorflow.keras import layers\n",
    "from tensorflow.keras.callbacks import EarlyStopping, ModelCheckpoint,ReduceLROnPlateau\n",
    "import numpy as np\n",
    "import matplotlib.pyplot as plt\n",
    "import timeit\n",
    "from sklearn.metrics import roc_auc_score, f1_score, recall_score, precision_score, average_precision_score, matthews_corrcoef\n",
    "from util import heat_map, xai_eval_fnc"
   ]
  },
  {
   "cell_type": "code",
   "execution_count": 2,
   "id": "ff102a28",
   "metadata": {},
   "outputs": [],
   "source": [
    "# %load_ext autoreload\n",
    "# %reload_ext util"
   ]
  },
  {
   "cell_type": "code",
   "execution_count": 3,
   "id": "5b589e31-363c-4c1c-bd75-b4cded5eddc7",
   "metadata": {},
   "outputs": [
    {
     "name": "stdout",
     "output_type": "stream",
     "text": [
      "(18390, 48, 26) (4598, 48, 26) (18390, 1) (4598, 1)\n"
     ]
    }
   ],
   "source": [
    "##### load data and reformat\n",
    "data = np.load('train_test_x_y.npz')\n",
    "train_x, test_x, train_y, test_y  = data['arr_0'], data['arr_1'], data['arr_2'], data['arr_3'] \n",
    "train_y = train_y.reshape(-1,1)\n",
    "test_y  = test_y.reshape(-1,1)\n",
    "print(train_x.shape, test_x.shape, train_y.shape, test_y.shape)\n",
    "\n"
   ]
  },
  {
   "cell_type": "code",
   "execution_count": 4,
   "id": "99d66606-ab34-4ad8-8426-68e170307d8d",
   "metadata": {},
   "outputs": [
    {
     "name": "stderr",
     "output_type": "stream",
     "text": [
      "2023-03-06 01:17:39.544015: I tensorflow/stream_executor/cuda/cuda_gpu_executor.cc:980] successful NUMA node read from SysFS had negative value (-1), but there must be at least one NUMA node, so returning NUMA node zero\n",
      "2023-03-06 01:17:40.480089: I tensorflow/stream_executor/cuda/cuda_gpu_executor.cc:980] successful NUMA node read from SysFS had negative value (-1), but there must be at least one NUMA node, so returning NUMA node zero\n",
      "2023-03-06 01:17:40.480350: I tensorflow/stream_executor/cuda/cuda_gpu_executor.cc:980] successful NUMA node read from SysFS had negative value (-1), but there must be at least one NUMA node, so returning NUMA node zero\n",
      "2023-03-06 01:17:40.495451: I tensorflow/core/platform/cpu_feature_guard.cc:193] This TensorFlow binary is optimized with oneAPI Deep Neural Network Library (oneDNN) to use the following CPU instructions in performance-critical operations:  AVX2 FMA\n",
      "To enable them in other operations, rebuild TensorFlow with the appropriate compiler flags.\n",
      "2023-03-06 01:17:40.506499: I tensorflow/stream_executor/cuda/cuda_gpu_executor.cc:980] successful NUMA node read from SysFS had negative value (-1), but there must be at least one NUMA node, so returning NUMA node zero\n",
      "2023-03-06 01:17:40.506805: I tensorflow/stream_executor/cuda/cuda_gpu_executor.cc:980] successful NUMA node read from SysFS had negative value (-1), but there must be at least one NUMA node, so returning NUMA node zero\n",
      "2023-03-06 01:17:40.506978: I tensorflow/stream_executor/cuda/cuda_gpu_executor.cc:980] successful NUMA node read from SysFS had negative value (-1), but there must be at least one NUMA node, so returning NUMA node zero\n",
      "2023-03-06 01:17:45.266885: I tensorflow/stream_executor/cuda/cuda_gpu_executor.cc:980] successful NUMA node read from SysFS had negative value (-1), but there must be at least one NUMA node, so returning NUMA node zero\n",
      "2023-03-06 01:17:45.284869: I tensorflow/stream_executor/cuda/cuda_gpu_executor.cc:980] successful NUMA node read from SysFS had negative value (-1), but there must be at least one NUMA node, so returning NUMA node zero\n",
      "2023-03-06 01:17:45.285095: I tensorflow/stream_executor/cuda/cuda_gpu_executor.cc:980] successful NUMA node read from SysFS had negative value (-1), but there must be at least one NUMA node, so returning NUMA node zero\n",
      "2023-03-06 01:17:45.292861: I tensorflow/core/common_runtime/gpu/gpu_device.cc:1616] Created device /job:localhost/replica:0/task:0/device:GPU:0 with 2621 MB memory:  -> device: 0, name: NVIDIA GeForce GTX 1650, pci bus id: 0000:01:00.0, compute capability: 7.5\n"
     ]
    }
   ],
   "source": [
    "#### load model\n",
    "\n",
    "model = keras.models.load_model('mimic3_ts_transformer_4march_wattscores_48x26x26.h5_best.hdf5', compile=False)"
   ]
  },
  {
   "cell_type": "code",
   "execution_count": 5,
   "id": "121e2035-9749-4236-9f85-6891f7577492",
   "metadata": {},
   "outputs": [
    {
     "name": "stderr",
     "output_type": "stream",
     "text": [
      "2023-03-06 01:18:02.837255: I tensorflow/stream_executor/cuda/cuda_dnn.cc:384] Loaded cuDNN version 8500\n"
     ]
    },
    {
     "name": "stdout",
     "output_type": "stream",
     "text": [
      "0.6110341117650782\n",
      "0.1505385556359674\n",
      "0.20408163265306123\n",
      "0.2183406113537118\n",
      "0.19157088122605365\n",
      "0.10989155255655954\n"
     ]
    }
   ],
   "source": [
    "print(roc_auc_score(test_y, model.predict(test_x, verbose=0)))\n",
    "print(average_precision_score(test_y, model.predict(test_x, verbose=0)))\n",
    "print(f1_score(test_y, np.round(model.predict(test_x, verbose=0))))\n",
    "print(recall_score(test_y, np.round(model.predict(test_x, verbose=0))))\n",
    "print(precision_score(test_y, np.round(model.predict(test_x, verbose=0))))\n",
    "print(matthews_corrcoef(test_y, np.round(model.predict(test_x, verbose=0))))"
   ]
  },
  {
   "cell_type": "code",
   "execution_count": 6,
   "id": "2b11cb6b-9359-4be4-aebd-7531e498004d",
   "metadata": {},
   "outputs": [],
   "source": [
    "############# load wSHAP scores obtained from HPC\n",
    "\n",
    "ts_phi_1 = np.load('mhat_ts_phi_1.npy') #p1-p50\n",
    "ts_phi_2 = np.load('mhat_ts_phi_2.npy') #p1-p50\n",
    "ts_phi_3 = np.load('mhat_ts_phi_3.npy') #p1-p50"
   ]
  },
  {
   "cell_type": "code",
   "execution_count": 8,
   "id": "152862e3-39bf-4faa-9664-c318ef2698c2",
   "metadata": {},
   "outputs": [
    {
     "data": {
      "text/plain": [
       "((50, 48, 26), (50, 48, 26), (50, 48, 26))"
      ]
     },
     "execution_count": 8,
     "metadata": {},
     "output_type": "execute_result"
    }
   ],
   "source": [
    "ts_phi_1.shape, ts_phi_2.shape, ts_phi_3.shape"
   ]
  },
  {
   "cell_type": "code",
   "execution_count": 9,
   "id": "13a5495b",
   "metadata": {},
   "outputs": [],
   "source": [
    "######## visualization of wSHAP scores\n",
    "feature_map_mimic_26 = ['ANION GAP', 'ALBUMIN', 'BICARBONATE', 'BILIRUBIN','CREATININE', 'CHLORIDE', 'GLUCOSE', 'HEMATOCRIT', \n",
    "                     'LACTATE', 'MAGNESIUM', 'PHOSPHATE','PLATELET', 'POTASSIUM', 'PTT','INR', 'PT', \n",
    "                     'SODIUM', 'BUN', 'WBC', 'HeartRate', 'SysBP', 'DiasBP', 'MeanBP', 'RespRate', 'SpO2','Temp']"
   ]
  },
  {
   "cell_type": "code",
   "execution_count": 10,
   "id": "b8b82f6f-c1f8-442f-92d8-70a552d9f6ee",
   "metadata": {},
   "outputs": [],
   "source": [
    "num_test = 0 #50 in next turn\n",
    "var = 18        #### feature index\n",
    "phi_index = 0   #### patient index"
   ]
  },
  {
   "cell_type": "markdown",
   "id": "5797829f-69a2-41ef-aebb-1304464ab29c",
   "metadata": {
    "tags": []
   },
   "source": [
    "## Heatmap for Stationary SHAP"
   ]
  },
  {
   "cell_type": "code",
   "execution_count": 12,
   "id": "ade07654-2e37-49f9-a17e-2c75c9aded34",
   "metadata": {},
   "outputs": [
    {
     "data": {
      "image/png": "[encoded data removed]",
      "text/plain": [
       "<Figure size 612x180 with 2 Axes>"
      ]
     },
     "metadata": {
      "needs_background": "light"
     },
     "output_type": "display_data"
    }
   ],
   "source": [
    "heat_map(start=0, stop=48, x=test_x[num_test + phi_index, :, var], shap_values=ts_phi_1[num_test + phi_index, :, var], var_name=feature_map_mimic_26[var], plot_type='bar')"
   ]
  },
  {
   "cell_type": "markdown",
   "id": "4087cc3b-c148-4d0e-adc6-11a0011d595b",
   "metadata": {},
   "source": [
    "## Heatmap for Sliding SHAP"
   ]
  },
  {
   "cell_type": "code",
   "execution_count": 14,
   "id": "311ccda6-0ed5-4b55-99c8-a375e5f7f60b",
   "metadata": {},
   "outputs": [],
   "source": [
    "# heat_map(start=0, stop=48, x=test_x[num_test + phi_index, :, var], shap_values=ts_phi_2[num_test + phi_index, :, var], var_name=feature_map_mimic_26[var], plot_type='bar')"
   ]
  },
  {
   "cell_type": "markdown",
   "id": "ca871edc-f34d-45b9-b3cf-6d95caeb3813",
   "metadata": {},
   "source": [
    "## Heatmap for Dynamic SHAP"
   ]
  },
  {
   "cell_type": "code",
   "execution_count": 15,
   "id": "4ae4a607-5921-411b-ac35-8dde0fc461e7",
   "metadata": {},
   "outputs": [
    {
     "data": {
      "image/png": "[encoded data removed]",
      "text/plain": [
       "<Figure size 612x180 with 2 Axes>"
      ]
     },
     "metadata": {
      "needs_background": "light"
     },
     "output_type": "display_data"
    }
   ],
   "source": [
    "heat_map(start=0, stop=48, x=test_x[num_test + phi_index, :, var], shap_values=ts_phi_3[num_test + phi_index, :, var], var_name=feature_map_mimic_26[var], plot_type='bar')"
   ]
  },
  {
   "cell_type": "code",
   "execution_count": null,
   "id": "fff8e678",
   "metadata": {},
   "outputs": [],
   "source": [
    "########## perturbation and seq based analysis; change in loss and metrics"
   ]
  },
  {
   "cell_type": "code",
   "execution_count": null,
   "id": "ef4d3527",
   "metadata": {},
   "outputs": [],
   "source": []
  },
  {
   "cell_type": "code",
   "execution_count": null,
   "id": "76112a28",
   "metadata": {},
   "outputs": [],
   "source": []
  },
  {
   "cell_type": "code",
   "execution_count": null,
   "id": "59b20ee0",
   "metadata": {},
   "outputs": [],
   "source": []
  },
  {
   "cell_type": "code",
   "execution_count": null,
   "id": "da6fcbf3",
   "metadata": {},
   "outputs": [],
   "source": []
  },
  {
   "cell_type": "code",
   "execution_count": null,
   "id": "2d853739",
   "metadata": {},
   "outputs": [],
   "source": []
  },
  {
   "cell_type": "code",
   "execution_count": null,
   "id": "03fffc14",
   "metadata": {},
   "outputs": [],
   "source": []
  }
 ],
 "metadata": {
  "kernelspec": {
   "display_name": "Python 3 (ipykernel)",
   "language": "python",
   "name": "python3"
  },
  "language_info": {
   "codemirror_mode": {
    "name": "ipython",
    "version": 3
   },
   "file_extension": ".py",
   "mimetype": "text/x-python",
   "name": "python",
   "nbconvert_exporter": "python",
   "pygments_lexer": "ipython3",
   "version": "3.9.12"
  }
 },
 "nbformat": 4,
 "nbformat_minor": 5
}
