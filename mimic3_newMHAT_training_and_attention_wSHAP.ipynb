{
 "cells": [
  {
   "cell_type": "code",
   "execution_count": 1,
   "id": "53f7cc09-b99e-4562-b125-894290a81261",
   "metadata": {},
   "outputs": [
    {
     "name": "stderr",
     "output_type": "stream",
     "text": [
      "2023-03-18 18:30:25.296239: I tensorflow/core/platform/cpu_feature_guard.cc:193] This TensorFlow binary is optimized with oneAPI Deep Neural Network Library (oneDNN) to use the following CPU instructions in performance-critical operations:  AVX2 FMA\n",
      "To enable them in other operations, rebuild TensorFlow with the appropriate compiler flags.\n",
      "2023-03-18 18:30:29.743683: E tensorflow/stream_executor/cuda/cuda_blas.cc:2981] Unable to register cuBLAS factory: Attempting to register factory for plugin cuBLAS when one has already been registered\n",
      "2023-03-18 18:30:35.157166: W tensorflow/stream_executor/platform/default/dso_loader.cc:64] Could not load dynamic library 'libnvinfer.so.7'; dlerror: libnvinfer.so.7: cannot open shared object file: No such file or directory\n",
      "2023-03-18 18:30:35.157279: W tensorflow/stream_executor/platform/default/dso_loader.cc:64] Could not load dynamic library 'libnvinfer_plugin.so.7'; dlerror: libnvinfer_plugin.so.7: cannot open shared object file: No such file or directory\n",
      "2023-03-18 18:30:35.157285: W tensorflow/compiler/tf2tensorrt/utils/py_utils.cc:38] TF-TRT Warning: Cannot dlopen some TensorRT libraries. If you would like to use Nvidia GPU with TensorRT, please make sure the missing libraries mentioned above are installed properly.\n"
     ]
    }
   ],
   "source": [
    "from tensorflow import keras\n",
    "from tensorflow.keras import layers\n",
    "from tensorflow.keras.callbacks import EarlyStopping, ModelCheckpoint,ReduceLROnPlateau\n",
    "import numpy as np\n",
    "import matplotlib.pyplot as plt\n",
    "import timeit\n",
    "from sklearn.model_selection import train_test_split, StratifiedKFold\n",
    "from utils_window import TimeSeriesScaler, f1_m, MIMIC_DATA_PATH\n",
    "\n",
    "\n",
    "from sklearn.metrics import roc_auc_score, f1_score, recall_score, precision_score, average_precision_score, matthews_corrcoef\n",
    "# from util import heat_map, xai_eval_fnc"
   ]
  },
  {
   "cell_type": "code",
   "execution_count": 2,
   "id": "8194e9bd-c445-4157-8b76-d3217c8a9100",
   "metadata": {},
   "outputs": [],
   "source": [
    "import numpy as np\n",
    "import math\n",
    "from copy import deepcopy\n",
    "\n",
    "def xai_eval_fnc(model, relevence, input_x, model_type='lstm', percentile=90,\n",
    "                 eval_type='prtb', seq_len=10, by='all'):\n",
    "    \"\"\"\n",
    "    Evaluates the quality metrics of time-series importance scores using various evaluation methods.\n",
    "\n",
    "    Parameters\n",
    "    ----------\n",
    "    model : prediction model that is explained \n",
    "    relevance : A 3D array of importance scores for each time step of the time-series data\n",
    "    input_x : input data of the prediction model. If the input data consists of different modalities, the first module should be a 3D time series data\n",
    "    model_type (optional) : type of model, either 'lstm' or 'lstm_plus'. Use 'lstm' when the time series data is the only modality of the input, otherwise use 'lstm_plus'\n",
    "    percentile (optional) : percentile of top time steps that are going to be pertubed\n",
    "    eval_type (optional) : evaluation method, either 'prtb' for the perturbation analysis metric or 'sqnc' for sequence analysis metric\n",
    "    seq_len (optional) : sequence length for 'sqnc' method\n",
    "    by (optional) : whether to evaluate each temporal feature separately or all time steps together, either 'time' or 'all'\n",
    "\n",
    "    Returns : prediction of the modified input time-series data using the input model\n",
    "    \"\"\"\n",
    "    \n",
    "    input_new = deepcopy(input_x)\n",
    "    relevence = np.absolute(relevence)\n",
    "    \n",
    "    # TO DO: Add other type of models\n",
    "    if model_type == 'lstm_plus':\n",
    "        input_ts = input_x[0]\n",
    "        input_new_ts = input_new[0]\n",
    "    elif model_type == 'lstm':\n",
    "        input_ts = input_x\n",
    "        input_new_ts = input_new\n",
    "    \n",
    "    assert len(input_ts.shape)==3 # the time sereis data needs to be 3-dimensional\n",
    "    num_feature = input_ts.shape[2]\n",
    "    num_time_step = input_ts.shape[1]\n",
    "    num_instance = input_ts.shape[0]\n",
    "        \n",
    "    if by=='time':\n",
    "        top_steps = math.ceil((1 - percentile/100) * num_time_step) # finding the number of top steps for each feature\n",
    "        top_indices = np.argsort(relevence, axis=1)[:, -top_steps:, :] # a 3d array of top time steps for each feature\n",
    "        for j in range(num_feature): # converting the indices to a flatten version\n",
    "            top_indices[:, :, j] = top_indices[:, :, j] * num_feature + j\n",
    "        top_indices = top_indices.flatten()\n",
    "    elif by=='all':\n",
    "        top_steps = math.ceil((1 - percentile/100) * num_time_step * num_feature) # finding the number of all top steps\n",
    "        top_indices = np.argsort(relevence, axis=None)[-top_steps:]\n",
    "    # print(top_indices)\n",
    "    \n",
    "    # Create a masking matrix for top time steps\n",
    "    top_indices_mask = np.zeros(input_ts.size)\n",
    "    top_indices_mask[top_indices] = 1\n",
    "    top_indices_mask = top_indices_mask.reshape(input_ts.shape)\n",
    "    \n",
    "    \n",
    "    # Evaluating different metrics\n",
    "    for p in range(num_instance):\n",
    "        for v in range(num_feature):\n",
    "            for t in range(num_time_step):\n",
    "                if top_indices_mask[p, t, v]:\n",
    "                    if eval_type == 'prtb':\n",
    "                        input_new_ts[p,t,v] = np.max(input_ts[p,:,v]) - input_ts[p,t,v]\n",
    "                        # input_new_ts[p,t,v] = 0 ### possible edit here\n",
    "                    elif eval_type == 'sqnc':\n",
    "                        input_new_ts[p, t:t + seq_len, v] = 0\n",
    "    \n",
    "    return model.predict(input_new)\n",
    "\n",
    "\n",
    "def heat_map(start, stop, x, shap_values, var_name='Feature 1', plot_type='bar', title=None, val_type='wSHAP values'):\n",
    "    \"\"\"\n",
    "    A function that generates a heatmap with the temporal sequence alongside its Shapley values\n",
    "\n",
    "    Parameters\n",
    "    ----------\n",
    "    start (int): the starting point of the temporal sequence\n",
    "    stop (int): the ending point of the temporal sequence\n",
    "    x (np.ndarray): the sequence data\n",
    "    shap_values (np.ndarray): the Shapley values corresponding to the sequence data\n",
    "    var_name (str): the name of the variable being plotted (default: 'Feature 1')\n",
    "    plot_type (str): the type of plot to generate ('bar' or 'heat' or 'heat_abs', default: 'bar')\n",
    "    title (str): the title for the plot (default: None)\n",
    "    \"\"\"\n",
    "    import matplotlib.pyplot as plt\n",
    "    from matplotlib.colors import LinearSegmentedColormap\n",
    "    from matplotlib.colors import BoundaryNorm\n",
    "    from textwrap import wrap\n",
    "    import numpy as np; np.random.seed(1)\n",
    "    \n",
    "    ## ColorMap-------------------------\n",
    "    # define the colormap\n",
    "    cmap = plt.get_cmap('PuOr_r')\n",
    "\n",
    "    # extract all colors from the .jet map\n",
    "    cmaplist = [cmap(i) for i in range(cmap.N)]\n",
    "    # create the new map\n",
    "    cmap = cmap.from_list('Custom cmap', cmaplist, cmap.N)\n",
    "\n",
    "    # define the bins and normalize and forcing 0 to be part of the colorbar!\n",
    "    bounds = np.arange(np.min(shap_values),np.max(shap_values),.5)\n",
    "    idx=np.searchsorted(bounds,0)\n",
    "    bounds=np.insert(bounds,idx,0)\n",
    "    norm = BoundaryNorm(bounds, cmap.N)\n",
    "    # print(bounds)\n",
    "    ##------------------------------------\n",
    "    \n",
    "    if title is None: title = '\\n'.join(wrap('{} values and contribution scores'.format(var_name), width=40))\n",
    "    \n",
    "    if plot_type=='heat' or plot_type=='heat_abs':\n",
    "        plt.rcParams[\"figure.figsize\"] = 9,3\n",
    "        if plot_type=='heat_abs':\n",
    "            shap_values = np.absolute(shap_values)\n",
    "            cmap = 'Reds'\n",
    "        fig, ax1 = plt.subplots(sharex=True)\n",
    "        extent = [start, stop, -2, 2]\n",
    "        im1 = ax1.imshow(shap_values[np.newaxis, :], cmap=cmap, norm=norm, aspect=\"auto\", extent=extent)\n",
    "        ax1.set_yticks([])\n",
    "        ax1.set_xlim(extent[0], extent[1])\n",
    "        ax1.title.set_text(title)\n",
    "        fig.colorbar(im1, ax=ax1, pad=0.1)\n",
    "        ax2 = ax1.twinx()\n",
    "        ax2.plot(np.arange(start, stop), x, color='black')\n",
    "    elif plot_type=='bar':\n",
    "        plt.rcParams[\"figure.figsize\"] = 8.5,2.5\n",
    "        fig, ax1 = plt.subplots(sharex=True)\n",
    "        mask1 = shap_values < 0\n",
    "        mask2 = shap_values >= 0\n",
    "        ax1.bar(np.arange(start, stop)[mask1], shap_values[mask1], color='blue', label='Negative Shapley values')\n",
    "        ax1.bar(np.arange(start, stop)[mask2], shap_values[mask2], color='red', label='Positive Shapley values')\n",
    "        ax1.set_title(title)\n",
    "        ax2 = ax1.twinx()\n",
    "        ax2.plot(np.arange(start, stop), x, 'k-', label='Observed data')\n",
    "        # legends\n",
    "        lines, labels = ax1.get_legend_handles_labels()\n",
    "        lines2, labels2 = ax2.get_legend_handles_labels()\n",
    "        # ax2.legend(lines + lines2, labels + labels2, loc=0)\n",
    "    \n",
    "    ax1.set_xlabel('Time steps')\n",
    "    if plot_type=='bar': ax1.set_ylabel(val_type)\n",
    "    ax2.set_ylabel(var_name + ' data values')\n",
    "    plt.tight_layout()\n",
    "    plt.show()"
   ]
  },
  {
   "cell_type": "code",
   "execution_count": 3,
   "id": "28028924-5632-45b2-9f51-ca83e2286c88",
   "metadata": {},
   "outputs": [],
   "source": [
    "##### load data and reformat\n",
    "data = np.load('mimic3_all.npz')\n",
    "\n",
    "data_x, data_y = data['arr_0'], data['arr_1']\n",
    "\n",
    "data_y = data_y.reshape(-1,1)"
   ]
  },
  {
   "cell_type": "code",
   "execution_count": 4,
   "id": "51c782bd-7b74-47f0-bdc1-bb24200e0bea",
   "metadata": {},
   "outputs": [],
   "source": [
    "# Splitting data\n",
    "train_x, test_x, train_y, test_y= train_test_split(data_x, data_y,test_size=0.05, random_state=1, stratify=data_y)"
   ]
  },
  {
   "cell_type": "code",
   "execution_count": 5,
   "id": "0dcdd8f9-374a-402f-a048-00ccc4bdaeb1",
   "metadata": {},
   "outputs": [],
   "source": [
    "# normalizing train and test set\n",
    "train_scaler, test_scaler = TimeSeriesScaler(), TimeSeriesScaler()\n",
    "train_x = train_scaler.fit_transform(train_x)\n",
    "test_x = test_scaler.fit_transform(test_x)\n",
    "                                   "
   ]
  },
  {
   "cell_type": "code",
   "execution_count": 6,
   "id": "8a0f370c-5d8d-4d6d-addf-9af65f501742",
   "metadata": {},
   "outputs": [
    {
     "data": {
      "text/plain": [
       "((21838, 48, 26), (1150, 48, 26), (21838, 1), (1150, 1))"
      ]
     },
     "execution_count": 6,
     "metadata": {},
     "output_type": "execute_result"
    }
   ],
   "source": [
    "train_x.shape, test_x.shape, train_y.shape, test_y.shape"
   ]
  },
  {
   "cell_type": "code",
   "execution_count": 7,
   "id": "745e7248-bec3-46d1-958c-456370e5b101",
   "metadata": {},
   "outputs": [],
   "source": [
    "from tensorflow import keras\n",
    "from tensorflow.keras import layers\n",
    "from tensorflow.keras.callbacks import EarlyStopping, ModelCheckpoint,ReduceLROnPlateau"
   ]
  },
  {
   "cell_type": "code",
   "execution_count": 8,
   "id": "bbf52fe1-f4b1-4990-8b6c-e3296a68a808",
   "metadata": {},
   "outputs": [],
   "source": [
    "####\n",
    "import tensorflow.keras.backend as K\n",
    "def clear_sess():\n",
    "  try:\n",
    "    del model \n",
    "    del history \n",
    "  except:\n",
    "    pass\n",
    "  # from tensorflow.keras import backend as K\n",
    "  K.clear_session()\n",
    "  import gc\n",
    "  gc.collect()\n",
    "\n",
    "\n",
    "\n",
    "  return None\n",
    "clear_sess()"
   ]
  },
  {
   "cell_type": "code",
   "execution_count": 9,
   "id": "2187a95c-f6e3-4246-950f-dd880486fc2c",
   "metadata": {},
   "outputs": [],
   "source": [
    "# def transformer_encoder(inputs, head_size, num_heads, ff_dim, dropout=0):\n",
    "#     # Normalization and Attention\n",
    "#     x = layers.LayerNormalization(epsilon=1e-6)(inputs)\n",
    "#     x, weights = layers.MultiHeadAttention(key_dim=head_size, num_heads=num_heads, dropout=dropout, \n",
    "#                                            attention_axes=(1)\n",
    "#                                           )(x, x, return_attention_scores=True)\n",
    "#     x = layers.Dropout(dropout)(x)\n",
    "#     res = x + inputs\n",
    "\n",
    "#     # Feed Forward Part\n",
    "#     x = layers.LayerNormalization(epsilon=1e-6)(res)\n",
    "#     # x = layers.Conv1D(filters=ff_dim, kernel_size=1, activation=\"gelu\")(x)\n",
    "#     # x = layers.Dropout(dropout)(x)\n",
    "#     # x = layers.Conv1D(filters=inputs.shape[-1], kernel_size=1)(x)\n",
    "#     return x + res"
   ]
  },
  {
   "cell_type": "code",
   "execution_count": 10,
   "id": "a347030b-4c8b-4e74-a6ba-c3b4f9835099",
   "metadata": {},
   "outputs": [],
   "source": [
    "# def build_model(input_shape,head_size, num_heads,ff_dim,num_transformer_blocks,mlp_units,dropout=0, mlp_dropout=0):\n",
    "#     inputs = keras.Input(shape=input_shape)\n",
    "#     x = inputs\n",
    "#     for _ in range(num_transformer_blocks):\n",
    "#         x = transformer_encoder(x, head_size, num_heads, ff_dim, dropout)\n",
    "\n",
    "#     x = layers.GlobalAveragePooling1D(data_format=\"channels_first\")(x)\n",
    "#     for dim in mlp_units:\n",
    "#         x = layers.Dense(dim, activation=\"gelu\")(x)\n",
    "#         x = layers.Dropout(mlp_dropout)(x)\n",
    "#     outputs = layers.Dense(1, activation=\"sigmoid\")(x)\n",
    "#     return keras.Model(inputs, outputs)"
   ]
  },
  {
   "cell_type": "code",
   "execution_count": null,
   "id": "1b552342-90f4-4a07-a5d3-bf93c2a10ba6",
   "metadata": {},
   "outputs": [],
   "source": []
  },
  {
   "cell_type": "code",
   "execution_count": 11,
   "id": "142c616e-c873-427e-9773-d4ee970f6dc6",
   "metadata": {},
   "outputs": [
    {
     "name": "stderr",
     "output_type": "stream",
     "text": [
      "2023-03-10 17:47:47.249354: E tensorflow/stream_executor/cuda/cuda_driver.cc:265] failed call to cuInit: CUDA_ERROR_UNKNOWN: unknown error\n",
      "2023-03-10 17:47:47.249377: I tensorflow/stream_executor/cuda/cuda_diagnostics.cc:169] retrieving CUDA diagnostic information for host: Legion5\n",
      "2023-03-10 17:47:47.249381: I tensorflow/stream_executor/cuda/cuda_diagnostics.cc:176] hostname: Legion5\n",
      "2023-03-10 17:47:47.249496: I tensorflow/stream_executor/cuda/cuda_diagnostics.cc:200] libcuda reported version is: 525.85.12\n",
      "2023-03-10 17:47:47.249511: I tensorflow/stream_executor/cuda/cuda_diagnostics.cc:204] kernel reported version is: 525.85.12\n",
      "2023-03-10 17:47:47.249515: I tensorflow/stream_executor/cuda/cuda_diagnostics.cc:310] kernel version seems to match DSO: 525.85.12\n",
      "2023-03-10 17:47:47.249850: I tensorflow/core/platform/cpu_feature_guard.cc:193] This TensorFlow binary is optimized with oneAPI Deep Neural Network Library (oneDNN) to use the following CPU instructions in performance-critical operations:  AVX2 FMA\n",
      "To enable them in other operations, rebuild TensorFlow with the appropriate compiler flags.\n"
     ]
    }
   ],
   "source": [
    "# model = build_model((48, 26),head_size=32,num_heads=26,ff_dim=4,num_transformer_blocks=1,mlp_units=[32],mlp_dropout=0.4,dropout=0.25)"
   ]
  },
  {
   "cell_type": "code",
   "execution_count": null,
   "id": "9987889e-c010-4b72-9ddc-f5945d216505",
   "metadata": {},
   "outputs": [],
   "source": [
    "# model.summary()"
   ]
  },
  {
   "cell_type": "code",
   "execution_count": 13,
   "id": "59722cd0-f34e-4ef9-a18f-90e878db67a7",
   "metadata": {},
   "outputs": [],
   "source": [
    "# def keras_mcc(y_true, y_pred):\n",
    "#     tp = K.sum(K.round(K.clip(y_true * y_pred, 0, 1)))\n",
    "#     tn = K.sum(K.round(K.clip((1 - y_true) * (1 - y_pred), 0, 1)))\n",
    "#     fp = K.sum(K.round(K.clip((1 - y_true) * y_pred, 0, 1)))\n",
    "#     fn = K.sum(K.round(K.clip(y_true * (1 - y_pred), 0, 1)))\n",
    "\n",
    "#     num = tp * tn - fp * fn\n",
    "#     den = (tp + fp) * (tp + fn) * (tn + fp) * (tn + fn)\n",
    "#     return num / K.sqrt(den + K.epsilon())"
   ]
  },
  {
   "cell_type": "code",
   "execution_count": 14,
   "id": "c5ca0299-72b7-4a7a-97da-ba07f5eaa28a",
   "metadata": {},
   "outputs": [],
   "source": [
    "# metrics_c = [keras.metrics.AUC(name=\"auc_roc\",curve=\"ROC\"),keras.metrics.AUC(name=\"auc_pr\",curve=\"PR\"),keras_mcc]"
   ]
  },
  {
   "cell_type": "code",
   "execution_count": 15,
   "id": "977db289-4837-4043-9224-7346f1a8b806",
   "metadata": {},
   "outputs": [],
   "source": [
    "# from datetime import datetime\n",
    "\n",
    "# now = datetime.now() "
   ]
  },
  {
   "cell_type": "code",
   "execution_count": 16,
   "id": "b185e26b-6b0f-4241-8c94-ddcc5ceb779b",
   "metadata": {},
   "outputs": [],
   "source": [
    "# callbacks = [keras.callbacks.EarlyStopping(patience=30, restore_best_weights=True),]\n",
    "# reduce_lr = ReduceLROnPlateau(monitor='val_loss', factor=0.95,patience=50, min_lr=0.0001, verbose=1)\n",
    "\n",
    "# checkpoint_filepath_4 = f'weights-improvement-val-keras-mcc-{now}.hdf5'\n",
    "# model_checkpoint_callback_4 = ModelCheckpoint(filepath=checkpoint_filepath_4,save_weights_only=False,monitor='val_keras_mcc',mode='max',save_best_only=True)"
   ]
  },
  {
   "cell_type": "code",
   "execution_count": 17,
   "id": "f7aa233c-d68d-46f4-b536-e08cd09f77f3",
   "metadata": {},
   "outputs": [],
   "source": [
    "# model.compile(optimizer=keras.optimizers.Adam(learning_rate=0.001), loss='binary_crossentropy', metrics=metrics_c, weighted_metrics=[])"
   ]
  },
  {
   "cell_type": "code",
   "execution_count": 13,
   "id": "11874c8a-cfed-45ed-ab1c-75cc04873405",
   "metadata": {},
   "outputs": [],
   "source": [
    "# model.summary()"
   ]
  },
  {
   "cell_type": "code",
   "execution_count": null,
   "id": "a6f0b0e0-f454-45ff-b426-cd20404bee15",
   "metadata": {},
   "outputs": [],
   "source": [
    "# train_history=model.fit(train_x,train_y,\n",
    "#                         validation_data=(test_x,test_y), epochs=50,\n",
    "#                         verbose=1,\n",
    "#                         batch_size=128,callbacks=[reduce_lr, model_checkpoint_callback_4])"
   ]
  },
  {
   "cell_type": "code",
   "execution_count": 9,
   "id": "f9ba4ed9-69e3-492f-b9e2-f48d6b45798c",
   "metadata": {},
   "outputs": [
    {
     "name": "stderr",
     "output_type": "stream",
     "text": [
      "2023-03-18 18:31:14.282952: I tensorflow/stream_executor/cuda/cuda_gpu_executor.cc:980] successful NUMA node read from SysFS had negative value (-1), but there must be at least one NUMA node, so returning NUMA node zero\n",
      "2023-03-18 18:31:15.136376: I tensorflow/stream_executor/cuda/cuda_gpu_executor.cc:980] successful NUMA node read from SysFS had negative value (-1), but there must be at least one NUMA node, so returning NUMA node zero\n",
      "2023-03-18 18:31:15.136571: I tensorflow/stream_executor/cuda/cuda_gpu_executor.cc:980] successful NUMA node read from SysFS had negative value (-1), but there must be at least one NUMA node, so returning NUMA node zero\n",
      "2023-03-18 18:31:15.147631: I tensorflow/core/platform/cpu_feature_guard.cc:193] This TensorFlow binary is optimized with oneAPI Deep Neural Network Library (oneDNN) to use the following CPU instructions in performance-critical operations:  AVX2 FMA\n",
      "To enable them in other operations, rebuild TensorFlow with the appropriate compiler flags.\n",
      "2023-03-18 18:31:15.159207: I tensorflow/stream_executor/cuda/cuda_gpu_executor.cc:980] successful NUMA node read from SysFS had negative value (-1), but there must be at least one NUMA node, so returning NUMA node zero\n",
      "2023-03-18 18:31:15.159412: I tensorflow/stream_executor/cuda/cuda_gpu_executor.cc:980] successful NUMA node read from SysFS had negative value (-1), but there must be at least one NUMA node, so returning NUMA node zero\n",
      "2023-03-18 18:31:15.159572: I tensorflow/stream_executor/cuda/cuda_gpu_executor.cc:980] successful NUMA node read from SysFS had negative value (-1), but there must be at least one NUMA node, so returning NUMA node zero\n",
      "2023-03-18 18:31:19.161765: I tensorflow/stream_executor/cuda/cuda_gpu_executor.cc:980] successful NUMA node read from SysFS had negative value (-1), but there must be at least one NUMA node, so returning NUMA node zero\n",
      "2023-03-18 18:31:19.179321: I tensorflow/stream_executor/cuda/cuda_gpu_executor.cc:980] successful NUMA node read from SysFS had negative value (-1), but there must be at least one NUMA node, so returning NUMA node zero\n",
      "2023-03-18 18:31:19.179532: I tensorflow/stream_executor/cuda/cuda_gpu_executor.cc:980] successful NUMA node read from SysFS had negative value (-1), but there must be at least one NUMA node, so returning NUMA node zero\n",
      "2023-03-18 18:31:19.179642: I tensorflow/core/common_runtime/gpu/gpu_device.cc:1616] Created device /job:localhost/replica:0/task:0/device:GPU:0 with 2621 MB memory:  -> device: 0, name: NVIDIA GeForce GTX 1650, pci bus id: 0000:01:00.0, compute capability: 7.5\n"
     ]
    }
   ],
   "source": [
    "# # model.save('mimic3_MHAT_transformer_march10.hdf5')\n",
    "# #### load model\n",
    "\n",
    "# # model = keras.models.load_model('mimic3_ts_transformer_4march_wattscores_48x26x26.h5_best.hdf5', compile=False)\n",
    "# model = keras.models.load_model('good_models/weights-improvement-new-model-5percent-test.hdf5', compile=False) # better model\n",
    "\n",
    "\n",
    "# ## define model loss to be used later\n",
    "keras_loss = keras.losses.BinaryCrossentropy(from_logits=True)\n",
    "model = keras.models.load_model('good_models/weights-improvement-val-keras-mcc-2023-03-10 17_51_00.683286.hdf5', compile=False)"
   ]
  },
  {
   "cell_type": "code",
   "execution_count": 10,
   "id": "be130de0-5481-4d3e-bb9a-493a1ac71ef4",
   "metadata": {},
   "outputs": [],
   "source": [
    "def ab_scaler(data,a,b):\n",
    "    sdata = (b-a)*((data - np.min(data))/(np.max(data) - np.min(data))) + a\n",
    "    return sdata"
   ]
  },
  {
   "cell_type": "code",
   "execution_count": 11,
   "id": "46468c78-e54d-4815-9147-d4e78d63497d",
   "metadata": {},
   "outputs": [
    {
     "name": "stdout",
     "output_type": "stream",
     "text": [
      "0.9460715703278403\n",
      "0.8083525570235089\n",
      "0.7019830028328612\n",
      "0.5696551724137932\n",
      "0.9143911439114392\n",
      "0.6998082983525663\n"
     ]
    }
   ],
   "source": [
    "y_train_pred = model.predict(train_x, verbose=0)\n",
    "print(roc_auc_score(train_y, y_train_pred))\n",
    "print(average_precision_score(train_y, y_train_pred))\n",
    "print(f1_score(train_y, np.round(y_train_pred)))\n",
    "print(recall_score(train_y, np.round(y_train_pred)))\n",
    "print(precision_score(train_y, np.round(y_train_pred)))\n",
    "print(matthews_corrcoef(train_y, np.round(y_train_pred)))\n",
    "# print('Model Loss: ',\"{:.4f}\".format(keras_loss(train_y, model.predict(train_x, verbose=0)).numpy()))"
   ]
  },
  {
   "cell_type": "code",
   "execution_count": 12,
   "id": "4b579776-4bca-409c-bd05-74404bc5a1ad",
   "metadata": {},
   "outputs": [
    {
     "name": "stdout",
     "output_type": "stream",
     "text": [
      "0.72392354547364\n",
      "0.24003325459634156\n",
      "0.29545454545454547\n",
      "0.22608695652173913\n",
      "0.4262295081967213\n",
      "0.25736706168329593\n"
     ]
    }
   ],
   "source": [
    "y_test_pred = model.predict(test_x, verbose=0)\n",
    "print(roc_auc_score(test_y,y_test_pred ))\n",
    "print(average_precision_score(test_y,y_test_pred ))\n",
    "print(f1_score(test_y, np.round(y_test_pred)))\n",
    "print(recall_score(test_y, np.round(y_test_pred)))\n",
    "print(precision_score(test_y, np.round(y_test_pred)))\n",
    "print(matthews_corrcoef(test_y, np.round(y_test_pred)))\n",
    "# print('Model Loss: ',\"{:.4f}\".format(keras_loss(test_y, model.predict(test_x, verbose=0)).numpy()))"
   ]
  },
  {
   "cell_type": "code",
   "execution_count": 13,
   "id": "db837258-df7e-4933-a3f1-cc54c5cf52d6",
   "metadata": {},
   "outputs": [],
   "source": [
    "#### for multi_head_attention \n",
    "att_layerout_MHA0= keras.Model(inputs=model.input, outputs=model.get_layer('multi_head_attention').output)\n",
    "\n",
    "# att_layerout_MHA0= keras.Model(inputs=model.input, outputs=model.get_layer('multi_head_attention_1').output)"
   ]
  },
  {
   "cell_type": "code",
   "execution_count": 14,
   "id": "67e2fd67-3cc1-466b-a315-9a51876fa329",
   "metadata": {},
   "outputs": [],
   "source": [
    "att_output_MHA0 = att_layerout_MHA0.predict(test_x, verbose=0)"
   ]
  },
  {
   "cell_type": "code",
   "execution_count": 15,
   "id": "655539b3-aeb0-44d6-a889-c6a722c54398",
   "metadata": {},
   "outputs": [
    {
     "name": "stdout",
     "output_type": "stream",
     "text": [
      "(1150, 48, 26) (1150, 26, 48, 48)\n"
     ]
    }
   ],
   "source": [
    "att_outvals_MHA0, att_scores_MHA0 = att_output_MHA0\n",
    "print(att_outvals_MHA0.shape, att_scores_MHA0.shape)"
   ]
  },
  {
   "cell_type": "code",
   "execution_count": 16,
   "id": "1d6698d1-573e-426f-8705-a905db70b882",
   "metadata": {},
   "outputs": [],
   "source": [
    "#### normalize then swap axes\n",
    "temp_att_scores_dim2 = np.mean(att_scores_MHA0,axis=2)\n",
    "temp_att_scores_dim3 = np.mean(att_scores_MHA0,axis=3)"
   ]
  },
  {
   "cell_type": "code",
   "execution_count": 17,
   "id": "89ab3f78-3520-4e07-b3fc-ae8947b92386",
   "metadata": {},
   "outputs": [],
   "source": [
    "temp_att_scores_dim2 = np.transpose(temp_att_scores_dim2, axes=(0,2,1))\n",
    "temp_att_scores_dim3 = np.transpose(temp_att_scores_dim3, axes=(0,2,1))"
   ]
  },
  {
   "cell_type": "code",
   "execution_count": 18,
   "id": "66a6920f-d560-4eae-85b3-415e4d65896e",
   "metadata": {},
   "outputs": [
    {
     "name": "stdout",
     "output_type": "stream",
     "text": [
      "(1150, 48, 26) (1150, 48, 26)\n"
     ]
    }
   ],
   "source": [
    "# temp_att_scores_dim2 = np.mean(att_scores_MHA0,axis=2) ###the right way\n",
    "# temp_att_scores_dim3 = np.mean(att_scores_MHA0,axis=3) ###\n",
    "print(att_outvals_MHA0.shape, temp_att_scores_dim2.shape)"
   ]
  },
  {
   "cell_type": "code",
   "execution_count": 19,
   "id": "f7fbae22-87c9-4b61-aa18-cb1da9424d9e",
   "metadata": {},
   "outputs": [
    {
     "name": "stdout",
     "output_type": "stream",
     "text": [
      "36/36 [==============================] - 1s 19ms/step\n",
      "36/36 [==============================] - 1s 18ms/step\n"
     ]
    }
   ],
   "source": [
    "# sc_att_scores = att_outvals_MHA0\n",
    "sc_att_scores = temp_att_scores_dim2\n",
    "# sc_att_scores = ab_scaler(sc_att_scores, 0, 1)\n",
    "\n",
    "xai_MHA_prtb_tsphi = xai_eval_fnc(model, sc_att_scores, test_x, eval_type='prtb',\n",
    "                                  by='all',\n",
    "                                  percentile=25\n",
    "                                 ) #MH attention\n",
    "# xai_MHA_prtb_tsphi = xai_eval_fnc(model, temp_att_scores_dim2, test_x, eval_type='prtb') #MH attention\n",
    "\n",
    "\n",
    "##### sequence based on attention\n",
    "seq_len_val  = 6\n",
    "xai_MHA_sqnc_tsphi = xai_eval_fnc(model, sc_att_scores, test_x, eval_type='sqnc',seq_len=seq_len_val,\n",
    "                                  by='all',\n",
    "                                  percentile=25\n",
    "                                 ) #MH attention\n",
    "\n",
    "# xai_MHA_sqnc_tsphi = xai_eval_fnc(model, temp_att_scores_dim2, test_x, eval_type='sqnc',seq_len=seq_le/n_val) #MH attention\n",
    "\n",
    "\n",
    "test_y_n = test_y"
   ]
  },
  {
   "cell_type": "code",
   "execution_count": 20,
   "id": "cac4c561-6fac-4114-b1cf-77b10c1504dc",
   "metadata": {},
   "outputs": [
    {
     "name": "stdout",
     "output_type": "stream",
     "text": [
      "Multihead Attention Perturbation Analysis Predictions: \n",
      "AUC ROC   :  0.7244\n",
      "AUC PR    :  0.2442\n",
      "F1 Score  :  0.2775\n",
      "Recall    :  0.2087\n",
      "Precision :  0.4138\n",
      "MCC       :  0.2411\n",
      "Model Loss:  0.7210\n",
      "\n",
      "Multihead Attention Sequence 6 Analysis Predictions: \n",
      "AUC ROC   :  0.7280\n",
      "AUC PR    :  0.2451\n",
      "F1 Score  :  0.2793\n",
      "Recall    :  0.2174\n",
      "Precision :  0.3906\n",
      "MCC       :  0.2352\n",
      "Model Loss:  0.7215\n",
      "\n"
     ]
    }
   ],
   "source": [
    "# y_pred_orig=y_test_pred\n",
    "# print('Original Model Predictions: ')\n",
    "# print('AUC ROC   : ',\"{:.4f}\".format(roc_auc_score(test_y_n, y_pred_orig)))\n",
    "# print('AUC PR    : ',\"{:.4f}\".format(average_precision_score(test_y_n, y_pred_orig)))\n",
    "# print('F1 Score  : ',\"{:.4f}\".format(f1_score(test_y_n, np.where(y_pred_orig > 0.5, 1, 0))))\n",
    "# print('Recall    : ',\"{:.4f}\".format(recall_score(test_y_n,np.where(y_pred_orig > 0.5, 1, 0))))\n",
    "# print('Precision : ',\"{:.4f}\".format(precision_score(test_y_n,np.where(y_pred_orig > 0.5, 1, 0))))\n",
    "# print('MCC       : ',\"{:.4f}\".format(matthews_corrcoef(test_y_n,np.where(y_pred_orig > 0.5, 1, 0))))\n",
    "# print('Model Loss: ',\"{:.4f}\".format(keras_loss(test_y_n, y_pred_orig).numpy()))\n",
    "# print('')\n",
    "\n",
    "###### Multihead attention - prtb ALL\n",
    "print('Multihead Attention Perturbation Analysis Predictions: ')\n",
    "print('AUC ROC   : ',\"{:.4f}\".format(roc_auc_score(test_y_n, xai_MHA_prtb_tsphi)))\n",
    "print('AUC PR    : ',\"{:.4f}\".format(average_precision_score(test_y_n, xai_MHA_prtb_tsphi)))\n",
    "print('F1 Score  : ',\"{:.4f}\".format(f1_score(test_y_n, np.where(xai_MHA_prtb_tsphi > 0.5, 1, 0))))\n",
    "print('Recall    : ',\"{:.4f}\".format(recall_score(test_y_n,np.where(xai_MHA_prtb_tsphi > 0.5, 1, 0))))\n",
    "print('Precision : ',\"{:.4f}\".format(precision_score(test_y_n,np.where(xai_MHA_prtb_tsphi  > 0.5, 1, 0))))\n",
    "print('MCC       : ',\"{:.4f}\".format(matthews_corrcoef(test_y_n,np.where(xai_MHA_prtb_tsphi > 0.5, 1, 0))))\n",
    "print('Model Loss: ',\"{:.4f}\".format(keras_loss(test_y_n, xai_MHA_prtb_tsphi ).numpy()))\n",
    "print('')\n",
    "\n",
    "###### Multihead attention - sqnc ALL\n",
    "print(f'Multihead Attention Sequence {seq_len_val} Analysis Predictions: ')\n",
    "print('AUC ROC   : ',\"{:.4f}\".format(roc_auc_score(test_y_n, xai_MHA_sqnc_tsphi)))\n",
    "print('AUC PR    : ',\"{:.4f}\".format(average_precision_score(test_y_n, xai_MHA_sqnc_tsphi)))\n",
    "print('F1 Score  : ',\"{:.4f}\".format(f1_score(test_y_n, np.where(xai_MHA_sqnc_tsphi > 0.5, 1, 0))))\n",
    "print('Recall    : ',\"{:.4f}\".format(recall_score(test_y_n,np.where(xai_MHA_sqnc_tsphi > 0.5, 1, 0))))\n",
    "print('Precision : ',\"{:.4f}\".format(precision_score(test_y_n,np.where(xai_MHA_sqnc_tsphi  > 0.5, 1, 0))))\n",
    "print('MCC       : ',\"{:.4f}\".format(matthews_corrcoef(test_y_n,np.where(xai_MHA_sqnc_tsphi > 0.5, 1, 0))))\n",
    "print('Model Loss: ',\"{:.4f}\".format(keras_loss(test_y_n, xai_MHA_sqnc_tsphi ).numpy()))\n",
    "print('')"
   ]
  },
  {
   "cell_type": "code",
   "execution_count": 27,
   "id": "5b041845-eb28-4d2f-aa69-d105e64293fe",
   "metadata": {},
   "outputs": [],
   "source": [
    "# visualization of attention scores\n",
    "feature_map_mimic_26 = ['ANION GAP', 'ALBUMIN', 'BICARBONATE', 'BILIRUBIN','CREATININE', 'CHLORIDE', 'GLUCOSE', 'HEMATOCRIT', \n",
    "                     'LACTATE', 'MAGNESIUM', 'PHOSPHATE','PLATELET', 'POTASSIUM', 'PTT','INR', 'PT', \n",
    "                     'SODIUM', 'BUN', 'WBC', 'HeartRate', 'SysBP', 'DiasBP', 'MeanBP', 'RespRate', 'SpO2','Temp']"
   ]
  },
  {
   "cell_type": "code",
   "execution_count": 19,
   "id": "a333d9bc-e176-4170-8e8a-3ee7c8fd722d",
   "metadata": {},
   "outputs": [],
   "source": [
    "#nw_24\n",
    "\n",
    "# ts_phi_3_0001_0575 = np.load('better_model_wshap/new_hpc/mhat_ts_phi_3_alltest1150_d0p01_nw24_0001_0575.npy') #p0001-p0575\n",
    "# ts_phi_3_0576_1065 = np.load('better_model_wshap/new_hpc/mhat_ts_phi_3_alltest1150_d0p01_nw24_0576_1065.npy') #p576-p1065\n",
    "# ts_phi_3_1066_1150 = np.load('better_model_wshap/new_hpc/mhat_ts_phi_3_alltest1150_d0p01_nw24_1066_1150.npy') #p1066-p1150\n",
    "\n",
    "\n",
    "#nw_12\n",
    "\n",
    "# ts_phi_3_0001_0575 = np.load('better_model_wshap/new_hpc/mhat_ts_phi_3_alltest1150_d0p01_nw12_0001_0575.npy') #p0001-p0575\n",
    "# ts_phi_3_0576_1065 = np.load('better_model_wshap/new_hpc/mhat_ts_phi_3_alltest1150_d0p01_nw12_0576_1065.npy') #p576-p1065\n",
    "# ts_phi_3_1066_1150 = np.load('better_model_wshap/new_hpc/mhat_ts_phi_3_alltest1150_d0p01_nw12_1066_1150.npy') #p1066-p1150\n",
    "\n",
    "\n",
    "\n",
    "\n",
    "\n",
    "# ts_phi_3 = np.load('better_model_wshap/new_hpc/mhat_ts_phi_3_alltest1150_d0p01_nw12_0001_1150.npy')\n",
    "ts_phi_3 = np.load('better_model_wshap/new_hpc/mhat_ts_phi_3_alltest1150_d0p01_nw24_0001_1150.npy')"
   ]
  },
  {
   "cell_type": "code",
   "execution_count": 20,
   "id": "a32acba1-2648-45d6-854e-50ae28e8d056",
   "metadata": {},
   "outputs": [],
   "source": [
    "# ts_phi_3 = np.concatenate((ts_phi_3_0001_0575,ts_phi_3_0576_1065,ts_phi_3_1066_1150))"
   ]
  },
  {
   "cell_type": "code",
   "execution_count": 21,
   "id": "e1d8ea75-374e-4937-8bfb-b793832dd06b",
   "metadata": {},
   "outputs": [
    {
     "data": {
      "text/plain": [
       "(1150, 48, 26)"
      ]
     },
     "execution_count": 21,
     "metadata": {},
     "output_type": "execute_result"
    }
   ],
   "source": [
    "ts_phi_3.shape"
   ]
  },
  {
   "cell_type": "code",
   "execution_count": 22,
   "id": "49152024-906f-474f-bbb6-c16dede2aa69",
   "metadata": {},
   "outputs": [],
   "source": [
    "# np.save('better_model_wshap/new_hpc/mhat_ts_phi_3_alltest1150_d0p01_nw12_0001_1150.npy',ts_phi_3)"
   ]
  },
  {
   "cell_type": "code",
   "execution_count": 23,
   "id": "62200a45-e321-4c9e-9b50-70a074b73cd7",
   "metadata": {},
   "outputs": [],
   "source": [
    "################### visualization wSHAP vs attention\n",
    "import seaborn as sns\n",
    "import matplotlib.pyplot as plt"
   ]
  },
  {
   "cell_type": "code",
   "execution_count": 24,
   "id": "ba83468d-27c7-47a8-8312-b1a355f2bffd",
   "metadata": {},
   "outputs": [],
   "source": [
    "num_test = 0 #till 1150 \n",
    "var = 18        #### feature index\n",
    "phi_index = 0   #### patient index\n",
    "\n",
    "\n",
    "# pos_indexes  2,   12,   28,   36,   50,   68,   77,   80,   82,  116,  119,\n",
    "#          131,  136,  154,  187,  203,  206,  209,  221,  236,  244,  263,\n",
    "#          307,  311,  315,  320,  338,  355,  367,  371,  375,  376,  378,\n",
    "#          381,  390,  392,  409,  453,  455,  456,  504,  514,  525,  545,\n",
    "#          553,  557,  562,  568,  570,  590,  596,  "
   ]
  },
  {
   "cell_type": "code",
   "execution_count": 72,
   "id": "c41765c2-010d-42d6-a4aa-f36eeaf615f4",
   "metadata": {},
   "outputs": [
    {
     "data": {
      "text/plain": [
       "Text(0.5, 1.0, 'Scaled Attention Scores')"
      ]
     },
     "execution_count": 72,
     "metadata": {},
     "output_type": "execute_result"
    },
    {
     "data": {
      "image/png": "[encoded data removed]",
      "text/plain": [
       "<Figure size 864x432 with 4 Axes>"
      ]
     },
     "metadata": {
      "needs_background": "light"
     },
     "output_type": "display_data"
    }
   ],
   "source": [
    "# fig, axes = plt.subplots(3, 2, figsize=(25, 12))\n",
    "# phi_index_hm = 2\n",
    "# ax1 = sns.heatmap(ab_scaler(test_x[num_test + phi_index_hm, :, :].T,0,1), cmap=\"BuPu\",ax=axes[0,0],)\n",
    "# axes[0,0].title.set_text('Original data')\n",
    "\n",
    "# sns.heatmap(ab_scaler(ts_phi_1[num_test + phi_index_hm, :, :].T,0,1), cmap=\"BuPu\",ax=axes[0,1],)\n",
    "# axes[0,1].title.set_text('Stationary SHAP')\n",
    "\n",
    "# sns.heatmap(ab_scaler(ts_phi_2[num_test + phi_index_hm, :, :].T,0,1), cmap=\"BuPu\",ax=axes[1,0],)\n",
    "# axes[1,0].title.set_text('Sliding SHAP')\n",
    "\n",
    "# sns.heatmap(ab_scaler(ts_phi_3[num_test + phi_index_hm, :, :].T,0,1), cmap=\"BuPu\",ax=axes[1,1],)\n",
    "# axes[1,1].title.set_text('Dynamic SHAP')\n",
    "\n",
    "# sns.heatmap(ab_scaler(temp_att_scores_dim2[num_test + phi_index_hm, :, :].T,0,1), cmap=\"BuPu\",ax=axes[2,0],)\n",
    "# axes[2,0].title.set_text('Attention Score Type 1')\n",
    "\n",
    "# sns.heatmap(ab_scaler(temp_att_scores_dim3[num_test + phi_index_hm, :, :].T,0,1), cmap=\"BuPu\",ax=axes[2,1],)\n",
    "# axes[2,1].title.set_text('Attention Score Type 2')\n",
    "\n",
    "# # ax1.tick_params(axis='both', which='both', length=0)\n",
    "# # axes[0,0].title.set_text('First Plot')\n",
    "# plt.show()\n",
    "\n",
    "\n",
    "#################################### comparing wSHAP vs Attention\n",
    "import matplotlib.gridspec as gridspec\n",
    "\n",
    "fig, axes = plt.subplots(1, 2, figsize=(12, 6),sharey=True)\n",
    "# gs1 = gridspec.GridSpec(1, 2)\n",
    "# gs1.update(wspace=0.001) # set the spacing between axes. \n",
    "\n",
    "phi_index_hm = 2 #2\n",
    "# ax1 = sns.heatmap(ab_scaler(test_x[num_test + phi_index_hm, :, :].T,0,1), cmap=\"BuPu\",ax=axes[0,0],)\n",
    "# axes[0,0].title.set_text('Original data')\n",
    "\n",
    "pat_ts_phi_3 = ts_phi_3[num_test + phi_index_hm, :, :].T\n",
    "# sns.heatmap(ab_scaler(ts_phi_3[num_test + phi_index_hm, :, :].T,-1,1),ax=axes[0], cmap=\"RdBu_r\")\n",
    "sns.heatmap(ab_scaler(ts_phi_3[num_test + phi_index_hm, :, :].T,-1,1),ax=axes[0], cmap=\"RdBu_r\",center=0)\n",
    "# sns.heatmap(pat_ts_phi_3, cmap=\"RdBu_r\",ax=axes[0], vmin=np.min(pat_ts_phi_3),vmax=np.max(pat_ts_phi_3), center=0)\n",
    "# axes[0].title.set_text('Dynamic WindowSHAP Scores')\n",
    "# axes[0].set_xticks(range(1,49))\n",
    "axes[0].set_xlabel('Timepoints', fontsize=20)\n",
    "axes[0].set_ylabel('Clinical Features', fontsize=20)\n",
    "# axes[0].set_xticklabels(range(1,49), rotation=60)\n",
    "axes[0].set_yticks(range(1,27))\n",
    "# axes[0].set_yticklabels(feature_map_mimic_26, rotation=0)\n",
    "axes[0].set_yticklabels([])\n",
    "# axes[0].set_title('Dynamic WindowSHAP Scores', fontdict={'fontsize': 24, 'fontweight': 'medium'})\n",
    "axes[0].set_title('WindowSHAP Scores', fontdict={'fontsize': 24, 'fontweight': 'medium'})\n",
    "axes[0].set_xticks([])\n",
    "\n",
    "# sns.heatmap(ab_scaler(temp_att_scores_dim2[num_test + phi_index_hm, :, :].T,np.min(pat_ts_phi_3),np.max(pat_ts_phi_3)), cmap=\"BuPu\",ax=axes[1,0],)\n",
    "# axes[1,0].title.set_text('Attention Score Type 1')\n",
    "\n",
    "# sns.heatmap(ab_scaler(temp_att_scores_dim3[num_test + phi_index_hm, :, :].T,np.min(pat_ts_phi_3),np.max(pat_ts_phi_3)), cmap=\"RdBu_r\",ax=axes[1], vmin=np.min(pat_ts_phi_3),vmax=np.max(pat_ts_phi_3), center=0)\n",
    "sns.heatmap(ab_scaler(temp_att_scores_dim2[num_test + phi_index_hm, :, :].T,0,1), \n",
    "            # cmap=\"Reds\",\n",
    "            cmap = sns.color_palette(\"Reds\", as_cmap=True),\n",
    "            ax=axes[1], \n",
    "            vmin=0,\n",
    "            vmax=1, \n",
    "            # center=0,\n",
    "           )\n",
    "\n",
    "# sns.heatmap(temp_att_scores_dim3[num_test + phi_index_hm, :, :].T, cmap=\"Reds\",ax=axes[1])\n",
    "# axes[1].title.set_text('Scaled Attention Scores')\n",
    "# axes[1].set_xticks(range(1,49))\n",
    "# axes[1].set_xticklabels(range(1,49), rotation=60)\n",
    "# axes[1].set_yticks(range(1,27))\n",
    "axes[1].set_xticks([])\n",
    "axes[1].set_yticks([])\n",
    "axes[1].set_xlabel('Timepoints', fontsize=20)\n",
    "# axes[1].set_ylabel('Clinical Features', fontsize=20)\n",
    "# axes[1].set_yticklabels(feature_map_mimic_26, rotation=0)\n",
    "axes[1].set_title('Scaled Attention Scores', fontdict={'fontsize': 24, 'fontweight': 'medium'})\n",
    "\n",
    "# plt.show()\n",
    "# plt.savefig('AMIA_poster_submission_fig2_scores.png', dpi=600, bbox_inches='tight')"
   ]
  },
  {
   "cell_type": "code",
   "execution_count": 39,
   "id": "001a10a2-c563-4a63-aa13-38ab18ce4bd4",
   "metadata": {},
   "outputs": [],
   "source": [
    "# fig, axes = plt.subplots(2, 2, figsize=(25, 12))\n",
    "# phi_index_hm = 16\n",
    "# ax1 = sns.heatmap(ab_scaler(test_x[num_test + phi_index_hm, :, :].T,-1,1), cmap=\"BuPu\",ax=axes[0,0],)\n",
    "# axes[0,0].title.set_text('Original data')\n",
    "\n",
    "# sns.heatmap(ab_scaler(ts_phi_3[num_test + phi_index_hm, :, :].T,-1,1), cmap=\"BuPu\",ax=axes[0,1],)\n",
    "# axes[0,1].title.set_text('Dynamic WindowSHAP Scores')\n",
    "\n",
    "# sns.heatmap(ab_scaler(temp_att_scores_dim2[num_test + phi_index_hm, :, :].T,-1,1), cmap=\"BuPu\",ax=axes[1,0],)\n",
    "# axes[1,0].title.set_text('Attention Scores')\n",
    "\n",
    "# sns.heatmap(ab_scaler(temp_att_scores_dim3[num_test + phi_index_hm, :, :].T,-1,1), cmap=\"BuPu\",ax=axes[1,1],)\n",
    "# axes[1,1].title.set_text('Attention Scores')\n",
    "\n",
    "# plt.show()"
   ]
  },
  {
   "cell_type": "code",
   "execution_count": 40,
   "id": "3bd97bed-4133-4de4-8795-4a933a3bb612",
   "metadata": {},
   "outputs": [
    {
     "name": "stdout",
     "output_type": "stream",
     "text": [
      "36/36 [==============================] - 1s 18ms/step\n",
      "Original Model Predictions: \n",
      "AUC ROC   :  0.7239\n",
      "AUC PR    :  0.2400\n",
      "F1 Score  :  0.2955\n",
      "Recall    :  0.2261\n",
      "Precision :  0.4262\n",
      "MCC       :  0.2574\n",
      "Model Loss:  0.7207\n"
     ]
    }
   ],
   "source": [
    "######### Dip in model metrics\n",
    "y_pred_orig = model.predict(test_x)\n",
    "# y_pred_orig\n",
    "\n",
    "\n",
    "#### get original values of test set predictions\n",
    "test_y_n = test_y\n",
    "#### original predictions\n",
    "\n",
    "print('Original Model Predictions: ')\n",
    "print('AUC ROC   : ',\"{:.4f}\".format(roc_auc_score(test_y_n, y_pred_orig)))\n",
    "print('AUC PR    : ',\"{:.4f}\".format(average_precision_score(test_y_n, y_pred_orig)))\n",
    "print('F1 Score  : ',\"{:.4f}\".format(f1_score(test_y_n, np.where(y_pred_orig > 0.5, 1, 0))))\n",
    "print('Recall    : ',\"{:.4f}\".format(recall_score(test_y_n,np.where(y_pred_orig > 0.5, 1, 0))))\n",
    "print('Precision : ',\"{:.4f}\".format(precision_score(test_y_n,np.where(y_pred_orig > 0.5, 1, 0))))\n",
    "print('MCC       : ',\"{:.4f}\".format(matthews_corrcoef(test_y_n,np.where(y_pred_orig > 0.5, 1, 0))))\n",
    "print('Model Loss: ',\"{:.4f}\".format(keras_loss(test_y_n, y_pred_orig).numpy()))\n"
   ]
  },
  {
   "cell_type": "code",
   "execution_count": 59,
   "id": "e844b311-8531-4d7e-b899-f001c53bb377",
   "metadata": {},
   "outputs": [
    {
     "name": "stdout",
     "output_type": "stream",
     "text": [
      "36/36 [==============================] - 1s 18ms/step\n",
      "36/36 [==============================] - 1s 18ms/step\n"
     ]
    }
   ],
   "source": [
    "##### perturbations based on Dynamic wSHAP\n",
    "\n",
    "xai_wSHAP_prtb_tsphi3 = xai_eval_fnc(model, ts_phi_3, test_x, eval_type='prtb',\n",
    "                                     by='all',\n",
    "                                     percentile=95) #dynamic\n",
    "\n",
    "#### sequence analysis on Dynamic wSHAP\n",
    "seq_len_val  = 12\n",
    "xai_wSHAP_sqnc_tsphi3 = xai_eval_fnc(model, ts_phi_3, test_x, eval_type='sqnc',seq_len=seq_len_val,\n",
    "                                     by='all',\n",
    "                                     percentile=95) #dynamic"
   ]
  },
  {
   "cell_type": "code",
   "execution_count": 60,
   "id": "6864346c-a6e3-432b-bb47-09e718652517",
   "metadata": {},
   "outputs": [
    {
     "name": "stdout",
     "output_type": "stream",
     "text": [
      "Dynamic wSHAP Perturbation Analysis Predictions: \n",
      "AUC ROC   :  0.7210\n",
      "AUC PR    :  0.2326\n",
      "F1 Score  :  0.2674\n",
      "Recall    :  0.2000\n",
      "Precision :  0.4035\n",
      "MCC       :  0.2310\n",
      "Model Loss:  0.7212\n",
      "\n",
      "Dynamic wSHAP Sequence 12 Analysis Predictions: \n",
      "AUC ROC   :  0.7125\n",
      "AUC PR    :  0.2224\n",
      "F1 Score  :  0.2599\n",
      "Recall    :  0.2000\n",
      "Precision :  0.3710\n",
      "MCC       :  0.2156\n",
      "Model Loss:  0.7229\n",
      "\n"
     ]
    }
   ],
   "source": [
    "import warnings\n",
    "warnings.filterwarnings('ignore')\n",
    "############# dynamic\n",
    "print('Dynamic wSHAP Perturbation Analysis Predictions: ')\n",
    "print('AUC ROC   : ',\"{:.4f}\".format(roc_auc_score(test_y_n, xai_wSHAP_prtb_tsphi3)))\n",
    "print('AUC PR    : ',\"{:.4f}\".format(average_precision_score(test_y_n, xai_wSHAP_prtb_tsphi3)))\n",
    "print('F1 Score  : ',\"{:.4f}\".format(f1_score(test_y_n, np.where(xai_wSHAP_prtb_tsphi3 > 0.5, 1, 0))))\n",
    "print('Recall    : ',\"{:.4f}\".format(recall_score(test_y_n,np.where(xai_wSHAP_prtb_tsphi3 > 0.5, 1, 0))))\n",
    "print('Precision : ',\"{:.4f}\".format(precision_score(test_y_n,np.where(xai_wSHAP_prtb_tsphi3 > 0.5, 1, 0))))\n",
    "print('MCC       : ',\"{:.4f}\".format(matthews_corrcoef(test_y_n,np.where(xai_wSHAP_prtb_tsphi3 > 0.5, 1, 0))))\n",
    "print('Model Loss: ',\"{:.4f}\".format(keras_loss(test_y_n, xai_wSHAP_prtb_tsphi3).numpy()))\n",
    "print('')\n",
    "\n",
    "###### dynamic\n",
    "print(f'Dynamic wSHAP Sequence {seq_len_val} Analysis Predictions: ')\n",
    "print('AUC ROC   : ',\"{:.4f}\".format(roc_auc_score(test_y_n, xai_wSHAP_sqnc_tsphi3)))\n",
    "print('AUC PR    : ',\"{:.4f}\".format(average_precision_score(test_y_n, xai_wSHAP_sqnc_tsphi3)))\n",
    "print('F1 Score  : ',\"{:.4f}\".format(f1_score(test_y_n, np.where(xai_wSHAP_sqnc_tsphi3 > 0.5, 1, 0))))\n",
    "print('Recall    : ',\"{:.4f}\".format(recall_score(test_y_n,np.where(xai_wSHAP_sqnc_tsphi3 > 0.5, 1, 0))))\n",
    "print('Precision : ',\"{:.4f}\".format(precision_score(test_y_n,np.where(xai_wSHAP_sqnc_tsphi3 > 0.5, 1, 0))))\n",
    "print('MCC       : ',\"{:.4f}\".format(matthews_corrcoef(test_y_n,np.where(xai_wSHAP_sqnc_tsphi3 > 0.5, 1, 0))))\n",
    "print('Model Loss: ',\"{:.4f}\".format(keras_loss(test_y_n, xai_wSHAP_sqnc_tsphi3).numpy()))\n",
    "print('')"
   ]
  },
  {
   "cell_type": "code",
   "execution_count": null,
   "id": "4fa051ee-ee78-4b7d-a997-dd93986a6409",
   "metadata": {},
   "outputs": [],
   "source": [
    "# num_test = 0 #till 1150 \n",
    "var = 18      #### feature index\n",
    "phi_index = 31   #### patient index\n",
    "\n",
    "# good pais 18-2, 18-22, 18-25, 18-27, 18-29, 18-31\n",
    "\n",
    "wshap_feat3 = ts_phi_3[num_test + phi_index, :, var]"
   ]
  },
  {
   "cell_type": "markdown",
   "id": "5bb19138-dce8-4fbe-8996-4cecb34844d0",
   "metadata": {},
   "source": [
    "# wshap_feat3.shape"
   ]
  },
  {
   "cell_type": "code",
   "execution_count": 299,
   "id": "ff260ec2-e126-414c-8a3d-6fab75119300",
   "metadata": {},
   "outputs": [],
   "source": [
    "# # Plotting later\n",
    "# att_feat = temp_att_scores_dim2[num_test + phi_index, :, var]\n",
    "# att_feat = ab_scaler(att_feat,np.min(wshap_feat3),np.max(wshap_feat3))\n",
    "# heat_map(start=0, stop=48, x=test_x[num_test + phi_index, :, var], shap_values=att_feat, var_name=feature_map_mimic_26[var], plot_type='bar', val_type='Attention Scores T 1')"
   ]
  },
  {
   "cell_type": "code",
   "execution_count": 300,
   "id": "297ae0fb-0aaf-4e33-b544-07a066777eab",
   "metadata": {},
   "outputs": [
    {
     "data": {
      "image/png": "[encoded data removed]",
      "text/plain": [
       "<Figure size 612x180 with 2 Axes>"
      ]
     },
     "metadata": {
      "needs_background": "light"
     },
     "output_type": "display_data"
    }
   ],
   "source": [
    "# Plotting later\n",
    "att_feat = temp_att_scores_dim3[num_test + phi_index, :, var]\n",
    "att_feat = ab_scaler(att_feat,np.min(wshap_feat3),np.max(wshap_feat3))\n",
    "heat_map(start=0, stop=48, x=test_x[num_test + phi_index, :, var], shap_values=att_feat, var_name=feature_map_mimic_26[var], plot_type='bar', val_type='Attention Scores T 2')"
   ]
  },
  {
   "cell_type": "code",
   "execution_count": 301,
   "id": "b8f93e27-61ce-41e7-800a-d26298a9adaf",
   "metadata": {},
   "outputs": [
    {
     "data": {
      "image/png": "[encoded data removed]",
      "text/plain": [
       "<Figure size 612x180 with 2 Axes>"
      ]
     },
     "metadata": {
      "needs_background": "light"
     },
     "output_type": "display_data"
    }
   ],
   "source": [
    "heat_map(start=0, stop=48, x=test_x[num_test + phi_index, :, var], shap_values=ts_phi_3[num_test + phi_index, :, var], var_name=feature_map_mimic_26[var], plot_type='bar')"
   ]
  },
  {
   "cell_type": "code",
   "execution_count": null,
   "id": "e803ab74-ffa2-4d79-b625-ac3d1f42d30b",
   "metadata": {},
   "outputs": [],
   "source": []
  },
  {
   "cell_type": "code",
   "execution_count": null,
   "id": "f364908a-e27d-4eb0-8c63-e9c17be43325",
   "metadata": {},
   "outputs": [],
   "source": []
  },
  {
   "cell_type": "code",
   "execution_count": null,
   "id": "54d42b3c-fcb5-457f-adeb-201168e89d9a",
   "metadata": {},
   "outputs": [],
   "source": []
  },
  {
   "cell_type": "code",
   "execution_count": null,
   "id": "7c09d161-bc4d-4f8a-a814-6da80c96e88d",
   "metadata": {},
   "outputs": [],
   "source": []
  },
  {
   "cell_type": "code",
   "execution_count": null,
   "id": "6d50f54e-79f3-4e97-9242-2ce8a3ae7029",
   "metadata": {},
   "outputs": [],
   "source": []
  },
  {
   "cell_type": "code",
   "execution_count": null,
   "id": "ef500ecb-0ecf-49ad-9cec-47cc4bfd5d48",
   "metadata": {},
   "outputs": [],
   "source": []
  },
  {
   "cell_type": "code",
   "execution_count": null,
   "id": "45abb909-4c74-4477-a587-f2931fe94421",
   "metadata": {},
   "outputs": [],
   "source": []
  },
  {
   "cell_type": "code",
   "execution_count": null,
   "id": "6fa524b5-9d3f-4a5f-9c64-d015a8ad60c8",
   "metadata": {},
   "outputs": [],
   "source": []
  },
  {
   "cell_type": "code",
   "execution_count": null,
   "id": "b8bf3fb1-2041-44b1-8ebd-52fbd829c663",
   "metadata": {},
   "outputs": [],
   "source": []
  },
  {
   "cell_type": "code",
   "execution_count": null,
   "id": "88165d2a-ac2b-476f-bb41-3626b2f43f6b",
   "metadata": {},
   "outputs": [],
   "source": []
  },
  {
   "cell_type": "code",
   "execution_count": null,
   "id": "bc613a26-06ed-48ce-971b-1f81083099b5",
   "metadata": {},
   "outputs": [],
   "source": []
  },
  {
   "cell_type": "code",
   "execution_count": null,
   "id": "26d0cb0a-8178-44d5-a1da-83c999b8c80e",
   "metadata": {},
   "outputs": [],
   "source": []
  }
 ],
 "metadata": {
  "kernelspec": {
   "display_name": "Python 3 (ipykernel)",
   "language": "python",
   "name": "python3"
  },
  "language_info": {
   "codemirror_mode": {
    "name": "ipython",
    "version": 3
   },
   "file_extension": ".py",
   "mimetype": "text/x-python",
   "name": "python",
   "nbconvert_exporter": "python",
   "pygments_lexer": "ipython3",
   "version": "3.9.12"
  }
 },
 "nbformat": 4,
 "nbformat_minor": 5
}
