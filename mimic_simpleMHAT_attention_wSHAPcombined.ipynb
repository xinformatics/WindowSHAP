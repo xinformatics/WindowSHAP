{
 "cells": [
  {
   "cell_type": "code",
   "execution_count": 1,
   "id": "77b901c4-1cae-4e4a-8d97-643fc97e7559",
   "metadata": {},
   "outputs": [
    {
     "name": "stderr",
     "output_type": "stream",
     "text": [
      "2023-03-10 17:04:43.217430: I tensorflow/core/platform/cpu_feature_guard.cc:193] This TensorFlow binary is optimized with oneAPI Deep Neural Network Library (oneDNN) to use the following CPU instructions in performance-critical operations:  AVX2 FMA\n",
      "To enable them in other operations, rebuild TensorFlow with the appropriate compiler flags.\n",
      "2023-03-10 17:04:43.565962: E tensorflow/stream_executor/cuda/cuda_blas.cc:2981] Unable to register cuBLAS factory: Attempting to register factory for plugin cuBLAS when one has already been registered\n",
      "2023-03-10 17:04:44.899371: W tensorflow/stream_executor/platform/default/dso_loader.cc:64] Could not load dynamic library 'libnvinfer.so.7'; dlerror: libnvinfer.so.7: cannot open shared object file: No such file or directory\n",
      "2023-03-10 17:04:44.899434: W tensorflow/stream_executor/platform/default/dso_loader.cc:64] Could not load dynamic library 'libnvinfer_plugin.so.7'; dlerror: libnvinfer_plugin.so.7: cannot open shared object file: No such file or directory\n",
      "2023-03-10 17:04:44.899453: W tensorflow/compiler/tf2tensorrt/utils/py_utils.cc:38] TF-TRT Warning: Cannot dlopen some TensorRT libraries. If you would like to use Nvidia GPU with TensorRT, please make sure the missing libraries mentioned above are installed properly.\n"
     ]
    }
   ],
   "source": [
    "from tensorflow import keras\n",
    "from tensorflow.keras import layers\n",
    "from tensorflow.keras.callbacks import EarlyStopping, ModelCheckpoint,ReduceLROnPlateau\n",
    "import numpy as np\n",
    "import matplotlib.pyplot as plt\n",
    "import timeit\n",
    "from sklearn.metrics import roc_auc_score, f1_score, recall_score, precision_score, average_precision_score, matthews_corrcoef\n",
    "# from util import heat_map, xai_eval_fnc"
   ]
  },
  {
   "cell_type": "code",
   "execution_count": 2,
   "id": "66b2450e-dc8d-42c0-9334-4c7c5f59337c",
   "metadata": {},
   "outputs": [],
   "source": [
    "import numpy as np\n",
    "import math\n",
    "from copy import deepcopy\n",
    "\n",
    "def xai_eval_fnc(model, relevence, input_x, model_type='lstm', percentile=90,\n",
    "                 eval_type='prtb', seq_len=10, by='all'):\n",
    "    \"\"\"\n",
    "    Evaluates the quality metrics of time-series importance scores using various evaluation methods.\n",
    "\n",
    "    Parameters\n",
    "    ----------\n",
    "    model : prediction model that is explained \n",
    "    relevance : A 3D array of importance scores for each time step of the time-series data\n",
    "    input_x : input data of the prediction model. If the input data consists of different modalities, the first module should be a 3D time series data\n",
    "    model_type (optional) : type of model, either 'lstm' or 'lstm_plus'. Use 'lstm' when the time series data is the only modality of the input, otherwise use 'lstm_plus'\n",
    "    percentile (optional) : percentile of top time steps that are going to be pertubed\n",
    "    eval_type (optional) : evaluation method, either 'prtb' for the perturbation analysis metric or 'sqnc' for sequence analysis metric\n",
    "    seq_len (optional) : sequence length for 'sqnc' method\n",
    "    by (optional) : whether to evaluate each temporal feature separately or all time steps together, either 'time' or 'all'\n",
    "\n",
    "    Returns : prediction of the modified input time-series data using the input model\n",
    "    \"\"\"\n",
    "    \n",
    "    input_new = deepcopy(input_x)\n",
    "    relevence = np.absolute(relevence)\n",
    "    \n",
    "    # TO DO: Add other type of models\n",
    "    if model_type == 'lstm_plus':\n",
    "        input_ts = input_x[0]\n",
    "        input_new_ts = input_new[0]\n",
    "    elif model_type == 'lstm':\n",
    "        input_ts = input_x\n",
    "        input_new_ts = input_new\n",
    "    \n",
    "    assert len(input_ts.shape)==3 # the time sereis data needs to be 3-dimensional\n",
    "    num_feature = input_ts.shape[2]\n",
    "    num_time_step = input_ts.shape[1]\n",
    "    num_instance = input_ts.shape[0]\n",
    "        \n",
    "    if by=='time':\n",
    "        top_steps = math.ceil((1 - percentile/100) * num_time_step) # finding the number of top steps for each feature\n",
    "        top_indices = np.argsort(relevence, axis=1)[:, -top_steps:, :] # a 3d array of top time steps for each feature\n",
    "        for j in range(num_feature): # converting the indices to a flatten version\n",
    "            top_indices[:, :, j] = top_indices[:, :, j] * num_feature + j\n",
    "        top_indices = top_indices.flatten()\n",
    "    elif by=='all':\n",
    "        top_steps = math.ceil((1 - percentile/100) * num_time_step * num_feature) # finding the number of all top steps\n",
    "        top_indices = np.argsort(relevence, axis=None)[-top_steps:]\n",
    "    # print(top_indices)\n",
    "    \n",
    "    # Create a masking matrix for top time steps\n",
    "    top_indices_mask = np.zeros(input_ts.size)\n",
    "    top_indices_mask[top_indices] = 1\n",
    "    top_indices_mask = top_indices_mask.reshape(input_ts.shape)\n",
    "    \n",
    "    \n",
    "    # Evaluating different metrics\n",
    "    for p in range(num_instance):\n",
    "        for v in range(num_feature):\n",
    "            for t in range(num_time_step):\n",
    "                if top_indices_mask[p, t, v]:\n",
    "                    if eval_type == 'prtb':\n",
    "                        input_new_ts[p,t,v] = np.max(input_ts[p,:,v]) - input_ts[p,t,v]\n",
    "                        # input_new_ts[p,t,v] = 0 ### possible edit here\n",
    "                    elif eval_type == 'sqnc':\n",
    "                        input_new_ts[p, t:t + seq_len, v] = 0\n",
    "    \n",
    "    return model.predict(input_new)\n",
    "\n",
    "\n",
    "def heat_map(start, stop, x, shap_values, var_name='Feature 1', plot_type='bar', title=None, val_type='wSHAP values'):\n",
    "    \"\"\"\n",
    "    A function that generates a heatmap with the temporal sequence alongside its Shapley values\n",
    "\n",
    "    Parameters\n",
    "    ----------\n",
    "    start (int): the starting point of the temporal sequence\n",
    "    stop (int): the ending point of the temporal sequence\n",
    "    x (np.ndarray): the sequence data\n",
    "    shap_values (np.ndarray): the Shapley values corresponding to the sequence data\n",
    "    var_name (str): the name of the variable being plotted (default: 'Feature 1')\n",
    "    plot_type (str): the type of plot to generate ('bar' or 'heat' or 'heat_abs', default: 'bar')\n",
    "    title (str): the title for the plot (default: None)\n",
    "    \"\"\"\n",
    "    import matplotlib.pyplot as plt\n",
    "    from matplotlib.colors import LinearSegmentedColormap\n",
    "    from matplotlib.colors import BoundaryNorm\n",
    "    from textwrap import wrap\n",
    "    import numpy as np; np.random.seed(1)\n",
    "    \n",
    "    ## ColorMap-------------------------\n",
    "    # define the colormap\n",
    "    cmap = plt.get_cmap('PuOr_r')\n",
    "\n",
    "    # extract all colors from the .jet map\n",
    "    cmaplist = [cmap(i) for i in range(cmap.N)]\n",
    "    # create the new map\n",
    "    cmap = cmap.from_list('Custom cmap', cmaplist, cmap.N)\n",
    "\n",
    "    # define the bins and normalize and forcing 0 to be part of the colorbar!\n",
    "    bounds = np.arange(np.min(shap_values),np.max(shap_values),.5)\n",
    "    idx=np.searchsorted(bounds,0)\n",
    "    bounds=np.insert(bounds,idx,0)\n",
    "    norm = BoundaryNorm(bounds, cmap.N)\n",
    "    # print(bounds)\n",
    "    ##------------------------------------\n",
    "    \n",
    "    if title is None: title = '\\n'.join(wrap('{} values and contribution scores'.format(var_name), width=40))\n",
    "    \n",
    "    if plot_type=='heat' or plot_type=='heat_abs':\n",
    "        plt.rcParams[\"figure.figsize\"] = 9,3\n",
    "        if plot_type=='heat_abs':\n",
    "            shap_values = np.absolute(shap_values)\n",
    "            cmap = 'Reds'\n",
    "        fig, ax1 = plt.subplots(sharex=True)\n",
    "        extent = [start, stop, -2, 2]\n",
    "        im1 = ax1.imshow(shap_values[np.newaxis, :], cmap=cmap, norm=norm, aspect=\"auto\", extent=extent)\n",
    "        ax1.set_yticks([])\n",
    "        ax1.set_xlim(extent[0], extent[1])\n",
    "        ax1.title.set_text(title)\n",
    "        fig.colorbar(im1, ax=ax1, pad=0.1)\n",
    "        ax2 = ax1.twinx()\n",
    "        ax2.plot(np.arange(start, stop), x, color='black')\n",
    "    elif plot_type=='bar':\n",
    "        plt.rcParams[\"figure.figsize\"] = 8.5,2.5\n",
    "        fig, ax1 = plt.subplots(sharex=True)\n",
    "        mask1 = shap_values < 0\n",
    "        mask2 = shap_values >= 0\n",
    "        ax1.bar(np.arange(start, stop)[mask1], shap_values[mask1], color='blue', label='Negative Shapley values')\n",
    "        ax1.bar(np.arange(start, stop)[mask2], shap_values[mask2], color='red', label='Positive Shapley values')\n",
    "        ax1.set_title(title)\n",
    "        ax2 = ax1.twinx()\n",
    "        ax2.plot(np.arange(start, stop), x, 'k-', label='Observed data')\n",
    "        # legends\n",
    "        lines, labels = ax1.get_legend_handles_labels()\n",
    "        lines2, labels2 = ax2.get_legend_handles_labels()\n",
    "        # ax2.legend(lines + lines2, labels + labels2, loc=0)\n",
    "    \n",
    "    ax1.set_xlabel('Time steps')\n",
    "    if plot_type=='bar': ax1.set_ylabel(val_type)\n",
    "    ax2.set_ylabel(var_name + ' data values')\n",
    "    plt.tight_layout()\n",
    "    plt.show()"
   ]
  },
  {
   "cell_type": "code",
   "execution_count": 3,
   "id": "ff102a28",
   "metadata": {},
   "outputs": [],
   "source": [
    "# %load_ext autoreload\n",
    "# %reload_ext util"
   ]
  },
  {
   "cell_type": "code",
   "execution_count": 4,
   "id": "5b589e31-363c-4c1c-bd75-b4cded5eddc7",
   "metadata": {},
   "outputs": [
    {
     "name": "stdout",
     "output_type": "stream",
     "text": [
      "(18390, 48, 26) (4598, 48, 26) (18390, 1) (4598, 1)\n"
     ]
    }
   ],
   "source": [
    "##### load data and reformat\n",
    "data = np.load('train_test_x_y_01.npz')\n",
    "train_x, test_x, train_y, test_y  = data['arr_0'], data['arr_1'], data['arr_2'], data['arr_3'] \n",
    "train_y = train_y.reshape(-1,1)\n",
    "test_y  = test_y.reshape(-1,1)\n",
    "print(train_x.shape, test_x.shape, train_y.shape, test_y.shape)\n",
    "\n"
   ]
  },
  {
   "cell_type": "code",
   "execution_count": 5,
   "id": "99d66606-ab34-4ad8-8426-68e170307d8d",
   "metadata": {},
   "outputs": [
    {
     "name": "stderr",
     "output_type": "stream",
     "text": [
      "2023-03-10 17:04:53.005264: E tensorflow/stream_executor/cuda/cuda_driver.cc:265] failed call to cuInit: CUDA_ERROR_UNKNOWN: unknown error\n",
      "2023-03-10 17:04:53.005289: I tensorflow/stream_executor/cuda/cuda_diagnostics.cc:169] retrieving CUDA diagnostic information for host: Legion5\n",
      "2023-03-10 17:04:53.005294: I tensorflow/stream_executor/cuda/cuda_diagnostics.cc:176] hostname: Legion5\n",
      "2023-03-10 17:04:53.005410: I tensorflow/stream_executor/cuda/cuda_diagnostics.cc:200] libcuda reported version is: 525.85.12\n",
      "2023-03-10 17:04:53.005424: I tensorflow/stream_executor/cuda/cuda_diagnostics.cc:204] kernel reported version is: 525.85.12\n",
      "2023-03-10 17:04:53.005428: I tensorflow/stream_executor/cuda/cuda_diagnostics.cc:310] kernel version seems to match DSO: 525.85.12\n",
      "2023-03-10 17:04:53.005759: I tensorflow/core/platform/cpu_feature_guard.cc:193] This TensorFlow binary is optimized with oneAPI Deep Neural Network Library (oneDNN) to use the following CPU instructions in performance-critical operations:  AVX2 FMA\n",
      "To enable them in other operations, rebuild TensorFlow with the appropriate compiler flags.\n"
     ]
    }
   ],
   "source": [
    "#### load model\n",
    "\n",
    "# model = keras.models.load_model('mimic3_ts_transformer_4march_wattscores_48x26x26.h5_best.hdf5', compile=False)\n",
    "model = keras.models.load_model('good_models/weights-improvement-cv01.hdf5', compile=False) # better model\n",
    "\n",
    "\n",
    "## define model loss to be used later\n",
    "keras_loss = keras.losses.BinaryCrossentropy(from_logits=True)"
   ]
  },
  {
   "cell_type": "code",
   "execution_count": 6,
   "id": "24df9050-bdf2-40f5-9995-d2bd11bb62be",
   "metadata": {},
   "outputs": [
    {
     "name": "stdout",
     "output_type": "stream",
     "text": [
      "0.8986881695730399\n",
      "0.607958786810349\n",
      "0.5089883679943603\n",
      "0.3941048034934498\n",
      "0.718407960199005\n",
      "0.4967673500389786\n"
     ]
    }
   ],
   "source": [
    "y_train_pred = model.predict(train_x, verbose=0)\n",
    "print(roc_auc_score(train_y, y_train_pred))\n",
    "print(average_precision_score(train_y, y_train_pred))\n",
    "print(f1_score(train_y, np.round(y_train_pred)))\n",
    "print(recall_score(train_y, np.round(y_train_pred)))\n",
    "print(precision_score(train_y, np.round(y_train_pred)))\n",
    "print(matthews_corrcoef(train_y, np.round(y_train_pred)))\n",
    "# print('Model Loss: ',\"{:.4f}\".format(keras_loss(train_y, model.predict(train_x, verbose=0)).numpy()))"
   ]
  },
  {
   "cell_type": "code",
   "execution_count": 7,
   "id": "121e2035-9749-4236-9f85-6891f7577492",
   "metadata": {},
   "outputs": [
    {
     "name": "stdout",
     "output_type": "stream",
     "text": [
      "0.7103954391072296\n",
      "0.2674850062264698\n",
      "0.2347560975609756\n",
      "0.16812227074235808\n",
      "0.3888888888888889\n",
      "0.2049091107900389\n"
     ]
    }
   ],
   "source": [
    "y_test_pred = model.predict(test_x, verbose=0)\n",
    "print(roc_auc_score(test_y,y_test_pred ))\n",
    "print(average_precision_score(test_y,y_test_pred ))\n",
    "print(f1_score(test_y, np.round(y_test_pred)))\n",
    "print(recall_score(test_y, np.round(y_test_pred)))\n",
    "print(precision_score(test_y, np.round(y_test_pred)))\n",
    "print(matthews_corrcoef(test_y, np.round(y_test_pred)))\n",
    "# print('Model Loss: ',\"{:.4f}\".format(keras_loss(test_y, model.predict(test_x, verbose=0)).numpy()))"
   ]
  },
  {
   "cell_type": "code",
   "execution_count": 8,
   "id": "35725eaa",
   "metadata": {},
   "outputs": [],
   "source": [
    "#### for multi_head_attention \n",
    "att_layerout_MHA0= keras.Model(inputs=model.input, outputs=model.get_layer('multi_head_attention').output)"
   ]
  },
  {
   "cell_type": "code",
   "execution_count": 9,
   "id": "5319e2b2",
   "metadata": {},
   "outputs": [
    {
     "name": "stderr",
     "output_type": "stream",
     "text": [
      "2023-03-10 17:05:13.672879: W tensorflow/core/framework/cpu_allocator_impl.cc:82] Allocation of 596783616 exceeds 10% of free system memory.\n"
     ]
    }
   ],
   "source": [
    "att_output_MHA0 = att_layerout_MHA0.predict(test_x, verbose=0)"
   ]
  },
  {
   "cell_type": "code",
   "execution_count": 10,
   "id": "5739a918",
   "metadata": {},
   "outputs": [
    {
     "name": "stdout",
     "output_type": "stream",
     "text": [
      "(4598, 48, 26) (4598, 48, 26) (4598, 48, 26)\n"
     ]
    }
   ],
   "source": [
    "att_outvals_MHA0, att_scores_MHA0 = att_output_MHA0\n",
    "# print(att_outvals_MHA0.shape, att_scores_MHA0.shape)\n",
    "temp_att_scores_dim2 = np.mean(att_scores_MHA0,axis=2) ###the right way\n",
    "temp_att_scores_dim3 = np.mean(att_scores_MHA0,axis=3) ###\n",
    "print(att_outvals_MHA0.shape, temp_att_scores_dim2.shape,temp_att_scores_dim3.shape )\n"
   ]
  },
  {
   "cell_type": "code",
   "execution_count": 11,
   "id": "eaca3ae8-0a5f-46cb-8593-7092666d736b",
   "metadata": {},
   "outputs": [],
   "source": [
    "# temp_att_scores_joined = temp_att_scores_dim2+temp_att_scores_dim3"
   ]
  },
  {
   "cell_type": "code",
   "execution_count": 12,
   "id": "8508ba0c-7f6a-4b78-ab24-03455ac46a4f",
   "metadata": {},
   "outputs": [],
   "source": [
    "# temp_att_scores_joined.shape"
   ]
  },
  {
   "cell_type": "code",
   "execution_count": 13,
   "id": "945afc14-7c58-4339-a779-04d5ca6ec730",
   "metadata": {},
   "outputs": [],
   "source": [
    "# np.save('MHA_scores.npy',temp_att_scores_dim2)\n",
    "# np.save('MHA_output.npy', att_outvals_MHA0)"
   ]
  },
  {
   "cell_type": "code",
   "execution_count": 14,
   "id": "81b50829-f1fd-4f4b-a6ac-a6433d851011",
   "metadata": {},
   "outputs": [],
   "source": [
    "# temp_att_scores_dim2 = np.load('MHA_output.npy') ### all test patients\n",
    "# att_scores_dim2 = np.load('MHA_scores.npy') ### all test patients"
   ]
  },
  {
   "cell_type": "code",
   "execution_count": 15,
   "id": "13a5495b",
   "metadata": {},
   "outputs": [],
   "source": [
    "######## visualization of attention scores\n",
    "feature_map_mimic_26 = ['ANION GAP', 'ALBUMIN', 'BICARBONATE', 'BILIRUBIN','CREATININE', 'CHLORIDE', 'GLUCOSE', 'HEMATOCRIT', \n",
    "                     'LACTATE', 'MAGNESIUM', 'PHOSPHATE','PLATELET', 'POTASSIUM', 'PTT','INR', 'PT', \n",
    "                     'SODIUM', 'BUN', 'WBC', 'HeartRate', 'SysBP', 'DiasBP', 'MeanBP', 'RespRate', 'SpO2','Temp']"
   ]
  },
  {
   "cell_type": "code",
   "execution_count": 16,
   "id": "35181c45-9e2a-4562-842f-35bd3a543efe",
   "metadata": {},
   "outputs": [],
   "source": [
    "############# load wSHAP results\n",
    "\n",
    "############# load wSHAP scores obtained from HPC\n",
    "\n",
    "# ts_phi_1_01_50 = np.load('mhat_ts_phi_1_p01_p50.npy') #p1-p50\n",
    "# ts_phi_2_01_50 = np.load('mhat_ts_phi_2_p01_p50.npy') #p1-p50\n",
    "# ts_phi_3_01_50 = np.load('mhat_ts_phi_3_p01_p50.npy') #p1-p50\n",
    "\n",
    "# ts_phi_1_51_100 = np.load('mhat_ts_phi_1_p51_p100.npy') #p51-p100\n",
    "# ts_phi_2_51_100 = np.load('mhat_ts_phi_2_p51_p100.npy') #p51-p100\n",
    "# ts_phi_3_51_100 = np.load('mhat_ts_phi_3_p51_p100.npy') #p51-p100\n",
    "\n"
   ]
  },
  {
   "cell_type": "code",
   "execution_count": 17,
   "id": "20225416-1368-4c89-a2de-e04d31367c08",
   "metadata": {},
   "outputs": [],
   "source": [
    "# ### join both numpy matrix\n",
    "# ts_phi_1 = np.concatenate((ts_phi_1_01_50,ts_phi_1_51_100))\n",
    "# ts_phi_2 = np.concatenate((ts_phi_2_01_50,ts_phi_2_51_100))\n",
    "# ts_phi_3 = np.concatenate((ts_phi_3_01_50,ts_phi_3_51_100))\n",
    "# ts_phi_1.shape, ts_phi_2.shape, ts_phi_3.shape"
   ]
  },
  {
   "cell_type": "code",
   "execution_count": 18,
   "id": "f377acb3-c9d5-4252-8857-382ad97cc1f6",
   "metadata": {},
   "outputs": [],
   "source": [
    "########load new SHAP on better model"
   ]
  },
  {
   "cell_type": "code",
   "execution_count": null,
   "id": "0179cbdb-323c-4b05-9ca0-e53e0b6913eb",
   "metadata": {},
   "outputs": [],
   "source": []
  },
  {
   "cell_type": "code",
   "execution_count": 19,
   "id": "364f6b29-64c6-4329-be37-6148a8eab9da",
   "metadata": {},
   "outputs": [],
   "source": [
    "### scaler function\n",
    "#xnormalized=(b−a)x−min(x)max(x)−min(x)+a\n",
    "\n",
    "def ab_scaler(data,a,b):\n",
    "    sdata = (b-a)*((data - np.min(data))/(np.max(data) - np.min(data))) + a\n",
    "    return sdata\n",
    "\n",
    "# ab_scaler(np.asarray([0,0.25, 0.5, 0.75, 1.00]), -1, 1)\n"
   ]
  },
  {
   "cell_type": "code",
   "execution_count": 20,
   "id": "ab67fb9b-0d3f-4971-997d-36348307b48c",
   "metadata": {},
   "outputs": [],
   "source": [
    "# ################## some analysis of values\n",
    "# att_scores_p100 = temp_att_scores_dim2[:100]\n",
    "# att_scores_p100.shape, ts_phi_1.shape"
   ]
  },
  {
   "cell_type": "code",
   "execution_count": 21,
   "id": "41f286c5-3ecd-4f97-b69c-b2c8a9df8182",
   "metadata": {},
   "outputs": [],
   "source": [
    "######### load new SHAP\n",
    "ts_phi_1 = np.load('better_model_wshap/mhat_ts_phi_1_p100_wl12.npy') #p1-p100\n",
    "ts_phi_2 = np.load('better_model_wshap/mhat_ts_phi_2_p100_wl12s06.npy') #p1-p100\n",
    "ts_phi_3 = np.load('better_model_wshap/mhat_ts_phi_3_d0p01_nw24.npy') #p1-p100\n"
   ]
  },
  {
   "cell_type": "code",
   "execution_count": 22,
   "id": "ce2e5e64-cb99-46c2-981a-b9988d1cf191",
   "metadata": {},
   "outputs": [],
   "source": [
    "################### visualization wSHAP vs attention\n",
    "import seaborn as sns\n",
    "import matplotlib.pyplot as plt\n",
    "\n"
   ]
  },
  {
   "cell_type": "code",
   "execution_count": 23,
   "id": "b1b7aa99-502a-403e-8081-30647179fd5e",
   "metadata": {},
   "outputs": [],
   "source": [
    "##### scale wSHAP as well\n",
    "# ts_phi_1 = ab_scaler(ts_phi_1,0,1)\n",
    "# ts_phi_2 = ab_scaler(ts_phi_2,0,1)"
   ]
  },
  {
   "cell_type": "code",
   "execution_count": 24,
   "id": "fa28fb89-a898-48d5-9de7-0622cf04b505",
   "metadata": {},
   "outputs": [],
   "source": [
    "num_test = 0 #till 99 \n",
    "var = 18        #### feature index\n",
    "phi_index = 0   #### patient index"
   ]
  },
  {
   "cell_type": "code",
   "execution_count": 25,
   "id": "54221d50-d755-4712-99c6-1297f8142452",
   "metadata": {},
   "outputs": [],
   "source": [
    "# temp_att_scores_dim2 = ab_scaler(temp_att_scores_dim2,-1,1)\n",
    "# temp_att_scores_dim2 = temp_att_scores_dim2\n",
    "\n",
    "wshap_feat2 = ts_phi_2[num_test + phi_index, :, var]"
   ]
  },
  {
   "cell_type": "code",
   "execution_count": 26,
   "id": "66e15998-be0b-495f-9db0-73e63861dde9",
   "metadata": {},
   "outputs": [
    {
     "data": {
      "text/plain": [
       "(array([   2,   12,   28,   36,   50,   68,   77,   80,   82,  116,  119,\n",
       "         131,  136,  154,  187,  203,  206,  209,  221,  236,  244,  263,\n",
       "         307,  311,  315,  320,  338,  355,  367,  371,  375,  376,  378,\n",
       "         381,  390,  392,  409,  453,  455,  456,  504,  514,  525,  545,\n",
       "         553,  557,  562,  568,  570,  590,  596,  610,  612,  636,  638,\n",
       "         643,  645,  650,  658,  661,  678,  702,  707,  717,  723,  744,\n",
       "         745,  753,  754,  756,  757,  759,  772,  778,  788,  790,  791,\n",
       "         806,  824,  832,  835,  845,  853,  856,  861,  885,  897,  904,\n",
       "         935,  984,  998, 1002, 1003, 1018, 1047, 1055, 1075, 1078, 1079,\n",
       "        1081, 1087, 1093, 1094, 1095, 1105, 1119, 1122, 1131, 1144, 1176,\n",
       "        1200, 1210, 1213, 1221, 1228, 1237, 1252, 1257, 1266, 1270, 1305,\n",
       "        1307, 1313, 1314, 1329, 1344, 1362, 1371, 1372, 1374, 1381, 1392,\n",
       "        1393, 1398, 1403, 1412, 1417, 1423, 1443, 1457, 1458, 1477, 1493,\n",
       "        1502, 1510, 1530, 1551, 1563, 1584, 1585, 1607, 1624, 1629, 1630,\n",
       "        1649, 1654, 1660, 1665, 1680, 1686, 1705, 1739, 1764, 1765, 1766,\n",
       "        1770, 1782, 1801, 1822, 1845, 1848, 1858, 1862, 1865, 1893, 1914,\n",
       "        1936, 1954, 1987, 1996, 2023, 2024, 2034, 2036, 2051, 2059, 2061,\n",
       "        2066, 2071, 2078, 2081, 2089, 2099, 2113, 2114, 2133, 2140, 2141,\n",
       "        2144, 2148, 2162, 2169, 2183, 2185, 2207, 2212, 2222, 2232, 2270,\n",
       "        2273, 2281, 2284, 2285, 2294, 2297, 2302, 2323, 2336, 2369, 2375,\n",
       "        2382, 2392, 2396, 2407, 2412, 2413, 2425, 2428, 2444, 2451, 2467,\n",
       "        2471, 2473, 2480, 2483, 2498, 2503, 2511, 2512, 2544, 2549, 2560,\n",
       "        2568, 2576, 2582, 2592, 2595, 2600, 2606, 2619, 2621, 2628, 2630,\n",
       "        2639, 2657, 2686, 2701, 2714, 2716, 2728, 2734, 2739, 2754, 2787,\n",
       "        2789, 2796, 2811, 2820, 2829, 2842, 2843, 2865, 2867, 2871, 2877,\n",
       "        2886, 2894, 2896, 2898, 2902, 2905, 2937, 2939, 2947, 2956, 2959,\n",
       "        2973, 2978, 2982, 3004, 3014, 3019, 3020, 3025, 3026, 3029, 3033,\n",
       "        3036, 3043, 3060, 3092, 3097, 3106, 3109, 3110, 3121, 3125, 3132,\n",
       "        3142, 3146, 3149, 3152, 3169, 3170, 3187, 3192, 3209, 3211, 3213,\n",
       "        3225, 3235, 3243, 3256, 3298, 3301, 3330, 3342, 3347, 3350, 3356,\n",
       "        3374, 3378, 3389, 3395, 3396, 3404, 3406, 3413, 3432, 3443, 3444,\n",
       "        3447, 3451, 3479, 3483, 3486, 3490, 3492, 3493, 3501, 3527, 3534,\n",
       "        3535, 3548, 3552, 3583, 3586, 3587, 3590, 3593, 3594, 3608, 3610,\n",
       "        3613, 3617, 3652, 3657, 3685, 3727, 3733, 3734, 3748, 3752, 3769,\n",
       "        3774, 3785, 3806, 3818, 3826, 3830, 3837, 3844, 3845, 3865, 3866,\n",
       "        3878, 3893, 3896, 3901, 3913, 3918, 3926, 3928, 3984, 3989, 4001,\n",
       "        4008, 4012, 4016, 4025, 4026, 4032, 4044, 4053, 4058, 4059, 4060,\n",
       "        4128, 4144, 4169, 4173, 4182, 4187, 4192, 4204, 4220, 4222, 4228,\n",
       "        4231, 4233, 4235, 4241, 4245, 4249, 4264, 4276, 4289, 4291, 4295,\n",
       "        4313, 4342, 4351, 4373, 4383, 4394, 4396, 4405, 4415, 4423, 4482,\n",
       "        4484, 4488, 4495, 4500, 4515, 4521, 4524, 4526, 4529, 4548, 4551,\n",
       "        4557, 4568, 4570, 4571, 4582, 4593, 4596]),)"
      ]
     },
     "execution_count": 26,
     "metadata": {},
     "output_type": "execute_result"
    }
   ],
   "source": [
    "np.where(np.any(test_y==1, axis=1))"
   ]
  },
  {
   "cell_type": "code",
   "execution_count": 27,
   "id": "e1360901-4687-4b06-8f5b-385677f2c467",
   "metadata": {},
   "outputs": [
    {
     "data": {
      "text/plain": [
       "(26, 48)"
      ]
     },
     "execution_count": 27,
     "metadata": {},
     "output_type": "execute_result"
    }
   ],
   "source": [
    "ts_phi_2[num_test + phi_index, :, :].T.shape"
   ]
  },
  {
   "cell_type": "code",
   "execution_count": 28,
   "id": "fd2712c5-8f2c-4520-803b-e2c7c61a949f",
   "metadata": {},
   "outputs": [],
   "source": [
    "# phi_index_hm = 1\n",
    "# ax = sns.heatmap(ab_scaler(test_x[num_test + phi_index_hm, :, :].T,0,1), cmap=\"BuPu\")\n",
    "# plt.show()"
   ]
  },
  {
   "cell_type": "code",
   "execution_count": 29,
   "id": "8328f071-eb3a-4127-8dc6-c730d9e7b165",
   "metadata": {},
   "outputs": [],
   "source": [
    "\n",
    "# ax = sns.heatmap(ab_scaler(ts_phi_2[num_test + phi_index_hm, :, :].T,0,1), cmap=\"BuPu\")\n",
    "# plt.show()"
   ]
  },
  {
   "cell_type": "code",
   "execution_count": 30,
   "id": "fb033069-1daa-4c68-a7a9-2b85b6cc0b5e",
   "metadata": {},
   "outputs": [],
   "source": [
    "# ax = sns.heatmap(ab_scaler(temp_att_scores_dim2[num_test + phi_index_hm, :, :].T,0,1), cmap=\"BuPu\")\n",
    "# plt.show()"
   ]
  },
  {
   "cell_type": "code",
   "execution_count": 31,
   "id": "6bf270ad-a7d1-4a1f-bbb4-a059edd3b5f0",
   "metadata": {},
   "outputs": [],
   "source": [
    "# ax = sns.heatmap(ab_scaler(temp_att_scores_dim3[num_test + phi_index_hm, :, :].T,0,1), cmap=\"BuPu\")\n",
    "# plt.show()"
   ]
  },
  {
   "cell_type": "code",
   "execution_count": 32,
   "id": "e65a53dd-4947-4533-9cad-098205ce7170",
   "metadata": {},
   "outputs": [
    {
     "data": {
      "image/png": "[encoded data removed]",
      "text/plain": [
       "<Figure size 1800x864 with 12 Axes>"
      ]
     },
     "metadata": {
      "needs_background": "light"
     },
     "output_type": "display_data"
    }
   ],
   "source": [
    "fig, axes = plt.subplots(3, 2, figsize=(25, 12))\n",
    "phi_index_hm = 2\n",
    "ax1 = sns.heatmap(ab_scaler(test_x[num_test + phi_index_hm, :, :].T,0,1), cmap=\"BuPu\",ax=axes[0,0],)\n",
    "axes[0,0].title.set_text('Original data')\n",
    "\n",
    "sns.heatmap(ab_scaler(ts_phi_1[num_test + phi_index_hm, :, :].T,0,1), cmap=\"BuPu\",ax=axes[0,1],)\n",
    "axes[0,1].title.set_text('Stationary SHAP')\n",
    "\n",
    "sns.heatmap(ab_scaler(ts_phi_2[num_test + phi_index_hm, :, :].T,0,1), cmap=\"BuPu\",ax=axes[1,0],)\n",
    "axes[1,0].title.set_text('Sliding SHAP')\n",
    "\n",
    "sns.heatmap(ab_scaler(ts_phi_3[num_test + phi_index_hm, :, :].T,0,1), cmap=\"BuPu\",ax=axes[1,1],)\n",
    "axes[1,1].title.set_text('Dynamic SHAP')\n",
    "\n",
    "sns.heatmap(ab_scaler(temp_att_scores_dim2[num_test + phi_index_hm, :, :].T,0,1), cmap=\"BuPu\",ax=axes[2,0],)\n",
    "axes[2,0].title.set_text('Attention Score Type 1')\n",
    "\n",
    "sns.heatmap(ab_scaler(temp_att_scores_dim3[num_test + phi_index_hm, :, :].T,0,1), cmap=\"BuPu\",ax=axes[2,1],)\n",
    "axes[2,1].title.set_text('Attention Score Type 2')\n",
    "\n",
    "# ax1.tick_params(axis='both', which='both', length=0)\n",
    "# axes[0,0].title.set_text('First Plot')\n",
    "plt.show()"
   ]
  },
  {
   "cell_type": "code",
   "execution_count": 33,
   "id": "5655c793-dc1c-455b-94e0-bda8e2804416",
   "metadata": {},
   "outputs": [],
   "source": [
    "# ax = sns.heatmap(ab_scaler(temp_att_scores_dim2[num_test + phi_index_hm, :, :].T,0,1)\n",
    "#                  +ab_scaler(temp_att_scores_dim3[num_test + phi_index_hm, :, :].T,0,1), cmap=\"BuPu\")\n",
    "# plt.show()"
   ]
  },
  {
   "cell_type": "code",
   "execution_count": 36,
   "id": "64128d76-639b-4d29-8b98-ad4d5655eac2",
   "metadata": {},
   "outputs": [],
   "source": [
    "# (np.mean(ab_scaler(ts_phi_3[num_test + phi_index_hm, :, :].T,0,1)), \n",
    "# np.mean(ab_scaler(temp_att_scores_dim2[num_test + phi_index_hm, :, :].T,0,1)),\n",
    "# np.mean(ab_scaler(temp_att_scores_dim3[num_test + phi_index_hm, :, :].T,0,1)),\n",
    "# # np.mean(ab_scaler(temp_att_scores_joined[num_test + phi_index_hm, :, :].T,0,1)))"
   ]
  },
  {
   "cell_type": "code",
   "execution_count": 37,
   "id": "d00387cc-191b-4abb-80e4-d7c13f3570cf",
   "metadata": {},
   "outputs": [],
   "source": [
    "# (np.std(ab_scaler(ts_phi_3[num_test + phi_index_hm, :, :].T,0,1)),\n",
    "# np.std(ab_scaler(temp_att_scores_dim2[num_test + phi_index_hm, :, :].T,0,1)),\n",
    "# np.std(ab_scaler(temp_att_scores_dim3[num_test + phi_index_hm, :, :].T,0,1)),\n",
    "#       )"
   ]
  },
  {
   "cell_type": "code",
   "execution_count": null,
   "id": "4d41d1b0-6df7-4265-b4e9-4bcd34990590",
   "metadata": {},
   "outputs": [],
   "source": []
  },
  {
   "cell_type": "code",
   "execution_count": null,
   "id": "6ab5e498-6589-4ee9-ade2-ed7845b7bf84",
   "metadata": {},
   "outputs": [],
   "source": []
  },
  {
   "cell_type": "markdown",
   "id": "32cfa125-2f12-41cd-aa17-586bf4f6764e",
   "metadata": {},
   "source": [
    "## Heatmap for Attention scores"
   ]
  },
  {
   "cell_type": "code",
   "execution_count": 38,
   "id": "d9e1a678-1af8-48a2-a994-7943ecd8ce42",
   "metadata": {},
   "outputs": [
    {
     "data": {
      "image/png": "[encoded data removed]",
      "text/plain": [
       "<Figure size 612x180 with 2 Axes>"
      ]
     },
     "metadata": {
      "needs_background": "light"
     },
     "output_type": "display_data"
    }
   ],
   "source": [
    "\n",
    "att_feat = temp_att_scores_dim2[num_test + phi_index, :, var]\n",
    "att_feat = ab_scaler(att_feat,np.min(wshap_feat2),np.max(wshap_feat2))\n",
    "heat_map(start=0, stop=48, x=test_x[num_test + phi_index, :, var], shap_values=att_feat, var_name=feature_map_mimic_26[var], plot_type='bar', val_type='Attention Scores')"
   ]
  },
  {
   "cell_type": "markdown",
   "id": "aecc6aea-14d4-456f-accb-db2a1aca2814",
   "metadata": {},
   "source": [
    "## Heatmap for Stationary SHAP"
   ]
  },
  {
   "cell_type": "code",
   "execution_count": 39,
   "id": "dc94a0eb-03b5-48ef-ad57-ee0c12ea4847",
   "metadata": {},
   "outputs": [],
   "source": [
    "# heat_map(start=0, stop=48, x=test_x[num_test + phi_index, :, var], shap_values=ts_phi_1[num_test + phi_index, :, var], var_name=feature_map_mimic_26[var], plot_type='bar')\n",
    "\n",
    "\n",
    "# wshap_feat1 = ts_phi_1[num_test + phi_index, :, var]\n",
    "# wshap_feat1 = ab_scaler(wshap_feat1, np.min(att_feat), np.max(att_feat))\n",
    "# wshap_feat1 = ab_scaler(wshap_feat1,-1,1)\n",
    "# heat_map(start=0, stop=48, x=test_x[num_test + phi_index, :, var], shap_values=wshap_feat1, var_name=feature_map_mimic_26[var], plot_type='bar')"
   ]
  },
  {
   "cell_type": "markdown",
   "id": "c39c6e96-2b96-4d40-bf0f-0af1542dab95",
   "metadata": {},
   "source": [
    "## Heatmap for Sliding SHAP"
   ]
  },
  {
   "cell_type": "code",
   "execution_count": 40,
   "id": "885a6b74-70b0-40eb-bad2-bd77c9c8939d",
   "metadata": {},
   "outputs": [
    {
     "data": {
      "image/png": "[encoded data removed]",
      "text/plain": [
       "<Figure size 612x180 with 2 Axes>"
      ]
     },
     "metadata": {
      "needs_background": "light"
     },
     "output_type": "display_data"
    }
   ],
   "source": [
    "try:\n",
    "    wshap_feat2 = ts_phi_2[num_test + phi_index, :, var]\n",
    "    heat_map(start=0, stop=48, x=test_x[num_test + phi_index, :, var], shap_values=wshap_feat2, var_name=feature_map_mimic_26[var], plot_type='bar')\n",
    "except:\n",
    "    # heat_map(start=0, stop=48, x=test_x[num_test + phi_index, :, var], shap_values=np.random(ts_phi_2.shape)[num_test + phi_index, :, var], var_name=feature_map_mimic_26[var], plot_type='bar')\n",
    "    pass\n",
    "\n",
    "# wshap_feat2 = ts_phi_2[num_test + phi_index, :, var]\n",
    "# wshap_feat2 = ab_scaler(wshap_feat2, np.min(att_feat), np.max(att_feat))\n",
    "# wshap_feat2 = ab_scaler(wshap_feat2,-1,1)\n",
    "# try:\n",
    "#     heat_map(start=0, stop=48, x=test_x[num_test + phi_index, :, var], shap_values=wshap_feat2, var_name=feature_map_mimic_26[var], plot_type='bar')\n",
    "# except:\n",
    "#     # heat_map(start=0, stop=48, x=test_x[num_test + phi_index, :, var], shap_values=np.random(ts_phi_2.shape)[num_test + phi_index, :, var], var_name=feature_map_mimic_26[var], plot_type='bar')\n",
    "#     pass\n"
   ]
  },
  {
   "cell_type": "markdown",
   "id": "e4e271df-3d1e-4daf-bfc4-9a5ba482998a",
   "metadata": {},
   "source": [
    "## Heatmap for Dynamic SHAP"
   ]
  },
  {
   "cell_type": "code",
   "execution_count": 41,
   "id": "10e54a6e-6265-4164-9501-8bf951f9a94a",
   "metadata": {},
   "outputs": [
    {
     "ename": "ValueError",
     "evalue": "You must provide at least 2 boundaries (1 region) but you passed in array([0.])",
     "output_type": "error",
     "traceback": [
      "\u001b[0;31m---------------------------------------------------------------------------\u001b[0m",
      "\u001b[0;31mValueError\u001b[0m                                Traceback (most recent call last)",
      "Input \u001b[0;32mIn [41]\u001b[0m, in \u001b[0;36m<cell line: 1>\u001b[0;34m()\u001b[0m\n\u001b[0;32m----> 1\u001b[0m \u001b[43mheat_map\u001b[49m\u001b[43m(\u001b[49m\u001b[43mstart\u001b[49m\u001b[38;5;241;43m=\u001b[39;49m\u001b[38;5;241;43m0\u001b[39;49m\u001b[43m,\u001b[49m\u001b[43m \u001b[49m\u001b[43mstop\u001b[49m\u001b[38;5;241;43m=\u001b[39;49m\u001b[38;5;241;43m48\u001b[39;49m\u001b[43m,\u001b[49m\u001b[43m \u001b[49m\u001b[43mx\u001b[49m\u001b[38;5;241;43m=\u001b[39;49m\u001b[43mtest_x\u001b[49m\u001b[43m[\u001b[49m\u001b[43mnum_test\u001b[49m\u001b[43m \u001b[49m\u001b[38;5;241;43m+\u001b[39;49m\u001b[43m \u001b[49m\u001b[43mphi_index\u001b[49m\u001b[43m,\u001b[49m\u001b[43m \u001b[49m\u001b[43m:\u001b[49m\u001b[43m,\u001b[49m\u001b[43m \u001b[49m\u001b[43mvar\u001b[49m\u001b[43m]\u001b[49m\u001b[43m,\u001b[49m\u001b[43m \u001b[49m\u001b[43mshap_values\u001b[49m\u001b[38;5;241;43m=\u001b[39;49m\u001b[43mts_phi_3\u001b[49m\u001b[43m[\u001b[49m\u001b[43mnum_test\u001b[49m\u001b[43m \u001b[49m\u001b[38;5;241;43m+\u001b[39;49m\u001b[43m \u001b[49m\u001b[43mphi_index\u001b[49m\u001b[43m,\u001b[49m\u001b[43m \u001b[49m\u001b[43m:\u001b[49m\u001b[43m,\u001b[49m\u001b[43m \u001b[49m\u001b[43mvar\u001b[49m\u001b[43m]\u001b[49m\u001b[43m,\u001b[49m\u001b[43m \u001b[49m\u001b[43mvar_name\u001b[49m\u001b[38;5;241;43m=\u001b[39;49m\u001b[43mfeature_map_mimic_26\u001b[49m\u001b[43m[\u001b[49m\u001b[43mvar\u001b[49m\u001b[43m]\u001b[49m\u001b[43m,\u001b[49m\u001b[43m \u001b[49m\u001b[43mplot_type\u001b[49m\u001b[38;5;241;43m=\u001b[39;49m\u001b[38;5;124;43m'\u001b[39;49m\u001b[38;5;124;43mbar\u001b[39;49m\u001b[38;5;124;43m'\u001b[39;49m\u001b[43m)\u001b[49m\n",
      "Input \u001b[0;32mIn [2]\u001b[0m, in \u001b[0;36mheat_map\u001b[0;34m(start, stop, x, shap_values, var_name, plot_type, title, val_type)\u001b[0m\n\u001b[1;32m    102\u001b[0m idx\u001b[38;5;241m=\u001b[39mnp\u001b[38;5;241m.\u001b[39msearchsorted(bounds,\u001b[38;5;241m0\u001b[39m)\n\u001b[1;32m    103\u001b[0m bounds\u001b[38;5;241m=\u001b[39mnp\u001b[38;5;241m.\u001b[39minsert(bounds,idx,\u001b[38;5;241m0\u001b[39m)\n\u001b[0;32m--> 104\u001b[0m norm \u001b[38;5;241m=\u001b[39m \u001b[43mBoundaryNorm\u001b[49m\u001b[43m(\u001b[49m\u001b[43mbounds\u001b[49m\u001b[43m,\u001b[49m\u001b[43m \u001b[49m\u001b[43mcmap\u001b[49m\u001b[38;5;241;43m.\u001b[39;49m\u001b[43mN\u001b[49m\u001b[43m)\u001b[49m\n\u001b[1;32m    105\u001b[0m \u001b[38;5;66;03m# print(bounds)\u001b[39;00m\n\u001b[1;32m    106\u001b[0m \u001b[38;5;66;03m##------------------------------------\u001b[39;00m\n\u001b[1;32m    108\u001b[0m \u001b[38;5;28;01mif\u001b[39;00m title \u001b[38;5;129;01mis\u001b[39;00m \u001b[38;5;28;01mNone\u001b[39;00m: title \u001b[38;5;241m=\u001b[39m \u001b[38;5;124m'\u001b[39m\u001b[38;5;130;01m\\n\u001b[39;00m\u001b[38;5;124m'\u001b[39m\u001b[38;5;241m.\u001b[39mjoin(wrap(\u001b[38;5;124m'\u001b[39m\u001b[38;5;132;01m{}\u001b[39;00m\u001b[38;5;124m values and contribution scores\u001b[39m\u001b[38;5;124m'\u001b[39m\u001b[38;5;241m.\u001b[39mformat(var_name), width\u001b[38;5;241m=\u001b[39m\u001b[38;5;241m40\u001b[39m))\n",
      "File \u001b[0;32m~/anaconda3/lib/python3.9/site-packages/matplotlib/colors.py:1766\u001b[0m, in \u001b[0;36mBoundaryNorm.__init__\u001b[0;34m(self, boundaries, ncolors, clip, extend)\u001b[0m\n\u001b[1;32m   1764\u001b[0m \u001b[38;5;28mself\u001b[39m\u001b[38;5;241m.\u001b[39mN \u001b[38;5;241m=\u001b[39m \u001b[38;5;28mlen\u001b[39m(\u001b[38;5;28mself\u001b[39m\u001b[38;5;241m.\u001b[39mboundaries)\n\u001b[1;32m   1765\u001b[0m \u001b[38;5;28;01mif\u001b[39;00m \u001b[38;5;28mself\u001b[39m\u001b[38;5;241m.\u001b[39mN \u001b[38;5;241m<\u001b[39m \u001b[38;5;241m2\u001b[39m:\n\u001b[0;32m-> 1766\u001b[0m     \u001b[38;5;28;01mraise\u001b[39;00m \u001b[38;5;167;01mValueError\u001b[39;00m(\u001b[38;5;124m\"\u001b[39m\u001b[38;5;124mYou must provide at least 2 boundaries \u001b[39m\u001b[38;5;124m\"\u001b[39m\n\u001b[1;32m   1767\u001b[0m                      \u001b[38;5;124mf\u001b[39m\u001b[38;5;124m\"\u001b[39m\u001b[38;5;124m(1 region) but you passed in \u001b[39m\u001b[38;5;132;01m{\u001b[39;00mboundaries\u001b[38;5;132;01m!r}\u001b[39;00m\u001b[38;5;124m\"\u001b[39m)\n\u001b[1;32m   1768\u001b[0m \u001b[38;5;28mself\u001b[39m\u001b[38;5;241m.\u001b[39mNcmap \u001b[38;5;241m=\u001b[39m ncolors\n\u001b[1;32m   1769\u001b[0m \u001b[38;5;28mself\u001b[39m\u001b[38;5;241m.\u001b[39mextend \u001b[38;5;241m=\u001b[39m extend\n",
      "\u001b[0;31mValueError\u001b[0m: You must provide at least 2 boundaries (1 region) but you passed in array([0.])"
     ]
    }
   ],
   "source": [
    "heat_map(start=0, stop=48, x=test_x[num_test + phi_index, :, var], shap_values=ts_phi_3[num_test + phi_index, :, var], var_name=feature_map_mimic_26[var], plot_type='bar')"
   ]
  },
  {
   "cell_type": "markdown",
   "id": "e5448c79-f2a2-4ea3-ab47-c29f27ac8292",
   "metadata": {},
   "source": [
    "## All together"
   ]
  },
  {
   "cell_type": "code",
   "execution_count": 85,
   "id": "6c680608-9813-444f-b1c8-0e245762d499",
   "metadata": {},
   "outputs": [],
   "source": [
    "# ### good pairs of var and phi_index: 6,0 - 19,0 - 22,0 -24,0\n",
    "# # num_test = 0 #50 in next turn\n",
    "# # var = 0        #### feature index\n",
    "# # phi_index = 0 \n",
    "\n",
    "# heat_map(start=0, stop=48, x=test_x[num_test + phi_index, :, var], shap_values=temp_att_scores_dim2[num_test + phi_index, :, var], var_name=feature_map_mimic_26[var], plot_type='bar', val_type='Attention Scores', title='MH Attention Scores')\n",
    "# heat_map(start=0, stop=48, x=test_x[num_test + phi_index, :, var], shap_values=ts_phi_1[num_test + phi_index, :, var], var_name=feature_map_mimic_26[var], plot_type='bar', title='Stationary SHAP')\n",
    "# try:\n",
    "#     heat_map(start=0, stop=48, x=test_x[num_test + phi_index, :, var], shap_values=ts_phi_2[num_test + phi_index, :, var], var_name=feature_map_mimic_26[var], plot_type='bar', title='Sliding SHAP')\n",
    "# except:\n",
    "#     # heat_map(start=0, stop=48, x=test_x[num_test + phi_index, :, var], shap_values=np.random(ts_phi_2.shape)[num_test + phi_index, :, var], var_name=feature_map_mimic_26[var], plot_type='bar')\n",
    "#     pass\n",
    "# try:\n",
    "#     heat_map(start=0, stop=48, x=test_x[num_test + phi_index, :, var], shap_values=ts_phi_3[num_test + phi_index, :, var], var_name=feature_map_mimic_26[var], plot_type='bar',title='Dynamic SHAP')\n",
    "# except:\n",
    "#     pass\n",
    "\n",
    "# heat_map(start=0, stop=48, x=test_x[num_test + phi_index, :, var], shap_values=temp_att_scores_dim2[num_test + phi_index, :, var], var_name=feature_map_mimic_26[var], plot_type='heat', val_type='Attention Scores', title='MH Attention Scores')\n",
    "# try:\n",
    "#     heat_map(start=0, stop=48, x=test_x[num_test + phi_index, :, var], shap_values=ts_phi_1[num_test + phi_index, :, var], var_name=feature_map_mimic_26[var], plot_type='heat', title='Stationary SHAP')\n",
    "# except:\n",
    "#     pass\n",
    "# try:\n",
    "#     heat_map(start=0, stop=48, x=test_x[num_test + phi_index, :, var], shap_values=ts_phi_2[num_test + phi_index, :, var], var_name=feature_map_mimic_26[var], plot_type='heat', title='Sliding SHAP')\n",
    "# except:\n",
    "#     # heat_map(start=0, stop=48, x=test_x[num_test + phi_index, :, var], shap_values=np.random(ts_phi_2.shape)[num_test + phi_index, :, var], var_name=feature_map_mimic_26[var], plot_type='bar')\n",
    "#     pass\n",
    "# try:\n",
    "#     heat_map(start=0, stop=48, x=test_x[num_test + phi_index, :, var], shap_values=ts_phi_3[num_test + phi_index, :, var], var_name=feature_map_mimic_26[var], plot_type='heat',title='Dynamic SHAP')\n",
    "# except:\n",
    "#     pass\n",
    "    \n",
    "    \n",
    "    \n",
    "    \n",
    "    "
   ]
  },
  {
   "cell_type": "code",
   "execution_count": 23,
   "id": "fff8e678",
   "metadata": {},
   "outputs": [],
   "source": [
    "########## perturbation and seq based analysis; change in loss and metrics"
   ]
  },
  {
   "cell_type": "code",
   "execution_count": 42,
   "id": "118b94a2",
   "metadata": {},
   "outputs": [
    {
     "name": "stdout",
     "output_type": "stream",
     "text": [
      "4/4 [==============================] - 0s 11ms/step\n"
     ]
    }
   ],
   "source": [
    "######## original model output for 100 test patients:\n",
    "######### model prediction\n",
    "y_pred_orig = model.predict(test_x[:100,:,:])\n",
    "# y_pred_orig\n",
    "\n",
    "\n",
    "#### get original values of test set predictions\n",
    "test_y_n = test_y[:100]"
   ]
  },
  {
   "cell_type": "code",
   "execution_count": 43,
   "id": "188fd9e5-cdf2-4645-b0e3-e16ab841f72b",
   "metadata": {},
   "outputs": [],
   "source": [
    "# test_y_n"
   ]
  },
  {
   "cell_type": "code",
   "execution_count": 44,
   "id": "fd4ea100-8adc-4067-9d21-c3f50c191ed3",
   "metadata": {},
   "outputs": [
    {
     "name": "stdout",
     "output_type": "stream",
     "text": [
      "Original Model Predictions: \n",
      "AUC ROC   :  0.6581\n",
      "AUC PR    :  0.1396\n",
      "F1 Score  :  0.0000\n",
      "Recall    :  0.0000\n",
      "Precision :  0.0000\n",
      "MCC       :  -0.0642\n",
      "Model Loss:  0.7527\n"
     ]
    }
   ],
   "source": [
    "#### metrics on original test data\n",
    "\n",
    "print('Original Model Predictions: ')\n",
    "print('AUC ROC   : ',\"{:.4f}\".format(roc_auc_score(test_y_n, y_pred_orig)))\n",
    "print('AUC PR    : ',\"{:.4f}\".format(average_precision_score(test_y_n, y_pred_orig)))\n",
    "print('F1 Score  : ',\"{:.4f}\".format(f1_score(test_y_n, np.where(y_pred_orig > 0.5, 1, 0))))\n",
    "print('Recall    : ',\"{:.4f}\".format(recall_score(test_y_n,np.where(y_pred_orig > 0.5, 1, 0))))\n",
    "print('Precision : ',\"{:.4f}\".format(precision_score(test_y_n,np.where(y_pred_orig > 0.5, 1, 0))))\n",
    "print('MCC       : ',\"{:.4f}\".format(matthews_corrcoef(test_y_n,np.where(y_pred_orig > 0.5, 1, 0))))\n",
    "print('Model Loss: ',\"{:.4f}\".format(keras_loss(test_y_n, y_pred_orig).numpy()))"
   ]
  },
  {
   "cell_type": "code",
   "execution_count": 45,
   "id": "ef4d3527",
   "metadata": {},
   "outputs": [
    {
     "name": "stdout",
     "output_type": "stream",
     "text": [
      "4/4 [==============================] - 0s 14ms/step\n",
      "4/4 [==============================] - 0s 10ms/step\n",
      "4/4 [==============================] - 0s 10ms/step\n",
      "4/4 [==============================] - 0s 10ms/step\n"
     ]
    }
   ],
   "source": [
    "##### perturbations based on wSHAP\n",
    "#xai_eval_fnc(model, relevence, input_x)\n",
    "# xai_wSHAP_prtb_tsphi1 = xai_eval_fnc(model, ts_phi_1, test_x[:100], eval_type='prtb',percentile=90) #stationary\n",
    "xai_wSHAP_prtb_tsphi2 = xai_eval_fnc(model, ts_phi_2, test_x[:100], eval_type='prtb',\n",
    "                                     by='all',\n",
    "                                     percentile=90) #sliding\n",
    "xai_wSHAP_prtb_tsphi3 = xai_eval_fnc(model, ts_phi_3, test_x[:100], eval_type='prtb',\n",
    "                                     by='all',\n",
    "                                     percentile=90) #dynamic\n",
    "\n",
    "#### sequence analysis on wSHAP\n",
    "seq_len_val  = 12\n",
    "# xai_wSHAP_sqnc_tsphi1 = xai_eval_fnc(model, ts_phi_1, test_x[:100], eval_type='sqnc',seq_len=seq_len_val,percentile=90) #stationary\n",
    "xai_wSHAP_sqnc_tsphi2 = xai_eval_fnc(model, ts_phi_2, test_x[:100], eval_type='sqnc',seq_len=seq_len_val,\n",
    "                                     by='all',\n",
    "                                     percentile=90) #sliding\n",
    "xai_wSHAP_sqnc_tsphi3 = xai_eval_fnc(model, ts_phi_3, test_x[:100], eval_type='sqnc',seq_len=seq_len_val,\n",
    "                                     by='all',\n",
    "                                     percentile=90) #dynamic"
   ]
  },
  {
   "cell_type": "code",
   "execution_count": 46,
   "id": "76112a28",
   "metadata": {},
   "outputs": [
    {
     "name": "stdout",
     "output_type": "stream",
     "text": [
      "Sliding wSHAP Perturbation Analysis Predictions: \n",
      "AUC ROC   :  0.6264\n",
      "AUC PR    :  0.1291\n",
      "F1 Score  :  0.0000\n",
      "Recall    :  0.0000\n",
      "Precision :  0.0000\n",
      "MCC       :  -0.0449\n",
      "Model Loss:  0.7438\n",
      "\n",
      "Dynamic wSHAP Perturbation Analysis Predictions: \n",
      "AUC ROC   :  0.6557\n",
      "AUC PR    :  0.1520\n",
      "F1 Score  :  0.0000\n",
      "Recall    :  0.0000\n",
      "Precision :  0.0000\n",
      "MCC       :  0.0000\n",
      "Model Loss:  0.7371\n",
      "\n",
      "Sliding wSHAP Sequence 12 Analysis Predictions: \n",
      "AUC ROC   :  0.5861\n",
      "AUC PR    :  0.1212\n",
      "F1 Score  :  0.0000\n",
      "Recall    :  0.0000\n",
      "Precision :  0.0000\n",
      "MCC       :  -0.0449\n",
      "Model Loss:  0.7468\n",
      "\n",
      "Dynamic wSHAP Sequence 12 Analysis Predictions: \n",
      "AUC ROC   :  0.5958\n",
      "AUC PR    :  0.1367\n",
      "F1 Score  :  0.0000\n",
      "Recall    :  0.0000\n",
      "Precision :  0.0000\n",
      "MCC       :  0.0000\n",
      "Model Loss:  0.7313\n",
      "\n"
     ]
    }
   ],
   "source": [
    "import warnings\n",
    "warnings.filterwarnings('ignore')\n",
    "# ###### stationary\n",
    "# print('Stationary wSHAP Perturbation Analysis Predictions: ')\n",
    "# print('AUC ROC   : ',\"{:.4f}\".format(roc_auc_score(test_y_n, xai_wSHAP_prtb_tsphi1)))\n",
    "# print('AUC PR    : ',\"{:.4f}\".format(average_precision_score(test_y_n, xai_wSHAP_prtb_tsphi1)))\n",
    "# print('F1 Score  : ',\"{:.4f}\".format(f1_score(test_y_n, np.where(xai_wSHAP_prtb_tsphi1 > 0.5, 1, 0))))\n",
    "# print('Recall    : ',\"{:.4f}\".format(recall_score(test_y_n,np.where(xai_wSHAP_prtb_tsphi1 > 0.5, 1, 0))))\n",
    "# print('Precision : ',\"{:.4f}\".format(precision_score(test_y_n,np.where(xai_wSHAP_prtb_tsphi1 > 0.5, 1, 0))))\n",
    "# print('MCC       : ',\"{:.4f}\".format(matthews_corrcoef(test_y_n,np.where(xai_wSHAP_prtb_tsphi1 > 0.5, 1, 0))))\n",
    "# print('Model Loss: ',\"{:.4f}\".format(keras_loss(test_y_n, xai_wSHAP_prtb_tsphi1).numpy()))\n",
    "# print('')\n",
    "###### sliding\n",
    "print('Sliding wSHAP Perturbation Analysis Predictions: ')\n",
    "print('AUC ROC   : ',\"{:.4f}\".format(roc_auc_score(test_y_n, xai_wSHAP_prtb_tsphi2)))\n",
    "print('AUC PR    : ',\"{:.4f}\".format(average_precision_score(test_y_n, xai_wSHAP_prtb_tsphi2)))\n",
    "print('F1 Score  : ',\"{:.4f}\".format(f1_score(test_y_n, np.where(xai_wSHAP_prtb_tsphi2 > 0.5, 1, 0))))\n",
    "print('Recall    : ',\"{:.4f}\".format(recall_score(test_y_n,np.where(xai_wSHAP_prtb_tsphi2 > 0.5, 1, 0))))\n",
    "print('Precision : ',\"{:.4f}\".format(precision_score(test_y_n,np.where(xai_wSHAP_prtb_tsphi2 > 0.5, 1, 0))))\n",
    "print('MCC       : ',\"{:.4f}\".format(matthews_corrcoef(test_y_n,np.where(xai_wSHAP_prtb_tsphi2 > 0.5, 1, 0))))\n",
    "print('Model Loss: ',\"{:.4f}\".format(keras_loss(test_y_n, xai_wSHAP_prtb_tsphi2).numpy()))\n",
    "print('')\n",
    "############# dynamic\n",
    "print('Dynamic wSHAP Perturbation Analysis Predictions: ')\n",
    "print('AUC ROC   : ',\"{:.4f}\".format(roc_auc_score(test_y_n, xai_wSHAP_prtb_tsphi3)))\n",
    "print('AUC PR    : ',\"{:.4f}\".format(average_precision_score(test_y_n, xai_wSHAP_prtb_tsphi3)))\n",
    "print('F1 Score  : ',\"{:.4f}\".format(f1_score(test_y_n, np.where(xai_wSHAP_prtb_tsphi3 > 0.5, 1, 0))))\n",
    "print('Recall    : ',\"{:.4f}\".format(recall_score(test_y_n,np.where(xai_wSHAP_prtb_tsphi3 > 0.5, 1, 0))))\n",
    "print('Precision : ',\"{:.4f}\".format(precision_score(test_y_n,np.where(xai_wSHAP_prtb_tsphi3 > 0.5, 1, 0))))\n",
    "print('MCC       : ',\"{:.4f}\".format(matthews_corrcoef(test_y_n,np.where(xai_wSHAP_prtb_tsphi3 > 0.5, 1, 0))))\n",
    "print('Model Loss: ',\"{:.4f}\".format(keras_loss(test_y_n, xai_wSHAP_prtb_tsphi3).numpy()))\n",
    "print('')\n",
    "# ###### stationary\n",
    "# print(f'Stationary wSHAP Sequence {seq_len_val} Analysis Predictions: ')\n",
    "# print('AUC ROC   : ',\"{:.4f}\".format(roc_auc_score(test_y_n, xai_wSHAP_sqnc_tsphi1)))\n",
    "# print('AUC PR    : ',\"{:.4f}\".format(average_precision_score(test_y_n, xai_wSHAP_sqnc_tsphi1)))\n",
    "# print('F1 Score  : ',\"{:.4f}\".format(f1_score(test_y_n, np.where(xai_wSHAP_sqnc_tsphi1 > 0.5, 1, 0))))\n",
    "# print('Recall    : ',\"{:.4f}\".format(recall_score(test_y_n,np.where(xai_wSHAP_sqnc_tsphi1 > 0.5, 1, 0))))\n",
    "# print('Precision : ',\"{:.4f}\".format(precision_score(test_y_n,np.where(xai_wSHAP_sqnc_tsphi1 > 0.5, 1, 0))))\n",
    "# print('MCC       : ',\"{:.4f}\".format(matthews_corrcoef(test_y_n,np.where(xai_wSHAP_sqnc_tsphi1 > 0.5, 1, 0))))\n",
    "# print('Model Loss: ',\"{:.4f}\".format(keras_loss(test_y_n, xai_wSHAP_sqnc_tsphi1).numpy()))\n",
    "# print('')\n",
    "###### sliding\n",
    "print(f'Sliding wSHAP Sequence {seq_len_val} Analysis Predictions: ')\n",
    "print('AUC ROC   : ',\"{:.4f}\".format(roc_auc_score(test_y_n, xai_wSHAP_sqnc_tsphi2)))\n",
    "print('AUC PR    : ',\"{:.4f}\".format(average_precision_score(test_y_n, xai_wSHAP_sqnc_tsphi2)))\n",
    "print('F1 Score  : ',\"{:.4f}\".format(f1_score(test_y_n, np.where(xai_wSHAP_sqnc_tsphi2 > 0.5, 1, 0))))\n",
    "print('Recall    : ',\"{:.4f}\".format(recall_score(test_y_n,np.where(xai_wSHAP_sqnc_tsphi2 > 0.5, 1, 0))))\n",
    "print('Precision : ',\"{:.4f}\".format(precision_score(test_y_n,np.where(xai_wSHAP_sqnc_tsphi2 > 0.5, 1, 0))))\n",
    "print('MCC       : ',\"{:.4f}\".format(matthews_corrcoef(test_y_n,np.where(xai_wSHAP_sqnc_tsphi2 > 0.5, 1, 0))))\n",
    "print('Model Loss: ',\"{:.4f}\".format(keras_loss(test_y_n, xai_wSHAP_sqnc_tsphi2).numpy()))\n",
    "print('')\n",
    "###### dynamic\n",
    "print(f'Dynamic wSHAP Sequence {seq_len_val} Analysis Predictions: ')\n",
    "print('AUC ROC   : ',\"{:.4f}\".format(roc_auc_score(test_y_n, xai_wSHAP_sqnc_tsphi3)))\n",
    "print('AUC PR    : ',\"{:.4f}\".format(average_precision_score(test_y_n, xai_wSHAP_sqnc_tsphi3)))\n",
    "print('F1 Score  : ',\"{:.4f}\".format(f1_score(test_y_n, np.where(xai_wSHAP_sqnc_tsphi3 > 0.5, 1, 0))))\n",
    "print('Recall    : ',\"{:.4f}\".format(recall_score(test_y_n,np.where(xai_wSHAP_sqnc_tsphi3 > 0.5, 1, 0))))\n",
    "print('Precision : ',\"{:.4f}\".format(precision_score(test_y_n,np.where(xai_wSHAP_sqnc_tsphi3 > 0.5, 1, 0))))\n",
    "print('MCC       : ',\"{:.4f}\".format(matthews_corrcoef(test_y_n,np.where(xai_wSHAP_sqnc_tsphi3 > 0.5, 1, 0))))\n",
    "print('Model Loss: ',\"{:.4f}\".format(keras_loss(test_y_n, xai_wSHAP_sqnc_tsphi3).numpy()))\n",
    "print('')"
   ]
  },
  {
   "cell_type": "code",
   "execution_count": 47,
   "id": "59b20ee0",
   "metadata": {},
   "outputs": [
    {
     "name": "stdout",
     "output_type": "stream",
     "text": [
      "4/4 [==============================] - 0s 10ms/step\n",
      "4/4 [==============================] - 0s 10ms/step\n"
     ]
    }
   ],
   "source": [
    "########## Attention scores based metrics\n",
    "##### perturbations based on attention\n",
    "\n",
    "\n",
    "sc_att_scores = temp_att_scores_dim2 + temp_att_scores_dim3\n",
    "# sc_att_scores = ab_scaler(sc_att_scores, np.min(ts_phi_2), np.max(ts_phi_2))\n",
    "\n",
    "xai_MHA_prtb_tsphi = xai_eval_fnc(model, sc_att_scores[:100], test_x[:100], eval_type='prtb',\n",
    "                                  by='all',\n",
    "                                  percentile=90\n",
    "                                 ) #MH attention\n",
    "# xai_MHA_prtb_tsphi = xai_eval_fnc(model, temp_att_scores_dim2, test_x, eval_type='prtb') #MH attention\n",
    "\n",
    "\n",
    "##### sequence based on attention\n",
    "seq_len_val  = 12\n",
    "xai_MHA_sqnc_tsphi = xai_eval_fnc(model, sc_att_scores[:100], test_x[:100], eval_type='sqnc',seq_len=seq_len_val,\n",
    "                                  by='all',\n",
    "                                  percentile=90\n",
    "                                 ) #MH attention\n",
    "\n",
    "# xai_MHA_sqnc_tsphi = xai_eval_fnc(model, temp_att_scores_dim2, test_x, eval_type='sqnc',seq_len=seq_le/n_val) #MH attention\n",
    "\n",
    "\n",
    "test_y_n = test_y[:100]"
   ]
  },
  {
   "cell_type": "code",
   "execution_count": 48,
   "id": "c1f00cc3-b604-4b92-b4c0-23b338795322",
   "metadata": {},
   "outputs": [
    {
     "name": "stdout",
     "output_type": "stream",
     "text": [
      "Multihead Attention Perturbation Analysis Predictions: \n",
      "AUC ROC   :  0.6581\n",
      "AUC PR    :  0.1396\n",
      "F1 Score  :  0.0000\n",
      "Recall    :  0.0000\n",
      "Precision :  0.0000\n",
      "MCC       :  -0.0642\n",
      "Model Loss:  0.7527\n",
      "\n",
      "Multihead Attention Sequence 12 Analysis Predictions: \n",
      "AUC ROC   :  0.6581\n",
      "AUC PR    :  0.1396\n",
      "F1 Score  :  0.0000\n",
      "Recall    :  0.0000\n",
      "Precision :  0.0000\n",
      "MCC       :  -0.0642\n",
      "Model Loss:  0.7527\n",
      "\n"
     ]
    }
   ],
   "source": [
    "###### Multihead attention - prtb first 100\n",
    "print('Multihead Attention Perturbation Analysis Predictions: ')\n",
    "print('AUC ROC   : ',\"{:.4f}\".format(roc_auc_score(test_y_n, xai_MHA_prtb_tsphi)))\n",
    "print('AUC PR    : ',\"{:.4f}\".format(average_precision_score(test_y_n, xai_MHA_prtb_tsphi)))\n",
    "print('F1 Score  : ',\"{:.4f}\".format(f1_score(test_y_n, np.where(xai_MHA_prtb_tsphi > 0.5, 1, 0))))\n",
    "print('Recall    : ',\"{:.4f}\".format(recall_score(test_y_n,np.where(xai_MHA_prtb_tsphi > 0.5, 1, 0))))\n",
    "print('Precision : ',\"{:.4f}\".format(precision_score(test_y_n,np.where(xai_MHA_prtb_tsphi  > 0.5, 1, 0))))\n",
    "print('MCC       : ',\"{:.4f}\".format(matthews_corrcoef(test_y_n,np.where(xai_MHA_prtb_tsphi > 0.5, 1, 0))))\n",
    "print('Model Loss: ',\"{:.4f}\".format(keras_loss(test_y_n, xai_MHA_prtb_tsphi ).numpy()))\n",
    "print('')\n",
    "\n",
    "###### Multihead attention - sqnc first 100\n",
    "print(f'Multihead Attention Sequence {seq_len_val} Analysis Predictions: ')\n",
    "print('AUC ROC   : ',\"{:.4f}\".format(roc_auc_score(test_y_n, xai_MHA_sqnc_tsphi)))\n",
    "print('AUC PR    : ',\"{:.4f}\".format(average_precision_score(test_y_n, xai_MHA_sqnc_tsphi)))\n",
    "print('F1 Score  : ',\"{:.4f}\".format(f1_score(test_y_n, np.where(xai_MHA_sqnc_tsphi > 0.5, 1, 0))))\n",
    "print('Recall    : ',\"{:.4f}\".format(recall_score(test_y_n,np.where(xai_MHA_sqnc_tsphi > 0.5, 1, 0))))\n",
    "print('Precision : ',\"{:.4f}\".format(precision_score(test_y_n,np.where(xai_MHA_sqnc_tsphi  > 0.5, 1, 0))))\n",
    "print('MCC       : ',\"{:.4f}\".format(matthews_corrcoef(test_y_n,np.where(xai_MHA_sqnc_tsphi > 0.5, 1, 0))))\n",
    "print('Model Loss: ',\"{:.4f}\".format(keras_loss(test_y_n, xai_MHA_sqnc_tsphi ).numpy()))\n",
    "print('')"
   ]
  },
  {
   "cell_type": "code",
   "execution_count": 49,
   "id": "da6fcbf3",
   "metadata": {},
   "outputs": [],
   "source": [
    "# ###### Multihead attention - first 100 test\n",
    "# print('Multihead Attention Perturbation Analysis Predictions: ')\n",
    "# print('AUC ROC   : ',\"{:.4f}\".format(roc_auc_score(test_y_n, xai_MHA_prtb_tsphi)))\n",
    "# print('AUC PR    : ',\"{:.4f}\".format(average_precision_score(test_y_n, xai_MHA_prtb_tsphi)))\n",
    "# print('F1 Score  : ',\"{:.4f}\".format(f1_score(test_y_n, np.where(xai_MHA_prtb_tsphi > 0.5, 1, 0))))\n",
    "# print('Recall    : ',\"{:.4f}\".format(recall_score(test_y_n,np.where(xai_MHA_prtb_tsphi > 0.5, 1, 0))))\n",
    "# print('Precision : ',\"{:.4f}\".format(precision_score(test_y_n,np.where(xai_MHA_prtb_tsphi  > 0.5, 1, 0))))\n",
    "# print('MCC       : ',\"{:.4f}\".format(matthews_corrcoef(test_y_n,np.where(xai_MHA_prtb_tsphi > 0.5, 1, 0))))\n",
    "# print('Model Loss: ',\"{:.4f}\".format(keras_loss(test_y_n, xai_MHA_prtb_tsphi ).numpy()))\n",
    "# print('')\n",
    "\n",
    "# ###### Multihead attention - sqnc ALL test\n",
    "# print('Multihead Attention Perturbation Analysis Predictions: ')\n",
    "# print('AUC ROC   : ',\"{:.4f}\".format(roc_auc_score(test_y, xai_MHA_prtb_tsphi)))\n",
    "# print('AUC PR    : ',\"{:.4f}\".format(average_precision_score(test_y, xai_MHA_prtb_tsphi)))\n",
    "# print('F1 Score  : ',\"{:.4f}\".format(f1_score(test_y, np.where(xai_MHA_prtb_tsphi > 0.5, 1, 0))))\n",
    "# print('Recall    : ',\"{:.4f}\".format(recall_score(test_y,np.where(xai_MHA_prtb_tsphi > 0.5, 1, 0))))\n",
    "# print('Precision : ',\"{:.4f}\".format(precision_score(test_y,np.where(xai_MHA_prtb_tsphi  > 0.5, 1, 0))))\n",
    "# print('MCC       : ',\"{:.4f}\".format(matthews_corrcoef(test_y,np.where(xai_MHA_prtb_tsphi > 0.5, 1, 0))))\n",
    "# print('Model Loss: ',\"{:.4f}\".format(keras_loss(test_y, xai_MHA_prtb_tsphi ).numpy()))\n",
    "# print('')"
   ]
  },
  {
   "cell_type": "code",
   "execution_count": 50,
   "id": "872444d4-10fb-4bf0-9a1a-eba9ec4bbd1f",
   "metadata": {},
   "outputs": [],
   "source": [
    "# ###### Multihead attention - sqnc first 100 test\n",
    "# print(f'Multihead Attention Sequence {seq_len_val} Analysis Predictions: ')\n",
    "# print('AUC ROC   : ',\"{:.4f}\".format(roc_auc_score(test_y_n, xai_MHA_sqnc_tsphi)))\n",
    "# print('AUC PR    : ',\"{:.4f}\".format(average_precision_score(test_y_n, xai_MHA_sqnc_tsphi)))\n",
    "# print('F1 Score  : ',\"{:.4f}\".format(f1_score(test_y_n, np.where(xai_MHA_sqnc_tsphi > 0.5, 1, 0))))\n",
    "# print('Recall    : ',\"{:.4f}\".format(recall_score(test_y_n,np.where(xai_MHA_sqnc_tsphi > 0.5, 1, 0))))\n",
    "# print('Precision : ',\"{:.4f}\".format(precision_score(test_y_n,np.where(xai_MHA_sqnc_tsphi  > 0.5, 1, 0))))\n",
    "# print('MCC       : ',\"{:.4f}\".format(matthews_corrcoef(test_y_n,np.where(xai_MHA_sqnc_tsphi > 0.5, 1, 0))))\n",
    "# print('Model Loss: ',\"{:.4f}\".format(keras_loss(test_y_n, xai_MHA_sqnc_tsphi ).numpy()))\n",
    "# print('')\n",
    "\n",
    "# ###### Multihead attention - sqnc ALL test\n",
    "# print(f'Multihead Attention Sequence {seq_len_val} Analysis Predictions: ')\n",
    "# print('AUC ROC   : ',\"{:.4f}\".format(roc_auc_score(test_y, xai_MHA_sqnc_tsphi)))\n",
    "# print('AUC PR    : ',\"{:.4f}\".format(average_precision_score(test_y, xai_MHA_sqnc_tsphi)))\n",
    "# print('F1 Score  : ',\"{:.4f}\".format(f1_score(test_y, np.where(xai_MHA_sqnc_tsphi > 0.5, 1, 0))))\n",
    "# print('Recall    : ',\"{:.4f}\".format(recall_score(test_y,np.where(xai_MHA_sqnc_tsphi > 0.5, 1, 0))))\n",
    "# print('Precision : ',\"{:.4f}\".format(precision_score(test_y,np.where(xai_MHA_sqnc_tsphi  > 0.5, 1, 0))))\n",
    "# print('MCC       : ',\"{:.4f}\".format(matthews_corrcoef(test_y,np.where(xai_MHA_sqnc_tsphi > 0.5, 1, 0))))\n",
    "# print('Model Loss: ',\"{:.4f}\".format(keras_loss(test_y, xai_MHA_sqnc_tsphi ).numpy()))\n",
    "# print('')"
   ]
  },
  {
   "cell_type": "code",
   "execution_count": 51,
   "id": "33fc6e0c-8121-406e-8d7a-939ab3a18276",
   "metadata": {},
   "outputs": [
    {
     "name": "stdout",
     "output_type": "stream",
     "text": [
      "Multihead Attention Perturbation Analysis Predictions: \n",
      "AUC ROC   :  0.6581\n",
      "AUC PR    :  0.1396\n",
      "F1 Score  :  0.0000\n",
      "Recall    :  0.0000\n",
      "Precision :  0.0000\n",
      "MCC       :  -0.0642\n",
      "Model Loss:  0.7527\n",
      "\n",
      "Multihead Attention Sequence 12 Analysis Predictions: \n",
      "AUC ROC   :  0.6581\n",
      "AUC PR    :  0.1396\n",
      "F1 Score  :  0.0000\n",
      "Recall    :  0.0000\n",
      "Precision :  0.0000\n",
      "MCC       :  -0.0642\n",
      "Model Loss:  0.7527\n",
      "\n"
     ]
    }
   ],
   "source": [
    "###### Multihead attention - prtb first 100\n",
    "print('Multihead Attention Perturbation Analysis Predictions: ')\n",
    "print('AUC ROC   : ',\"{:.4f}\".format(roc_auc_score(test_y_n, xai_MHA_prtb_tsphi)))\n",
    "print('AUC PR    : ',\"{:.4f}\".format(average_precision_score(test_y_n, xai_MHA_prtb_tsphi)))\n",
    "print('F1 Score  : ',\"{:.4f}\".format(f1_score(test_y_n, np.where(xai_MHA_prtb_tsphi > 0.5, 1, 0))))\n",
    "print('Recall    : ',\"{:.4f}\".format(recall_score(test_y_n,np.where(xai_MHA_prtb_tsphi > 0.5, 1, 0))))\n",
    "print('Precision : ',\"{:.4f}\".format(precision_score(test_y_n,np.where(xai_MHA_prtb_tsphi  > 0.5, 1, 0))))\n",
    "print('MCC       : ',\"{:.4f}\".format(matthews_corrcoef(test_y_n,np.where(xai_MHA_prtb_tsphi > 0.5, 1, 0))))\n",
    "print('Model Loss: ',\"{:.4f}\".format(keras_loss(test_y_n, xai_MHA_prtb_tsphi ).numpy()))\n",
    "print('')\n",
    "\n",
    "###### Multihead attention - sqnc first 100\n",
    "print(f'Multihead Attention Sequence {seq_len_val} Analysis Predictions: ')\n",
    "print('AUC ROC   : ',\"{:.4f}\".format(roc_auc_score(test_y_n, xai_MHA_sqnc_tsphi)))\n",
    "print('AUC PR    : ',\"{:.4f}\".format(average_precision_score(test_y_n, xai_MHA_sqnc_tsphi)))\n",
    "print('F1 Score  : ',\"{:.4f}\".format(f1_score(test_y_n, np.where(xai_MHA_sqnc_tsphi > 0.5, 1, 0))))\n",
    "print('Recall    : ',\"{:.4f}\".format(recall_score(test_y_n,np.where(xai_MHA_sqnc_tsphi > 0.5, 1, 0))))\n",
    "print('Precision : ',\"{:.4f}\".format(precision_score(test_y_n,np.where(xai_MHA_sqnc_tsphi  > 0.5, 1, 0))))\n",
    "print('MCC       : ',\"{:.4f}\".format(matthews_corrcoef(test_y_n,np.where(xai_MHA_sqnc_tsphi > 0.5, 1, 0))))\n",
    "print('Model Loss: ',\"{:.4f}\".format(keras_loss(test_y_n, xai_MHA_sqnc_tsphi ).numpy()))\n",
    "print('')"
   ]
  },
  {
   "cell_type": "code",
   "execution_count": 52,
   "id": "05d2d4fe-0c35-494a-9958-5048eecf3d9d",
   "metadata": {},
   "outputs": [],
   "source": [
    "# ############## compare perturbation with sqnc\n",
    "# print('Multihead Attention Perturbation Analysis Predictions: ')\n",
    "# print('F1 Score  : ',\"{:.4f}\".format(f1_score(np.where(xai_MHA_prtb_tsphi > 0.5, 1, 0), np.where(xai_MHA_sqnc_tsphi > 0.5, 1, 0))))\n",
    "# print('Recall    : ',\"{:.4f}\".format(recall_score(np.where(xai_MHA_prtb_tsphi > 0.5, 1, 0), np.where(xai_MHA_sqnc_tsphi > 0.5, 1, 0))))\n",
    "# print('Precision : ',\"{:.4f}\".format(precision_score(np.where(xai_MHA_prtb_tsphi > 0.5, 1, 0), np.where(xai_MHA_sqnc_tsphi > 0.5, 1, 0))))\n",
    "# print('MCC       : ',\"{:.4f}\".format(matthews_corrcoef(np.where(xai_MHA_prtb_tsphi > 0.5, 1, 0), np.where(xai_MHA_sqnc_tsphi > 0.5, 1, 0))))\n",
    "# print('Model Loss: ',\"{:.4f}\".format(keras_loss(xai_MHA_prtb_tsphi, xai_MHA_sqnc_tsphi ).numpy()))"
   ]
  },
  {
   "cell_type": "code",
   "execution_count": 53,
   "id": "e8461357-1637-490c-b282-6543c44d1176",
   "metadata": {},
   "outputs": [],
   "source": [
    "# ######## check difference\n",
    "# ######## original model output for 100 test patients:\n",
    "# ######### model prediction\n",
    "# numpat = 2000\n",
    "# # att_output_MHA0 = att_layerout_MHA0.predict(test_x, verbose=0)\n",
    "# att_output_MHA0 = att_layerout_MHA0.predict(train_x[:numpat,:,:], verbose=0)\n",
    "# att_outvals_MHA0, att_scores_MHA0 = att_output_MHA0\n",
    "# # print(att_outvals_MHA0.shape, att_scores_MHA0.shape)\n",
    "# temp_att_scores_dim2 = np.mean(att_scores_MHA0,axis=2) ###the right way\n",
    "# # temp_att_scores_dim3 = np.mean(att_scores_MHA0,axis=3) ###\n",
    "# print(att_outvals_MHA0.shape, temp_att_scores_dim2.shape)\n",
    "\n",
    "# # temp_att_scores_dim2 = ab_scaler(temp_att_scores_dim2,0,1)\n",
    "# # temp_att_scores_dim2 = temp_att_scores_dim3\n",
    "\n",
    "\n",
    "# y_pred_orig = model.predict(train_x[:numpat,:,:])\n",
    "# # y_pred_orig\n",
    "\n",
    "\n",
    "# #### get original values of test set predictions\n",
    "# train_y_n = train_y[:numpat]\n",
    "\n",
    "\n",
    "\n",
    "\n",
    "# ########## Attention scores based metrics\n",
    "# ##### perturbations based on attention\n",
    "# xai_MHA_prtb_tsphi = xai_eval_fnc(model, temp_att_scores_dim2[:numpat], train_x[:numpat], eval_type='prtb',\n",
    "#                                   percentile=95, \n",
    "#                                   # by='time'\n",
    "#                                  ) #MH attention\n",
    "# # xai_MHA_prtb_tsphi = xai_eval_fnc(model, temp_att_scores_dim2, test_x, eval_type='prtb') #MH attention\n",
    "\n",
    "\n",
    "# ##### sequence based on attention\n",
    "# seq_len_val  = 12\n",
    "# xai_MHA_sqnc_tsphi = xai_eval_fnc(model, temp_att_scores_dim2[:numpat], train_x[:numpat], eval_type='sqnc',seq_len=seq_len_val,\n",
    "#                                   percentile=95,\n",
    "#                                   # by='time'\n",
    "#                                  ) #MH attention\n",
    "\n",
    "\n",
    "\n",
    "# #### metrics on original train data\n",
    "\n",
    "# print('Original Model Predictions: ')\n",
    "# print('AUC ROC   : ',\"{:.4f}\".format(roc_auc_score(train_y_n, y_pred_orig)))\n",
    "# print('AUC PR    : ',\"{:.4f}\".format(average_precision_score(train_y_n, y_pred_orig)))\n",
    "# print('F1 Score  : ',\"{:.4f}\".format(f1_score(train_y_n, np.where(y_pred_orig > 0.5, 1, 0))))\n",
    "# print('Recall    : ',\"{:.4f}\".format(recall_score(train_y_n,np.where(y_pred_orig > 0.5, 1, 0))))\n",
    "# print('Precision : ',\"{:.4f}\".format(precision_score(train_y_n,np.where(y_pred_orig > 0.5, 1, 0))))\n",
    "# print('MCC       : ',\"{:.4f}\".format(matthews_corrcoef(train_y_n,np.where(y_pred_orig > 0.5, 1, 0))))\n",
    "# print('Model Loss: ',\"{:.4f}\".format(keras_loss(train_y_n, y_pred_orig).numpy()))\n",
    "# print('')\n",
    "\n",
    "\n",
    "# ###### Multihead attention - prtb first 100\n",
    "# print('Multihead Attention Perturbation Analysis Predictions: ')\n",
    "# print('AUC ROC   : ',\"{:.4f}\".format(roc_auc_score(train_y_n, xai_MHA_prtb_tsphi)))\n",
    "# print('AUC PR    : ',\"{:.4f}\".format(average_precision_score(train_y_n, xai_MHA_prtb_tsphi)))\n",
    "# print('F1 Score  : ',\"{:.4f}\".format(f1_score(train_y_n, np.where(xai_MHA_prtb_tsphi > 0.5, 1, 0))))\n",
    "# print('Recall    : ',\"{:.4f}\".format(recall_score(train_y_n,np.where(xai_MHA_prtb_tsphi > 0.5, 1, 0))))\n",
    "# print('Precision : ',\"{:.4f}\".format(precision_score(train_y_n,np.where(xai_MHA_prtb_tsphi  > 0.5, 1, 0))))\n",
    "# print('MCC       : ',\"{:.4f}\".format(matthews_corrcoef(train_y_n,np.where(xai_MHA_prtb_tsphi > 0.5, 1, 0))))\n",
    "# print('Model Loss: ',\"{:.4f}\".format(keras_loss(train_y_n, xai_MHA_prtb_tsphi ).numpy()))\n",
    "# print('')\n",
    "\n",
    "# ###### Multihead attention - sqnc first 100\n",
    "# print(f'Multihead Attention Sequence {seq_len_val} Analysis Predictions: ')\n",
    "# print('AUC ROC   : ',\"{:.4f}\".format(roc_auc_score(train_y_n, xai_MHA_sqnc_tsphi)))\n",
    "# print('AUC PR    : ',\"{:.4f}\".format(average_precision_score(train_y_n, xai_MHA_sqnc_tsphi)))\n",
    "# print('F1 Score  : ',\"{:.4f}\".format(f1_score(train_y_n, np.where(xai_MHA_sqnc_tsphi > 0.5, 1, 0))))\n",
    "# print('Recall    : ',\"{:.4f}\".format(recall_score(train_y_n,np.where(xai_MHA_sqnc_tsphi > 0.5, 1, 0))))\n",
    "# print('Precision : ',\"{:.4f}\".format(precision_score(train_y_n,np.where(xai_MHA_sqnc_tsphi  > 0.5, 1, 0))))\n",
    "# print('MCC       : ',\"{:.4f}\".format(matthews_corrcoef(train_y_n,np.where(xai_MHA_sqnc_tsphi > 0.5, 1, 0))))\n",
    "# print('Model Loss: ',\"{:.4f}\".format(keras_loss(train_y_n, xai_MHA_sqnc_tsphi ).numpy()))\n",
    "# print('')"
   ]
  },
  {
   "cell_type": "code",
   "execution_count": 54,
   "id": "7bf50316-69b1-42fe-af2b-9122dda0bfaf",
   "metadata": {},
   "outputs": [
    {
     "name": "stderr",
     "output_type": "stream",
     "text": [
      "2023-03-10 17:07:35.891470: W tensorflow/core/framework/cpu_allocator_impl.cc:82] Allocation of 596783616 exceeds 10% of free system memory.\n"
     ]
    },
    {
     "name": "stdout",
     "output_type": "stream",
     "text": [
      "(4598, 48, 26) (4598, 48, 26)\n",
      "4/4 [==============================] - 0s 10ms/step\n",
      "4/4 [==============================] - 0s 10ms/step\n",
      "4/4 [==============================] - 0s 12ms/step\n",
      "Original Model Predictions: \n",
      "AUC ROC   :  0.6581\n",
      "AUC PR    :  0.1396\n",
      "F1 Score  :  0.0000\n",
      "Recall    :  0.0000\n",
      "Precision :  0.0000\n",
      "MCC       :  -0.0642\n",
      "Model Loss:  0.7527\n",
      "\n",
      "Multihead Attention Perturbation Analysis Predictions: \n",
      "AUC ROC   :  0.6496\n",
      "AUC PR    :  0.1360\n",
      "F1 Score  :  0.0000\n",
      "Recall    :  0.0000\n",
      "Precision :  0.0000\n",
      "MCC       :  -0.0642\n",
      "Model Loss:  0.7541\n",
      "\n",
      "Multihead Attention Sequence 12 Analysis Predictions: \n",
      "AUC ROC   :  0.6545\n",
      "AUC PR    :  0.1389\n",
      "F1 Score  :  0.0000\n",
      "Recall    :  0.0000\n",
      "Precision :  0.0000\n",
      "MCC       :  -0.0642\n",
      "Model Loss:  0.7534\n",
      "\n"
     ]
    }
   ],
   "source": [
    "######## check difference\n",
    "######## original model output for 100 test patients:\n",
    "######### model prediction\n",
    "\n",
    "# att_output_MHA0 = att_layerout_MHA0.predict(test_x, verbose=0)\n",
    "att_output_MHA0 = att_layerout_MHA0.predict(test_x, verbose=0)\n",
    "att_outvals_MHA0, att_scores_MHA0 = att_output_MHA0\n",
    "# print(att_outvals_MHA0.shape, att_scores_MHA0.shape)\n",
    "temp_att_scores_dim2 = np.mean(att_scores_MHA0,axis=2) ###the right way\n",
    "temp_att_scores_dim3 = np.mean(att_scores_MHA0,axis=3) ###\n",
    "print(att_outvals_MHA0.shape, temp_att_scores_dim2.shape)\n",
    "\n",
    "# temp_att_scores_dim2 = ab_scaler(temp_att_scores_dim2,-1,1)\n",
    "# temp_att_scores_dim2 = ab_scaler(temp_att_scores_dim3,0,1)\n",
    "# temp_att_scores_dim2 = temp_att_scores_dim3\n",
    "\n",
    "temp_att_scores_dim2   = ab_scaler(temp_att_scores_dim2,0,1) +ab_scaler(temp_att_scores_dim3,0,1)\n",
    "\n",
    "numpat = 100\n",
    "y_pred_orig = model.predict(test_x[:numpat,:,:])\n",
    "# y_pred_orig\n",
    "\n",
    "\n",
    "#### get original values of test set predictions\n",
    "test_y_n = test_y[:numpat]\n",
    "\n",
    "\n",
    "\n",
    "\n",
    "########## Attention scores based metrics\n",
    "##### perturbations based on attention\n",
    "xai_MHA_prtb_tsphi = xai_eval_fnc(model, temp_att_scores_dim2[:numpat], test_x[:numpat], eval_type='prtb',\n",
    "                                  percentile=50, \n",
    "                                  by='time'\n",
    "                                 ) #MH attention\n",
    "# xai_MHA_prtb_tsphi = xai_eval_fnc(model, temp_att_scores_dim2, test_x, eval_type='prtb') #MH attention\n",
    "\n",
    "\n",
    "##### sequence based on attention\n",
    "seq_len_val  = 12\n",
    "xai_MHA_sqnc_tsphi = xai_eval_fnc(model, temp_att_scores_dim2[:numpat], test_x[:numpat], eval_type='sqnc',seq_len=seq_len_val,\n",
    "                                  percentile=50,\n",
    "                                  by='time'\n",
    "                                 ) #MH attention\n",
    "\n",
    "\n",
    "\n",
    "#### metrics on original test data\n",
    "\n",
    "print('Original Model Predictions: ')\n",
    "print('AUC ROC   : ',\"{:.4f}\".format(roc_auc_score(test_y_n, y_pred_orig)))\n",
    "print('AUC PR    : ',\"{:.4f}\".format(average_precision_score(test_y_n, y_pred_orig)))\n",
    "print('F1 Score  : ',\"{:.4f}\".format(f1_score(test_y_n, np.where(y_pred_orig > 0.5, 1, 0))))\n",
    "print('Recall    : ',\"{:.4f}\".format(recall_score(test_y_n,np.where(y_pred_orig > 0.5, 1, 0))))\n",
    "print('Precision : ',\"{:.4f}\".format(precision_score(test_y_n,np.where(y_pred_orig > 0.5, 1, 0))))\n",
    "print('MCC       : ',\"{:.4f}\".format(matthews_corrcoef(test_y_n,np.where(y_pred_orig > 0.5, 1, 0))))\n",
    "print('Model Loss: ',\"{:.4f}\".format(keras_loss(test_y_n, y_pred_orig).numpy()))\n",
    "print('')\n",
    "\n",
    "\n",
    "###### Multihead attention - prtb first 100\n",
    "print('Multihead Attention Perturbation Analysis Predictions: ')\n",
    "print('AUC ROC   : ',\"{:.4f}\".format(roc_auc_score(test_y_n, xai_MHA_prtb_tsphi)))\n",
    "print('AUC PR    : ',\"{:.4f}\".format(average_precision_score(test_y_n, xai_MHA_prtb_tsphi)))\n",
    "print('F1 Score  : ',\"{:.4f}\".format(f1_score(test_y_n, np.where(xai_MHA_prtb_tsphi > 0.5, 1, 0))))\n",
    "print('Recall    : ',\"{:.4f}\".format(recall_score(test_y_n,np.where(xai_MHA_prtb_tsphi > 0.5, 1, 0))))\n",
    "print('Precision : ',\"{:.4f}\".format(precision_score(test_y_n,np.where(xai_MHA_prtb_tsphi  > 0.5, 1, 0))))\n",
    "print('MCC       : ',\"{:.4f}\".format(matthews_corrcoef(test_y_n,np.where(xai_MHA_prtb_tsphi > 0.5, 1, 0))))\n",
    "print('Model Loss: ',\"{:.4f}\".format(keras_loss(test_y_n, xai_MHA_prtb_tsphi ).numpy()))\n",
    "print('')\n",
    "\n",
    "###### Multihead attention - sqnc first 100\n",
    "print(f'Multihead Attention Sequence {seq_len_val} Analysis Predictions: ')\n",
    "print('AUC ROC   : ',\"{:.4f}\".format(roc_auc_score(test_y_n, xai_MHA_sqnc_tsphi)))\n",
    "print('AUC PR    : ',\"{:.4f}\".format(average_precision_score(test_y_n, xai_MHA_sqnc_tsphi)))\n",
    "print('F1 Score  : ',\"{:.4f}\".format(f1_score(test_y_n, np.where(xai_MHA_sqnc_tsphi > 0.5, 1, 0))))\n",
    "print('Recall    : ',\"{:.4f}\".format(recall_score(test_y_n,np.where(xai_MHA_sqnc_tsphi > 0.5, 1, 0))))\n",
    "print('Precision : ',\"{:.4f}\".format(precision_score(test_y_n,np.where(xai_MHA_sqnc_tsphi  > 0.5, 1, 0))))\n",
    "print('MCC       : ',\"{:.4f}\".format(matthews_corrcoef(test_y_n,np.where(xai_MHA_sqnc_tsphi > 0.5, 1, 0))))\n",
    "print('Model Loss: ',\"{:.4f}\".format(keras_loss(test_y_n, xai_MHA_sqnc_tsphi ).numpy()))\n",
    "print('')"
   ]
  },
  {
   "cell_type": "code",
   "execution_count": 55,
   "id": "546f4b9a-2513-47ec-8e9a-d74add24c609",
   "metadata": {},
   "outputs": [],
   "source": [
    "############\n",
    "pc=90\n",
    "top_steps = math.ceil((1 - pc/100) * 48 * 26)\n",
    "top_indices = np.argsort(np.absolute(temp_att_scores_dim2), axis=None)[-top_steps:]"
   ]
  },
  {
   "cell_type": "code",
   "execution_count": 56,
   "id": "6915ff3f-b223-4d7e-89f7-ebfee050b74e",
   "metadata": {},
   "outputs": [
    {
     "name": "stdout",
     "output_type": "stream",
     "text": [
      "125\n"
     ]
    },
    {
     "data": {
      "text/plain": [
       "array([1939666, 1165229, 2705756, 2229384, 4022081, 2494610,   28614,\n",
       "         97468,  527268,  527294,  527320,  527216,  526670,  527242,\n",
       "        527190,  526696,  526774,  526982,  526956,  526904,  526930,\n",
       "        526748,  527112,  527138,  527086,  527008,  527164,  527060,\n",
       "        526852,  526826,  526878,  527034, 2068597, 2437435, 1422916,\n",
       "       3990624, 3845648, 5270525,  362844, 3079896, 2883076, 5324917,\n",
       "       3542774, 3873727, 3873779, 3873753, 1716976, 4870308, 2547208,\n",
       "       2911621, 1797238, 3990390,  934350, 2883050, 2986764, 3321150,\n",
       "        597900, 4823950, 3274688, 2705730, 2986712, 3274636, 5087772,\n",
       "       4803202, 4823924, 1165593, 2638025, 2882946, 1762031, 2437539,\n",
       "       1175733,   59658, 4139370, 4402958, 3274532, 5735325, 2883882,\n",
       "       4803150, 3092506, 5013620, 1022568, 1818454,  950860, 2663324,\n",
       "         59190,   59138,  290278, 3321202, 2987076, 2494168, 4659473,\n",
       "       3845388, 3837094, 1016613, 3810756, 5499557, 2720680, 2494142,\n",
       "       3655094, 3578004, 5403854, 5233603,   27834,   28224, 2063920,\n",
       "       2347710,  375869,  376389, 4823898, 2437383, 3577172,  756405,\n",
       "       3757326, 5325203, 4406935, 2494480, 2748681, 3845440, 2494350,\n",
       "       2733394, 3612704, 5314127, 2494558, 2465416,  574406])"
      ]
     },
     "execution_count": 56,
     "metadata": {},
     "output_type": "execute_result"
    }
   ],
   "source": [
    "print(top_steps)\n",
    "top_indices"
   ]
  },
  {
   "cell_type": "code",
   "execution_count": 132,
   "id": "874f8716-4a3d-4787-943f-0b7b33934d6b",
   "metadata": {},
   "outputs": [
    {
     "data": {
      "text/plain": [
       "(2,)"
      ]
     },
     "execution_count": 132,
     "metadata": {},
     "output_type": "execute_result"
    }
   ],
   "source": [
    "top_indices.shape"
   ]
  },
  {
   "cell_type": "code",
   "execution_count": 133,
   "id": "e061f90b-d6b8-467c-adb2-21d952d24b34",
   "metadata": {},
   "outputs": [
    {
     "data": {
      "text/plain": [
       "1248"
      ]
     },
     "execution_count": 133,
     "metadata": {},
     "output_type": "execute_result"
    }
   ],
   "source": [
    "48*26"
   ]
  },
  {
   "cell_type": "code",
   "execution_count": 134,
   "id": "d0ca402d-d731-4028-9163-b623760dd0fd",
   "metadata": {},
   "outputs": [
    {
     "data": {
      "text/plain": [
       "4598.0"
      ]
     },
     "execution_count": 134,
     "metadata": {},
     "output_type": "execute_result"
    }
   ],
   "source": [
    "5738304/1248"
   ]
  },
  {
   "cell_type": "code",
   "execution_count": null,
   "id": "f9a2b060-fa41-4dd6-aeca-61b0594129f0",
   "metadata": {},
   "outputs": [],
   "source": []
  }
 ],
 "metadata": {
  "kernelspec": {
   "display_name": "Python 3 (ipykernel)",
   "language": "python",
   "name": "python3"
  },
  "language_info": {
   "codemirror_mode": {
    "name": "ipython",
    "version": 3
   },
   "file_extension": ".py",
   "mimetype": "text/x-python",
   "name": "python",
   "nbconvert_exporter": "python",
   "pygments_lexer": "ipython3",
   "version": "3.9.12"
  }
 },
 "nbformat": 4,
 "nbformat_minor": 5
}
