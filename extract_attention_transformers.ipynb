{
 "cells": [
  {
   "cell_type": "code",
   "execution_count": 1,
   "id": "a330d6b4-d677-4539-b88c-c36bbf28ca3f",
   "metadata": {},
   "outputs": [
    {
     "name": "stderr",
     "output_type": "stream",
     "text": [
      "2023-03-03 00:12:44.107954: I tensorflow/core/platform/cpu_feature_guard.cc:193] This TensorFlow binary is optimized with oneAPI Deep Neural Network Library (oneDNN) to use the following CPU instructions in performance-critical operations:  AVX2 FMA\n",
      "To enable them in other operations, rebuild TensorFlow with the appropriate compiler flags.\n",
      "2023-03-03 00:12:44.238426: E tensorflow/stream_executor/cuda/cuda_blas.cc:2981] Unable to register cuBLAS factory: Attempting to register factory for plugin cuBLAS when one has already been registered\n",
      "2023-03-03 00:12:44.700269: W tensorflow/stream_executor/platform/default/dso_loader.cc:64] Could not load dynamic library 'libnvinfer.so.7'; dlerror: libnvinfer.so.7: cannot open shared object file: No such file or directory\n",
      "2023-03-03 00:12:44.700333: W tensorflow/stream_executor/platform/default/dso_loader.cc:64] Could not load dynamic library 'libnvinfer_plugin.so.7'; dlerror: libnvinfer_plugin.so.7: cannot open shared object file: No such file or directory\n",
      "2023-03-03 00:12:44.700353: W tensorflow/compiler/tf2tensorrt/utils/py_utils.cc:38] TF-TRT Warning: Cannot dlopen some TensorRT libraries. If you would like to use Nvidia GPU with TensorRT, please make sure the missing libraries mentioned above are installed properly.\n"
     ]
    }
   ],
   "source": [
    "from tensorflow import keras\n",
    "from tensorflow.keras import layers"
   ]
  },
  {
   "cell_type": "code",
   "execution_count": 3,
   "id": "5665d644-6513-4e93-b02b-fbf6f9ed8c94",
   "metadata": {},
   "outputs": [],
   "source": [
    "def transformer_encoder(inputs, head_size, num_heads, ff_dim, dropout=0):\n",
    "    # Normalization and Attention\n",
    "    x = layers.LayerNormalization(epsilon=1e-6)(inputs)\n",
    "    x = layers.MultiHeadAttention(key_dim=head_size, num_heads=num_heads, dropout=dropout)(x, x)\n",
    "    x = layers.Dropout(dropout)(x)\n",
    "    res = x + inputs\n",
    "\n",
    "    # Feed Forward Part\n",
    "    x = layers.LayerNormalization(epsilon=1e-6)(res)\n",
    "    x = layers.Conv1D(filters=ff_dim, kernel_size=1, activation=\"relu\")(x)\n",
    "    x = layers.Dropout(dropout)(x)\n",
    "    x = layers.Conv1D(filters=inputs.shape[-1], kernel_size=1)(x)\n",
    "    return x + res"
   ]
  },
  {
   "cell_type": "code",
   "execution_count": 4,
   "id": "b69352a5-fef3-4311-ac74-71c505127eac",
   "metadata": {},
   "outputs": [],
   "source": [
    "def build_model(input_shape,head_size, num_heads,ff_dim,num_transformer_blocks,mlp_units,dropout=0, mlp_dropout=0):\n",
    "    inputs = keras.Input(shape=input_shape)\n",
    "    x = inputs\n",
    "    for _ in range(num_transformer_blocks):\n",
    "        x = transformer_encoder(x, head_size, num_heads, ff_dim, dropout)\n",
    "\n",
    "    x = layers.GlobalAveragePooling1D(data_format=\"channels_first\")(x)\n",
    "    for dim in mlp_units:\n",
    "        x = layers.Dense(dim, activation=\"relu\")(x)\n",
    "        x = layers.Dropout(mlp_dropout)(x)\n",
    "    outputs = layers.Dense(1, activation=\"sigmoid\")(x)\n",
    "    return keras.Model(inputs, outputs)"
   ]
  },
  {
   "cell_type": "code",
   "execution_count": 2,
   "id": "06b06fee-7d8b-41b8-b3d3-d61cecad355a",
   "metadata": {},
   "outputs": [],
   "source": [
    "import numpy as np"
   ]
  },
  {
   "cell_type": "code",
   "execution_count": 3,
   "id": "1ce717d1-9f18-44e4-a344-d993cddeaece",
   "metadata": {},
   "outputs": [],
   "source": [
    "data = np.load('train_test_x_y.npz')\n",
    "train_x, test_x, train_y, test_y  = data['arr_0'], data['arr_1'], data['arr_2'], data['arr_3'] "
   ]
  },
  {
   "cell_type": "code",
   "execution_count": 4,
   "id": "67ab03ad-b1d9-4677-a76e-10761a03bb1f",
   "metadata": {},
   "outputs": [],
   "source": [
    "train_y = train_y.reshape(-1,1)\n",
    "test_y  = test_y.reshape(-1,1)"
   ]
  },
  {
   "cell_type": "code",
   "execution_count": 5,
   "id": "b4bdee07-7b2f-4d10-a684-619444d8b6db",
   "metadata": {},
   "outputs": [
    {
     "data": {
      "text/plain": [
       "((18390, 48, 26), (4598, 48, 26), (18390, 1), (4598, 1))"
      ]
     },
     "execution_count": 5,
     "metadata": {},
     "output_type": "execute_result"
    }
   ],
   "source": [
    "train_x.shape, test_x.shape, train_y.shape, test_y.shape"
   ]
  },
  {
   "cell_type": "code",
   "execution_count": 9,
   "id": "2b0aab25-db54-415d-86c6-7cc00ccd2952",
   "metadata": {},
   "outputs": [],
   "source": [
    "input_shape = train_x.shape[1:]"
   ]
  },
  {
   "cell_type": "code",
   "execution_count": 10,
   "id": "9e7eb893-4d88-4483-a9b0-a4ce67a72f84",
   "metadata": {},
   "outputs": [
    {
     "data": {
      "text/plain": [
       "(48, 26)"
      ]
     },
     "execution_count": 10,
     "metadata": {},
     "output_type": "execute_result"
    }
   ],
   "source": [
    "input_shape"
   ]
  },
  {
   "cell_type": "code",
   "execution_count": 11,
   "id": "22e004f4-a26d-44e7-a756-60c1a4bc427c",
   "metadata": {},
   "outputs": [],
   "source": [
    "n_classes = len(np.unique(train_y))"
   ]
  },
  {
   "cell_type": "code",
   "execution_count": 12,
   "id": "3d6c7713-e890-4301-a93f-bc33a55ece7c",
   "metadata": {},
   "outputs": [
    {
     "data": {
      "text/plain": [
       "2"
      ]
     },
     "execution_count": 12,
     "metadata": {},
     "output_type": "execute_result"
    }
   ],
   "source": [
    "n_classes"
   ]
  },
  {
   "cell_type": "code",
   "execution_count": 15,
   "id": "ca2910c2-d3e2-45d1-af15-f00e35dde029",
   "metadata": {},
   "outputs": [
    {
     "name": "stderr",
     "output_type": "stream",
     "text": [
      "2023-02-24 13:08:36.235398: I tensorflow/stream_executor/cuda/cuda_gpu_executor.cc:980] successful NUMA node read from SysFS had negative value (-1), but there must be at least one NUMA node, so returning NUMA node zero\n",
      "2023-02-24 13:08:37.152985: I tensorflow/stream_executor/cuda/cuda_gpu_executor.cc:980] successful NUMA node read from SysFS had negative value (-1), but there must be at least one NUMA node, so returning NUMA node zero\n",
      "2023-02-24 13:08:37.153745: I tensorflow/stream_executor/cuda/cuda_gpu_executor.cc:980] successful NUMA node read from SysFS had negative value (-1), but there must be at least one NUMA node, so returning NUMA node zero\n",
      "2023-02-24 13:08:37.164020: I tensorflow/core/platform/cpu_feature_guard.cc:193] This TensorFlow binary is optimized with oneAPI Deep Neural Network Library (oneDNN) to use the following CPU instructions in performance-critical operations:  AVX2 FMA\n",
      "To enable them in other operations, rebuild TensorFlow with the appropriate compiler flags.\n",
      "2023-02-24 13:08:37.166593: I tensorflow/stream_executor/cuda/cuda_gpu_executor.cc:980] successful NUMA node read from SysFS had negative value (-1), but there must be at least one NUMA node, so returning NUMA node zero\n",
      "2023-02-24 13:08:37.167250: I tensorflow/stream_executor/cuda/cuda_gpu_executor.cc:980] successful NUMA node read from SysFS had negative value (-1), but there must be at least one NUMA node, so returning NUMA node zero\n",
      "2023-02-24 13:08:37.167766: I tensorflow/stream_executor/cuda/cuda_gpu_executor.cc:980] successful NUMA node read from SysFS had negative value (-1), but there must be at least one NUMA node, so returning NUMA node zero\n",
      "2023-02-24 13:08:42.136290: I tensorflow/stream_executor/cuda/cuda_gpu_executor.cc:980] successful NUMA node read from SysFS had negative value (-1), but there must be at least one NUMA node, so returning NUMA node zero\n",
      "2023-02-24 13:08:42.147701: I tensorflow/stream_executor/cuda/cuda_gpu_executor.cc:980] successful NUMA node read from SysFS had negative value (-1), but there must be at least one NUMA node, so returning NUMA node zero\n",
      "2023-02-24 13:08:42.147882: I tensorflow/stream_executor/cuda/cuda_gpu_executor.cc:980] successful NUMA node read from SysFS had negative value (-1), but there must be at least one NUMA node, so returning NUMA node zero\n",
      "2023-02-24 13:08:42.147979: I tensorflow/core/common_runtime/gpu/gpu_device.cc:1616] Created device /job:localhost/replica:0/task:0/device:GPU:0 with 2621 MB memory:  -> device: 0, name: NVIDIA GeForce GTX 1650, pci bus id: 0000:01:00.0, compute capability: 7.5\n"
     ]
    }
   ],
   "source": [
    "model = build_model(input_shape,head_size=16,num_heads=2,ff_dim=4,num_transformer_blocks=4,mlp_units=[32],mlp_dropout=0.25,dropout=0.25)\n"
   ]
  },
  {
   "cell_type": "code",
   "execution_count": 16,
   "id": "6e19a5a9-b335-41ab-b6d3-42627eeb6325",
   "metadata": {},
   "outputs": [],
   "source": [
    "from utils_window import f1_m"
   ]
  },
  {
   "cell_type": "code",
   "execution_count": 17,
   "id": "bc998664-c3f1-4756-9e8f-926cf13be08d",
   "metadata": {},
   "outputs": [],
   "source": [
    "model.compile(optimizer=keras.optimizers.Adam(learning_rate=0.001), loss='binary_crossentropy', metrics=['accuracy', f1_m], weighted_metrics=[])"
   ]
  },
  {
   "cell_type": "code",
   "execution_count": 18,
   "id": "0a9a2c41-40e3-487c-94d9-ff43290b5183",
   "metadata": {},
   "outputs": [],
   "source": [
    "callbacks = [keras.callbacks.EarlyStopping(patience=10, restore_best_weights=True)]"
   ]
  },
  {
   "cell_type": "code",
   "execution_count": 19,
   "id": "355f86f1-2ddc-461d-a77c-2d55b1481808",
   "metadata": {},
   "outputs": [
    {
     "name": "stdout",
     "output_type": "stream",
     "text": [
      "Epoch 1/50\n"
     ]
    },
    {
     "name": "stderr",
     "output_type": "stream",
     "text": [
      "2023-02-24 13:10:10.787101: I tensorflow/stream_executor/cuda/cuda_dnn.cc:384] Loaded cuDNN version 8500\n"
     ]
    },
    {
     "name": "stdout",
     "output_type": "stream",
     "text": [
      "230/230 [==============================] - 33s 34ms/step - loss: 0.3269 - accuracy: 0.8927 - f1_m: 0.0236 - val_loss: 0.3048 - val_accuracy: 0.8967 - val_f1_m: 0.0000e+00\n",
      "Epoch 2/50\n",
      "230/230 [==============================] - 5s 21ms/step - loss: 0.2903 - accuracy: 0.9008 - f1_m: 0.0211 - val_loss: 0.2969 - val_accuracy: 0.8967 - val_f1_m: 0.0000e+00\n",
      "Epoch 3/50\n",
      "230/230 [==============================] - 3s 15ms/step - loss: 0.2851 - accuracy: 0.9013 - f1_m: 0.0261 - val_loss: 0.2871 - val_accuracy: 0.8975 - val_f1_m: 0.0107\n",
      "Epoch 4/50\n",
      "230/230 [==============================] - 3s 13ms/step - loss: 0.2779 - accuracy: 0.9017 - f1_m: 0.0346 - val_loss: 0.2979 - val_accuracy: 0.8980 - val_f1_m: 0.0213\n",
      "Epoch 5/50\n",
      "230/230 [==============================] - 3s 12ms/step - loss: 0.2721 - accuracy: 0.9028 - f1_m: 0.0840 - val_loss: 0.2808 - val_accuracy: 0.8989 - val_f1_m: 0.0577\n",
      "Epoch 6/50\n",
      "230/230 [==============================] - 4s 16ms/step - loss: 0.2676 - accuracy: 0.9042 - f1_m: 0.1153 - val_loss: 0.2787 - val_accuracy: 0.8983 - val_f1_m: 0.0810\n",
      "Epoch 7/50\n",
      "230/230 [==============================] - 11s 47ms/step - loss: 0.2635 - accuracy: 0.9054 - f1_m: 0.1547 - val_loss: 0.2880 - val_accuracy: 0.9013 - val_f1_m: 0.0804\n",
      "Epoch 8/50\n",
      "230/230 [==============================] - 9s 38ms/step - loss: 0.2596 - accuracy: 0.9055 - f1_m: 0.1542 - val_loss: 0.2759 - val_accuracy: 0.8994 - val_f1_m: 0.0963\n",
      "Epoch 9/50\n",
      "230/230 [==============================] - 5s 22ms/step - loss: 0.2563 - accuracy: 0.9080 - f1_m: 0.1892 - val_loss: 0.2871 - val_accuracy: 0.8980 - val_f1_m: 0.1075\n",
      "Epoch 10/50\n",
      "230/230 [==============================] - 4s 19ms/step - loss: 0.2539 - accuracy: 0.9080 - f1_m: 0.2100 - val_loss: 0.2809 - val_accuracy: 0.8972 - val_f1_m: 0.1193\n",
      "Epoch 11/50\n",
      "230/230 [==============================] - 3s 14ms/step - loss: 0.2483 - accuracy: 0.9095 - f1_m: 0.2369 - val_loss: 0.2749 - val_accuracy: 0.8986 - val_f1_m: 0.1819\n",
      "Epoch 12/50\n",
      "230/230 [==============================] - 7s 33ms/step - loss: 0.2445 - accuracy: 0.9087 - f1_m: 0.2396 - val_loss: 0.2788 - val_accuracy: 0.8989 - val_f1_m: 0.1423\n",
      "Epoch 13/50\n",
      "230/230 [==============================] - 4s 16ms/step - loss: 0.2434 - accuracy: 0.9101 - f1_m: 0.2487 - val_loss: 0.2755 - val_accuracy: 0.8964 - val_f1_m: 0.1741\n",
      "Epoch 14/50\n",
      "230/230 [==============================] - 9s 41ms/step - loss: 0.2396 - accuracy: 0.9114 - f1_m: 0.2804 - val_loss: 0.2821 - val_accuracy: 0.8945 - val_f1_m: 0.2116\n",
      "Epoch 15/50\n",
      "230/230 [==============================] - 6s 24ms/step - loss: 0.2376 - accuracy: 0.9127 - f1_m: 0.2912 - val_loss: 0.2867 - val_accuracy: 0.8991 - val_f1_m: 0.1944\n",
      "Epoch 16/50\n",
      "230/230 [==============================] - 5s 21ms/step - loss: 0.2352 - accuracy: 0.9129 - f1_m: 0.2992 - val_loss: 0.2928 - val_accuracy: 0.8986 - val_f1_m: 0.2041\n",
      "Epoch 17/50\n",
      "230/230 [==============================] - 3s 11ms/step - loss: 0.2336 - accuracy: 0.9129 - f1_m: 0.3192 - val_loss: 0.2846 - val_accuracy: 0.8953 - val_f1_m: 0.2156\n",
      "Epoch 18/50\n",
      "230/230 [==============================] - 2s 10ms/step - loss: 0.2296 - accuracy: 0.9134 - f1_m: 0.3136 - val_loss: 0.2917 - val_accuracy: 0.8891 - val_f1_m: 0.2445\n",
      "Epoch 19/50\n",
      "230/230 [==============================] - 2s 10ms/step - loss: 0.2276 - accuracy: 0.9127 - f1_m: 0.3173 - val_loss: 0.2972 - val_accuracy: 0.8967 - val_f1_m: 0.1933\n",
      "Epoch 20/50\n",
      "230/230 [==============================] - 3s 13ms/step - loss: 0.2261 - accuracy: 0.9148 - f1_m: 0.3359 - val_loss: 0.2939 - val_accuracy: 0.8991 - val_f1_m: 0.2149\n",
      "Epoch 21/50\n",
      "230/230 [==============================] - 3s 12ms/step - loss: 0.2246 - accuracy: 0.9173 - f1_m: 0.3499 - val_loss: 0.3048 - val_accuracy: 0.8945 - val_f1_m: 0.1811\n"
     ]
    }
   ],
   "source": [
    "train_history=model.fit(train_x,train_y,validation_split=0.2, epochs=50,batch_size=64,callbacks=callbacks)"
   ]
  },
  {
   "cell_type": "code",
   "execution_count": 7,
   "id": "ffff9985-fb92-4a08-a076-cf28e8013431",
   "metadata": {},
   "outputs": [],
   "source": [
    "# model.save('mimic3_ts_transformer_attention_extraction.h5')"
   ]
  },
  {
   "cell_type": "code",
   "execution_count": 6,
   "id": "66ef8a6e-8551-433e-a867-86582fc5b694",
   "metadata": {},
   "outputs": [
    {
     "name": "stderr",
     "output_type": "stream",
     "text": [
      "2023-03-03 00:13:02.389156: I tensorflow/stream_executor/cuda/cuda_gpu_executor.cc:980] successful NUMA node read from SysFS had negative value (-1), but there must be at least one NUMA node, so returning NUMA node zero\n",
      "2023-03-03 00:13:02.414353: I tensorflow/stream_executor/cuda/cuda_gpu_executor.cc:980] successful NUMA node read from SysFS had negative value (-1), but there must be at least one NUMA node, so returning NUMA node zero\n",
      "2023-03-03 00:13:02.414523: I tensorflow/stream_executor/cuda/cuda_gpu_executor.cc:980] successful NUMA node read from SysFS had negative value (-1), but there must be at least one NUMA node, so returning NUMA node zero\n",
      "2023-03-03 00:13:02.414924: I tensorflow/core/platform/cpu_feature_guard.cc:193] This TensorFlow binary is optimized with oneAPI Deep Neural Network Library (oneDNN) to use the following CPU instructions in performance-critical operations:  AVX2 FMA\n",
      "To enable them in other operations, rebuild TensorFlow with the appropriate compiler flags.\n",
      "2023-03-03 00:13:02.415396: I tensorflow/stream_executor/cuda/cuda_gpu_executor.cc:980] successful NUMA node read from SysFS had negative value (-1), but there must be at least one NUMA node, so returning NUMA node zero\n",
      "2023-03-03 00:13:02.415524: I tensorflow/stream_executor/cuda/cuda_gpu_executor.cc:980] successful NUMA node read from SysFS had negative value (-1), but there must be at least one NUMA node, so returning NUMA node zero\n",
      "2023-03-03 00:13:02.415626: I tensorflow/stream_executor/cuda/cuda_gpu_executor.cc:980] successful NUMA node read from SysFS had negative value (-1), but there must be at least one NUMA node, so returning NUMA node zero\n",
      "2023-03-03 00:13:02.769250: I tensorflow/stream_executor/cuda/cuda_gpu_executor.cc:980] successful NUMA node read from SysFS had negative value (-1), but there must be at least one NUMA node, so returning NUMA node zero\n",
      "2023-03-03 00:13:02.769424: I tensorflow/stream_executor/cuda/cuda_gpu_executor.cc:980] successful NUMA node read from SysFS had negative value (-1), but there must be at least one NUMA node, so returning NUMA node zero\n",
      "2023-03-03 00:13:02.769541: I tensorflow/stream_executor/cuda/cuda_gpu_executor.cc:980] successful NUMA node read from SysFS had negative value (-1), but there must be at least one NUMA node, so returning NUMA node zero\n",
      "2023-03-03 00:13:02.769638: I tensorflow/core/common_runtime/gpu/gpu_device.cc:1616] Created device /job:localhost/replica:0/task:0/device:GPU:0 with 2621 MB memory:  -> device: 0, name: NVIDIA GeForce GTX 1650, pci bus id: 0000:01:00.0, compute capability: 7.5\n"
     ]
    }
   ],
   "source": [
    "### load keras model\n",
    "from tensorflow import keras\n",
    "\n",
    "model = keras.models.load_model('mimic3_ts_transformer_attention_extraction.h5', compile=False)"
   ]
  },
  {
   "cell_type": "code",
   "execution_count": 7,
   "id": "ab9a771b-6243-4146-9f1c-5f28f28b772c",
   "metadata": {},
   "outputs": [],
   "source": [
    "from sklearn.metrics import roc_auc_score, f1_score, recall_score, precision_score, average_precision_score, matthews_corrcoef"
   ]
  },
  {
   "cell_type": "code",
   "execution_count": 8,
   "id": "91baa164-7398-4f4e-ab5f-1bb8640e86ac",
   "metadata": {},
   "outputs": [
    {
     "name": "stderr",
     "output_type": "stream",
     "text": [
      "2023-03-03 00:13:07.582681: I tensorflow/stream_executor/cuda/cuda_dnn.cc:384] Loaded cuDNN version 8500\n"
     ]
    },
    {
     "name": "stdout",
     "output_type": "stream",
     "text": [
      "144/144 [==============================] - 1s 3ms/step\n",
      "0.6283758411914857\n",
      "144/144 [==============================] - 0s 3ms/step\n",
      "0.1873645715459928\n",
      "144/144 [==============================] - 0s 3ms/step\n",
      "0.14617940199335547\n",
      "144/144 [==============================] - 0s 3ms/step\n",
      "0.09606986899563319\n",
      "144/144 [==============================] - 0s 3ms/step\n",
      "0.3055555555555556\n"
     ]
    }
   ],
   "source": [
    "print(roc_auc_score(test_y, model.predict(test_x)))\n",
    "print(average_precision_score(test_y, model.predict(test_x)))\n",
    "print(f1_score(test_y, np.round(model.predict(test_x))))\n",
    "print(recall_score(test_y, np.round(model.predict(test_x))))\n",
    "print(precision_score(test_y, np.round(model.predict(test_x))))"
   ]
  },
  {
   "cell_type": "code",
   "execution_count": 9,
   "id": "66aebf30-0a8a-4543-93d1-73a70266a2a1",
   "metadata": {},
   "outputs": [
    {
     "name": "stdout",
     "output_type": "stream",
     "text": [
      "144/144 [==============================] - 0s 3ms/step\n"
     ]
    },
    {
     "data": {
      "text/plain": [
       "0.1236510277958226"
      ]
     },
     "execution_count": 9,
     "metadata": {},
     "output_type": "execute_result"
    }
   ],
   "source": [
    "matthews_corrcoef(test_y, np.round(model.predict(test_x)))"
   ]
  },
  {
   "cell_type": "code",
   "execution_count": 10,
   "id": "b894e370-8b6c-4e17-ac36-6eb79858fb59",
   "metadata": {},
   "outputs": [],
   "source": [
    "############# extraction of attention from the first layer\n",
    "#### model architecture"
   ]
  },
  {
   "cell_type": "code",
   "execution_count": 11,
   "id": "73d5030e-0b48-4218-8745-f8eed680c410",
   "metadata": {},
   "outputs": [
    {
     "name": "stdout",
     "output_type": "stream",
     "text": [
      "Model: \"model\"\n",
      "__________________________________________________________________________________________________\n",
      " Layer (type)                   Output Shape         Param #     Connected to                     \n",
      "==================================================================================================\n",
      " input_1 (InputLayer)           [(None, 48, 26)]     0           []                               \n",
      "                                                                                                  \n",
      " layer_normalization (LayerNorm  (None, 48, 26)      52          ['input_1[0][0]']                \n",
      " alization)                                                                                       \n",
      "                                                                                                  \n",
      " multi_head_attention (MultiHea  (None, 48, 26)      3450        ['layer_normalization[0][0]',    \n",
      " dAttention)                                                      'layer_normalization[0][0]']    \n",
      "                                                                                                  \n",
      " dropout (Dropout)              (None, 48, 26)       0           ['multi_head_attention[0][0]']   \n",
      "                                                                                                  \n",
      " tf.__operators__.add (TFOpLamb  (None, 48, 26)      0           ['dropout[0][0]',                \n",
      " da)                                                              'input_1[0][0]']                \n",
      "                                                                                                  \n",
      " layer_normalization_1 (LayerNo  (None, 48, 26)      52          ['tf.__operators__.add[0][0]']   \n",
      " rmalization)                                                                                     \n",
      "                                                                                                  \n",
      " conv1d (Conv1D)                (None, 48, 4)        108         ['layer_normalization_1[0][0]']  \n",
      "                                                                                                  \n",
      " dropout_1 (Dropout)            (None, 48, 4)        0           ['conv1d[0][0]']                 \n",
      "                                                                                                  \n",
      " conv1d_1 (Conv1D)              (None, 48, 26)       130         ['dropout_1[0][0]']              \n",
      "                                                                                                  \n",
      " tf.__operators__.add_1 (TFOpLa  (None, 48, 26)      0           ['conv1d_1[0][0]',               \n",
      " mbda)                                                            'tf.__operators__.add[0][0]']   \n",
      "                                                                                                  \n",
      " layer_normalization_2 (LayerNo  (None, 48, 26)      52          ['tf.__operators__.add_1[0][0]'] \n",
      " rmalization)                                                                                     \n",
      "                                                                                                  \n",
      " multi_head_attention_1 (MultiH  (None, 48, 26)      3450        ['layer_normalization_2[0][0]',  \n",
      " eadAttention)                                                    'layer_normalization_2[0][0]']  \n",
      "                                                                                                  \n",
      " dropout_2 (Dropout)            (None, 48, 26)       0           ['multi_head_attention_1[0][0]'] \n",
      "                                                                                                  \n",
      " tf.__operators__.add_2 (TFOpLa  (None, 48, 26)      0           ['dropout_2[0][0]',              \n",
      " mbda)                                                            'tf.__operators__.add_1[0][0]'] \n",
      "                                                                                                  \n",
      " layer_normalization_3 (LayerNo  (None, 48, 26)      52          ['tf.__operators__.add_2[0][0]'] \n",
      " rmalization)                                                                                     \n",
      "                                                                                                  \n",
      " conv1d_2 (Conv1D)              (None, 48, 4)        108         ['layer_normalization_3[0][0]']  \n",
      "                                                                                                  \n",
      " dropout_3 (Dropout)            (None, 48, 4)        0           ['conv1d_2[0][0]']               \n",
      "                                                                                                  \n",
      " conv1d_3 (Conv1D)              (None, 48, 26)       130         ['dropout_3[0][0]']              \n",
      "                                                                                                  \n",
      " tf.__operators__.add_3 (TFOpLa  (None, 48, 26)      0           ['conv1d_3[0][0]',               \n",
      " mbda)                                                            'tf.__operators__.add_2[0][0]'] \n",
      "                                                                                                  \n",
      " layer_normalization_4 (LayerNo  (None, 48, 26)      52          ['tf.__operators__.add_3[0][0]'] \n",
      " rmalization)                                                                                     \n",
      "                                                                                                  \n",
      " multi_head_attention_2 (MultiH  (None, 48, 26)      3450        ['layer_normalization_4[0][0]',  \n",
      " eadAttention)                                                    'layer_normalization_4[0][0]']  \n",
      "                                                                                                  \n",
      " dropout_4 (Dropout)            (None, 48, 26)       0           ['multi_head_attention_2[0][0]'] \n",
      "                                                                                                  \n",
      " tf.__operators__.add_4 (TFOpLa  (None, 48, 26)      0           ['dropout_4[0][0]',              \n",
      " mbda)                                                            'tf.__operators__.add_3[0][0]'] \n",
      "                                                                                                  \n",
      " layer_normalization_5 (LayerNo  (None, 48, 26)      52          ['tf.__operators__.add_4[0][0]'] \n",
      " rmalization)                                                                                     \n",
      "                                                                                                  \n",
      " conv1d_4 (Conv1D)              (None, 48, 4)        108         ['layer_normalization_5[0][0]']  \n",
      "                                                                                                  \n",
      " dropout_5 (Dropout)            (None, 48, 4)        0           ['conv1d_4[0][0]']               \n",
      "                                                                                                  \n",
      " conv1d_5 (Conv1D)              (None, 48, 26)       130         ['dropout_5[0][0]']              \n",
      "                                                                                                  \n",
      " tf.__operators__.add_5 (TFOpLa  (None, 48, 26)      0           ['conv1d_5[0][0]',               \n",
      " mbda)                                                            'tf.__operators__.add_4[0][0]'] \n",
      "                                                                                                  \n",
      " layer_normalization_6 (LayerNo  (None, 48, 26)      52          ['tf.__operators__.add_5[0][0]'] \n",
      " rmalization)                                                                                     \n",
      "                                                                                                  \n",
      " multi_head_attention_3 (MultiH  (None, 48, 26)      3450        ['layer_normalization_6[0][0]',  \n",
      " eadAttention)                                                    'layer_normalization_6[0][0]']  \n",
      "                                                                                                  \n",
      " dropout_6 (Dropout)            (None, 48, 26)       0           ['multi_head_attention_3[0][0]'] \n",
      "                                                                                                  \n",
      " tf.__operators__.add_6 (TFOpLa  (None, 48, 26)      0           ['dropout_6[0][0]',              \n",
      " mbda)                                                            'tf.__operators__.add_5[0][0]'] \n",
      "                                                                                                  \n",
      " layer_normalization_7 (LayerNo  (None, 48, 26)      52          ['tf.__operators__.add_6[0][0]'] \n",
      " rmalization)                                                                                     \n",
      "                                                                                                  \n",
      " conv1d_6 (Conv1D)              (None, 48, 4)        108         ['layer_normalization_7[0][0]']  \n",
      "                                                                                                  \n",
      " dropout_7 (Dropout)            (None, 48, 4)        0           ['conv1d_6[0][0]']               \n",
      "                                                                                                  \n",
      " conv1d_7 (Conv1D)              (None, 48, 26)       130         ['dropout_7[0][0]']              \n",
      "                                                                                                  \n",
      " tf.__operators__.add_7 (TFOpLa  (None, 48, 26)      0           ['conv1d_7[0][0]',               \n",
      " mbda)                                                            'tf.__operators__.add_6[0][0]'] \n",
      "                                                                                                  \n",
      " global_average_pooling1d (Glob  (None, 48)          0           ['tf.__operators__.add_7[0][0]'] \n",
      " alAveragePooling1D)                                                                              \n",
      "                                                                                                  \n",
      " dense (Dense)                  (None, 32)           1568        ['global_average_pooling1d[0][0]'\n",
      "                                                                 ]                                \n",
      "                                                                                                  \n",
      " dropout_8 (Dropout)            (None, 32)           0           ['dense[0][0]']                  \n",
      "                                                                                                  \n",
      " dense_1 (Dense)                (None, 1)            33          ['dropout_8[0][0]']              \n",
      "                                                                                                  \n",
      "==================================================================================================\n",
      "Total params: 16,769\n",
      "Trainable params: 16,769\n",
      "Non-trainable params: 0\n",
      "__________________________________________________________________________________________________\n"
     ]
    }
   ],
   "source": [
    "model.summary()"
   ]
  },
  {
   "cell_type": "code",
   "execution_count": 12,
   "id": "a93c332a-5b6f-40b1-af31-71611852bcad",
   "metadata": {},
   "outputs": [],
   "source": [
    "# keras.utils.plot_model(model,to_file=\"model_22ndfebtransformer.png\")"
   ]
  },
  {
   "cell_type": "code",
   "execution_count": 28,
   "id": "699860b7-79d6-4da9-ac5b-aff926ac82d1",
   "metadata": {},
   "outputs": [],
   "source": [
    "### layer is multi_head_attention, multi_head_attention_1, multi_head_attention_2, multi_head_attention_3"
   ]
  },
  {
   "cell_type": "code",
   "execution_count": 13,
   "id": "eb0e0cc7-2a68-4a5b-839a-45c7b7e7b074",
   "metadata": {},
   "outputs": [],
   "source": [
    "#### for multi_head_attention \n",
    "att_weights_MHA0 = keras.Model(inputs=model.input, outputs=model.get_layer('multi_head_attention').output)\n",
    "\n",
    "att_weights_MHA1 = keras.Model(inputs=model.input, outputs=model.get_layer('multi_head_attention_1').output)\n",
    "\n",
    "att_weights_MHA2 = keras.Model(inputs=model.input, outputs=model.get_layer('multi_head_attention_2').output)\n",
    "\n",
    "att_weights_MHA3 = keras.Model(inputs=model.input, outputs=model.get_layer('multi_head_attention_3').output)"
   ]
  },
  {
   "cell_type": "code",
   "execution_count": 14,
   "id": "25d2814f-051e-435a-afb9-6be0cec796f2",
   "metadata": {},
   "outputs": [
    {
     "name": "stdout",
     "output_type": "stream",
     "text": [
      "144/144 [==============================] - 0s 869us/step\n",
      "144/144 [==============================] - 0s 1ms/step\n",
      "144/144 [==============================] - 0s 2ms/step\n",
      "144/144 [==============================] - 1s 2ms/step\n"
     ]
    }
   ],
   "source": [
    "att_weights_MHA0_output = att_weights_MHA0.predict(test_x)\n",
    "att_weights_MHA1_output = att_weights_MHA1.predict(test_x)\n",
    "att_weights_MHA2_output = att_weights_MHA2.predict(test_x)\n",
    "att_weights_MHA3_output = att_weights_MHA3.predict(test_x)"
   ]
  },
  {
   "cell_type": "code",
   "execution_count": 15,
   "id": "8cd62f03-a3b1-413d-95fb-7688d61c06e6",
   "metadata": {},
   "outputs": [
    {
     "data": {
      "text/plain": [
       "(4598, 48, 26)"
      ]
     },
     "execution_count": 15,
     "metadata": {},
     "output_type": "execute_result"
    }
   ],
   "source": [
    "att_weights_MHA0_output.shape\n",
    "att_weights_MHA1_output.shape\n",
    "att_weights_MHA2_output.shape\n",
    "att_weights_MHA3_output.shape"
   ]
  },
  {
   "cell_type": "code",
   "execution_count": 85,
   "id": "c0d003b3-c276-4980-bb7f-45f77284f5b6",
   "metadata": {},
   "outputs": [],
   "source": [
    "# from sklearn.preprocessing import MinMaxScaler\n",
    "\n",
    "# mms = MinMaxScaler()\n",
    "\n",
    "\n",
    "# norm_att_weights_MHA0_output = mms.fit_transform(att_weights_MHA0_output)\n",
    "\n",
    "# norm_att_weights_MHA1_output = mms.fit_transform(att_weights_MHA1_output)\n",
    "\n",
    "# norm_att_weights_MHA2_output = mms.fit_transform(att_weights_MHA2_output)\n",
    "\n",
    "# norm_att_weights_MHA3_output = mms.fit_transform(att_weights_MHA3_output)"
   ]
  },
  {
   "cell_type": "code",
   "execution_count": 40,
   "id": "2e831924-3a1d-41e2-8252-bf662bde4690",
   "metadata": {},
   "outputs": [],
   "source": [
    "######## use of these attention weights into windowSHAP."
   ]
  },
  {
   "cell_type": "code",
   "execution_count": 16,
   "id": "c228609e-028c-4e82-9f84-4ab744af5fc5",
   "metadata": {},
   "outputs": [],
   "source": [
    "##### parameters for some stuff (rewrite it later)\n",
    "num_background = 15\n",
    "num_test = index = 0\n",
    "# background_ts, test_ts = train_x[:num_background], test_x[index:index + 17]\n",
    "# background_data, test_data = train_x[:num_background], test_x[index:index + 17]"
   ]
  },
  {
   "cell_type": "code",
   "execution_count": 17,
   "id": "e2af63bd-b002-4a30-9d96-fcc8c85f7f65",
   "metadata": {},
   "outputs": [],
   "source": [
    "from util import heat_map"
   ]
  },
  {
   "cell_type": "code",
   "execution_count": 18,
   "id": "b945524c-5028-4be5-a8a1-c42c2ce9b397",
   "metadata": {},
   "outputs": [],
   "source": [
    "var = 1\n",
    "phi_index = 3"
   ]
  },
  {
   "cell_type": "code",
   "execution_count": 19,
   "id": "6cb516d5-8727-4dbc-87e0-7a4dad0e830b",
   "metadata": {},
   "outputs": [
    {
     "data": {
      "text/plain": [
       "((48,), (48,))"
      ]
     },
     "execution_count": 19,
     "metadata": {},
     "output_type": "execute_result"
    }
   ],
   "source": [
    "test_x[num_test + phi_index, :, var].shape, att_weights_MHA0_output[phi_index, :, var].shape"
   ]
  },
  {
   "cell_type": "code",
   "execution_count": 20,
   "id": "6b0a4b9b-e7eb-4528-a84b-862a9a9aa723",
   "metadata": {},
   "outputs": [
    {
     "name": "stdout",
     "output_type": "stream",
     "text": [
      "[-0.85750926 -0.85250926 -0.84750926 -0.84250926 -0.83750926 -0.83250926\n",
      " -0.82750926 -0.82250926 -0.81750926 -0.81250926 -0.80750926 -0.80250926\n",
      " -0.79750926 -0.79250926 -0.78750926 -0.78250926 -0.77750926 -0.77250926\n",
      " -0.76750926 -0.76250926 -0.75750926 -0.75250926 -0.74750926 -0.74250926\n",
      " -0.73750926 -0.73250926 -0.72750926 -0.72250926 -0.71750926 -0.71250926\n",
      " -0.70750926  0.        ]\n"
     ]
    },
    {
     "data": {
      "image/png": "[encoded data removed]",
      "text/plain": [
       "<Figure size 612x180 with 2 Axes>"
      ]
     },
     "metadata": {
      "needs_background": "light"
     },
     "output_type": "display_data"
    }
   ],
   "source": [
    "heat_map(start=0, stop=48, x=test_x[num_test + phi_index, :, var], shap_values=att_weights_MHA0_output[phi_index, :, var], var_name='Observed', plot_type='bar')"
   ]
  },
  {
   "cell_type": "code",
   "execution_count": 21,
   "id": "5f38c339-a4a7-4d00-ab1e-8c3471261165",
   "metadata": {},
   "outputs": [
    {
     "name": "stdout",
     "output_type": "stream",
     "text": [
      "[-0.7854495 -0.7804495 -0.7754495  0.       ]\n"
     ]
    },
    {
     "data": {
      "image/png": "[encoded data removed]",
      "text/plain": [
       "<Figure size 612x180 with 2 Axes>"
      ]
     },
     "metadata": {
      "needs_background": "light"
     },
     "output_type": "display_data"
    }
   ],
   "source": [
    "heat_map(start=0, stop=48, x=test_x[num_test + phi_index, :, var], shap_values=att_weights_MHA1_output[phi_index, :, var], var_name='Observed', plot_type='bar')"
   ]
  },
  {
   "cell_type": "code",
   "execution_count": 22,
   "id": "7751f20f-c049-4798-a2b9-2b9980e8d6c0",
   "metadata": {},
   "outputs": [
    {
     "name": "stdout",
     "output_type": "stream",
     "text": [
      "[0.         0.70565498 0.71065498]\n"
     ]
    },
    {
     "data": {
      "image/png": "[encoded data removed]",
      "text/plain": [
       "<Figure size 612x180 with 2 Axes>"
      ]
     },
     "metadata": {
      "needs_background": "light"
     },
     "output_type": "display_data"
    }
   ],
   "source": [
    "heat_map(start=0, stop=48, x=test_x[num_test + phi_index, :, var], shap_values=att_weights_MHA2_output[phi_index, :, var], var_name='Observed', plot_type='bar')"
   ]
  },
  {
   "cell_type": "code",
   "execution_count": 23,
   "id": "3f1ffe56-637d-4067-86e9-196a0c3efea9",
   "metadata": {},
   "outputs": [
    {
     "name": "stdout",
     "output_type": "stream",
     "text": [
      "[0.         0.82128757]\n"
     ]
    },
    {
     "data": {
      "image/png": "[encoded data removed]",
      "text/plain": [
       "<Figure size 612x180 with 2 Axes>"
      ]
     },
     "metadata": {
      "needs_background": "light"
     },
     "output_type": "display_data"
    }
   ],
   "source": [
    "heat_map(start=0, stop=48, x=test_x[num_test + phi_index, :, var], shap_values=att_weights_MHA3_output[phi_index, :, var], var_name='Observed', plot_type='bar')"
   ]
  },
  {
   "cell_type": "code",
   "execution_count": 24,
   "id": "d46ca548-968c-4dd6-81bb-d7d230b6c670",
   "metadata": {},
   "outputs": [
    {
     "data": {
      "text/plain": [
       "(<keras.engine.functional.Functional at 0x7f254f5f1b20>,\n",
       " (4598, 48, 26),\n",
       " (4598, 48, 26),\n",
       " (4598, 48, 26),\n",
       " (4598, 48, 26),\n",
       " (4598, 48, 26))"
      ]
     },
     "execution_count": 24,
     "metadata": {},
     "output_type": "execute_result"
    }
   ],
   "source": [
    "model, att_weights_MHA0_output.shape, att_weights_MHA1_output.shape, att_weights_MHA2_output.shape, att_weights_MHA3_output.shape,test_x.shape "
   ]
  },
  {
   "cell_type": "code",
   "execution_count": 27,
   "id": "b74a381d-1d5c-4bff-9228-32bec3dc6f7e",
   "metadata": {},
   "outputs": [],
   "source": [
    "from util import heat_map, xai_eval_fnc"
   ]
  },
  {
   "cell_type": "code",
   "execution_count": 25,
   "id": "da9aa10a-ea02-44ea-be94-1ddfd18c0539",
   "metadata": {},
   "outputs": [
    {
     "name": "stdout",
     "output_type": "stream",
     "text": [
      "144/144 [==============================] - 0s 3ms/step\n"
     ]
    }
   ],
   "source": [
    "######### model prediction\n",
    "y_pred_orig = model.predict(test_x)"
   ]
  },
  {
   "cell_type": "code",
   "execution_count": 29,
   "id": "6a997473-fc31-417f-81c3-0c35a1b47552",
   "metadata": {},
   "outputs": [
    {
     "name": "stdout",
     "output_type": "stream",
     "text": [
      "144/144 [==============================] - 0s 3ms/step\n",
      "144/144 [==============================] - 0s 3ms/step\n",
      "144/144 [==============================] - 0s 3ms/step\n",
      "144/144 [==============================] - 0s 3ms/step\n"
     ]
    }
   ],
   "source": [
    "#xai_eval_fnc(model, relevence, input_x)\n",
    "xai_res_prtb_mha1 = xai_eval_fnc(model, att_weights_MHA0_output, test_x, eval_type='prtb')\n",
    "\n",
    "xai_res_prtb_mha2 = xai_eval_fnc(model, att_weights_MHA1_output, test_x, eval_type='prtb')\n",
    "\n",
    "xai_res_prtb_mha3 = xai_eval_fnc(model, att_weights_MHA2_output, test_x, eval_type='prtb')\n",
    "\n",
    "xai_res_prtb_mha4 = xai_eval_fnc(model, att_weights_MHA3_output, test_x, eval_type='prtb')"
   ]
  },
  {
   "cell_type": "code",
   "execution_count": 32,
   "id": "4f27ae75-3e1a-4dbd-bea9-2ba412c53a26",
   "metadata": {},
   "outputs": [
    {
     "name": "stdout",
     "output_type": "stream",
     "text": [
      "144/144 [==============================] - 0s 3ms/step\n",
      "144/144 [==============================] - 0s 3ms/step\n",
      "144/144 [==============================] - 0s 3ms/step\n",
      "144/144 [==============================] - 0s 3ms/step\n"
     ]
    }
   ],
   "source": [
    "seq_len_val  = 48\n",
    "\n",
    "\n",
    "xai_res_sqnc_mha1 = xai_eval_fnc(model, att_weights_MHA0_output, test_x, eval_type='sqnc',seq_len=seq_len_val)\n",
    "\n",
    "xai_res_sqnc_mha2 = xai_eval_fnc(model, att_weights_MHA1_output, test_x, eval_type='sqnc',seq_len=seq_len_val)\n",
    "\n",
    "xai_res_sqnc_mha3 = xai_eval_fnc(model, att_weights_MHA2_output, test_x, eval_type='sqnc',seq_len=seq_len_val)\n",
    "\n",
    "xai_res_sqnc_mha4 = xai_eval_fnc(model, att_weights_MHA3_output, test_x, eval_type='sqnc',seq_len=seq_len_val)"
   ]
  },
  {
   "cell_type": "code",
   "execution_count": 31,
   "id": "956dd430-3b8c-47b0-b0f8-332df0412d29",
   "metadata": {},
   "outputs": [
    {
     "data": {
      "text/plain": [
       "((4598, 1), (4598, 1), (4598, 1), (4598, 1))"
      ]
     },
     "execution_count": 31,
     "metadata": {},
     "output_type": "execute_result"
    }
   ],
   "source": [
    "xai_res_prtb_mha1.shape,xai_res_prtb_mha2.shape,xai_res_prtb_mha3.shape, xai_res_prtb_mha4.shape"
   ]
  },
  {
   "cell_type": "code",
   "execution_count": 33,
   "id": "c958dcfd-a139-407a-92ca-d5ae35abe05a",
   "metadata": {},
   "outputs": [
    {
     "data": {
      "text/plain": [
       "((4598, 1), (4598, 1), (4598, 1), (4598, 1))"
      ]
     },
     "execution_count": 33,
     "metadata": {},
     "output_type": "execute_result"
    }
   ],
   "source": [
    "xai_res_sqnc_mha1.shape, xai_res_sqnc_mha2.shape, xai_res_sqnc_mha3.shape, xai_res_sqnc_mha4.shape"
   ]
  },
  {
   "cell_type": "code",
   "execution_count": 34,
   "id": "9855c113-7f08-43de-b639-176ad6536bf5",
   "metadata": {},
   "outputs": [
    {
     "name": "stdout",
     "output_type": "stream",
     "text": [
      "original_model_predictions:  0.6283758411914857 0.1873645715459928 0.14617940199335547 0.09606986899563319 0.3055555555555556 0.1236510277958226\n"
     ]
    }
   ],
   "source": [
    "################# original model prediction\n",
    "\n",
    "print('original_model_predictions: ',roc_auc_score(test_y, y_pred_orig), average_precision_score(test_y, y_pred_orig),f1_score(test_y, np.round(y_pred_orig)),\n",
    "      recall_score(test_y, np.round(y_pred_orig)),precision_score(test_y, np.round(y_pred_orig)),matthews_corrcoef(test_y, np.round(y_pred_orig)))"
   ]
  },
  {
   "cell_type": "code",
   "execution_count": 38,
   "id": "25269132-20ea-4375-ba1a-0e8f2d9b14c1",
   "metadata": {},
   "outputs": [
    {
     "name": "stdout",
     "output_type": "stream",
     "text": [
      "prtb_analysis_wshap_tsphi1:  0.6283758411914857 0.1873645715459928 0.14617940199335547 0.09606986899563319 0.3055555555555556 0.1236510277958226\n",
      "prtb_analysis_wshap_tsphi2:  0.6283742590131427 0.18736438785664097 0.14617940199335547 0.09606986899563319 0.3055555555555556 0.1236510277958226\n",
      "prtb_analysis_wshap_tsphi3:  0.6283494715524334 0.18736071180203526 0.14617940199335547 0.09606986899563319 0.3055555555555556 0.1236510277958226\n",
      "prtb_analysis_wshap_tsphi3:  0.6283790055481722 0.18736491669285443 0.14617940199335547 0.09606986899563319 0.3055555555555556 0.1236510277958226\n"
     ]
    }
   ],
   "source": [
    "print('prtb_analysis_wshap_tsphi1: ',roc_auc_score(test_y, xai_res_prtb_mha1), average_precision_score(test_y, xai_res_prtb_mha1),f1_score(test_y, np.round(xai_res_prtb_mha1)),\n",
    "      recall_score(test_y, np.round(xai_res_prtb_mha1)),precision_score(test_y, np.round(xai_res_prtb_mha1)),matthews_corrcoef(test_y, np.round(xai_res_prtb_mha1)))\n",
    "\n",
    "print('prtb_analysis_wshap_tsphi2: ',roc_auc_score(test_y, xai_res_prtb_mha2), average_precision_score(test_y, xai_res_prtb_mha2),f1_score(test_y, np.round(xai_res_prtb_mha2)),\n",
    "      recall_score(test_y, np.round(xai_res_prtb_mha2)),precision_score(test_y, np.round(xai_res_prtb_mha2)),matthews_corrcoef(test_y, np.round(xai_res_prtb_mha2)))\n",
    "\n",
    "print('prtb_analysis_wshap_tsphi3: ',roc_auc_score(test_y, xai_res_prtb_mha3), average_precision_score(test_y, xai_res_prtb_mha3),f1_score(test_y, np.round(xai_res_prtb_mha3)),\n",
    "      recall_score(test_y, np.round(xai_res_prtb_mha3)),precision_score(test_y, np.round(xai_res_prtb_mha3)),matthews_corrcoef(test_y, np.round(xai_res_prtb_mha3)))\n",
    "\n",
    "print('prtb_analysis_wshap_tsphi4: ',roc_auc_score(test_y, xai_res_prtb_mha4), average_precision_score(test_y, xai_res_prtb_mha4),f1_score(test_y, np.round(xai_res_prtb_mha4)),\n",
    "      recall_score(test_y, np.round(xai_res_prtb_mha4)),precision_score(test_y, np.round(xai_res_prtb_mha4)),matthews_corrcoef(test_y, np.round(xai_res_prtb_mha4)))"
   ]
  },
  {
   "cell_type": "code",
   "execution_count": 39,
   "id": "7a216f43-d33e-4356-a9c8-454714526a4b",
   "metadata": {},
   "outputs": [
    {
     "name": "stdout",
     "output_type": "stream",
     "text": [
      "sqnc_analysis_wshap_tsphi1:  0.6283758411914857 0.1873645715459928 0.14617940199335547 0.09606986899563319 0.3055555555555556 0.1236510277958226\n",
      "sqnc_analysis_wshap_tsphi2:  0.6283906081893551 0.1873660832148795 0.14617940199335547 0.09606986899563319 0.3055555555555556 0.1236510277958226\n",
      "sqnc_analysis_wshap_tsphi3:  0.6283600194080543 0.18736285793151886 0.14617940199335547 0.09606986899563319 0.3055555555555556 0.1236510277958226\n",
      "sqnc_analysis_wshap_tsphi4:  0.6283790055481722 0.18736491796896595 0.14617940199335547 0.09606986899563319 0.3055555555555556 0.1236510277958226\n"
     ]
    }
   ],
   "source": [
    "print('sqnc_analysis_wshap_tsphi1: ',roc_auc_score(test_y, xai_res_sqnc_mha1), average_precision_score(test_y, xai_res_sqnc_mha1),f1_score(test_y, np.round(xai_res_sqnc_mha1)),\n",
    "      recall_score(test_y, np.round(xai_res_sqnc_mha1)),precision_score(test_y, np.round(xai_res_sqnc_mha1)),matthews_corrcoef(test_y, np.round(xai_res_sqnc_mha1)))\n",
    "\n",
    "print('sqnc_analysis_wshap_tsphi2: ',roc_auc_score(test_y, xai_res_sqnc_mha2), average_precision_score(test_y, xai_res_sqnc_mha2),f1_score(test_y, np.round(xai_res_sqnc_mha2)),\n",
    "      recall_score(test_y, np.round(xai_res_sqnc_mha2)),precision_score(test_y, np.round(xai_res_sqnc_mha2)),matthews_corrcoef(test_y, np.round(xai_res_sqnc_mha2)))\n",
    "\n",
    "print('sqnc_analysis_wshap_tsphi3: ',roc_auc_score(test_y, xai_res_sqnc_mha3), average_precision_score(test_y, xai_res_sqnc_mha3),f1_score(test_y, np.round(xai_res_sqnc_mha3)),\n",
    "      recall_score(test_y, np.round(xai_res_sqnc_mha3)),precision_score(test_y, np.round(xai_res_sqnc_mha3)),matthews_corrcoef(test_y, np.round(xai_res_sqnc_mha3)))\n",
    "\n",
    "print('sqnc_analysis_wshap_tsphi4: ',roc_auc_score(test_y, xai_res_sqnc_mha4), average_precision_score(test_y, xai_res_sqnc_mha4),f1_score(test_y, np.round(xai_res_sqnc_mha4)),\n",
    "      recall_score(test_y, np.round(xai_res_sqnc_mha4)),precision_score(test_y, np.round(xai_res_sqnc_mha4)),matthews_corrcoef(test_y, np.round(xai_res_sqnc_mha4)))"
   ]
  },
  {
   "cell_type": "code",
   "execution_count": 53,
   "id": "3e670d63-2655-4913-ba41-58ee671c7458",
   "metadata": {},
   "outputs": [],
   "source": [
    "########################### lets pick the starting n\n",
    "pick = 100"
   ]
  },
  {
   "cell_type": "code",
   "execution_count": 54,
   "id": "fb78546e-34c0-433b-8110-79e8b34a39ad",
   "metadata": {},
   "outputs": [
    {
     "name": "stdout",
     "output_type": "stream",
     "text": [
      "original_model_predictions:  0.6178266178266179 0.13343144824216485 0.15384615384615383 0.1111111111111111 0.25 0.11412279800291011\n"
     ]
    }
   ],
   "source": [
    "################# original model prediction\n",
    "\n",
    "print('original_model_predictions: ',roc_auc_score(test_y[:pick], y_pred_orig[:pick]), average_precision_score(test_y[:pick], y_pred_orig[:pick]),f1_score(test_y[:pick], np.round(y_pred_orig[:pick])),\n",
    "      recall_score(test_y[:pick], np.round(y_pred_orig[:pick])),precision_score(test_y[:pick], np.round(y_pred_orig[:pick])),matthews_corrcoef(test_y[:pick], np.round(y_pred_orig[:pick])))"
   ]
  },
  {
   "cell_type": "code",
   "execution_count": 55,
   "id": "44079a4d-5e9a-4b37-ba94-1ddbd380bf6d",
   "metadata": {},
   "outputs": [
    {
     "name": "stdout",
     "output_type": "stream",
     "text": [
      "prtb_analysis_wshap_tsphi1:  0.6178266178266179 0.13343144824216485 0.15384615384615383 0.1111111111111111 0.25 0.11412279800291011\n",
      "prtb_analysis_wshap_tsphi2:  0.6178266178266179 0.13343144824216485 0.15384615384615383 0.1111111111111111 0.25 0.11412279800291011\n",
      "prtb_analysis_wshap_tsphi3:  0.6178266178266179 0.13343144824216485 0.15384615384615383 0.1111111111111111 0.25 0.11412279800291011\n",
      "prtb_analysis_wshap_tsphi4:  0.6178266178266179 0.13343144824216485 0.15384615384615383 0.1111111111111111 0.25 0.11412279800291011\n"
     ]
    }
   ],
   "source": [
    "print('prtb_analysis_wshap_tsphi1: ',roc_auc_score(test_y[:pick], xai_res_prtb_mha1[:pick]), average_precision_score(test_y[:pick], xai_res_prtb_mha1[:pick]),f1_score(test_y[:pick], np.round(xai_res_prtb_mha1[:pick])),\n",
    "      recall_score(test_y[:pick], np.round(xai_res_prtb_mha1[:pick])),precision_score(test_y[:pick], np.round(xai_res_prtb_mha1[:pick])),matthews_corrcoef(test_y[:pick], np.round(xai_res_prtb_mha1[:pick])))\n",
    "\n",
    "print('prtb_analysis_wshap_tsphi2: ',roc_auc_score(test_y[:pick], xai_res_prtb_mha2[:pick]), average_precision_score(test_y[:pick], xai_res_prtb_mha2[:pick]),f1_score(test_y[:pick], np.round(xai_res_prtb_mha2[:pick])),\n",
    "      recall_score(test_y[:pick], np.round(xai_res_prtb_mha2[:pick])),precision_score(test_y[:pick], np.round(xai_res_prtb_mha2[:pick])),matthews_corrcoef(test_y[:pick], np.round(xai_res_prtb_mha2[:pick])))\n",
    "\n",
    "print('prtb_analysis_wshap_tsphi3: ',roc_auc_score(test_y[:pick], xai_res_prtb_mha3[:pick]), average_precision_score(test_y[:pick], xai_res_prtb_mha3[:pick]),f1_score(test_y[:pick], np.round(xai_res_prtb_mha3[:pick])),\n",
    "      recall_score(test_y[:pick], np.round(xai_res_prtb_mha3[:pick])),precision_score(test_y[:pick], np.round(xai_res_prtb_mha3[:pick])),matthews_corrcoef(test_y[:pick], np.round(xai_res_prtb_mha3[:pick])))\n",
    "\n",
    "print('prtb_analysis_wshap_tsphi4: ',roc_auc_score(test_y[:pick], xai_res_prtb_mha4[:pick]), average_precision_score(test_y[:pick], xai_res_prtb_mha4[:pick]),f1_score(test_y[:pick], np.round(xai_res_prtb_mha4[:pick])),\n",
    "      recall_score(test_y[:pick], np.round(xai_res_prtb_mha4[:pick])),precision_score(test_y[:pick], np.round(xai_res_prtb_mha4[:pick])),matthews_corrcoef(test_y[:pick], np.round(xai_res_prtb_mha4[:pick])))"
   ]
  },
  {
   "cell_type": "code",
   "execution_count": 56,
   "id": "0166a690-bdcd-477a-891d-78cee5852aea",
   "metadata": {},
   "outputs": [
    {
     "name": "stdout",
     "output_type": "stream",
     "text": [
      "sqnc_analysis_wshap_tsphi1:  0.6178266178266179 0.13343144824216485 0.15384615384615383 0.1111111111111111 0.25 0.11412279800291011\n",
      "sqnc_analysis_wshap_tsphi2:  0.6178266178266179 0.13343144824216485 0.15384615384615383 0.1111111111111111 0.25 0.11412279800291011\n",
      "sqnc_analysis_wshap_tsphi3:  0.6178266178266179 0.13343144824216485 0.15384615384615383 0.1111111111111111 0.25 0.11412279800291011\n",
      "sqnc_analysis_wshap_tsphi4:  0.6178266178266179 0.13343144824216485 0.15384615384615383 0.1111111111111111 0.25 0.11412279800291011\n"
     ]
    }
   ],
   "source": [
    "print('sqnc_analysis_wshap_tsphi1: ',roc_auc_score(test_y[:pick], xai_res_sqnc_mha1[:pick]), average_precision_score(test_y[:pick], xai_res_sqnc_mha1[:pick]),f1_score(test_y[:pick], np.round(xai_res_sqnc_mha1[:pick])),\n",
    "      recall_score(test_y[:pick], np.round(xai_res_sqnc_mha1[:pick])),precision_score(test_y[:pick], np.round(xai_res_sqnc_mha1[:pick])),matthews_corrcoef(test_y[:pick], np.round(xai_res_sqnc_mha1[:pick])))\n",
    "\n",
    "print('sqnc_analysis_wshap_tsphi2: ',roc_auc_score(test_y[:pick], xai_res_sqnc_mha2[:pick]), average_precision_score(test_y[:pick], xai_res_sqnc_mha2[:pick]),f1_score(test_y[:pick], np.round(xai_res_sqnc_mha2[:pick])),\n",
    "      recall_score(test_y[:pick], np.round(xai_res_sqnc_mha2[:pick])),precision_score(test_y[:pick], np.round(xai_res_sqnc_mha2[:pick])),matthews_corrcoef(test_y[:pick], np.round(xai_res_sqnc_mha2[:pick])))\n",
    "\n",
    "print('sqnc_analysis_wshap_tsphi3: ',roc_auc_score(test_y[:pick], xai_res_sqnc_mha3[:pick]), average_precision_score(test_y[:pick], xai_res_sqnc_mha3[:pick]),f1_score(test_y[:pick], np.round(xai_res_sqnc_mha3[:pick])),\n",
    "      recall_score(test_y[:pick], np.round(xai_res_sqnc_mha3[:pick])),precision_score(test_y[:pick], np.round(xai_res_sqnc_mha3[:pick])),matthews_corrcoef(test_y[:pick], np.round(xai_res_sqnc_mha3[:pick])))\n",
    "\n",
    "print('sqnc_analysis_wshap_tsphi4: ',roc_auc_score(test_y[:pick], xai_res_sqnc_mha4[:pick]), average_precision_score(test_y[:pick], xai_res_sqnc_mha4[:pick]),f1_score(test_y[:pick], np.round(xai_res_sqnc_mha4[:pick])),\n",
    "      recall_score(test_y[:pick], np.round(xai_res_sqnc_mha4[:pick])),precision_score(test_y[:pick], np.round(xai_res_sqnc_mha4[:pick])),matthews_corrcoef(test_y[:pick], np.round(xai_res_sqnc_mha4[:pick])))"
   ]
  },
  {
   "cell_type": "code",
   "execution_count": 60,
   "id": "03a48c54-339a-4736-b5b0-6ed0f00da531",
   "metadata": {},
   "outputs": [],
   "source": [
    "############################# comparing losses\n",
    "### function\n",
    "\n",
    "import tensorflow.keras.backend as K\n",
    "def BinaryCrossEntropy(y_true, y_pred): \n",
    "    y_pred = K.clip(y_pred, K.epsilon(), 1 - K.epsilon())\n",
    "    term_0 = (1 - y_true) * K.log(1 - y_pred + K.epsilon())  \n",
    "    term_1 = y_true * K.log(y_pred + K.epsilon())\n",
    "    return -K.mean(term_0 + term_1, axis=0)\n"
   ]
  },
  {
   "cell_type": "code",
   "execution_count": 66,
   "id": "a157debd-7c0f-42f2-a168-13224a001baa",
   "metadata": {},
   "outputs": [
    {
     "name": "stdout",
     "output_type": "stream",
     "text": [
      "original_model_predictions:  tf.Tensor([0.3845515], shape=(1,), dtype=float32)\n"
     ]
    }
   ],
   "source": [
    "print('original_model_predictions: ',BinaryCrossEntropy(test_y, y_pred_orig))"
   ]
  },
  {
   "cell_type": "code",
   "execution_count": 67,
   "id": "e0435c35-3c41-4228-8f8a-1f3eb9f2d2f5",
   "metadata": {},
   "outputs": [
    {
     "name": "stdout",
     "output_type": "stream",
     "text": [
      "prtb_analysis_wshap_tsphi1:  tf.Tensor([0.3845515], shape=(1,), dtype=float32)\n",
      "prtb_analysis_wshap_tsphi2:  tf.Tensor([0.38455153], shape=(1,), dtype=float32)\n",
      "prtb_analysis_wshap_tsphi3:  tf.Tensor([0.384555], shape=(1,), dtype=float32)\n",
      "prtb_analysis_wshap_tsphi4:  tf.Tensor([0.38455126], shape=(1,), dtype=float32)\n"
     ]
    }
   ],
   "source": [
    "print('prtb_analysis_wshap_tsphi1: ',BinaryCrossEntropy(test_y, xai_res_prtb_mha1))\n",
    "      \n",
    "print('prtb_analysis_wshap_tsphi2: ',BinaryCrossEntropy(test_y, xai_res_prtb_mha2))\n",
    "\n",
    "print('prtb_analysis_wshap_tsphi3: ',BinaryCrossEntropy(test_y, xai_res_prtb_mha3))\n",
    "\n",
    "print('prtb_analysis_wshap_tsphi4: ',BinaryCrossEntropy(test_y, xai_res_prtb_mha4))"
   ]
  },
  {
   "cell_type": "code",
   "execution_count": 68,
   "id": "bac80893-47ff-430f-b2d3-b3526f2a94bf",
   "metadata": {},
   "outputs": [
    {
     "name": "stdout",
     "output_type": "stream",
     "text": [
      "sqnc_analysis_wshap_tsphi1:  tf.Tensor([0.3845515], shape=(1,), dtype=float32)\n",
      "sqnc_analysis_wshap_tsphi2:  tf.Tensor([0.384551], shape=(1,), dtype=float32)\n",
      "sqnc_analysis_wshap_tsphi3:  tf.Tensor([0.3845523], shape=(1,), dtype=float32)\n",
      "sqnc_analysis_wshap_tsphi4:  tf.Tensor([0.3845513], shape=(1,), dtype=float32)\n"
     ]
    }
   ],
   "source": [
    "print('sqnc_analysis_wshap_tsphi1: ',BinaryCrossEntropy(test_y, xai_res_sqnc_mha1))\n",
    "print('sqnc_analysis_wshap_tsphi2: ',BinaryCrossEntropy(test_y, xai_res_sqnc_mha2))\n",
    "print('sqnc_analysis_wshap_tsphi3: ',BinaryCrossEntropy(test_y, xai_res_sqnc_mha3))\n",
    "print('sqnc_analysis_wshap_tsphi4: ',BinaryCrossEntropy(test_y, xai_res_sqnc_mha4))"
   ]
  },
  {
   "cell_type": "code",
   "execution_count": null,
   "id": "0e766ad7-0231-44fa-aa2a-2a9cfca2c308",
   "metadata": {},
   "outputs": [],
   "source": [
    "####### same pick level\n",
    "\n"
   ]
  },
  {
   "cell_type": "code",
   "execution_count": null,
   "id": "acbe17e6-b475-4815-9028-17f02a722c5b",
   "metadata": {},
   "outputs": [],
   "source": []
  },
  {
   "cell_type": "code",
   "execution_count": null,
   "id": "55f55197-7e93-4498-9628-75b2acd0f018",
   "metadata": {},
   "outputs": [],
   "source": []
  }
 ],
 "metadata": {
  "kernelspec": {
   "display_name": "Python 3 (ipykernel)",
   "language": "python",
   "name": "python3"
  },
  "language_info": {
   "codemirror_mode": {
    "name": "ipython",
    "version": 3
   },
   "file_extension": ".py",
   "mimetype": "text/x-python",
   "name": "python",
   "nbconvert_exporter": "python",
   "pygments_lexer": "ipython3",
   "version": "3.9.12"
  }
 },
 "nbformat": 4,
 "nbformat_minor": 5
}
